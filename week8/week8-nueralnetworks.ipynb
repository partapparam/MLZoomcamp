{
 "cells": [
  {
   "cell_type": "markdown",
   "id": "ab434c9f",
   "metadata": {},
   "source": [
    "# tensorFlow and Keras"
   ]
  },
  {
   "cell_type": "code",
   "execution_count": 2,
   "id": "026b05cb",
   "metadata": {},
   "outputs": [],
   "source": [
    "import numpy as np\n",
    "import matplotlib.pyplot as plt\n",
    "\n",
    "%matplotlib inline"
   ]
  },
  {
   "cell_type": "code",
   "execution_count": 3,
   "id": "c6db3e6a",
   "metadata": {},
   "outputs": [],
   "source": [
    "# !pip install tensorflow\n"
   ]
  },
  {
   "cell_type": "code",
   "execution_count": 4,
   "id": "173334b6",
   "metadata": {},
   "outputs": [
    {
     "name": "stderr",
     "output_type": "stream",
     "text": [
      "2023-11-15 05:05:15.592316: I tensorflow/core/util/util.cc:169] oneDNN custom operations are on. You may see slightly different numerical results due to floating-point round-off errors from different computation orders. To turn them off, set the environment variable `TF_ENABLE_ONEDNN_OPTS=0`.\n"
     ]
    }
   ],
   "source": [
    "import tensorflow as tf\n",
    "from tensorflow import keras"
   ]
  },
  {
   "cell_type": "code",
   "execution_count": 5,
   "id": "f4d5da7d",
   "metadata": {},
   "outputs": [],
   "source": [
    "from tensorflow.keras.preprocessing.image import load_img"
   ]
  },
  {
   "cell_type": "code",
   "execution_count": 6,
   "id": "44db3bf3",
   "metadata": {},
   "outputs": [],
   "source": [
    "path = './clothing-dataset-small/train/shirt'\n",
    "name = '005d3a4d-b8cc-4f14-a288-8065ab797974.jpg'\n",
    "fullname = f'{path}/{name}'\n",
    "img = load_img(fullname, target_size=(299, 299))\n",
    "\n"
   ]
  },
  {
   "cell_type": "code",
   "execution_count": 7,
   "id": "efa47913",
   "metadata": {},
   "outputs": [
    {
     "name": "stdout",
     "output_type": "stream",
     "text": [
      "<PIL.Image.Image image mode=RGB size=299x299 at 0x7F601B67D0A0>\n"
     ]
    }
   ],
   "source": [
    "print(img)"
   ]
  },
  {
   "cell_type": "code",
   "execution_count": 8,
   "id": "e83d174a",
   "metadata": {},
   "outputs": [],
   "source": [
    "x = np.array(img)\n",
    "# this will print all the rows of this image. Each row is a pixel. Each pixel will have the 3 RGB values"
   ]
  },
  {
   "cell_type": "code",
   "execution_count": 9,
   "id": "a44e7a62",
   "metadata": {},
   "outputs": [
    {
     "data": {
      "text/plain": [
       "(299, 299, 3)"
      ]
     },
     "execution_count": 9,
     "metadata": {},
     "output_type": "execute_result"
    }
   ],
   "source": [
    "x.shape"
   ]
  },
  {
   "cell_type": "code",
   "execution_count": 10,
   "id": "87c5e10e",
   "metadata": {},
   "outputs": [],
   "source": [
    "# Keras is a website that has available pre-trained models for us to use.\n",
    "# Can be used for fine-tuning, prediction"
   ]
  },
  {
   "cell_type": "code",
   "execution_count": 11,
   "id": "c2cea89c",
   "metadata": {},
   "outputs": [],
   "source": [
    "# we can use the Xception model "
   ]
  },
  {
   "cell_type": "code",
   "execution_count": 12,
   "id": "f0d85112",
   "metadata": {},
   "outputs": [],
   "source": [
    "from tensorflow.keras.applications.xception import Xception\n",
    "\n",
    "# The preprocessing\n",
    "# when the model was trained, not by us, it was done so with the data being preprocessed. So we need to do the same with the data we input.\n",
    "from tensorflow.keras.applications.xception import preprocess_input"
   ]
  },
  {
   "cell_type": "code",
   "execution_count": 13,
   "id": "195ab500",
   "metadata": {},
   "outputs": [
    {
     "name": "stderr",
     "output_type": "stream",
     "text": [
      "2023-11-15 05:05:21.608045: I tensorflow/stream_executor/cuda/cuda_gpu_executor.cc:975] successful NUMA node read from SysFS had negative value (-1), but there must be at least one NUMA node, so returning NUMA node zero\n",
      "2023-11-15 05:05:21.614276: I tensorflow/stream_executor/cuda/cuda_gpu_executor.cc:975] successful NUMA node read from SysFS had negative value (-1), but there must be at least one NUMA node, so returning NUMA node zero\n",
      "2023-11-15 05:05:21.614892: I tensorflow/stream_executor/cuda/cuda_gpu_executor.cc:975] successful NUMA node read from SysFS had negative value (-1), but there must be at least one NUMA node, so returning NUMA node zero\n",
      "2023-11-15 05:05:21.615836: I tensorflow/core/platform/cpu_feature_guard.cc:193] This TensorFlow binary is optimized with oneAPI Deep Neural Network Library (oneDNN) to use the following CPU instructions in performance-critical operations:  AVX2 AVX512F AVX512_VNNI FMA\n",
      "To enable them in other operations, rebuild TensorFlow with the appropriate compiler flags.\n",
      "2023-11-15 05:05:21.616207: I tensorflow/stream_executor/cuda/cuda_gpu_executor.cc:975] successful NUMA node read from SysFS had negative value (-1), but there must be at least one NUMA node, so returning NUMA node zero\n",
      "2023-11-15 05:05:21.616833: I tensorflow/stream_executor/cuda/cuda_gpu_executor.cc:975] successful NUMA node read from SysFS had negative value (-1), but there must be at least one NUMA node, so returning NUMA node zero\n",
      "2023-11-15 05:05:21.617456: I tensorflow/stream_executor/cuda/cuda_gpu_executor.cc:975] successful NUMA node read from SysFS had negative value (-1), but there must be at least one NUMA node, so returning NUMA node zero\n",
      "2023-11-15 05:05:22.282285: I tensorflow/stream_executor/cuda/cuda_gpu_executor.cc:975] successful NUMA node read from SysFS had negative value (-1), but there must be at least one NUMA node, so returning NUMA node zero\n",
      "2023-11-15 05:05:22.282900: I tensorflow/stream_executor/cuda/cuda_gpu_executor.cc:975] successful NUMA node read from SysFS had negative value (-1), but there must be at least one NUMA node, so returning NUMA node zero\n",
      "2023-11-15 05:05:22.283436: I tensorflow/stream_executor/cuda/cuda_gpu_executor.cc:975] successful NUMA node read from SysFS had negative value (-1), but there must be at least one NUMA node, so returning NUMA node zero\n",
      "2023-11-15 05:05:22.283961: I tensorflow/core/common_runtime/gpu/gpu_device.cc:1532] Created device /job:localhost/replica:0/task:0/device:GPU:0 with 13795 MB memory:  -> device: 0, name: Tesla T4, pci bus id: 0000:00:1e.0, compute capability: 7.5\n"
     ]
    }
   ],
   "source": [
    "model = Xception(weights='imagenet', input_shape=(299, 299, 3))"
   ]
  },
  {
   "cell_type": "code",
   "execution_count": 14,
   "id": "abf9c8f6",
   "metadata": {},
   "outputs": [],
   "source": [
    "# the model expects multiple images\n",
    "# X = np.array([x, x, x])\n",
    "# That will show that there are 3 images\n",
    "# we use just one for now\n",
    "X = np.array([x])\n",
    "\n",
    "\n"
   ]
  },
  {
   "cell_type": "code",
   "execution_count": 15,
   "id": "44b196df",
   "metadata": {},
   "outputs": [
    {
     "data": {
      "text/plain": [
       "(1, 299, 299, 3)"
      ]
     },
     "execution_count": 15,
     "metadata": {},
     "output_type": "execute_result"
    }
   ],
   "source": [
    "X.shape"
   ]
  },
  {
   "cell_type": "code",
   "execution_count": 16,
   "id": "7b9b9970",
   "metadata": {},
   "outputs": [],
   "source": [
    "# What this will originally output will not make sense. This model expects the data to be preprocessed. \n",
    "# model.predict(X)"
   ]
  },
  {
   "cell_type": "code",
   "execution_count": 17,
   "id": "2cdfe3af",
   "metadata": {},
   "outputs": [],
   "source": [
    "X = preprocess_input(X)\n",
    "# Now we see that our data has been changed to be from -1 to 1 range. Now we exceute with this data"
   ]
  },
  {
   "cell_type": "code",
   "execution_count": 18,
   "id": "2a7a41d4",
   "metadata": {},
   "outputs": [
    {
     "name": "stderr",
     "output_type": "stream",
     "text": [
      "2023-11-15 05:05:25.338343: I tensorflow/stream_executor/cuda/cuda_dnn.cc:384] Loaded cuDNN version 8100\n",
      "2023-11-15 05:05:25.968462: I tensorflow/core/platform/default/subprocess.cc:304] Start cannot spawn child process: No such file or directory\n",
      "2023-11-15 05:05:25.969267: I tensorflow/core/platform/default/subprocess.cc:304] Start cannot spawn child process: No such file or directory\n",
      "2023-11-15 05:05:25.969304: W tensorflow/stream_executor/gpu/asm_compiler.cc:80] Couldn't get ptxas version string: INTERNAL: Couldn't invoke ptxas --version\n",
      "2023-11-15 05:05:25.970295: I tensorflow/core/platform/default/subprocess.cc:304] Start cannot spawn child process: No such file or directory\n",
      "2023-11-15 05:05:25.970371: W tensorflow/stream_executor/gpu/redzone_allocator.cc:314] INTERNAL: Failed to launch ptxas\n",
      "Relying on driver to perform ptx compilation. \n",
      "Modify $PATH to customize ptxas location.\n",
      "This message will be only logged once.\n"
     ]
    },
    {
     "name": "stdout",
     "output_type": "stream",
     "text": [
      "1/1 [==============================] - 3s 3s/step\n"
     ]
    }
   ],
   "source": [
    "pred = model.predict(X)"
   ]
  },
  {
   "cell_type": "code",
   "execution_count": 19,
   "id": "f9ed2142",
   "metadata": {},
   "outputs": [
    {
     "data": {
      "text/plain": [
       "array([[2.32560342e-04, 2.12846542e-04, 1.19852426e-04, 7.49568571e-05,\n",
       "        1.19066797e-04, 1.61581498e-04, 6.75981282e-05, 1.23447331e-04,\n",
       "        1.60485521e-04, 1.22456928e-04, 4.74675355e-04, 2.71676254e-04,\n",
       "        6.60984660e-04, 2.32002567e-04, 2.76792241e-04, 2.23493000e-04,\n",
       "        2.75071390e-04, 2.70417891e-04, 1.84850593e-04, 1.70011452e-04,\n",
       "        3.55559547e-04, 2.98700004e-04, 3.53321142e-04, 2.94508704e-04,\n",
       "        5.12941624e-04, 1.32923655e-04, 1.85546029e-04, 1.42611301e-04,\n",
       "        2.74315767e-04, 1.65594829e-04, 8.54907485e-05, 1.17409858e-04,\n",
       "        2.27177123e-04, 7.04873179e-04, 6.73429633e-04, 4.60882904e-04,\n",
       "        9.63302155e-04, 2.27872326e-04, 2.67112511e-04, 2.93652061e-04,\n",
       "        1.16010458e-04, 3.77332966e-04, 1.44751088e-04, 5.00182272e-04,\n",
       "        4.74274653e-04, 2.24588453e-04, 1.45735117e-04, 2.31766273e-04,\n",
       "        2.03073942e-04, 3.41862091e-04, 4.24209866e-04, 3.02692439e-04,\n",
       "        2.13900828e-04, 2.10319689e-04, 2.22380200e-04, 1.74953864e-04,\n",
       "        2.30610618e-04, 7.97761386e-05, 1.99986986e-04, 2.49393896e-04,\n",
       "        6.74465773e-05, 1.43744808e-04, 1.72305037e-04, 8.94434561e-05,\n",
       "        1.86985140e-04, 9.61336773e-05, 1.82543663e-04, 1.88531674e-04,\n",
       "        4.27847757e-04, 1.87672485e-04, 1.23439211e-04, 1.00338577e-04,\n",
       "        2.56789936e-04, 9.43114341e-04, 1.80542789e-04, 2.62547692e-04,\n",
       "        4.38689225e-04, 1.59611547e-04, 4.30725020e-04, 1.51700966e-04,\n",
       "        6.63479324e-04, 1.34708986e-04, 3.11900279e-04, 3.57593031e-04,\n",
       "        6.38903584e-05, 1.62895944e-04, 1.85652665e-04, 2.56743166e-04,\n",
       "        3.61905055e-04, 1.19065160e-04, 1.92051753e-04, 3.99321463e-04,\n",
       "        4.63033939e-04, 3.40495521e-04, 1.16036957e-04, 1.17027550e-04,\n",
       "        1.42682562e-04, 1.29120483e-04, 3.48860107e-04, 3.91229434e-04,\n",
       "        4.02687758e-04, 1.49136002e-04, 2.16622619e-04, 3.35322489e-04,\n",
       "        9.27582296e-05, 4.11654008e-04, 3.72778130e-04, 1.49786531e-04,\n",
       "        1.80179690e-04, 1.29591310e-04, 8.63065434e-05, 2.72867153e-04,\n",
       "        1.97048954e-04, 1.84045028e-04, 9.00694722e-05, 1.59712275e-04,\n",
       "        9.14997363e-05, 1.76828966e-04, 1.19412951e-04, 3.05995549e-04,\n",
       "        4.22991463e-04, 1.99357819e-04, 1.72089654e-04, 9.08968359e-05,\n",
       "        1.69549501e-04, 2.21406037e-04, 1.63449236e-04, 2.14257598e-04,\n",
       "        1.55921443e-04, 2.83241650e-04, 1.39661483e-04, 3.75203090e-04,\n",
       "        1.64342579e-04, 2.24505449e-04, 8.97070859e-05, 4.36597038e-04,\n",
       "        6.25686545e-04, 7.55945977e-04, 3.37840611e-04, 2.62651505e-04,\n",
       "        4.51722968e-04, 3.76242009e-04, 3.97227443e-04, 2.89789343e-04,\n",
       "        2.91840697e-04, 1.11354901e-04, 3.53789306e-04, 2.89880001e-04,\n",
       "        2.19359179e-04, 1.86801743e-04, 3.70185560e-04, 1.61120493e-04,\n",
       "        2.27940356e-04, 2.55238119e-04, 1.72816668e-04, 2.17054927e-04,\n",
       "        1.78910297e-04, 1.05048530e-04, 7.82899224e-05, 3.49209149e-04,\n",
       "        2.56939238e-04, 1.71011430e-04, 1.07387954e-04, 1.80543473e-04,\n",
       "        5.05133939e-04, 2.99254694e-04, 3.17763188e-04, 1.90890612e-04,\n",
       "        3.84870975e-04, 2.32175749e-04, 1.74461675e-04, 2.93675694e-04,\n",
       "        8.45608651e-04, 3.50414135e-04, 9.33330157e-05, 3.55202297e-04,\n",
       "        1.31636346e-03, 5.80076594e-04, 3.11062729e-04, 1.38870513e-04,\n",
       "        1.30526023e-04, 2.12027342e-04, 6.58924109e-04, 1.52408623e-03,\n",
       "        3.70214722e-04, 1.89542319e-04, 1.79708019e-04, 4.27848601e-04,\n",
       "        1.61097370e-04, 1.21863777e-04, 3.42095416e-04, 1.46610284e-04,\n",
       "        1.98584850e-04, 1.51965811e-04, 3.18852544e-04, 9.81301637e-05,\n",
       "        4.22514102e-04, 3.15131940e-04, 4.36215370e-04, 2.11011196e-04,\n",
       "        5.33819897e-04, 2.89565854e-04, 4.07829066e-04, 2.00045717e-04,\n",
       "        3.09735828e-04, 1.48536652e-04, 1.25340128e-04, 1.62352517e-04,\n",
       "        6.83120670e-05, 1.06082043e-04, 3.77087446e-04, 2.30672013e-04,\n",
       "        2.19513415e-04, 2.49329663e-04, 1.22313606e-04, 1.72027139e-04,\n",
       "        1.00960373e-04, 1.01852704e-04, 1.34428963e-04, 4.63316828e-05,\n",
       "        1.18345677e-04, 1.20915538e-04, 2.56898697e-04, 1.46059872e-04,\n",
       "        4.37129871e-04, 1.45892875e-04, 2.19088848e-04, 3.55773518e-04,\n",
       "        1.94070220e-04, 2.76881241e-04, 2.61107809e-04, 3.04301124e-04,\n",
       "        4.28582222e-04, 8.20775109e-04, 1.43029698e-04, 1.09471781e-04,\n",
       "        2.87743344e-04, 1.03036313e-04, 3.64851148e-04, 1.74447690e-04,\n",
       "        4.01694153e-04, 2.40246794e-04, 1.54286943e-04, 6.47311463e-05,\n",
       "        2.55170569e-04, 4.77994909e-05, 3.48360307e-04, 1.16690753e-04,\n",
       "        1.93634391e-04, 1.20701756e-04, 1.67511171e-04, 3.76681681e-04,\n",
       "        7.87843659e-04, 9.74841751e-05, 1.30217930e-04, 1.95107583e-04,\n",
       "        1.01702441e-04, 2.14942702e-04, 1.36430841e-04, 1.65930731e-04,\n",
       "        1.69848499e-04, 1.46245031e-04, 4.19051561e-04, 1.15626135e-04,\n",
       "        9.12870673e-05, 1.68999439e-04, 9.33091724e-05, 7.20368989e-05,\n",
       "        3.27750517e-04, 6.11867639e-04, 3.37076781e-04, 2.65827781e-04,\n",
       "        1.49791106e-03, 9.66923079e-04, 1.64850702e-04, 2.67744239e-04,\n",
       "        2.96146609e-04, 1.56291673e-04, 2.69256299e-04, 3.31483345e-04,\n",
       "        2.64586706e-04, 1.58328985e-04, 1.60221054e-04, 2.81468645e-04,\n",
       "        7.80196206e-05, 1.76341346e-04, 1.47800878e-04, 1.22981364e-04,\n",
       "        2.95021193e-04, 3.29011469e-04, 2.63767521e-04, 2.82702356e-04,\n",
       "        3.83913633e-04, 1.76247879e-04, 2.40109366e-04, 4.06139152e-04,\n",
       "        2.79440457e-04, 3.41309933e-04, 1.79254595e-04, 1.99030881e-04,\n",
       "        7.50249383e-05, 2.69353739e-04, 1.22148078e-04, 1.13047987e-04,\n",
       "        1.24916856e-04, 1.61425181e-04, 2.24692456e-04, 1.76644651e-04,\n",
       "        1.47877159e-04, 2.77341460e-04, 2.13548221e-04, 7.99903282e-05,\n",
       "        1.28180443e-04, 1.53368077e-04, 1.05103245e-04, 3.11466603e-04,\n",
       "        1.43951547e-04, 1.48751424e-04, 1.20942001e-04, 1.77320879e-04,\n",
       "        9.93534341e-05, 1.03485414e-04, 2.78986321e-04, 1.43188096e-04,\n",
       "        1.98054156e-04, 1.94750275e-04, 2.53130507e-04, 1.13855836e-04,\n",
       "        1.22195561e-04, 7.03595069e-05, 2.19881636e-04, 1.68559287e-04,\n",
       "        3.00082465e-04, 1.15504743e-04, 1.14227565e-04, 3.39169026e-04,\n",
       "        1.85206693e-04, 1.82356613e-04, 1.41491910e-04, 4.68512531e-04,\n",
       "        2.05710632e-04, 1.80418094e-04, 1.40645483e-04, 2.89069605e-04,\n",
       "        1.18185737e-04, 1.18429947e-04, 3.24606255e-04, 1.03463703e-04,\n",
       "        8.72696110e-05, 2.11041202e-04, 2.17603229e-04, 2.65664683e-04,\n",
       "        1.43828947e-04, 1.69419873e-04, 2.25866461e-04, 1.02713188e-04,\n",
       "        2.04297423e-04, 4.24883561e-04, 4.42870369e-04, 2.42613241e-04,\n",
       "        1.95941640e-04, 2.61153880e-04, 1.74682515e-04, 3.93481430e-04,\n",
       "        1.29175300e-04, 4.19959135e-04, 2.39252753e-04, 2.54234677e-04,\n",
       "        1.46411796e-04, 1.08535940e-04, 1.50584747e-04, 2.65060749e-04,\n",
       "        3.48928326e-04, 1.86231191e-04, 2.05586082e-04, 1.61318909e-04,\n",
       "        1.79529103e-04, 1.93477492e-04, 1.75070527e-04, 2.15918990e-04,\n",
       "        2.26285367e-04, 1.21419413e-04, 2.56772444e-04, 2.62965186e-04,\n",
       "        2.23898867e-04, 4.05016908e-04, 2.39279470e-04, 2.08105426e-04,\n",
       "        2.09899372e-04, 3.25944944e-04, 1.22051664e-04, 5.11320308e-04,\n",
       "        1.64699843e-04, 1.16505893e-04, 1.38625386e-04, 1.79676048e-04,\n",
       "        9.85089209e-05, 1.00136349e-04, 1.44463353e-04, 2.71762256e-03,\n",
       "        1.00906903e-03, 7.16862123e-05, 3.36250640e-04, 4.46294231e-04,\n",
       "        7.72830535e-05, 6.22236461e-04, 1.63721925e-04, 2.07909630e-04,\n",
       "        1.01664868e-04, 9.69765068e-04, 1.65470105e-04, 1.04539394e-02,\n",
       "        1.75613153e-04, 2.92490062e-04, 2.04657996e-03, 8.02548529e-05,\n",
       "        6.36177894e-04, 1.49255735e-04, 2.24418342e-04, 8.30955512e-04,\n",
       "        1.47196639e-04, 2.19070876e-04, 2.28618286e-04, 4.24527534e-04,\n",
       "        3.95256066e-04, 6.11296564e-04, 2.51594640e-04, 7.31720065e-05,\n",
       "        3.12542950e-04, 9.14809352e-05, 4.09051223e-04, 2.38432651e-04,\n",
       "        2.49776873e-04, 1.09313063e-04, 6.76803000e-04, 1.54793859e-04,\n",
       "        3.00589600e-04, 2.70317862e-04, 2.03161981e-04, 1.46145560e-03,\n",
       "        6.67175555e-05, 9.88927786e-05, 2.29424215e-03, 9.59065335e-04,\n",
       "        1.00721925e-04, 2.49334553e-04, 2.77979358e-04, 2.37710541e-04,\n",
       "        9.01547726e-04, 3.83692735e-04, 1.07625565e-04, 9.20738734e-04,\n",
       "        1.55612605e-03, 3.45105858e-04, 3.50380054e-04, 4.38197138e-04,\n",
       "        6.55423792e-04, 7.75924826e-04, 1.54825015e-04, 1.16066448e-03,\n",
       "        2.45337927e-04, 5.42139169e-04, 4.34741669e-04, 2.11708015e-04,\n",
       "        2.22543767e-03, 1.60006899e-03, 1.74234636e-04, 1.12411493e-04,\n",
       "        2.45934236e-04, 2.14289263e-04, 1.30443950e-04, 2.70726508e-04,\n",
       "        1.35504422e-04, 2.87987146e-04, 1.90328378e-02, 1.21506753e-04,\n",
       "        1.05613864e-04, 3.23022367e-04, 9.08395959e-05, 1.80722796e-04,\n",
       "        3.47878085e-04, 5.52932674e-04, 1.86309364e-04, 2.20898291e-04,\n",
       "        2.45600240e-04, 1.89416285e-04, 7.96117383e-05, 6.86732237e-04,\n",
       "        2.16097498e-04, 2.71805795e-04, 6.38787576e-04, 1.30239787e-04,\n",
       "        1.23056860e-04, 3.50172952e-04, 4.58522758e-04, 2.41337664e-04,\n",
       "        1.58746494e-04, 2.45226460e-04, 2.65282142e-04, 8.32040329e-04,\n",
       "        1.77714406e-04, 1.28830159e-02, 1.34616985e-03, 1.04652201e-04,\n",
       "        2.29911879e-04, 4.04523365e-04, 1.15021729e-04, 1.06155981e-04,\n",
       "        2.70379358e-04, 7.89046753e-05, 1.93873784e-04, 1.64404570e-04,\n",
       "        2.54284387e-04, 1.23445789e-04, 9.32712224e-04, 9.43610910e-04,\n",
       "        1.85952042e-04, 5.14187559e-04, 4.19371208e-04, 1.84477598e-04,\n",
       "        1.25812323e-04, 1.33962414e-04, 2.27137687e-04, 6.67472777e-04,\n",
       "        6.45552296e-04, 4.74219327e-04, 4.33983601e-04, 1.86930585e-04,\n",
       "        6.29514165e-04, 9.57974873e-04, 1.90702107e-04, 2.40104215e-04,\n",
       "        3.30864917e-04, 3.19485931e-04, 2.75283586e-04, 1.91874453e-04,\n",
       "        5.00836002e-04, 1.26675804e-04, 5.52851183e-04, 2.96405313e-04,\n",
       "        1.67594582e-03, 8.41187575e-05, 1.82882854e-04, 3.20886902e-04,\n",
       "        1.05542538e-04, 1.64282101e-04, 3.13669298e-04, 1.06905441e-04,\n",
       "        2.27449054e-04, 3.42428044e-04, 2.34917839e-04, 1.17868149e-04,\n",
       "        1.87188169e-04, 4.35620692e-04, 1.67325634e-04, 2.72191683e-04,\n",
       "        1.97571106e-04, 3.82036524e-04, 1.52983892e-04, 1.25049221e-04,\n",
       "        2.58265733e-04, 2.00515016e-04, 1.47245999e-04, 3.06863745e-04,\n",
       "        3.34204291e-04, 9.61214027e-05, 2.17648805e-04, 2.09632621e-04,\n",
       "        1.12894678e-03, 2.52997997e-04, 7.39626237e-04, 3.74100666e-04,\n",
       "        4.71745407e-05, 6.94893752e-05, 1.39283860e-04, 8.83681205e-05,\n",
       "        1.12444955e-04, 2.34410370e-04, 1.39189395e-03, 3.44774075e-04,\n",
       "        1.99109680e-04, 2.40824156e-04, 8.52444791e-05, 2.91096017e-04,\n",
       "        6.33378979e-04, 3.86139931e-04, 1.46720195e-04, 7.01247132e-04,\n",
       "        9.71505302e-04, 2.18432833e-04, 2.22620933e-04, 2.01425492e-03,\n",
       "        1.40110467e-04, 1.66162412e-04, 2.34049512e-04, 2.30535094e-04,\n",
       "        1.20333058e-03, 4.17503470e-04, 1.24745246e-04, 1.30868924e-04,\n",
       "        2.32346545e-04, 5.83153171e-03, 3.70382768e-04, 8.90949595e-05,\n",
       "        1.56339695e-04, 3.28685943e-04, 1.00235769e-03, 3.87005508e-04,\n",
       "        5.31210378e-02, 2.71599944e-04, 1.21188797e-01, 1.93724991e-04,\n",
       "        8.84667272e-04, 1.26090439e-04, 1.86952518e-03, 2.92312703e-04,\n",
       "        3.78503930e-04, 7.96173292e-04, 1.52009656e-04, 1.18074931e-04,\n",
       "        1.29630920e-04, 1.15222050e-04, 2.00107839e-04, 5.30141173e-04,\n",
       "        2.58332235e-04, 2.43788571e-04, 1.24296712e-04, 9.22465770e-05,\n",
       "        1.67184146e-04, 2.57354055e-04, 5.03196497e-04, 1.42775491e-04,\n",
       "        2.41051879e-04, 1.42385223e-04, 3.51612689e-04, 2.46944459e-04,\n",
       "        3.17385909e-03, 5.45352697e-04, 4.44629835e-03, 5.68092219e-04,\n",
       "        2.99903535e-04, 1.24857062e-04, 1.78799339e-04, 5.88007679e-04,\n",
       "        1.91273197e-04, 1.12451591e-04, 3.13769502e-04, 3.58530058e-04,\n",
       "        1.55002286e-04, 3.02208122e-04, 8.22697693e-05, 2.55428517e-04,\n",
       "        6.08744449e-04, 2.17147681e-04, 2.80493725e-04, 2.04151664e-02,\n",
       "        4.63544915e-04, 1.68237777e-04, 1.23285851e-03, 9.84084545e-05,\n",
       "        1.99994029e-04, 1.11272573e-04, 9.31432151e-05, 4.26118379e-04,\n",
       "        2.80427426e-04, 1.04894214e-04, 1.04345454e-04, 1.78925309e-03,\n",
       "        6.72765600e-05, 2.83449335e-04, 1.41341472e-04, 1.39793672e-04,\n",
       "        1.46326362e-04, 1.11411573e-04, 5.63179958e-04, 2.97252671e-04,\n",
       "        4.71438194e-04, 2.06469980e-04, 1.01522054e-03, 4.95053711e-04,\n",
       "        4.47696744e-04, 1.69693085e-04, 1.19651828e-04, 2.07195364e-04,\n",
       "        6.16112200e-04, 1.64998302e-04, 8.10020210e-05, 2.33184954e-04,\n",
       "        2.58508953e-04, 2.25362126e-02, 2.25012293e-04, 2.59732682e-04,\n",
       "        5.44108509e-04, 1.08087559e-04, 2.09629434e-04, 2.48749915e-04,\n",
       "        2.21764960e-04, 1.24965765e-01, 2.81724962e-04, 3.64015286e-04,\n",
       "        8.54271784e-05, 8.26761679e-05, 2.60956207e-04, 1.76943402e-04,\n",
       "        1.29356704e-04, 1.00317957e-04, 7.81909403e-05, 2.75286613e-04,\n",
       "        1.55481987e-03, 3.70120280e-04, 1.99250047e-04, 1.17623531e-04,\n",
       "        3.23640619e-04, 5.72837016e-04, 1.61374148e-04, 5.55552251e-04,\n",
       "        3.13728524e-04, 2.75625323e-04, 4.19748743e-04, 3.38281330e-04,\n",
       "        1.45096288e-04, 4.78776201e-04, 3.77169461e-04, 8.48855125e-05,\n",
       "        3.07175302e-04, 3.95416078e-04, 1.36489092e-04, 1.61686083e-04,\n",
       "        6.61778147e-04, 1.78289280e-04, 2.04123411e-04, 3.23298184e-04,\n",
       "        2.46161246e-04, 7.94727312e-05, 1.09857290e-04, 2.89566023e-03,\n",
       "        2.99172912e-04, 1.03732535e-04, 1.28052081e-04, 4.40324569e-04,\n",
       "        8.69683645e-05, 2.26312899e-04, 1.32900779e-04, 2.69658573e-04,\n",
       "        1.45851140e-04, 3.22680717e-04, 1.10837245e-04, 1.93135522e-04,\n",
       "        5.87494869e-04, 1.81605486e-04, 8.77321232e-04, 2.07517194e-04,\n",
       "        5.96421945e-04, 2.74195161e-04, 6.76976415e-05, 5.22425340e-04,\n",
       "        1.15356190e-04, 2.61157867e-04, 2.02265262e-04, 3.44801199e-04,\n",
       "        5.65349124e-04, 1.77335693e-04, 1.35650145e-04, 4.32977191e-04,\n",
       "        5.87870425e-04, 3.04881629e-04, 1.31181048e-04, 4.12236637e-04,\n",
       "        1.50531909e-04, 2.75352242e-04, 2.87918228e-04, 2.12182204e-04,\n",
       "        4.81265190e-04, 6.90371962e-05, 3.03352746e-04, 2.65616877e-03,\n",
       "        1.92303487e-04, 5.41512389e-04, 2.02545532e-04, 1.67667953e-04,\n",
       "        2.87621806e-04, 1.71855630e-04, 2.94444675e-04, 4.58943192e-04,\n",
       "        1.37859010e-04, 2.34570369e-04, 3.66038177e-04, 1.73461216e-04,\n",
       "        3.68972396e-04, 9.62671707e-04, 1.77657988e-04, 2.72264617e-04,\n",
       "        3.48368572e-04, 4.56197275e-04, 4.22526587e-04, 3.22698586e-04,\n",
       "        7.24107667e-04, 8.77521175e-04, 5.08101424e-04, 2.18846180e-04,\n",
       "        9.85031947e-05, 1.06761989e-04, 1.22708108e-04, 1.87052545e-04,\n",
       "        5.36465013e-05, 5.18042769e-04, 1.62650525e-04, 4.52684675e-04,\n",
       "        8.03152332e-04, 3.75377014e-04, 2.58628919e-04, 1.72639106e-04,\n",
       "        5.82052162e-04, 2.29280733e-04, 2.32165112e-04, 3.60134320e-04,\n",
       "        2.57470034e-04, 2.15766879e-04, 8.74969992e-05, 2.41275775e-04,\n",
       "        2.53366190e-04, 2.65117007e-04, 1.34068308e-04, 4.43095953e-04,\n",
       "        1.39795402e-02, 1.55923291e-04, 2.57616804e-04, 3.75770673e-04,\n",
       "        3.06212140e-04, 2.02006559e-04, 3.38388316e-04, 8.42935056e-04,\n",
       "        1.55513277e-04, 9.16845165e-05, 3.75663443e-03, 4.56148788e-04,\n",
       "        5.99218998e-04, 8.40947847e-04, 1.25044084e-04, 3.07880488e-04,\n",
       "        1.00005313e-03, 3.39872018e-02, 6.50183018e-03, 2.25778480e-04,\n",
       "        2.36446227e-04, 2.83213594e-04, 2.08493686e-04, 1.92965585e-04,\n",
       "        2.32899256e-04, 2.35832311e-04, 4.44976584e-04, 3.61319107e-04,\n",
       "        3.92255315e-04, 8.42945476e-04, 1.20534911e-03, 2.12509753e-04,\n",
       "        2.54320621e-04, 7.00553355e-04, 6.07691938e-04, 2.46499403e-04,\n",
       "        1.60774682e-04, 1.25855760e-04, 3.49311769e-04, 1.36932635e-04,\n",
       "        1.88341815e-04, 3.05163383e-04, 1.59018018e-04, 8.98863218e-05,\n",
       "        3.07614828e-04, 4.72537428e-02, 1.53323344e-04, 2.99654668e-04,\n",
       "        2.34877283e-04, 7.43083190e-04, 2.42800481e-04, 1.51239947e-04,\n",
       "        1.26317143e-04, 1.54355395e-04, 4.11169633e-04, 4.25261562e-04,\n",
       "        3.40297673e-04, 1.41069249e-04, 1.71716543e-04, 2.37120141e-04,\n",
       "        2.91784905e-04, 1.43475771e-01, 1.30315704e-04, 9.83566628e-04,\n",
       "        1.68854749e-04, 1.88789956e-04, 2.27429307e-04, 1.64625002e-04,\n",
       "        2.09110300e-03, 3.38675629e-04, 3.25206993e-03, 2.41377507e-04,\n",
       "        1.34061265e-04, 4.13129048e-04, 1.70190877e-04, 3.67941451e-04,\n",
       "        1.60322539e-04, 1.40232572e-04, 2.57057982e-04, 5.97758393e-04,\n",
       "        6.49034511e-04, 1.24925841e-03, 1.75927044e-03, 1.22101206e-04,\n",
       "        2.06696757e-04, 9.04080807e-05, 1.98043301e-04, 4.31879386e-02,\n",
       "        2.44596769e-04, 2.13792824e-04, 2.81019107e-04, 2.81276763e-04,\n",
       "        2.85743823e-04, 2.81233719e-04, 1.66778002e-04, 4.45350597e-04,\n",
       "        1.60133452e-04, 6.86040905e-04, 8.75852784e-05, 2.83846515e-04,\n",
       "        1.97792629e-04, 2.60584668e-04, 1.54746725e-04, 1.26384024e-04,\n",
       "        1.09122717e-04, 1.73188557e-04, 2.57974898e-04, 2.49191333e-04,\n",
       "        2.09677120e-04, 8.17811742e-05, 1.59508374e-04, 1.88585793e-04,\n",
       "        4.99435642e-04, 2.08884769e-04, 6.26371882e-04, 2.13474006e-04,\n",
       "        2.43381219e-04, 2.50533369e-04, 3.95707291e-04, 1.04061190e-04,\n",
       "        2.74278747e-04, 2.16414803e-04, 2.17149747e-04, 3.21715750e-04,\n",
       "        2.86939059e-04, 2.17148932e-04, 2.47029733e-04, 1.89518119e-04,\n",
       "        2.52806378e-04, 1.91305473e-04, 4.69880935e-04, 8.00762718e-05,\n",
       "        1.26488929e-04, 1.22446183e-03, 1.38129981e-04, 4.13031928e-04,\n",
       "        2.93091522e-04, 1.57672912e-04, 1.08582855e-04, 3.47196154e-04,\n",
       "        1.99513306e-04, 1.83490876e-04, 2.34392719e-04, 1.53986854e-04,\n",
       "        3.07532988e-04, 9.69169632e-05, 4.78985574e-04, 1.31631270e-04,\n",
       "        4.17378469e-04, 1.02122409e-04, 1.68480299e-04, 2.43981718e-04,\n",
       "        3.51582858e-04, 2.21210081e-04, 4.92358871e-04, 1.02362465e-04,\n",
       "        3.15842888e-04, 1.08214772e-04, 2.39790024e-05, 6.89903027e-05,\n",
       "        1.83866621e-04, 1.53828922e-04, 4.41740529e-04, 2.47496995e-04,\n",
       "        2.02827854e-04, 5.31465979e-04, 3.01850669e-04, 2.66733608e-04,\n",
       "        1.28179090e-04, 2.28060817e-04, 4.81963332e-04, 1.42105366e-03,\n",
       "        5.91585296e-04, 2.68637523e-04, 3.52193660e-04, 1.01950318e-04]],\n",
       "      dtype=float32)"
      ]
     },
     "execution_count": 19,
     "metadata": {},
     "output_type": "execute_result"
    }
   ],
   "source": [
    "pred\n",
    "# Much better data than before. This tells us the probability it is matches one of the images in the dataset. "
   ]
  },
  {
   "cell_type": "markdown",
   "id": "65d83e92",
   "metadata": {},
   "source": [
    "## Transfer Learning\n",
    "- Reading data with ImageDataGenerator\n",
    "- train `Xception` on smaller images\n"
   ]
  },
  {
   "cell_type": "code",
   "execution_count": 22,
   "id": "3390c01d",
   "metadata": {},
   "outputs": [],
   "source": [
    "from tensorflow.keras.preprocessing.image import ImageDataGenerator"
   ]
  },
  {
   "cell_type": "code",
   "execution_count": 23,
   "id": "be32bee5",
   "metadata": {},
   "outputs": [],
   "source": [
    "train_gen = ImageDataGenerator(preprocessing_function=preprocess_input)"
   ]
  },
  {
   "cell_type": "code",
   "execution_count": 29,
   "id": "29ebee22",
   "metadata": {},
   "outputs": [
    {
     "name": "stdout",
     "output_type": "stream",
     "text": [
      "Found 3068 images belonging to 10 classes.\n"
     ]
    }
   ],
   "source": [
    "train_ds = train_gen.flow_from_directory('./clothing-dataset-small/train', target_size=(150, 150), batch_size=32)\n",
    "# batch size is how many images at once\n",
    "# so our shape is\n",
    "# 32, 150, 150, 3"
   ]
  },
  {
   "cell_type": "code",
   "execution_count": 30,
   "id": "1feb5a22",
   "metadata": {},
   "outputs": [
    {
     "data": {
      "text/plain": [
       "{'dress': 0,\n",
       " 'hat': 1,\n",
       " 'longsleeve': 2,\n",
       " 'outwear': 3,\n",
       " 'pants': 4,\n",
       " 'shirt': 5,\n",
       " 'shoes': 6,\n",
       " 'shorts': 7,\n",
       " 'skirt': 8,\n",
       " 't-shirt': 9}"
      ]
     },
     "execution_count": 30,
     "metadata": {},
     "output_type": "execute_result"
    }
   ],
   "source": [
    "train_ds.class_indices"
   ]
  },
  {
   "cell_type": "code",
   "execution_count": 33,
   "id": "32c2cfaa",
   "metadata": {},
   "outputs": [],
   "source": [
    "X, y = next(train_ds)"
   ]
  },
  {
   "cell_type": "code",
   "execution_count": 38,
   "id": "670e3a25",
   "metadata": {},
   "outputs": [
    {
     "data": {
      "text/plain": [
       "(32, 150, 150, 3)"
      ]
     },
     "execution_count": 38,
     "metadata": {},
     "output_type": "execute_result"
    }
   ],
   "source": [
    "X.shape"
   ]
  },
  {
   "cell_type": "code",
   "execution_count": 43,
   "id": "adcd4484",
   "metadata": {},
   "outputs": [
    {
     "data": {
      "text/plain": [
       "array([[0., 0., 1., 0., 0., 0., 0., 0., 0., 0.],\n",
       "       [0., 1., 0., 0., 0., 0., 0., 0., 0., 0.],\n",
       "       [0., 0., 0., 0., 0., 0., 0., 1., 0., 0.],\n",
       "       [0., 0., 0., 0., 0., 0., 0., 0., 0., 1.],\n",
       "       [0., 0., 1., 0., 0., 0., 0., 0., 0., 0.]], dtype=float32)"
      ]
     },
     "execution_count": 43,
     "metadata": {},
     "output_type": "execute_result"
    }
   ],
   "source": [
    "y[:5]\n",
    "# This uses one hot encoding for the labels/classes above.\n",
    "# This is an example of multi-class classification. We are fitting 10 different binary classification models into one\n",
    "# So each one is -- is it pants or no, is it shirt or no, etc."
   ]
  },
  {
   "cell_type": "code",
   "execution_count": 45,
   "id": "614b30a5",
   "metadata": {},
   "outputs": [
    {
     "name": "stdout",
     "output_type": "stream",
     "text": [
      "Found 341 images belonging to 10 classes.\n"
     ]
    }
   ],
   "source": [
    "val_gen = ImageDataGenerator(preprocessing_function=preprocess_input)\n",
    "\n",
    "val_ds = val_gen.flow_from_directory('./clothing-dataset-small/validation/',\n",
    "                                    target_size=(150, 150),\n",
    "                                    batch_size=32,\n",
    "                                    shuffle=False)"
   ]
  },
  {
   "cell_type": "code",
   "execution_count": 48,
   "id": "c42cf08d",
   "metadata": {},
   "outputs": [],
   "source": [
    "# Lets train the model now\n",
    "# we are keeping the Conv. Layers _ the base model, and then custom the Dense Layer\n",
    "# The include_top=False tells the model to not include the Dense Layers\n",
    "# the botom layer is the Conv. Layer.\n",
    "base_model = Xception(weights='imagenet', include_top=False, input_shape=(150, 150, 3))\n",
    "\n",
    "base_model.trainable = False\n",
    "# This is telling it that is not trainable and we only want the Conv. layers. Freeze the Conv. Layers"
   ]
  },
  {
   "cell_type": "code",
   "execution_count": 50,
   "id": "1042b1f8",
   "metadata": {},
   "outputs": [],
   "source": [
    "inputs = keras.Input(shape=(150, 150, 3))"
   ]
  },
  {
   "cell_type": "code",
   "execution_count": 62,
   "id": "d042c890",
   "metadata": {},
   "outputs": [],
   "source": [
    "base = base_model(inputs)\n",
    "# the output is called base"
   ]
  },
  {
   "cell_type": "code",
   "execution_count": 69,
   "id": "8f0ad9ce",
   "metadata": {},
   "outputs": [],
   "source": [
    "# pooling = keras.layers.GlobalAveragePooling2D()\n",
    "# vectors = pooling(base)"
   ]
  },
  {
   "cell_type": "code",
   "execution_count": 71,
   "id": "46c928ee",
   "metadata": {},
   "outputs": [],
   "source": [
    "# better way to do it\n",
    "# This is known as functional style\n",
    "vectors = keras.layers.GlobalAveragePooling2D()(base)"
   ]
  },
  {
   "cell_type": "code",
   "execution_count": 72,
   "id": "4c90ccd4",
   "metadata": {},
   "outputs": [],
   "source": [
    "outputs = vectors"
   ]
  },
  {
   "cell_type": "code",
   "execution_count": 54,
   "id": "db9427a6",
   "metadata": {},
   "outputs": [],
   "source": [
    "# outputs = base"
   ]
  },
  {
   "cell_type": "code",
   "execution_count": 73,
   "id": "9c9e2dba",
   "metadata": {},
   "outputs": [],
   "source": [
    "model = keras.Model(inputs, outputs)"
   ]
  },
  {
   "cell_type": "code",
   "execution_count": 74,
   "id": "ba2938c5",
   "metadata": {},
   "outputs": [
    {
     "name": "stdout",
     "output_type": "stream",
     "text": [
      "WARNING:tensorflow:5 out of the last 7 calls to <function Model.make_predict_function.<locals>.predict_function at 0x7f5fe0426c10> triggered tf.function retracing. Tracing is expensive and the excessive number of tracings could be due to (1) creating @tf.function repeatedly in a loop, (2) passing tensors with different shapes, (3) passing Python objects instead of tensors. For (1), please define your @tf.function outside of the loop. For (2), @tf.function has reduce_retracing=True option that can avoid unnecessary retracing. For (3), please refer to https://www.tensorflow.org/guide/function#controlling_retracing and https://www.tensorflow.org/api_docs/python/tf/function for  more details.\n",
      "1/1 [==============================] - 1s 617ms/step\n"
     ]
    }
   ],
   "source": [
    "preds = model.predict(X)"
   ]
  },
  {
   "cell_type": "code",
   "execution_count": 67,
   "id": "e12017ba",
   "metadata": {},
   "outputs": [],
   "source": [
    "# preds.shape\n",
    "# this is a 4D - the base\n",
    "# The 3D is 5, 5, 2048 -- not quite Vector Representation yet but this can made into 2D arrays"
   ]
  },
  {
   "cell_type": "code",
   "execution_count": 75,
   "id": "eda197b1",
   "metadata": {},
   "outputs": [
    {
     "data": {
      "text/plain": [
       "(32, 2048)"
      ]
     },
     "execution_count": 75,
     "metadata": {},
     "output_type": "execute_result"
    }
   ],
   "source": [
    "preds.shape\n",
    "# with Pooling, its a 2D array"
   ]
  },
  {
   "cell_type": "markdown",
   "id": "6f8f5b63",
   "metadata": {},
   "source": [
    "each 5x5 chunk can give us an average which we put into a 1D array. This is known as **pooling**"
   ]
  },
  {
   "cell_type": "code",
   "execution_count": 91,
   "id": "77ee1141",
   "metadata": {},
   "outputs": [],
   "source": [
    "# we want to make this into an output of 32x10. 10 classes\n",
    "base_model = Xception(weights='imagenet', include_top=False, input_shape=(150, 150, 3))\n",
    "\n",
    "base_model.trainable = False\n",
    "# not enough to just say it once, we also need to add that this is not going to be trained again.\n",
    "# Helps with accuracy\n",
    "base = base_model(inputs, training=False)\n",
    "\n",
    "vectors = keras.layers.GlobalAveragePooling2D()(base)\n",
    "\n",
    "outputs = keras.layers.Dense(10)(vectors)\n",
    "\n",
    "model = keras.Model(inputs, outputs)\n"
   ]
  },
  {
   "cell_type": "code",
   "execution_count": 92,
   "id": "58a91786",
   "metadata": {},
   "outputs": [
    {
     "name": "stdout",
     "output_type": "stream",
     "text": [
      "1/1 [==============================] - 1s 657ms/step\n"
     ]
    }
   ],
   "source": [
    "\n",
    "preds = model.predict(X)"
   ]
  },
  {
   "cell_type": "code",
   "execution_count": 81,
   "id": "e64c1802",
   "metadata": {},
   "outputs": [
    {
     "data": {
      "text/plain": [
       "(32, 10)"
      ]
     },
     "execution_count": 81,
     "metadata": {},
     "output_type": "execute_result"
    }
   ],
   "source": [
    "preds.shape"
   ]
  },
  {
   "cell_type": "code",
   "execution_count": 83,
   "id": "c1f9fc35",
   "metadata": {},
   "outputs": [
    {
     "data": {
      "text/plain": [
       "array([-0.13290857, -1.1703743 , -1.0162169 ,  0.632586  ,  0.46012786,\n",
       "       -0.79713976, -0.343136  , -0.19109863, -0.53539443, -0.02525622],\n",
       "      dtype=float32)"
      ]
     },
     "execution_count": 83,
     "metadata": {},
     "output_type": "execute_result"
    }
   ],
   "source": [
    "preds[0]"
   ]
  },
  {
   "cell_type": "code",
   "execution_count": 85,
   "id": "5185e6fd",
   "metadata": {},
   "outputs": [],
   "source": [
    "# now we need to train this model\n",
    "# few things we need\n",
    "# an Optimizer to find the best weights for our model.\n",
    "# tries to change the weights so that the model is actually learning"
   ]
  },
  {
   "cell_type": "code",
   "execution_count": 97,
   "id": "bbbac8ae",
   "metadata": {},
   "outputs": [],
   "source": [
    "# Lives in Keras.io Optimizers\n",
    "# We will use Adam -- recommended\n",
    "# the important one is Learning Rate, similar to ETA in trees\n",
    "learning_rate = 0.01\n",
    "optimizer = keras.optimizers.Adam(learning_rate=learning_rate)\n",
    "# This should be true. With false we got very low accuracy\n",
    "loss = keras.losses.CategoricalCrossentropy(from_logits=True)\n",
    "\n",
    "\n",
    "\n",
    "\n",
    "\n",
    "\n",
    "# a way to evaluate multi-class classification models. Uses this to check if the model is improving.\n",
    "# when we apply SOFTMAX, that is known as Activation\n",
    "# LOGITS is the output that we apply Softmax to"
   ]
  },
  {
   "cell_type": "code",
   "execution_count": 98,
   "id": "12f441ee",
   "metadata": {},
   "outputs": [],
   "source": [
    "model.compile(optimizer=optimizer, loss=loss, metrics=['accuracy'])"
   ]
  },
  {
   "cell_type": "code",
   "execution_count": null,
   "id": "c90fe684",
   "metadata": {},
   "outputs": [],
   "source": [
    "# # we want to make this into an output of 32x10. 10 classes\n",
    "# base = base_model(inputs)\n",
    "\n",
    "# vectors = keras.layers.GlobalAveragePooling2D()(base)\n",
    "\n",
    "# outputs = keras.layers.Dense(10, activation='softmax')(vectors)\n",
    "\n",
    "# model = keras.Model(inputs, outputs)\n"
   ]
  },
  {
   "cell_type": "code",
   "execution_count": 89,
   "id": "275d93a5",
   "metadata": {},
   "outputs": [],
   "source": [
    "# preds = model.predict(X)"
   ]
  },
  {
   "cell_type": "code",
   "execution_count": 99,
   "id": "7ec8cf7f",
   "metadata": {},
   "outputs": [
    {
     "name": "stdout",
     "output_type": "stream",
     "text": [
      "Epoch 1/10\n",
      "96/96 [==============================] - 14s 129ms/step - loss: 3.2695 - accuracy: 0.6483 - val_loss: 0.9506 - val_accuracy: 0.7654\n",
      "Epoch 2/10\n",
      "96/96 [==============================] - 12s 123ms/step - loss: 0.6064 - accuracy: 0.8201 - val_loss: 0.9330 - val_accuracy: 0.7537\n",
      "Epoch 3/10\n",
      "96/96 [==============================] - 12s 127ms/step - loss: 0.3975 - accuracy: 0.8641 - val_loss: 0.8129 - val_accuracy: 0.7801\n",
      "Epoch 4/10\n",
      "96/96 [==============================] - 12s 123ms/step - loss: 0.2613 - accuracy: 0.9061 - val_loss: 0.9042 - val_accuracy: 0.7713\n",
      "Epoch 5/10\n",
      "96/96 [==============================] - 12s 123ms/step - loss: 0.1749 - accuracy: 0.9364 - val_loss: 0.7797 - val_accuracy: 0.7977\n",
      "Epoch 6/10\n",
      "96/96 [==============================] - 12s 125ms/step - loss: 0.1034 - accuracy: 0.9645 - val_loss: 0.8916 - val_accuracy: 0.8035\n",
      "Epoch 7/10\n",
      "96/96 [==============================] - 12s 122ms/step - loss: 0.0746 - accuracy: 0.9772 - val_loss: 0.7877 - val_accuracy: 0.8182\n",
      "Epoch 8/10\n",
      "96/96 [==============================] - 12s 123ms/step - loss: 0.0599 - accuracy: 0.9840 - val_loss: 0.9302 - val_accuracy: 0.8006\n",
      "Epoch 9/10\n",
      "96/96 [==============================] - 12s 124ms/step - loss: 0.0501 - accuracy: 0.9850 - val_loss: 0.9539 - val_accuracy: 0.8065\n",
      "Epoch 10/10\n",
      "96/96 [==============================] - 12s 123ms/step - loss: 0.0329 - accuracy: 0.9938 - val_loss: 0.8386 - val_accuracy: 0.8211\n"
     ]
    }
   ],
   "source": [
    "# Now we are ready to train the model\n",
    "# Epoch -- how many times we want to go over the data\n",
    "# we can access all the data in the History object.\n",
    "\n",
    "# history = model.fit(train_ds, epochs=10, validation_data=val_ds)"
   ]
  },
  {
   "cell_type": "code",
   "execution_count": 100,
   "id": "f29897b2",
   "metadata": {},
   "outputs": [],
   "source": [
    "# it begins to overfit pretty fast, we can see it turning down around Epoch 4"
   ]
  },
  {
   "cell_type": "code",
   "execution_count": 102,
   "id": "d333001d",
   "metadata": {},
   "outputs": [
    {
     "data": {
      "text/plain": [
       "<matplotlib.legend.Legend at 0x7f5b0c7f0e50>"
      ]
     },
     "execution_count": 102,
     "metadata": {},
     "output_type": "execute_result"
    },
    {
     "data": {
      "image/png": "[encoded data removed]",
      "text/plain": [
       "<Figure size 640x480 with 1 Axes>"
      ]
     },
     "metadata": {},
     "output_type": "display_data"
    }
   ],
   "source": [
    "plt.plot(history.history['accuracy'], label='train')\n",
    "plt.plot(history.history['val_accuracy'], label='val')\n",
    "\n",
    "plt.legend()"
   ]
  },
  {
   "cell_type": "code",
   "execution_count": 104,
   "id": "58da311b",
   "metadata": {},
   "outputs": [
    {
     "data": {
      "text/plain": [
       "<matplotlib.legend.Legend at 0x7f5b0c572640>"
      ]
     },
     "execution_count": 104,
     "metadata": {},
     "output_type": "execute_result"
    },
    {
     "data": {
      "image/png": "[encoded data removed]",
      "text/plain": [
       "<Figure size 640x480 with 1 Axes>"
      ]
     },
     "metadata": {},
     "output_type": "display_data"
    }
   ],
   "source": [
    "# plt.plot(history.history['accuracy'], label='train')\n",
    "plt.plot(history.history['val_accuracy'], label='val')\n",
    "\n",
    "plt.legend()"
   ]
  },
  {
   "cell_type": "markdown",
   "id": "d1f62911",
   "metadata": {},
   "source": [
    "## Adjusting the learning Rate"
   ]
  },
  {
   "cell_type": "code",
   "execution_count": 105,
   "id": "d96581f7",
   "metadata": {},
   "outputs": [],
   "source": [
    "# Whats the learning Rate??\n",
    "# Imagine this is how fast you can read. \n",
    "# Low Rate -- sloooooww but effective. Maybe also poorly because we only learned a small amount. This may be under-fitting\n",
    "# Fast Rate -- too fast, less effective. Poorly on Validation. This may be overfiitting\n",
    "# Medium Rate - ok efficient. Good on Validation\n",
    "# Important to find the right balance with our learning Rate. \n",
    "# We will try to do what we did with XGBoost"
   ]
  },
  {
   "cell_type": "code",
   "execution_count": 110,
   "id": "a5c61a04",
   "metadata": {},
   "outputs": [],
   "source": [
    "def make_model(learning_rate):\n",
    "    # we want to make this into an output of 32x10. 10 classes\n",
    "    base_model = Xception(weights='imagenet', include_top=False, input_shape=(150, 150, 3))\n",
    "\n",
    "    base_model.trainable = False\n",
    "    \n",
    "    ########################  Boiler Plate Code\n",
    "    \n",
    "    ################ Our model\n",
    "    \n",
    "    # not enough to just say it once, we also need to add that this is not going to be trained again.\n",
    "    # Helps with accuracy\n",
    "    inputs = keras.Input(shape=(150, 150, 3))\n",
    "    \n",
    "    base = base_model(inputs, training=False)\n",
    "\n",
    "    vectors = keras.layers.GlobalAveragePooling2D()(base)\n",
    "\n",
    "    outputs = keras.layers.Dense(10)(vectors)\n",
    "\n",
    "    model = keras.Model(inputs, outputs)\n",
    "    \n",
    "    \n",
    "    ##########################\n",
    "\n",
    "    optimizer = keras.optimizers.Adam(learning_rate=learning_rate)\n",
    "    # This should be true. With false we got very low accuracy\n",
    "    loss = keras.losses.CategoricalCrossentropy(from_logits=True)\n",
    "\n",
    "    model.compile(optimizer=optimizer, loss=loss, metrics=['accuracy'])\n",
    "    \n",
    "    return model\n"
   ]
  },
  {
   "cell_type": "code",
   "execution_count": 111,
   "id": "620c309f",
   "metadata": {},
   "outputs": [
    {
     "name": "stdout",
     "output_type": "stream",
     "text": [
      "0.0001\n",
      "Epoch 1/10\n",
      "96/96 [==============================] - 12s 124ms/step - loss: 0.9021 - accuracy: 0.8908 - val_loss: 3.7833 - val_accuracy: 0.7683\n",
      "Epoch 2/10\n",
      "96/96 [==============================] - 12s 123ms/step - loss: 0.3901 - accuracy: 0.9329 - val_loss: 2.6564 - val_accuracy: 0.8035\n",
      "Epoch 3/10\n",
      "96/96 [==============================] - 12s 123ms/step - loss: 0.1558 - accuracy: 0.9694 - val_loss: 2.6323 - val_accuracy: 0.8006\n",
      "Epoch 4/10\n",
      "96/96 [==============================] - 12s 124ms/step - loss: 0.0658 - accuracy: 0.9840 - val_loss: 2.3377 - val_accuracy: 0.8123\n",
      "Epoch 5/10\n",
      "96/96 [==============================] - 12s 122ms/step - loss: 0.0351 - accuracy: 0.9899 - val_loss: 2.3830 - val_accuracy: 0.8152\n",
      "Epoch 6/10\n",
      "96/96 [==============================] - 12s 124ms/step - loss: 0.0073 - accuracy: 0.9990 - val_loss: 2.3508 - val_accuracy: 0.8065\n",
      "Epoch 7/10\n",
      "96/96 [==============================] - 12s 123ms/step - loss: 0.0101 - accuracy: 0.9974 - val_loss: 2.4677 - val_accuracy: 0.8358\n",
      "Epoch 8/10\n",
      "96/96 [==============================] - 12s 124ms/step - loss: 0.0106 - accuracy: 0.9964 - val_loss: 2.4342 - val_accuracy: 0.8182\n",
      "Epoch 9/10\n",
      "96/96 [==============================] - 12s 125ms/step - loss: 0.0258 - accuracy: 0.9961 - val_loss: 2.3750 - val_accuracy: 0.8240\n",
      "Epoch 10/10\n",
      "96/96 [==============================] - 12s 124ms/step - loss: 0.0055 - accuracy: 0.9984 - val_loss: 2.3388 - val_accuracy: 0.8270\n",
      "\n",
      "\n",
      "0.001\n",
      "Epoch 1/10\n",
      "96/96 [==============================] - 12s 125ms/step - loss: 0.0040 - accuracy: 0.9984 - val_loss: 2.4141 - val_accuracy: 0.8270\n",
      "Epoch 2/10\n",
      "96/96 [==============================] - 12s 122ms/step - loss: 0.0029 - accuracy: 0.9990 - val_loss: 2.5205 - val_accuracy: 0.8358\n",
      "Epoch 3/10\n",
      "96/96 [==============================] - 12s 124ms/step - loss: 0.0198 - accuracy: 0.9961 - val_loss: 2.4694 - val_accuracy: 0.8152\n",
      "Epoch 4/10\n",
      "96/96 [==============================] - 12s 123ms/step - loss: 0.0242 - accuracy: 0.9954 - val_loss: 2.6257 - val_accuracy: 0.8299\n",
      "Epoch 5/10\n",
      "96/96 [==============================] - 12s 123ms/step - loss: 0.0283 - accuracy: 0.9922 - val_loss: 2.5978 - val_accuracy: 0.8299\n",
      "Epoch 6/10\n",
      "96/96 [==============================] - 12s 123ms/step - loss: 0.0304 - accuracy: 0.9948 - val_loss: 2.5237 - val_accuracy: 0.8211\n",
      "Epoch 7/10\n",
      "96/96 [==============================] - 12s 123ms/step - loss: 0.0030 - accuracy: 0.9987 - val_loss: 2.4593 - val_accuracy: 0.8270\n",
      "Epoch 8/10\n",
      "96/96 [==============================] - 12s 123ms/step - loss: 0.0108 - accuracy: 0.9971 - val_loss: 2.5397 - val_accuracy: 0.8416\n",
      "Epoch 9/10\n",
      "96/96 [==============================] - 12s 123ms/step - loss: 0.0128 - accuracy: 0.9987 - val_loss: 2.4972 - val_accuracy: 0.8211\n",
      "Epoch 10/10\n",
      "96/96 [==============================] - 12s 122ms/step - loss: 0.0043 - accuracy: 0.9993 - val_loss: 2.5735 - val_accuracy: 0.8328\n",
      "\n",
      "\n",
      "0.01\n",
      "Epoch 1/10\n",
      "96/96 [==============================] - 12s 124ms/step - loss: 0.0135 - accuracy: 0.9990 - val_loss: 2.6196 - val_accuracy: 0.8240\n",
      "Epoch 2/10\n",
      "96/96 [==============================] - 12s 123ms/step - loss: 0.0127 - accuracy: 0.9993 - val_loss: 2.5363 - val_accuracy: 0.8328\n",
      "Epoch 3/10\n",
      "96/96 [==============================] - 12s 123ms/step - loss: 4.0975e-04 - accuracy: 0.9997 - val_loss: 2.5846 - val_accuracy: 0.8123\n",
      "Epoch 4/10\n",
      "96/96 [==============================] - 12s 124ms/step - loss: 0.0050 - accuracy: 0.9990 - val_loss: 2.7901 - val_accuracy: 0.8152\n",
      "Epoch 5/10\n",
      "96/96 [==============================] - 12s 121ms/step - loss: 0.0945 - accuracy: 0.9772 - val_loss: 3.2229 - val_accuracy: 0.8211\n",
      "Epoch 6/10\n",
      "96/96 [==============================] - 12s 124ms/step - loss: 0.1383 - accuracy: 0.9687 - val_loss: 4.0879 - val_accuracy: 0.7830\n",
      "Epoch 7/10\n",
      "96/96 [==============================] - 12s 122ms/step - loss: 0.1995 - accuracy: 0.9628 - val_loss: 3.2366 - val_accuracy: 0.7977\n",
      "Epoch 8/10\n",
      "96/96 [==============================] - 12s 123ms/step - loss: 0.0925 - accuracy: 0.9804 - val_loss: 3.1693 - val_accuracy: 0.8035\n",
      "Epoch 9/10\n",
      "96/96 [==============================] - 12s 121ms/step - loss: 0.1321 - accuracy: 0.9739 - val_loss: 3.1137 - val_accuracy: 0.8240\n",
      "Epoch 10/10\n",
      "96/96 [==============================] - 12s 123ms/step - loss: 0.0780 - accuracy: 0.9831 - val_loss: 3.8333 - val_accuracy: 0.7595\n",
      "\n",
      "\n",
      "0.1\n",
      "Epoch 1/10\n",
      "96/96 [==============================] - 12s 125ms/step - loss: 0.0375 - accuracy: 0.9915 - val_loss: 3.2973 - val_accuracy: 0.8006\n",
      "Epoch 2/10\n",
      "96/96 [==============================] - 12s 124ms/step - loss: 0.0040 - accuracy: 0.9984 - val_loss: 3.5213 - val_accuracy: 0.7977\n",
      "Epoch 3/10\n",
      "96/96 [==============================] - 12s 123ms/step - loss: 0.0069 - accuracy: 0.9980 - val_loss: 3.2228 - val_accuracy: 0.7889\n",
      "Epoch 4/10\n",
      "96/96 [==============================] - 12s 124ms/step - loss: 0.0261 - accuracy: 0.9954 - val_loss: 3.4057 - val_accuracy: 0.7742\n",
      "Epoch 5/10\n",
      "96/96 [==============================] - 12s 125ms/step - loss: 0.0143 - accuracy: 0.9967 - val_loss: 3.1211 - val_accuracy: 0.8035\n",
      "Epoch 6/10\n",
      "96/96 [==============================] - 12s 123ms/step - loss: 0.0096 - accuracy: 0.9984 - val_loss: 3.3036 - val_accuracy: 0.8006\n",
      "Epoch 7/10\n",
      "96/96 [==============================] - 12s 123ms/step - loss: 0.0165 - accuracy: 0.9964 - val_loss: 3.2587 - val_accuracy: 0.7859\n",
      "Epoch 8/10\n",
      "96/96 [==============================] - 12s 123ms/step - loss: 0.0236 - accuracy: 0.9945 - val_loss: 3.2920 - val_accuracy: 0.7947\n",
      "Epoch 9/10\n",
      "96/96 [==============================] - 12s 122ms/step - loss: 0.0235 - accuracy: 0.9932 - val_loss: 3.4231 - val_accuracy: 0.8065\n",
      "Epoch 10/10\n",
      "96/96 [==============================] - 12s 123ms/step - loss: 0.0253 - accuracy: 0.9967 - val_loss: 3.4242 - val_accuracy: 0.8152\n",
      "\n",
      "\n"
     ]
    }
   ],
   "source": [
    "scores = {}\n",
    "\n",
    "for lr in [0.0001, 0.001, 0.01, 0.1]:\n",
    "    print(lr)\n",
    "    \n",
    "    model = make_model(lr)\n",
    "    history = model.fit(train_ds, epochs=10, validation_data=val_ds)\n",
    "    scores[lr] = history.history\n",
    "    \n",
    "    print()\n",
    "    print()"
   ]
  },
  {
   "cell_type": "code",
   "execution_count": 114,
   "id": "ee126a14",
   "metadata": {},
   "outputs": [
    {
     "name": "stdout",
     "output_type": "stream",
     "text": [
      "0.0001\n",
      "0.001\n",
      "0.01\n",
      "0.1\n"
     ]
    },
    {
     "data": {
      "image/png": "[encoded data removed]",
      "text/plain": [
       "<Figure size 640x480 with 1 Axes>"
      ]
     },
     "metadata": {},
     "output_type": "display_data"
    }
   ],
   "source": [
    "for lr, hist in scores.items():\n",
    "    print(lr)\n",
    "#     plt.plot(hist['accuracy'], label='train')\n",
    "    plt.plot(hist['val_accuracy'], label='val')\n",
    "\n",
    "    plt.legend()"
   ]
  },
  {
   "cell_type": "code",
   "execution_count": null,
   "id": "5bd38317",
   "metadata": {},
   "outputs": [],
   "source": [
    "del scores[0.1]\n",
    "del scores[0.0001]\n",
    "# best learing rate should be \n",
    "learning_rate = 0.001"
   ]
  }
 ],
 "metadata": {
  "kernelspec": {
   "display_name": "saturn (Python 3)",
   "language": "python",
   "name": "python3"
  },
  "language_info": {
   "codemirror_mode": {
    "name": "ipython",
    "version": 3
   },
   "file_extension": ".py",
   "mimetype": "text/x-python",
   "name": "python",
   "nbconvert_exporter": "python",
   "pygments_lexer": "ipython3",
   "version": "3.9.13"
  }
 },
 "nbformat": 4,
 "nbformat_minor": 5
}
