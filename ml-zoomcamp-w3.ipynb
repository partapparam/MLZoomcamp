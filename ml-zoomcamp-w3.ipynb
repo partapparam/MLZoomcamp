{
 "cells": [
  {
   "cell_type": "code",
   "execution_count": 1,
   "id": "46841343",
   "metadata": {
    "_cell_guid": "b1076dfc-b9ad-4769-8c92-a6c4dae69d19",
    "_uuid": "8f2839f25d086af736a60e9eeb907d3b93b6e0e5",
    "execution": {
     "iopub.execute_input": "2023-10-16T20:51:54.731480Z",
     "iopub.status.busy": "2023-10-16T20:51:54.730894Z",
     "iopub.status.idle": "2023-10-16T20:51:55.109548Z",
     "shell.execute_reply": "2023-10-16T20:51:55.108493Z"
    },
    "papermill": {
     "duration": 0.403003,
     "end_time": "2023-10-16T20:51:55.111764",
     "exception": false,
     "start_time": "2023-10-16T20:51:54.708761",
     "status": "completed"
    },
    "tags": []
   },
   "outputs": [
    {
     "name": "stdout",
     "output_type": "stream",
     "text": [
      "/kaggle/input/telco-customer-churn/WA_Fn-UseC_-Telco-Customer-Churn.csv\n"
     ]
    }
   ],
   "source": [
    "# This Python 3 environment comes with many helpful analytics libraries installed\n",
    "# It is defined by the kaggle/python Docker image: https://github.com/kaggle/docker-python\n",
    "# For example, here's several helpful packages to load\n",
    "\n",
    "import numpy as np # linear algebra\n",
    "import pandas as pd # data processing, CSV file I/O (e.g. pd.read_csv)\n",
    "\n",
    "# Input data files are available in the read-only \"../input/\" directory\n",
    "# For example, running this (by clicking run or pressing Shift+Enter) will list all files under the input directory\n",
    "\n",
    "import os\n",
    "for dirname, _, filenames in os.walk('/kaggle/input'):\n",
    "    for filename in filenames:\n",
    "        print(os.path.join(dirname, filename))\n",
    "\n",
    "# You can write up to 20GB to the current directory (/kaggle/working/) that gets preserved as output when you create a version using \"Save & Run All\" \n",
    "# You can also write temporary files to /kaggle/temp/, but they won't be saved outside of the current session"
   ]
  },
  {
   "cell_type": "code",
   "execution_count": 2,
   "id": "f4401d6c",
   "metadata": {
    "execution": {
     "iopub.execute_input": "2023-10-16T20:51:55.156254Z",
     "iopub.status.busy": "2023-10-16T20:51:55.155502Z",
     "iopub.status.idle": "2023-10-16T20:51:55.271476Z",
     "shell.execute_reply": "2023-10-16T20:51:55.270502Z"
    },
    "papermill": {
     "duration": 0.14087,
     "end_time": "2023-10-16T20:51:55.273919",
     "exception": false,
     "start_time": "2023-10-16T20:51:55.133049",
     "status": "completed"
    },
    "tags": []
   },
   "outputs": [
    {
     "data": {
      "text/html": [
       "<div>\n",
       "<style scoped>\n",
       "    .dataframe tbody tr th:only-of-type {\n",
       "        vertical-align: middle;\n",
       "    }\n",
       "\n",
       "    .dataframe tbody tr th {\n",
       "        vertical-align: top;\n",
       "    }\n",
       "\n",
       "    .dataframe thead th {\n",
       "        text-align: right;\n",
       "    }\n",
       "</style>\n",
       "<table border=\"1\" class=\"dataframe\">\n",
       "  <thead>\n",
       "    <tr style=\"text-align: right;\">\n",
       "      <th></th>\n",
       "      <th>customerID</th>\n",
       "      <th>gender</th>\n",
       "      <th>SeniorCitizen</th>\n",
       "      <th>Partner</th>\n",
       "      <th>Dependents</th>\n",
       "      <th>tenure</th>\n",
       "      <th>PhoneService</th>\n",
       "      <th>MultipleLines</th>\n",
       "      <th>InternetService</th>\n",
       "      <th>OnlineSecurity</th>\n",
       "      <th>...</th>\n",
       "      <th>DeviceProtection</th>\n",
       "      <th>TechSupport</th>\n",
       "      <th>StreamingTV</th>\n",
       "      <th>StreamingMovies</th>\n",
       "      <th>Contract</th>\n",
       "      <th>PaperlessBilling</th>\n",
       "      <th>PaymentMethod</th>\n",
       "      <th>MonthlyCharges</th>\n",
       "      <th>TotalCharges</th>\n",
       "      <th>Churn</th>\n",
       "    </tr>\n",
       "  </thead>\n",
       "  <tbody>\n",
       "    <tr>\n",
       "      <th>0</th>\n",
       "      <td>7590-VHVEG</td>\n",
       "      <td>Female</td>\n",
       "      <td>0</td>\n",
       "      <td>Yes</td>\n",
       "      <td>No</td>\n",
       "      <td>1</td>\n",
       "      <td>No</td>\n",
       "      <td>No phone service</td>\n",
       "      <td>DSL</td>\n",
       "      <td>No</td>\n",
       "      <td>...</td>\n",
       "      <td>No</td>\n",
       "      <td>No</td>\n",
       "      <td>No</td>\n",
       "      <td>No</td>\n",
       "      <td>Month-to-month</td>\n",
       "      <td>Yes</td>\n",
       "      <td>Electronic check</td>\n",
       "      <td>29.85</td>\n",
       "      <td>29.85</td>\n",
       "      <td>No</td>\n",
       "    </tr>\n",
       "    <tr>\n",
       "      <th>1</th>\n",
       "      <td>5575-GNVDE</td>\n",
       "      <td>Male</td>\n",
       "      <td>0</td>\n",
       "      <td>No</td>\n",
       "      <td>No</td>\n",
       "      <td>34</td>\n",
       "      <td>Yes</td>\n",
       "      <td>No</td>\n",
       "      <td>DSL</td>\n",
       "      <td>Yes</td>\n",
       "      <td>...</td>\n",
       "      <td>Yes</td>\n",
       "      <td>No</td>\n",
       "      <td>No</td>\n",
       "      <td>No</td>\n",
       "      <td>One year</td>\n",
       "      <td>No</td>\n",
       "      <td>Mailed check</td>\n",
       "      <td>56.95</td>\n",
       "      <td>1889.5</td>\n",
       "      <td>No</td>\n",
       "    </tr>\n",
       "    <tr>\n",
       "      <th>2</th>\n",
       "      <td>3668-QPYBK</td>\n",
       "      <td>Male</td>\n",
       "      <td>0</td>\n",
       "      <td>No</td>\n",
       "      <td>No</td>\n",
       "      <td>2</td>\n",
       "      <td>Yes</td>\n",
       "      <td>No</td>\n",
       "      <td>DSL</td>\n",
       "      <td>Yes</td>\n",
       "      <td>...</td>\n",
       "      <td>No</td>\n",
       "      <td>No</td>\n",
       "      <td>No</td>\n",
       "      <td>No</td>\n",
       "      <td>Month-to-month</td>\n",
       "      <td>Yes</td>\n",
       "      <td>Mailed check</td>\n",
       "      <td>53.85</td>\n",
       "      <td>108.15</td>\n",
       "      <td>Yes</td>\n",
       "    </tr>\n",
       "    <tr>\n",
       "      <th>3</th>\n",
       "      <td>7795-CFOCW</td>\n",
       "      <td>Male</td>\n",
       "      <td>0</td>\n",
       "      <td>No</td>\n",
       "      <td>No</td>\n",
       "      <td>45</td>\n",
       "      <td>No</td>\n",
       "      <td>No phone service</td>\n",
       "      <td>DSL</td>\n",
       "      <td>Yes</td>\n",
       "      <td>...</td>\n",
       "      <td>Yes</td>\n",
       "      <td>Yes</td>\n",
       "      <td>No</td>\n",
       "      <td>No</td>\n",
       "      <td>One year</td>\n",
       "      <td>No</td>\n",
       "      <td>Bank transfer (automatic)</td>\n",
       "      <td>42.30</td>\n",
       "      <td>1840.75</td>\n",
       "      <td>No</td>\n",
       "    </tr>\n",
       "    <tr>\n",
       "      <th>4</th>\n",
       "      <td>9237-HQITU</td>\n",
       "      <td>Female</td>\n",
       "      <td>0</td>\n",
       "      <td>No</td>\n",
       "      <td>No</td>\n",
       "      <td>2</td>\n",
       "      <td>Yes</td>\n",
       "      <td>No</td>\n",
       "      <td>Fiber optic</td>\n",
       "      <td>No</td>\n",
       "      <td>...</td>\n",
       "      <td>No</td>\n",
       "      <td>No</td>\n",
       "      <td>No</td>\n",
       "      <td>No</td>\n",
       "      <td>Month-to-month</td>\n",
       "      <td>Yes</td>\n",
       "      <td>Electronic check</td>\n",
       "      <td>70.70</td>\n",
       "      <td>151.65</td>\n",
       "      <td>Yes</td>\n",
       "    </tr>\n",
       "    <tr>\n",
       "      <th>...</th>\n",
       "      <td>...</td>\n",
       "      <td>...</td>\n",
       "      <td>...</td>\n",
       "      <td>...</td>\n",
       "      <td>...</td>\n",
       "      <td>...</td>\n",
       "      <td>...</td>\n",
       "      <td>...</td>\n",
       "      <td>...</td>\n",
       "      <td>...</td>\n",
       "      <td>...</td>\n",
       "      <td>...</td>\n",
       "      <td>...</td>\n",
       "      <td>...</td>\n",
       "      <td>...</td>\n",
       "      <td>...</td>\n",
       "      <td>...</td>\n",
       "      <td>...</td>\n",
       "      <td>...</td>\n",
       "      <td>...</td>\n",
       "      <td>...</td>\n",
       "    </tr>\n",
       "    <tr>\n",
       "      <th>7038</th>\n",
       "      <td>6840-RESVB</td>\n",
       "      <td>Male</td>\n",
       "      <td>0</td>\n",
       "      <td>Yes</td>\n",
       "      <td>Yes</td>\n",
       "      <td>24</td>\n",
       "      <td>Yes</td>\n",
       "      <td>Yes</td>\n",
       "      <td>DSL</td>\n",
       "      <td>Yes</td>\n",
       "      <td>...</td>\n",
       "      <td>Yes</td>\n",
       "      <td>Yes</td>\n",
       "      <td>Yes</td>\n",
       "      <td>Yes</td>\n",
       "      <td>One year</td>\n",
       "      <td>Yes</td>\n",
       "      <td>Mailed check</td>\n",
       "      <td>84.80</td>\n",
       "      <td>1990.5</td>\n",
       "      <td>No</td>\n",
       "    </tr>\n",
       "    <tr>\n",
       "      <th>7039</th>\n",
       "      <td>2234-XADUH</td>\n",
       "      <td>Female</td>\n",
       "      <td>0</td>\n",
       "      <td>Yes</td>\n",
       "      <td>Yes</td>\n",
       "      <td>72</td>\n",
       "      <td>Yes</td>\n",
       "      <td>Yes</td>\n",
       "      <td>Fiber optic</td>\n",
       "      <td>No</td>\n",
       "      <td>...</td>\n",
       "      <td>Yes</td>\n",
       "      <td>No</td>\n",
       "      <td>Yes</td>\n",
       "      <td>Yes</td>\n",
       "      <td>One year</td>\n",
       "      <td>Yes</td>\n",
       "      <td>Credit card (automatic)</td>\n",
       "      <td>103.20</td>\n",
       "      <td>7362.9</td>\n",
       "      <td>No</td>\n",
       "    </tr>\n",
       "    <tr>\n",
       "      <th>7040</th>\n",
       "      <td>4801-JZAZL</td>\n",
       "      <td>Female</td>\n",
       "      <td>0</td>\n",
       "      <td>Yes</td>\n",
       "      <td>Yes</td>\n",
       "      <td>11</td>\n",
       "      <td>No</td>\n",
       "      <td>No phone service</td>\n",
       "      <td>DSL</td>\n",
       "      <td>Yes</td>\n",
       "      <td>...</td>\n",
       "      <td>No</td>\n",
       "      <td>No</td>\n",
       "      <td>No</td>\n",
       "      <td>No</td>\n",
       "      <td>Month-to-month</td>\n",
       "      <td>Yes</td>\n",
       "      <td>Electronic check</td>\n",
       "      <td>29.60</td>\n",
       "      <td>346.45</td>\n",
       "      <td>No</td>\n",
       "    </tr>\n",
       "    <tr>\n",
       "      <th>7041</th>\n",
       "      <td>8361-LTMKD</td>\n",
       "      <td>Male</td>\n",
       "      <td>1</td>\n",
       "      <td>Yes</td>\n",
       "      <td>No</td>\n",
       "      <td>4</td>\n",
       "      <td>Yes</td>\n",
       "      <td>Yes</td>\n",
       "      <td>Fiber optic</td>\n",
       "      <td>No</td>\n",
       "      <td>...</td>\n",
       "      <td>No</td>\n",
       "      <td>No</td>\n",
       "      <td>No</td>\n",
       "      <td>No</td>\n",
       "      <td>Month-to-month</td>\n",
       "      <td>Yes</td>\n",
       "      <td>Mailed check</td>\n",
       "      <td>74.40</td>\n",
       "      <td>306.6</td>\n",
       "      <td>Yes</td>\n",
       "    </tr>\n",
       "    <tr>\n",
       "      <th>7042</th>\n",
       "      <td>3186-AJIEK</td>\n",
       "      <td>Male</td>\n",
       "      <td>0</td>\n",
       "      <td>No</td>\n",
       "      <td>No</td>\n",
       "      <td>66</td>\n",
       "      <td>Yes</td>\n",
       "      <td>No</td>\n",
       "      <td>Fiber optic</td>\n",
       "      <td>Yes</td>\n",
       "      <td>...</td>\n",
       "      <td>Yes</td>\n",
       "      <td>Yes</td>\n",
       "      <td>Yes</td>\n",
       "      <td>Yes</td>\n",
       "      <td>Two year</td>\n",
       "      <td>Yes</td>\n",
       "      <td>Bank transfer (automatic)</td>\n",
       "      <td>105.65</td>\n",
       "      <td>6844.5</td>\n",
       "      <td>No</td>\n",
       "    </tr>\n",
       "  </tbody>\n",
       "</table>\n",
       "<p>7043 rows × 21 columns</p>\n",
       "</div>"
      ],
      "text/plain": [
       "      customerID  gender  SeniorCitizen Partner Dependents  tenure  \\\n",
       "0     7590-VHVEG  Female              0     Yes         No       1   \n",
       "1     5575-GNVDE    Male              0      No         No      34   \n",
       "2     3668-QPYBK    Male              0      No         No       2   \n",
       "3     7795-CFOCW    Male              0      No         No      45   \n",
       "4     9237-HQITU  Female              0      No         No       2   \n",
       "...          ...     ...            ...     ...        ...     ...   \n",
       "7038  6840-RESVB    Male              0     Yes        Yes      24   \n",
       "7039  2234-XADUH  Female              0     Yes        Yes      72   \n",
       "7040  4801-JZAZL  Female              0     Yes        Yes      11   \n",
       "7041  8361-LTMKD    Male              1     Yes         No       4   \n",
       "7042  3186-AJIEK    Male              0      No         No      66   \n",
       "\n",
       "     PhoneService     MultipleLines InternetService OnlineSecurity  ...  \\\n",
       "0              No  No phone service             DSL             No  ...   \n",
       "1             Yes                No             DSL            Yes  ...   \n",
       "2             Yes                No             DSL            Yes  ...   \n",
       "3              No  No phone service             DSL            Yes  ...   \n",
       "4             Yes                No     Fiber optic             No  ...   \n",
       "...           ...               ...             ...            ...  ...   \n",
       "7038          Yes               Yes             DSL            Yes  ...   \n",
       "7039          Yes               Yes     Fiber optic             No  ...   \n",
       "7040           No  No phone service             DSL            Yes  ...   \n",
       "7041          Yes               Yes     Fiber optic             No  ...   \n",
       "7042          Yes                No     Fiber optic            Yes  ...   \n",
       "\n",
       "     DeviceProtection TechSupport StreamingTV StreamingMovies        Contract  \\\n",
       "0                  No          No          No              No  Month-to-month   \n",
       "1                 Yes          No          No              No        One year   \n",
       "2                  No          No          No              No  Month-to-month   \n",
       "3                 Yes         Yes          No              No        One year   \n",
       "4                  No          No          No              No  Month-to-month   \n",
       "...               ...         ...         ...             ...             ...   \n",
       "7038              Yes         Yes         Yes             Yes        One year   \n",
       "7039              Yes          No         Yes             Yes        One year   \n",
       "7040               No          No          No              No  Month-to-month   \n",
       "7041               No          No          No              No  Month-to-month   \n",
       "7042              Yes         Yes         Yes             Yes        Two year   \n",
       "\n",
       "     PaperlessBilling              PaymentMethod MonthlyCharges  TotalCharges  \\\n",
       "0                 Yes           Electronic check          29.85         29.85   \n",
       "1                  No               Mailed check          56.95        1889.5   \n",
       "2                 Yes               Mailed check          53.85        108.15   \n",
       "3                  No  Bank transfer (automatic)          42.30       1840.75   \n",
       "4                 Yes           Electronic check          70.70        151.65   \n",
       "...               ...                        ...            ...           ...   \n",
       "7038              Yes               Mailed check          84.80        1990.5   \n",
       "7039              Yes    Credit card (automatic)         103.20        7362.9   \n",
       "7040              Yes           Electronic check          29.60        346.45   \n",
       "7041              Yes               Mailed check          74.40         306.6   \n",
       "7042              Yes  Bank transfer (automatic)         105.65        6844.5   \n",
       "\n",
       "     Churn  \n",
       "0       No  \n",
       "1       No  \n",
       "2      Yes  \n",
       "3       No  \n",
       "4      Yes  \n",
       "...    ...  \n",
       "7038    No  \n",
       "7039    No  \n",
       "7040    No  \n",
       "7041   Yes  \n",
       "7042    No  \n",
       "\n",
       "[7043 rows x 21 columns]"
      ]
     },
     "execution_count": 2,
     "metadata": {},
     "output_type": "execute_result"
    }
   ],
   "source": [
    "df = pd.read_csv('../input/telco-customer-churn/WA_Fn-UseC_-Telco-Customer-Churn.csv')\n",
    "df"
   ]
  },
  {
   "cell_type": "code",
   "execution_count": 3,
   "id": "8f260ac9",
   "metadata": {
    "execution": {
     "iopub.execute_input": "2023-10-16T20:51:55.316680Z",
     "iopub.status.busy": "2023-10-16T20:51:55.316289Z",
     "iopub.status.idle": "2023-10-16T20:51:55.320331Z",
     "shell.execute_reply": "2023-10-16T20:51:55.319648Z"
    },
    "papermill": {
     "duration": 0.02745,
     "end_time": "2023-10-16T20:51:55.322327",
     "exception": false,
     "start_time": "2023-10-16T20:51:55.294877",
     "status": "completed"
    },
    "tags": []
   },
   "outputs": [],
   "source": [
    "import matplotlib.pyplot as plt"
   ]
  },
  {
   "cell_type": "code",
   "execution_count": 4,
   "id": "ecc49058",
   "metadata": {
    "execution": {
     "iopub.execute_input": "2023-10-16T20:51:55.426017Z",
     "iopub.status.busy": "2023-10-16T20:51:55.425390Z",
     "iopub.status.idle": "2023-10-16T20:51:55.440383Z",
     "shell.execute_reply": "2023-10-16T20:51:55.439624Z"
    },
    "papermill": {
     "duration": 0.09997,
     "end_time": "2023-10-16T20:51:55.442561",
     "exception": false,
     "start_time": "2023-10-16T20:51:55.342591",
     "status": "completed"
    },
    "tags": []
   },
   "outputs": [
    {
     "data": {
      "text/html": [
       "<div>\n",
       "<style scoped>\n",
       "    .dataframe tbody tr th:only-of-type {\n",
       "        vertical-align: middle;\n",
       "    }\n",
       "\n",
       "    .dataframe tbody tr th {\n",
       "        vertical-align: top;\n",
       "    }\n",
       "\n",
       "    .dataframe thead th {\n",
       "        text-align: right;\n",
       "    }\n",
       "</style>\n",
       "<table border=\"1\" class=\"dataframe\">\n",
       "  <thead>\n",
       "    <tr style=\"text-align: right;\">\n",
       "      <th></th>\n",
       "      <th>0</th>\n",
       "      <th>1</th>\n",
       "      <th>2</th>\n",
       "      <th>3</th>\n",
       "      <th>4</th>\n",
       "    </tr>\n",
       "  </thead>\n",
       "  <tbody>\n",
       "    <tr>\n",
       "      <th>customerID</th>\n",
       "      <td>7590-VHVEG</td>\n",
       "      <td>5575-GNVDE</td>\n",
       "      <td>3668-QPYBK</td>\n",
       "      <td>7795-CFOCW</td>\n",
       "      <td>9237-HQITU</td>\n",
       "    </tr>\n",
       "    <tr>\n",
       "      <th>gender</th>\n",
       "      <td>Female</td>\n",
       "      <td>Male</td>\n",
       "      <td>Male</td>\n",
       "      <td>Male</td>\n",
       "      <td>Female</td>\n",
       "    </tr>\n",
       "    <tr>\n",
       "      <th>SeniorCitizen</th>\n",
       "      <td>0</td>\n",
       "      <td>0</td>\n",
       "      <td>0</td>\n",
       "      <td>0</td>\n",
       "      <td>0</td>\n",
       "    </tr>\n",
       "    <tr>\n",
       "      <th>Partner</th>\n",
       "      <td>Yes</td>\n",
       "      <td>No</td>\n",
       "      <td>No</td>\n",
       "      <td>No</td>\n",
       "      <td>No</td>\n",
       "    </tr>\n",
       "    <tr>\n",
       "      <th>Dependents</th>\n",
       "      <td>No</td>\n",
       "      <td>No</td>\n",
       "      <td>No</td>\n",
       "      <td>No</td>\n",
       "      <td>No</td>\n",
       "    </tr>\n",
       "    <tr>\n",
       "      <th>tenure</th>\n",
       "      <td>1</td>\n",
       "      <td>34</td>\n",
       "      <td>2</td>\n",
       "      <td>45</td>\n",
       "      <td>2</td>\n",
       "    </tr>\n",
       "    <tr>\n",
       "      <th>PhoneService</th>\n",
       "      <td>No</td>\n",
       "      <td>Yes</td>\n",
       "      <td>Yes</td>\n",
       "      <td>No</td>\n",
       "      <td>Yes</td>\n",
       "    </tr>\n",
       "    <tr>\n",
       "      <th>MultipleLines</th>\n",
       "      <td>No phone service</td>\n",
       "      <td>No</td>\n",
       "      <td>No</td>\n",
       "      <td>No phone service</td>\n",
       "      <td>No</td>\n",
       "    </tr>\n",
       "    <tr>\n",
       "      <th>InternetService</th>\n",
       "      <td>DSL</td>\n",
       "      <td>DSL</td>\n",
       "      <td>DSL</td>\n",
       "      <td>DSL</td>\n",
       "      <td>Fiber optic</td>\n",
       "    </tr>\n",
       "    <tr>\n",
       "      <th>OnlineSecurity</th>\n",
       "      <td>No</td>\n",
       "      <td>Yes</td>\n",
       "      <td>Yes</td>\n",
       "      <td>Yes</td>\n",
       "      <td>No</td>\n",
       "    </tr>\n",
       "    <tr>\n",
       "      <th>OnlineBackup</th>\n",
       "      <td>Yes</td>\n",
       "      <td>No</td>\n",
       "      <td>Yes</td>\n",
       "      <td>No</td>\n",
       "      <td>No</td>\n",
       "    </tr>\n",
       "    <tr>\n",
       "      <th>DeviceProtection</th>\n",
       "      <td>No</td>\n",
       "      <td>Yes</td>\n",
       "      <td>No</td>\n",
       "      <td>Yes</td>\n",
       "      <td>No</td>\n",
       "    </tr>\n",
       "    <tr>\n",
       "      <th>TechSupport</th>\n",
       "      <td>No</td>\n",
       "      <td>No</td>\n",
       "      <td>No</td>\n",
       "      <td>Yes</td>\n",
       "      <td>No</td>\n",
       "    </tr>\n",
       "    <tr>\n",
       "      <th>StreamingTV</th>\n",
       "      <td>No</td>\n",
       "      <td>No</td>\n",
       "      <td>No</td>\n",
       "      <td>No</td>\n",
       "      <td>No</td>\n",
       "    </tr>\n",
       "    <tr>\n",
       "      <th>StreamingMovies</th>\n",
       "      <td>No</td>\n",
       "      <td>No</td>\n",
       "      <td>No</td>\n",
       "      <td>No</td>\n",
       "      <td>No</td>\n",
       "    </tr>\n",
       "    <tr>\n",
       "      <th>Contract</th>\n",
       "      <td>Month-to-month</td>\n",
       "      <td>One year</td>\n",
       "      <td>Month-to-month</td>\n",
       "      <td>One year</td>\n",
       "      <td>Month-to-month</td>\n",
       "    </tr>\n",
       "    <tr>\n",
       "      <th>PaperlessBilling</th>\n",
       "      <td>Yes</td>\n",
       "      <td>No</td>\n",
       "      <td>Yes</td>\n",
       "      <td>No</td>\n",
       "      <td>Yes</td>\n",
       "    </tr>\n",
       "    <tr>\n",
       "      <th>PaymentMethod</th>\n",
       "      <td>Electronic check</td>\n",
       "      <td>Mailed check</td>\n",
       "      <td>Mailed check</td>\n",
       "      <td>Bank transfer (automatic)</td>\n",
       "      <td>Electronic check</td>\n",
       "    </tr>\n",
       "    <tr>\n",
       "      <th>MonthlyCharges</th>\n",
       "      <td>29.85</td>\n",
       "      <td>56.95</td>\n",
       "      <td>53.85</td>\n",
       "      <td>42.3</td>\n",
       "      <td>70.7</td>\n",
       "    </tr>\n",
       "    <tr>\n",
       "      <th>TotalCharges</th>\n",
       "      <td>29.85</td>\n",
       "      <td>1889.5</td>\n",
       "      <td>108.15</td>\n",
       "      <td>1840.75</td>\n",
       "      <td>151.65</td>\n",
       "    </tr>\n",
       "    <tr>\n",
       "      <th>Churn</th>\n",
       "      <td>No</td>\n",
       "      <td>No</td>\n",
       "      <td>Yes</td>\n",
       "      <td>No</td>\n",
       "      <td>Yes</td>\n",
       "    </tr>\n",
       "  </tbody>\n",
       "</table>\n",
       "</div>"
      ],
      "text/plain": [
       "                                 0             1               2  \\\n",
       "customerID              7590-VHVEG    5575-GNVDE      3668-QPYBK   \n",
       "gender                      Female          Male            Male   \n",
       "SeniorCitizen                    0             0               0   \n",
       "Partner                        Yes            No              No   \n",
       "Dependents                      No            No              No   \n",
       "tenure                           1            34               2   \n",
       "PhoneService                    No           Yes             Yes   \n",
       "MultipleLines     No phone service            No              No   \n",
       "InternetService                DSL           DSL             DSL   \n",
       "OnlineSecurity                  No           Yes             Yes   \n",
       "OnlineBackup                   Yes            No             Yes   \n",
       "DeviceProtection                No           Yes              No   \n",
       "TechSupport                     No            No              No   \n",
       "StreamingTV                     No            No              No   \n",
       "StreamingMovies                 No            No              No   \n",
       "Contract            Month-to-month      One year  Month-to-month   \n",
       "PaperlessBilling               Yes            No             Yes   \n",
       "PaymentMethod     Electronic check  Mailed check    Mailed check   \n",
       "MonthlyCharges               29.85         56.95           53.85   \n",
       "TotalCharges                 29.85        1889.5          108.15   \n",
       "Churn                           No            No             Yes   \n",
       "\n",
       "                                          3                 4  \n",
       "customerID                       7795-CFOCW        9237-HQITU  \n",
       "gender                                 Male            Female  \n",
       "SeniorCitizen                             0                 0  \n",
       "Partner                                  No                No  \n",
       "Dependents                               No                No  \n",
       "tenure                                   45                 2  \n",
       "PhoneService                             No               Yes  \n",
       "MultipleLines              No phone service                No  \n",
       "InternetService                         DSL       Fiber optic  \n",
       "OnlineSecurity                          Yes                No  \n",
       "OnlineBackup                             No                No  \n",
       "DeviceProtection                        Yes                No  \n",
       "TechSupport                             Yes                No  \n",
       "StreamingTV                              No                No  \n",
       "StreamingMovies                          No                No  \n",
       "Contract                           One year    Month-to-month  \n",
       "PaperlessBilling                         No               Yes  \n",
       "PaymentMethod     Bank transfer (automatic)  Electronic check  \n",
       "MonthlyCharges                         42.3              70.7  \n",
       "TotalCharges                        1840.75            151.65  \n",
       "Churn                                    No               Yes  "
      ]
     },
     "execution_count": 4,
     "metadata": {},
     "output_type": "execute_result"
    }
   ],
   "source": [
    "# Using df.head() doesn't display all the columns because of the size of the DF\n",
    "# by using transpose, we make the columns the rows.\n",
    "df.head().T"
   ]
  },
  {
   "cell_type": "code",
   "execution_count": 5,
   "id": "7ec28421",
   "metadata": {
    "execution": {
     "iopub.execute_input": "2023-10-16T20:51:55.487082Z",
     "iopub.status.busy": "2023-10-16T20:51:55.486414Z",
     "iopub.status.idle": "2023-10-16T20:51:55.493138Z",
     "shell.execute_reply": "2023-10-16T20:51:55.492415Z"
    },
    "papermill": {
     "duration": 0.031263,
     "end_time": "2023-10-16T20:51:55.494997",
     "exception": false,
     "start_time": "2023-10-16T20:51:55.463734",
     "status": "completed"
    },
    "tags": []
   },
   "outputs": [
    {
     "data": {
      "text/plain": [
       "Index(['customerid', 'gender', 'seniorcitizen', 'partner', 'dependents',\n",
       "       'tenure', 'phoneservice', 'multiplelines', 'internetservice',\n",
       "       'onlinesecurity', 'onlinebackup', 'deviceprotection', 'techsupport',\n",
       "       'streamingtv', 'streamingmovies', 'contract', 'paperlessbilling',\n",
       "       'paymentmethod', 'monthlycharges', 'totalcharges', 'churn'],\n",
       "      dtype='object')"
      ]
     },
     "execution_count": 5,
     "metadata": {},
     "output_type": "execute_result"
    }
   ],
   "source": [
    "# lets clean up the data\n",
    "df.columns = df.columns.str.lower().str.replace(' ', '_')\n",
    "df.columns"
   ]
  },
  {
   "cell_type": "code",
   "execution_count": 6,
   "id": "56b10a93",
   "metadata": {
    "execution": {
     "iopub.execute_input": "2023-10-16T20:51:55.539578Z",
     "iopub.status.busy": "2023-10-16T20:51:55.538874Z",
     "iopub.status.idle": "2023-10-16T20:51:55.543767Z",
     "shell.execute_reply": "2023-10-16T20:51:55.542858Z"
    },
    "papermill": {
     "duration": 0.029525,
     "end_time": "2023-10-16T20:51:55.545992",
     "exception": false,
     "start_time": "2023-10-16T20:51:55.516467",
     "status": "completed"
    },
    "tags": []
   },
   "outputs": [],
   "source": [
    "categorical_columns = list(df.dtypes[df.dtypes  == 'object'].index)\n"
   ]
  },
  {
   "cell_type": "code",
   "execution_count": 7,
   "id": "8c5c3027",
   "metadata": {
    "execution": {
     "iopub.execute_input": "2023-10-16T20:51:55.590277Z",
     "iopub.status.busy": "2023-10-16T20:51:55.589638Z",
     "iopub.status.idle": "2023-10-16T20:51:55.688034Z",
     "shell.execute_reply": "2023-10-16T20:51:55.686938Z"
    },
    "papermill": {
     "duration": 0.123498,
     "end_time": "2023-10-16T20:51:55.690408",
     "exception": false,
     "start_time": "2023-10-16T20:51:55.566910",
     "status": "completed"
    },
    "tags": []
   },
   "outputs": [],
   "source": [
    "# Now we go through and clean up the data in the columns\n",
    "for c in categorical_columns: \n",
    "    df[c] = df[c].str.lower().str.replace(' ', '_')"
   ]
  },
  {
   "cell_type": "code",
   "execution_count": 8,
   "id": "17862619",
   "metadata": {
    "execution": {
     "iopub.execute_input": "2023-10-16T20:51:55.733999Z",
     "iopub.status.busy": "2023-10-16T20:51:55.733655Z",
     "iopub.status.idle": "2023-10-16T20:51:55.751336Z",
     "shell.execute_reply": "2023-10-16T20:51:55.750244Z"
    },
    "papermill": {
     "duration": 0.041854,
     "end_time": "2023-10-16T20:51:55.753330",
     "exception": false,
     "start_time": "2023-10-16T20:51:55.711476",
     "status": "completed"
    },
    "tags": []
   },
   "outputs": [
    {
     "data": {
      "text/html": [
       "<div>\n",
       "<style scoped>\n",
       "    .dataframe tbody tr th:only-of-type {\n",
       "        vertical-align: middle;\n",
       "    }\n",
       "\n",
       "    .dataframe tbody tr th {\n",
       "        vertical-align: top;\n",
       "    }\n",
       "\n",
       "    .dataframe thead th {\n",
       "        text-align: right;\n",
       "    }\n",
       "</style>\n",
       "<table border=\"1\" class=\"dataframe\">\n",
       "  <thead>\n",
       "    <tr style=\"text-align: right;\">\n",
       "      <th></th>\n",
       "      <th>customerid</th>\n",
       "      <th>totalcharges</th>\n",
       "    </tr>\n",
       "  </thead>\n",
       "  <tbody>\n",
       "    <tr>\n",
       "      <th>488</th>\n",
       "      <td>4472-lvygi</td>\n",
       "      <td>_</td>\n",
       "    </tr>\n",
       "    <tr>\n",
       "      <th>753</th>\n",
       "      <td>3115-czmzd</td>\n",
       "      <td>_</td>\n",
       "    </tr>\n",
       "    <tr>\n",
       "      <th>936</th>\n",
       "      <td>5709-lvoeq</td>\n",
       "      <td>_</td>\n",
       "    </tr>\n",
       "    <tr>\n",
       "      <th>1082</th>\n",
       "      <td>4367-nuyao</td>\n",
       "      <td>_</td>\n",
       "    </tr>\n",
       "    <tr>\n",
       "      <th>1340</th>\n",
       "      <td>1371-dwpaz</td>\n",
       "      <td>_</td>\n",
       "    </tr>\n",
       "    <tr>\n",
       "      <th>3331</th>\n",
       "      <td>7644-omvmy</td>\n",
       "      <td>_</td>\n",
       "    </tr>\n",
       "    <tr>\n",
       "      <th>3826</th>\n",
       "      <td>3213-vvolg</td>\n",
       "      <td>_</td>\n",
       "    </tr>\n",
       "    <tr>\n",
       "      <th>4380</th>\n",
       "      <td>2520-sgtta</td>\n",
       "      <td>_</td>\n",
       "    </tr>\n",
       "    <tr>\n",
       "      <th>5218</th>\n",
       "      <td>2923-arzlg</td>\n",
       "      <td>_</td>\n",
       "    </tr>\n",
       "    <tr>\n",
       "      <th>6670</th>\n",
       "      <td>4075-wkniu</td>\n",
       "      <td>_</td>\n",
       "    </tr>\n",
       "    <tr>\n",
       "      <th>6754</th>\n",
       "      <td>2775-sefee</td>\n",
       "      <td>_</td>\n",
       "    </tr>\n",
       "  </tbody>\n",
       "</table>\n",
       "</div>"
      ],
      "text/plain": [
       "      customerid totalcharges\n",
       "488   4472-lvygi            _\n",
       "753   3115-czmzd            _\n",
       "936   5709-lvoeq            _\n",
       "1082  4367-nuyao            _\n",
       "1340  1371-dwpaz            _\n",
       "3331  7644-omvmy            _\n",
       "3826  3213-vvolg            _\n",
       "4380  2520-sgtta            _\n",
       "5218  2923-arzlg            _\n",
       "6670  4075-wkniu            _\n",
       "6754  2775-sefee            _"
      ]
     },
     "execution_count": 8,
     "metadata": {},
     "output_type": "execute_result"
    }
   ],
   "source": [
    "# setting error value to coerce will just return the input value as the output\n",
    "tc = pd.to_numeric(df.totalcharges, errors='coerce')\n",
    "# show the rows in DF that match tc.isnull and just show the two columns we want to see\n",
    "df[tc.isnull()][['customerid', 'totalcharges']]"
   ]
  },
  {
   "cell_type": "code",
   "execution_count": 9,
   "id": "51551d14",
   "metadata": {
    "execution": {
     "iopub.execute_input": "2023-10-16T20:51:55.798746Z",
     "iopub.status.busy": "2023-10-16T20:51:55.798163Z",
     "iopub.status.idle": "2023-10-16T20:51:55.805689Z",
     "shell.execute_reply": "2023-10-16T20:51:55.804868Z"
    },
    "papermill": {
     "duration": 0.032398,
     "end_time": "2023-10-16T20:51:55.807614",
     "exception": false,
     "start_time": "2023-10-16T20:51:55.775216",
     "status": "completed"
    },
    "tags": []
   },
   "outputs": [],
   "source": [
    "df.totalcharges = pd.to_numeric(df.totalcharges, errors='coerce')"
   ]
  },
  {
   "cell_type": "code",
   "execution_count": 10,
   "id": "2126047e",
   "metadata": {
    "execution": {
     "iopub.execute_input": "2023-10-16T20:51:55.851271Z",
     "iopub.status.busy": "2023-10-16T20:51:55.850940Z",
     "iopub.status.idle": "2023-10-16T20:51:55.858325Z",
     "shell.execute_reply": "2023-10-16T20:51:55.857661Z"
    },
    "papermill": {
     "duration": 0.031754,
     "end_time": "2023-10-16T20:51:55.860374",
     "exception": false,
     "start_time": "2023-10-16T20:51:55.828620",
     "status": "completed"
    },
    "tags": []
   },
   "outputs": [
    {
     "data": {
      "text/plain": [
       "0"
      ]
     },
     "execution_count": 10,
     "metadata": {},
     "output_type": "execute_result"
    }
   ],
   "source": [
    "df.totalcharges = df.totalcharges.fillna(0)\n",
    "df.totalcharges.isnull().sum()"
   ]
  },
  {
   "cell_type": "code",
   "execution_count": 11,
   "id": "33f10173",
   "metadata": {
    "execution": {
     "iopub.execute_input": "2023-10-16T20:51:55.905037Z",
     "iopub.status.busy": "2023-10-16T20:51:55.904502Z",
     "iopub.status.idle": "2023-10-16T20:51:55.909718Z",
     "shell.execute_reply": "2023-10-16T20:51:55.908775Z"
    },
    "papermill": {
     "duration": 0.031411,
     "end_time": "2023-10-16T20:51:55.912944",
     "exception": false,
     "start_time": "2023-10-16T20:51:55.881533",
     "status": "completed"
    },
    "tags": []
   },
   "outputs": [],
   "source": [
    "# convert the yes no values into 1 and 0\n",
    "df.churn = (df.churn == 'yes').astype(int)\n"
   ]
  },
  {
   "cell_type": "markdown",
   "id": "fd20941b",
   "metadata": {
    "papermill": {
     "duration": 0.02116,
     "end_time": "2023-10-16T20:51:55.956171",
     "exception": false,
     "start_time": "2023-10-16T20:51:55.935011",
     "status": "completed"
    },
    "tags": []
   },
   "source": [
    "Set up the validaiton framework using Scikit-Learn"
   ]
  },
  {
   "cell_type": "code",
   "execution_count": 12,
   "id": "0e75845d",
   "metadata": {
    "execution": {
     "iopub.execute_input": "2023-10-16T20:51:56.000788Z",
     "iopub.status.busy": "2023-10-16T20:51:56.000418Z",
     "iopub.status.idle": "2023-10-16T20:51:57.351039Z",
     "shell.execute_reply": "2023-10-16T20:51:57.349961Z"
    },
    "papermill": {
     "duration": 1.375541,
     "end_time": "2023-10-16T20:51:57.353356",
     "exception": false,
     "start_time": "2023-10-16T20:51:55.977815",
     "status": "completed"
    },
    "tags": []
   },
   "outputs": [
    {
     "data": {
      "text/plain": [
       "7043"
      ]
     },
     "execution_count": 12,
     "metadata": {},
     "output_type": "execute_result"
    }
   ],
   "source": [
    "from sklearn.model_selection import train_test_split\n",
    "df_full_train, df_test  = train_test_split(df, test_size=0.2, random_state=1)\n",
    "len(df)"
   ]
  },
  {
   "cell_type": "code",
   "execution_count": 13,
   "id": "3076bbfc",
   "metadata": {
    "execution": {
     "iopub.execute_input": "2023-10-16T20:51:57.399395Z",
     "iopub.status.busy": "2023-10-16T20:51:57.399005Z",
     "iopub.status.idle": "2023-10-16T20:51:57.406102Z",
     "shell.execute_reply": "2023-10-16T20:51:57.405019Z"
    },
    "papermill": {
     "duration": 0.032139,
     "end_time": "2023-10-16T20:51:57.408186",
     "exception": false,
     "start_time": "2023-10-16T20:51:57.376047",
     "status": "completed"
    },
    "tags": []
   },
   "outputs": [
    {
     "data": {
      "text/plain": [
       "(5634, 1409)"
      ]
     },
     "execution_count": 13,
     "metadata": {},
     "output_type": "execute_result"
    }
   ],
   "source": [
    "len(df_full_train), len(df_test)"
   ]
  },
  {
   "cell_type": "code",
   "execution_count": 14,
   "id": "b5ebf358",
   "metadata": {
    "execution": {
     "iopub.execute_input": "2023-10-16T20:51:57.452954Z",
     "iopub.status.busy": "2023-10-16T20:51:57.452581Z",
     "iopub.status.idle": "2023-10-16T20:51:57.467740Z",
     "shell.execute_reply": "2023-10-16T20:51:57.466920Z"
    },
    "papermill": {
     "duration": 0.039984,
     "end_time": "2023-10-16T20:51:57.469602",
     "exception": false,
     "start_time": "2023-10-16T20:51:57.429618",
     "status": "completed"
    },
    "tags": []
   },
   "outputs": [
    {
     "data": {
      "text/plain": [
       "(4225, 1409)"
      ]
     },
     "execution_count": 14,
     "metadata": {},
     "output_type": "execute_result"
    }
   ],
   "source": [
    "df_train, df_val = train_test_split(df_full_train, test_size=0.25, random_state=1)\n",
    "len(df_train), len(df_val)"
   ]
  },
  {
   "cell_type": "code",
   "execution_count": 15,
   "id": "b14fd2ac",
   "metadata": {
    "execution": {
     "iopub.execute_input": "2023-10-16T20:51:57.515381Z",
     "iopub.status.busy": "2023-10-16T20:51:57.514972Z",
     "iopub.status.idle": "2023-10-16T20:51:57.551624Z",
     "shell.execute_reply": "2023-10-16T20:51:57.550666Z"
    },
    "papermill": {
     "duration": 0.06196,
     "end_time": "2023-10-16T20:51:57.553977",
     "exception": false,
     "start_time": "2023-10-16T20:51:57.492017",
     "status": "completed"
    },
    "tags": []
   },
   "outputs": [
    {
     "data": {
      "text/html": [
       "<div>\n",
       "<style scoped>\n",
       "    .dataframe tbody tr th:only-of-type {\n",
       "        vertical-align: middle;\n",
       "    }\n",
       "\n",
       "    .dataframe tbody tr th {\n",
       "        vertical-align: top;\n",
       "    }\n",
       "\n",
       "    .dataframe thead th {\n",
       "        text-align: right;\n",
       "    }\n",
       "</style>\n",
       "<table border=\"1\" class=\"dataframe\">\n",
       "  <thead>\n",
       "    <tr style=\"text-align: right;\">\n",
       "      <th></th>\n",
       "      <th>customerid</th>\n",
       "      <th>gender</th>\n",
       "      <th>seniorcitizen</th>\n",
       "      <th>partner</th>\n",
       "      <th>dependents</th>\n",
       "      <th>tenure</th>\n",
       "      <th>phoneservice</th>\n",
       "      <th>multiplelines</th>\n",
       "      <th>internetservice</th>\n",
       "      <th>onlinesecurity</th>\n",
       "      <th>...</th>\n",
       "      <th>deviceprotection</th>\n",
       "      <th>techsupport</th>\n",
       "      <th>streamingtv</th>\n",
       "      <th>streamingmovies</th>\n",
       "      <th>contract</th>\n",
       "      <th>paperlessbilling</th>\n",
       "      <th>paymentmethod</th>\n",
       "      <th>monthlycharges</th>\n",
       "      <th>totalcharges</th>\n",
       "      <th>churn</th>\n",
       "    </tr>\n",
       "  </thead>\n",
       "  <tbody>\n",
       "    <tr>\n",
       "      <th>0</th>\n",
       "      <td>8879-zkjof</td>\n",
       "      <td>female</td>\n",
       "      <td>0</td>\n",
       "      <td>no</td>\n",
       "      <td>no</td>\n",
       "      <td>41</td>\n",
       "      <td>yes</td>\n",
       "      <td>no</td>\n",
       "      <td>dsl</td>\n",
       "      <td>yes</td>\n",
       "      <td>...</td>\n",
       "      <td>yes</td>\n",
       "      <td>yes</td>\n",
       "      <td>yes</td>\n",
       "      <td>yes</td>\n",
       "      <td>one_year</td>\n",
       "      <td>yes</td>\n",
       "      <td>bank_transfer_(automatic)</td>\n",
       "      <td>79.85</td>\n",
       "      <td>3320.75</td>\n",
       "      <td>0</td>\n",
       "    </tr>\n",
       "    <tr>\n",
       "      <th>1</th>\n",
       "      <td>0201-mibol</td>\n",
       "      <td>female</td>\n",
       "      <td>1</td>\n",
       "      <td>no</td>\n",
       "      <td>no</td>\n",
       "      <td>66</td>\n",
       "      <td>yes</td>\n",
       "      <td>yes</td>\n",
       "      <td>fiber_optic</td>\n",
       "      <td>yes</td>\n",
       "      <td>...</td>\n",
       "      <td>no</td>\n",
       "      <td>no</td>\n",
       "      <td>yes</td>\n",
       "      <td>yes</td>\n",
       "      <td>two_year</td>\n",
       "      <td>yes</td>\n",
       "      <td>bank_transfer_(automatic)</td>\n",
       "      <td>102.40</td>\n",
       "      <td>6471.85</td>\n",
       "      <td>0</td>\n",
       "    </tr>\n",
       "    <tr>\n",
       "      <th>2</th>\n",
       "      <td>1600-dilpe</td>\n",
       "      <td>female</td>\n",
       "      <td>0</td>\n",
       "      <td>no</td>\n",
       "      <td>no</td>\n",
       "      <td>12</td>\n",
       "      <td>yes</td>\n",
       "      <td>no</td>\n",
       "      <td>dsl</td>\n",
       "      <td>no</td>\n",
       "      <td>...</td>\n",
       "      <td>no</td>\n",
       "      <td>no</td>\n",
       "      <td>no</td>\n",
       "      <td>no</td>\n",
       "      <td>month-to-month</td>\n",
       "      <td>yes</td>\n",
       "      <td>bank_transfer_(automatic)</td>\n",
       "      <td>45.00</td>\n",
       "      <td>524.35</td>\n",
       "      <td>0</td>\n",
       "    </tr>\n",
       "    <tr>\n",
       "      <th>3</th>\n",
       "      <td>8601-qacrs</td>\n",
       "      <td>female</td>\n",
       "      <td>0</td>\n",
       "      <td>no</td>\n",
       "      <td>no</td>\n",
       "      <td>5</td>\n",
       "      <td>yes</td>\n",
       "      <td>yes</td>\n",
       "      <td>dsl</td>\n",
       "      <td>no</td>\n",
       "      <td>...</td>\n",
       "      <td>no</td>\n",
       "      <td>no</td>\n",
       "      <td>no</td>\n",
       "      <td>no</td>\n",
       "      <td>month-to-month</td>\n",
       "      <td>yes</td>\n",
       "      <td>mailed_check</td>\n",
       "      <td>50.60</td>\n",
       "      <td>249.95</td>\n",
       "      <td>1</td>\n",
       "    </tr>\n",
       "    <tr>\n",
       "      <th>4</th>\n",
       "      <td>7919-zodzz</td>\n",
       "      <td>female</td>\n",
       "      <td>0</td>\n",
       "      <td>yes</td>\n",
       "      <td>yes</td>\n",
       "      <td>10</td>\n",
       "      <td>yes</td>\n",
       "      <td>no</td>\n",
       "      <td>dsl</td>\n",
       "      <td>no</td>\n",
       "      <td>...</td>\n",
       "      <td>yes</td>\n",
       "      <td>no</td>\n",
       "      <td>no</td>\n",
       "      <td>yes</td>\n",
       "      <td>one_year</td>\n",
       "      <td>yes</td>\n",
       "      <td>mailed_check</td>\n",
       "      <td>65.90</td>\n",
       "      <td>660.05</td>\n",
       "      <td>0</td>\n",
       "    </tr>\n",
       "    <tr>\n",
       "      <th>...</th>\n",
       "      <td>...</td>\n",
       "      <td>...</td>\n",
       "      <td>...</td>\n",
       "      <td>...</td>\n",
       "      <td>...</td>\n",
       "      <td>...</td>\n",
       "      <td>...</td>\n",
       "      <td>...</td>\n",
       "      <td>...</td>\n",
       "      <td>...</td>\n",
       "      <td>...</td>\n",
       "      <td>...</td>\n",
       "      <td>...</td>\n",
       "      <td>...</td>\n",
       "      <td>...</td>\n",
       "      <td>...</td>\n",
       "      <td>...</td>\n",
       "      <td>...</td>\n",
       "      <td>...</td>\n",
       "      <td>...</td>\n",
       "      <td>...</td>\n",
       "    </tr>\n",
       "    <tr>\n",
       "      <th>1404</th>\n",
       "      <td>5130-iekqt</td>\n",
       "      <td>male</td>\n",
       "      <td>1</td>\n",
       "      <td>no</td>\n",
       "      <td>no</td>\n",
       "      <td>25</td>\n",
       "      <td>yes</td>\n",
       "      <td>yes</td>\n",
       "      <td>fiber_optic</td>\n",
       "      <td>no</td>\n",
       "      <td>...</td>\n",
       "      <td>yes</td>\n",
       "      <td>no</td>\n",
       "      <td>yes</td>\n",
       "      <td>yes</td>\n",
       "      <td>month-to-month</td>\n",
       "      <td>no</td>\n",
       "      <td>mailed_check</td>\n",
       "      <td>105.95</td>\n",
       "      <td>2655.25</td>\n",
       "      <td>1</td>\n",
       "    </tr>\n",
       "    <tr>\n",
       "      <th>1405</th>\n",
       "      <td>4452-rohmo</td>\n",
       "      <td>female</td>\n",
       "      <td>0</td>\n",
       "      <td>no</td>\n",
       "      <td>no</td>\n",
       "      <td>15</td>\n",
       "      <td>yes</td>\n",
       "      <td>no</td>\n",
       "      <td>no</td>\n",
       "      <td>no_internet_service</td>\n",
       "      <td>...</td>\n",
       "      <td>no_internet_service</td>\n",
       "      <td>no_internet_service</td>\n",
       "      <td>no_internet_service</td>\n",
       "      <td>no_internet_service</td>\n",
       "      <td>two_year</td>\n",
       "      <td>no</td>\n",
       "      <td>mailed_check</td>\n",
       "      <td>19.60</td>\n",
       "      <td>331.60</td>\n",
       "      <td>0</td>\n",
       "    </tr>\n",
       "    <tr>\n",
       "      <th>1406</th>\n",
       "      <td>6164-haqtx</td>\n",
       "      <td>male</td>\n",
       "      <td>0</td>\n",
       "      <td>no</td>\n",
       "      <td>no</td>\n",
       "      <td>71</td>\n",
       "      <td>no</td>\n",
       "      <td>no_phone_service</td>\n",
       "      <td>dsl</td>\n",
       "      <td>yes</td>\n",
       "      <td>...</td>\n",
       "      <td>yes</td>\n",
       "      <td>yes</td>\n",
       "      <td>yes</td>\n",
       "      <td>no</td>\n",
       "      <td>two_year</td>\n",
       "      <td>no</td>\n",
       "      <td>bank_transfer_(automatic)</td>\n",
       "      <td>53.95</td>\n",
       "      <td>3888.65</td>\n",
       "      <td>0</td>\n",
       "    </tr>\n",
       "    <tr>\n",
       "      <th>1407</th>\n",
       "      <td>3982-dqlus</td>\n",
       "      <td>male</td>\n",
       "      <td>1</td>\n",
       "      <td>yes</td>\n",
       "      <td>yes</td>\n",
       "      <td>65</td>\n",
       "      <td>yes</td>\n",
       "      <td>yes</td>\n",
       "      <td>fiber_optic</td>\n",
       "      <td>yes</td>\n",
       "      <td>...</td>\n",
       "      <td>no</td>\n",
       "      <td>no</td>\n",
       "      <td>no</td>\n",
       "      <td>no</td>\n",
       "      <td>month-to-month</td>\n",
       "      <td>yes</td>\n",
       "      <td>electronic_check</td>\n",
       "      <td>85.75</td>\n",
       "      <td>5688.45</td>\n",
       "      <td>0</td>\n",
       "    </tr>\n",
       "    <tr>\n",
       "      <th>1408</th>\n",
       "      <td>9874-qlclh</td>\n",
       "      <td>female</td>\n",
       "      <td>0</td>\n",
       "      <td>yes</td>\n",
       "      <td>yes</td>\n",
       "      <td>17</td>\n",
       "      <td>yes</td>\n",
       "      <td>yes</td>\n",
       "      <td>fiber_optic</td>\n",
       "      <td>yes</td>\n",
       "      <td>...</td>\n",
       "      <td>yes</td>\n",
       "      <td>no</td>\n",
       "      <td>yes</td>\n",
       "      <td>yes</td>\n",
       "      <td>month-to-month</td>\n",
       "      <td>yes</td>\n",
       "      <td>electronic_check</td>\n",
       "      <td>104.20</td>\n",
       "      <td>1743.50</td>\n",
       "      <td>1</td>\n",
       "    </tr>\n",
       "  </tbody>\n",
       "</table>\n",
       "<p>1409 rows × 21 columns</p>\n",
       "</div>"
      ],
      "text/plain": [
       "      customerid  gender  seniorcitizen partner dependents  tenure  \\\n",
       "0     8879-zkjof  female              0      no         no      41   \n",
       "1     0201-mibol  female              1      no         no      66   \n",
       "2     1600-dilpe  female              0      no         no      12   \n",
       "3     8601-qacrs  female              0      no         no       5   \n",
       "4     7919-zodzz  female              0     yes        yes      10   \n",
       "...          ...     ...            ...     ...        ...     ...   \n",
       "1404  5130-iekqt    male              1      no         no      25   \n",
       "1405  4452-rohmo  female              0      no         no      15   \n",
       "1406  6164-haqtx    male              0      no         no      71   \n",
       "1407  3982-dqlus    male              1     yes        yes      65   \n",
       "1408  9874-qlclh  female              0     yes        yes      17   \n",
       "\n",
       "     phoneservice     multiplelines internetservice       onlinesecurity  ...  \\\n",
       "0             yes                no             dsl                  yes  ...   \n",
       "1             yes               yes     fiber_optic                  yes  ...   \n",
       "2             yes                no             dsl                   no  ...   \n",
       "3             yes               yes             dsl                   no  ...   \n",
       "4             yes                no             dsl                   no  ...   \n",
       "...           ...               ...             ...                  ...  ...   \n",
       "1404          yes               yes     fiber_optic                   no  ...   \n",
       "1405          yes                no              no  no_internet_service  ...   \n",
       "1406           no  no_phone_service             dsl                  yes  ...   \n",
       "1407          yes               yes     fiber_optic                  yes  ...   \n",
       "1408          yes               yes     fiber_optic                  yes  ...   \n",
       "\n",
       "         deviceprotection          techsupport          streamingtv  \\\n",
       "0                     yes                  yes                  yes   \n",
       "1                      no                   no                  yes   \n",
       "2                      no                   no                   no   \n",
       "3                      no                   no                   no   \n",
       "4                     yes                   no                   no   \n",
       "...                   ...                  ...                  ...   \n",
       "1404                  yes                   no                  yes   \n",
       "1405  no_internet_service  no_internet_service  no_internet_service   \n",
       "1406                  yes                  yes                  yes   \n",
       "1407                   no                   no                   no   \n",
       "1408                  yes                   no                  yes   \n",
       "\n",
       "          streamingmovies        contract paperlessbilling  \\\n",
       "0                     yes        one_year              yes   \n",
       "1                     yes        two_year              yes   \n",
       "2                      no  month-to-month              yes   \n",
       "3                      no  month-to-month              yes   \n",
       "4                     yes        one_year              yes   \n",
       "...                   ...             ...              ...   \n",
       "1404                  yes  month-to-month               no   \n",
       "1405  no_internet_service        two_year               no   \n",
       "1406                   no        two_year               no   \n",
       "1407                   no  month-to-month              yes   \n",
       "1408                  yes  month-to-month              yes   \n",
       "\n",
       "                  paymentmethod monthlycharges  totalcharges  churn  \n",
       "0     bank_transfer_(automatic)          79.85       3320.75      0  \n",
       "1     bank_transfer_(automatic)         102.40       6471.85      0  \n",
       "2     bank_transfer_(automatic)          45.00        524.35      0  \n",
       "3                  mailed_check          50.60        249.95      1  \n",
       "4                  mailed_check          65.90        660.05      0  \n",
       "...                         ...            ...           ...    ...  \n",
       "1404               mailed_check         105.95       2655.25      1  \n",
       "1405               mailed_check          19.60        331.60      0  \n",
       "1406  bank_transfer_(automatic)          53.95       3888.65      0  \n",
       "1407           electronic_check          85.75       5688.45      0  \n",
       "1408           electronic_check         104.20       1743.50      1  \n",
       "\n",
       "[1409 rows x 21 columns]"
      ]
     },
     "execution_count": 15,
     "metadata": {},
     "output_type": "execute_result"
    }
   ],
   "source": [
    "# get y_values\n",
    "df_train.reset_index(drop=True)\n",
    "df_val.reset_index(drop=True)\n",
    "df_test.reset_index(drop=True)"
   ]
  },
  {
   "cell_type": "code",
   "execution_count": 16,
   "id": "078ec42e",
   "metadata": {
    "execution": {
     "iopub.execute_input": "2023-10-16T20:51:57.601150Z",
     "iopub.status.busy": "2023-10-16T20:51:57.600800Z",
     "iopub.status.idle": "2023-10-16T20:51:57.605746Z",
     "shell.execute_reply": "2023-10-16T20:51:57.604695Z"
    },
    "papermill": {
     "duration": 0.030842,
     "end_time": "2023-10-16T20:51:57.607724",
     "exception": false,
     "start_time": "2023-10-16T20:51:57.576882",
     "status": "completed"
    },
    "tags": []
   },
   "outputs": [],
   "source": [
    "y_train = df_train.churn.values\n",
    "y_test = df_test.churn.values\n",
    "y_val = df_val.churn.values"
   ]
  },
  {
   "cell_type": "code",
   "execution_count": 17,
   "id": "084ec24b",
   "metadata": {
    "execution": {
     "iopub.execute_input": "2023-10-16T20:51:57.655301Z",
     "iopub.status.busy": "2023-10-16T20:51:57.654947Z",
     "iopub.status.idle": "2023-10-16T20:51:57.660848Z",
     "shell.execute_reply": "2023-10-16T20:51:57.659865Z"
    },
    "papermill": {
     "duration": 0.032016,
     "end_time": "2023-10-16T20:51:57.662919",
     "exception": false,
     "start_time": "2023-10-16T20:51:57.630903",
     "status": "completed"
    },
    "tags": []
   },
   "outputs": [],
   "source": [
    "del df_train['churn']\n",
    "del df_val['churn']\n",
    "del df_test['churn']"
   ]
  },
  {
   "cell_type": "code",
   "execution_count": 18,
   "id": "3ec7d14b",
   "metadata": {
    "execution": {
     "iopub.execute_input": "2023-10-16T20:51:57.711326Z",
     "iopub.status.busy": "2023-10-16T20:51:57.710952Z",
     "iopub.status.idle": "2023-10-16T20:51:57.717398Z",
     "shell.execute_reply": "2023-10-16T20:51:57.716331Z"
    },
    "papermill": {
     "duration": 0.032952,
     "end_time": "2023-10-16T20:51:57.719664",
     "exception": false,
     "start_time": "2023-10-16T20:51:57.686712",
     "status": "completed"
    },
    "tags": []
   },
   "outputs": [
    {
     "data": {
      "text/plain": [
       "Index(['customerid', 'gender', 'seniorcitizen', 'partner', 'dependents',\n",
       "       'tenure', 'phoneservice', 'multiplelines', 'internetservice',\n",
       "       'onlinesecurity', 'onlinebackup', 'deviceprotection', 'techsupport',\n",
       "       'streamingtv', 'streamingmovies', 'contract', 'paperlessbilling',\n",
       "       'paymentmethod', 'monthlycharges', 'totalcharges'],\n",
       "      dtype='object')"
      ]
     },
     "execution_count": 18,
     "metadata": {},
     "output_type": "execute_result"
    }
   ],
   "source": [
    "df_train.columns"
   ]
  },
  {
   "cell_type": "markdown",
   "id": "522ca857",
   "metadata": {
    "papermill": {
     "duration": 0.023501,
     "end_time": "2023-10-16T20:51:57.767142",
     "exception": false,
     "start_time": "2023-10-16T20:51:57.743641",
     "status": "completed"
    },
    "tags": []
   },
   "source": [
    "EDA - Exploratory Data Analysiz"
   ]
  },
  {
   "cell_type": "code",
   "execution_count": 19,
   "id": "8722d1f6",
   "metadata": {
    "execution": {
     "iopub.execute_input": "2023-10-16T20:51:57.815929Z",
     "iopub.status.busy": "2023-10-16T20:51:57.814933Z",
     "iopub.status.idle": "2023-10-16T20:51:57.829409Z",
     "shell.execute_reply": "2023-10-16T20:51:57.828614Z"
    },
    "papermill": {
     "duration": 0.041552,
     "end_time": "2023-10-16T20:51:57.831660",
     "exception": false,
     "start_time": "2023-10-16T20:51:57.790108",
     "status": "completed"
    },
    "tags": []
   },
   "outputs": [],
   "source": [
    "df_full_train = df_full_train.reset_index(drop=True)"
   ]
  },
  {
   "cell_type": "code",
   "execution_count": 20,
   "id": "f0b91c56",
   "metadata": {
    "execution": {
     "iopub.execute_input": "2023-10-16T20:51:57.881221Z",
     "iopub.status.busy": "2023-10-16T20:51:57.880530Z",
     "iopub.status.idle": "2023-10-16T20:51:57.892206Z",
     "shell.execute_reply": "2023-10-16T20:51:57.891177Z"
    },
    "papermill": {
     "duration": 0.039536,
     "end_time": "2023-10-16T20:51:57.894289",
     "exception": false,
     "start_time": "2023-10-16T20:51:57.854753",
     "status": "completed"
    },
    "tags": []
   },
   "outputs": [
    {
     "data": {
      "text/plain": [
       "churn\n",
       "0    0.730032\n",
       "1    0.269968\n",
       "Name: proportion, dtype: float64"
      ]
     },
     "execution_count": 20,
     "metadata": {},
     "output_type": "execute_result"
    }
   ],
   "source": [
    "df_full_train.churn.value_counts(normalize=True)\n",
    "# normalize will give us the %, so we can see that the churn rate is 26.9%"
   ]
  },
  {
   "cell_type": "code",
   "execution_count": 21,
   "id": "51b82bf4",
   "metadata": {
    "execution": {
     "iopub.execute_input": "2023-10-16T20:51:57.943731Z",
     "iopub.status.busy": "2023-10-16T20:51:57.942620Z",
     "iopub.status.idle": "2023-10-16T20:51:57.950521Z",
     "shell.execute_reply": "2023-10-16T20:51:57.949499Z"
    },
    "papermill": {
     "duration": 0.034595,
     "end_time": "2023-10-16T20:51:57.952416",
     "exception": false,
     "start_time": "2023-10-16T20:51:57.917821",
     "status": "completed"
    },
    "tags": []
   },
   "outputs": [
    {
     "data": {
      "text/plain": [
       "0.27"
      ]
     },
     "execution_count": 21,
     "metadata": {},
     "output_type": "execute_result"
    }
   ],
   "source": [
    "global_churn_rate = df_full_train.churn.mean()\n",
    "round(global_churn_rate, 2)"
   ]
  },
  {
   "cell_type": "code",
   "execution_count": 22,
   "id": "89823488",
   "metadata": {
    "execution": {
     "iopub.execute_input": "2023-10-16T20:51:57.999507Z",
     "iopub.status.busy": "2023-10-16T20:51:57.999114Z",
     "iopub.status.idle": "2023-10-16T20:51:58.005589Z",
     "shell.execute_reply": "2023-10-16T20:51:58.003726Z"
    },
    "papermill": {
     "duration": 0.033146,
     "end_time": "2023-10-16T20:51:58.008328",
     "exception": false,
     "start_time": "2023-10-16T20:51:57.975182",
     "status": "completed"
    },
    "tags": []
   },
   "outputs": [],
   "source": [
    "numerical = ['tenure', 'monthlycharges', 'totalcharges']"
   ]
  },
  {
   "cell_type": "code",
   "execution_count": 23,
   "id": "8902d31f",
   "metadata": {
    "execution": {
     "iopub.execute_input": "2023-10-16T20:51:58.057859Z",
     "iopub.status.busy": "2023-10-16T20:51:58.057405Z",
     "iopub.status.idle": "2023-10-16T20:51:58.062732Z",
     "shell.execute_reply": "2023-10-16T20:51:58.061706Z"
    },
    "papermill": {
     "duration": 0.031892,
     "end_time": "2023-10-16T20:51:58.065007",
     "exception": false,
     "start_time": "2023-10-16T20:51:58.033115",
     "status": "completed"
    },
    "tags": []
   },
   "outputs": [],
   "source": [
    "\n",
    "df.columns\n",
    "categorical = ['gender', 'seniorcitizen', 'partner', 'dependents', 'phoneservice', 'multiplelines', 'internetservice',\n",
    "       'onlinesecurity', 'onlinebackup', 'deviceprotection', 'techsupport',\n",
    "       'streamingtv', 'streamingmovies', 'contract', 'paperlessbilling',\n",
    "       'paymentmethod']"
   ]
  },
  {
   "cell_type": "code",
   "execution_count": 24,
   "id": "b2ddbc41",
   "metadata": {
    "execution": {
     "iopub.execute_input": "2023-10-16T20:51:58.113307Z",
     "iopub.status.busy": "2023-10-16T20:51:58.112910Z",
     "iopub.status.idle": "2023-10-16T20:51:58.136698Z",
     "shell.execute_reply": "2023-10-16T20:51:58.135698Z"
    },
    "papermill": {
     "duration": 0.051064,
     "end_time": "2023-10-16T20:51:58.139306",
     "exception": false,
     "start_time": "2023-10-16T20:51:58.088242",
     "status": "completed"
    },
    "tags": []
   },
   "outputs": [
    {
     "data": {
      "text/plain": [
       "gender              2\n",
       "seniorcitizen       2\n",
       "partner             2\n",
       "dependents          2\n",
       "phoneservice        2\n",
       "multiplelines       3\n",
       "internetservice     3\n",
       "onlinesecurity      3\n",
       "onlinebackup        3\n",
       "deviceprotection    3\n",
       "techsupport         3\n",
       "streamingtv         3\n",
       "streamingmovies     3\n",
       "contract            3\n",
       "paperlessbilling    2\n",
       "paymentmethod       4\n",
       "dtype: int64"
      ]
     },
     "execution_count": 24,
     "metadata": {},
     "output_type": "execute_result"
    }
   ],
   "source": [
    "df_full_train[categorical].nunique()"
   ]
  },
  {
   "cell_type": "markdown",
   "id": "3cc8fcba",
   "metadata": {
    "papermill": {
     "duration": 0.023061,
     "end_time": "2023-10-16T20:51:58.186572",
     "exception": false,
     "start_time": "2023-10-16T20:51:58.163511",
     "status": "completed"
    },
    "tags": []
   },
   "source": [
    "Feature Importance"
   ]
  },
  {
   "cell_type": "markdown",
   "id": "e233210f",
   "metadata": {
    "papermill": {
     "duration": 0.023183,
     "end_time": "2023-10-16T20:51:58.233206",
     "exception": false,
     "start_time": "2023-10-16T20:51:58.210023",
     "status": "completed"
    },
    "tags": []
   },
   "source": [
    "Churn Rate"
   ]
  },
  {
   "cell_type": "code",
   "execution_count": 25,
   "id": "39a4a2cf",
   "metadata": {
    "execution": {
     "iopub.execute_input": "2023-10-16T20:51:58.282733Z",
     "iopub.status.busy": "2023-10-16T20:51:58.281823Z",
     "iopub.status.idle": "2023-10-16T20:51:58.293910Z",
     "shell.execute_reply": "2023-10-16T20:51:58.292766Z"
    },
    "papermill": {
     "duration": 0.03927,
     "end_time": "2023-10-16T20:51:58.296122",
     "exception": false,
     "start_time": "2023-10-16T20:51:58.256852",
     "status": "completed"
    },
    "tags": []
   },
   "outputs": [
    {
     "data": {
      "text/plain": [
       "0.2632135306553911"
      ]
     },
     "execution_count": 25,
     "metadata": {},
     "output_type": "execute_result"
    }
   ],
   "source": [
    "df_full_train[df_full_train.gender == 'male'].churn.mean()"
   ]
  },
  {
   "cell_type": "code",
   "execution_count": 26,
   "id": "6a7a1146",
   "metadata": {
    "execution": {
     "iopub.execute_input": "2023-10-16T20:51:58.345151Z",
     "iopub.status.busy": "2023-10-16T20:51:58.344810Z",
     "iopub.status.idle": "2023-10-16T20:51:58.355553Z",
     "shell.execute_reply": "2023-10-16T20:51:58.354695Z"
    },
    "papermill": {
     "duration": 0.037596,
     "end_time": "2023-10-16T20:51:58.357556",
     "exception": false,
     "start_time": "2023-10-16T20:51:58.319960",
     "status": "completed"
    },
    "tags": []
   },
   "outputs": [
    {
     "data": {
      "text/plain": [
       "0.27682403433476394"
      ]
     },
     "execution_count": 26,
     "metadata": {},
     "output_type": "execute_result"
    }
   ],
   "source": [
    "df_full_train[df_full_train.gender =='female'].churn.mean()"
   ]
  },
  {
   "cell_type": "code",
   "execution_count": 27,
   "id": "7c738fa4",
   "metadata": {
    "execution": {
     "iopub.execute_input": "2023-10-16T20:51:58.406239Z",
     "iopub.status.busy": "2023-10-16T20:51:58.405628Z",
     "iopub.status.idle": "2023-10-16T20:51:58.411488Z",
     "shell.execute_reply": "2023-10-16T20:51:58.410728Z"
    },
    "papermill": {
     "duration": 0.032322,
     "end_time": "2023-10-16T20:51:58.413370",
     "exception": false,
     "start_time": "2023-10-16T20:51:58.381048",
     "status": "completed"
    },
    "tags": []
   },
   "outputs": [
    {
     "data": {
      "text/plain": [
       "0.26996805111821087"
      ]
     },
     "execution_count": 27,
     "metadata": {},
     "output_type": "execute_result"
    }
   ],
   "source": [
    "df_full_train.churn.mean()"
   ]
  },
  {
   "cell_type": "code",
   "execution_count": 28,
   "id": "72976f78",
   "metadata": {
    "execution": {
     "iopub.execute_input": "2023-10-16T20:51:58.463247Z",
     "iopub.status.busy": "2023-10-16T20:51:58.462576Z",
     "iopub.status.idle": "2023-10-16T20:51:58.471026Z",
     "shell.execute_reply": "2023-10-16T20:51:58.470025Z"
    },
    "papermill": {
     "duration": 0.035839,
     "end_time": "2023-10-16T20:51:58.473436",
     "exception": false,
     "start_time": "2023-10-16T20:51:58.437597",
     "status": "completed"
    },
    "tags": []
   },
   "outputs": [],
   "source": [
    "churn_partner = df_full_train[df_full_train.partner == 'yes'].churn.mean()"
   ]
  },
  {
   "cell_type": "code",
   "execution_count": 29,
   "id": "2f6e7ccd",
   "metadata": {
    "execution": {
     "iopub.execute_input": "2023-10-16T20:51:58.523117Z",
     "iopub.status.busy": "2023-10-16T20:51:58.522736Z",
     "iopub.status.idle": "2023-10-16T20:51:58.533729Z",
     "shell.execute_reply": "2023-10-16T20:51:58.532843Z"
    },
    "papermill": {
     "duration": 0.038732,
     "end_time": "2023-10-16T20:51:58.535768",
     "exception": false,
     "start_time": "2023-10-16T20:51:58.497036",
     "status": "completed"
    },
    "tags": []
   },
   "outputs": [
    {
     "data": {
      "text/plain": [
       "(0.20503330866025166, 0.3298090040927694)"
      ]
     },
     "execution_count": 29,
     "metadata": {},
     "output_type": "execute_result"
    }
   ],
   "source": [
    "churn_no_partner = df_full_train[df_full_train.partner == 'no'].churn.mean()\n",
    "churn_partner, churn_no_partner"
   ]
  },
  {
   "cell_type": "code",
   "execution_count": 30,
   "id": "78a21b1c",
   "metadata": {
    "execution": {
     "iopub.execute_input": "2023-10-16T20:51:58.586602Z",
     "iopub.status.busy": "2023-10-16T20:51:58.586205Z",
     "iopub.status.idle": "2023-10-16T20:51:58.590352Z",
     "shell.execute_reply": "2023-10-16T20:51:58.589389Z"
    },
    "papermill": {
     "duration": 0.031983,
     "end_time": "2023-10-16T20:51:58.592291",
     "exception": false,
     "start_time": "2023-10-16T20:51:58.560308",
     "status": "completed"
    },
    "tags": []
   },
   "outputs": [],
   "source": [
    "# Now we begin to see that Gender does not matter so much in churn rate but for Partner, is matters and is important\n"
   ]
  },
  {
   "cell_type": "markdown",
   "id": "54a1fa43",
   "metadata": {
    "papermill": {
     "duration": 0.023872,
     "end_time": "2023-10-16T20:51:58.640186",
     "exception": false,
     "start_time": "2023-10-16T20:51:58.616314",
     "status": "completed"
    },
    "tags": []
   },
   "source": [
    "Risk Ratio"
   ]
  },
  {
   "cell_type": "code",
   "execution_count": 31,
   "id": "088f67fe",
   "metadata": {
    "execution": {
     "iopub.execute_input": "2023-10-16T20:51:58.690084Z",
     "iopub.status.busy": "2023-10-16T20:51:58.689464Z",
     "iopub.status.idle": "2023-10-16T20:51:58.694838Z",
     "shell.execute_reply": "2023-10-16T20:51:58.694174Z"
    },
    "papermill": {
     "duration": 0.032491,
     "end_time": "2023-10-16T20:51:58.696767",
     "exception": false,
     "start_time": "2023-10-16T20:51:58.664276",
     "status": "completed"
    },
    "tags": []
   },
   "outputs": [
    {
     "data": {
      "text/plain": [
       "1.2216593879412643"
      ]
     },
     "execution_count": 31,
     "metadata": {},
     "output_type": "execute_result"
    }
   ],
   "source": [
    "churn_no_partner / global_churn_rate"
   ]
  },
  {
   "cell_type": "code",
   "execution_count": 32,
   "id": "b6b97d81",
   "metadata": {
    "execution": {
     "iopub.execute_input": "2023-10-16T20:51:58.747610Z",
     "iopub.status.busy": "2023-10-16T20:51:58.746965Z",
     "iopub.status.idle": "2023-10-16T20:51:58.753014Z",
     "shell.execute_reply": "2023-10-16T20:51:58.751809Z"
    },
    "papermill": {
     "duration": 0.034306,
     "end_time": "2023-10-16T20:51:58.755105",
     "exception": false,
     "start_time": "2023-10-16T20:51:58.720799",
     "status": "completed"
    },
    "tags": []
   },
   "outputs": [
    {
     "data": {
      "text/plain": [
       "0.7594724924338315"
      ]
     },
     "execution_count": 32,
     "metadata": {},
     "output_type": "execute_result"
    }
   ],
   "source": [
    "churn_partner / global_churn_rate"
   ]
  },
  {
   "cell_type": "markdown",
   "id": "98182b12",
   "metadata": {
    "papermill": {
     "duration": 0.023547,
     "end_time": "2023-10-16T20:51:58.803108",
     "exception": false,
     "start_time": "2023-10-16T20:51:58.779561",
     "status": "completed"
    },
    "tags": []
   },
   "source": [
    "Doing this in SQL\n",
    "\n",
    "SELECT \n",
    "    gender,\n",
    "    AVG(churn),\n",
    "    AVG(churn) - global_churn as diff,\n",
    "    AVG(churn) / global_churn as risk\n",
    "FROM\n",
    "    data\n",
    "GROUP BY \n",
    "    gender;"
   ]
  },
  {
   "cell_type": "code",
   "execution_count": 33,
   "id": "37958b93",
   "metadata": {
    "execution": {
     "iopub.execute_input": "2023-10-16T20:51:58.854261Z",
     "iopub.status.busy": "2023-10-16T20:51:58.853875Z",
     "iopub.status.idle": "2023-10-16T20:51:58.871990Z",
     "shell.execute_reply": "2023-10-16T20:51:58.870877Z"
    },
    "papermill": {
     "duration": 0.046849,
     "end_time": "2023-10-16T20:51:58.874615",
     "exception": false,
     "start_time": "2023-10-16T20:51:58.827766",
     "status": "completed"
    },
    "tags": []
   },
   "outputs": [
    {
     "data": {
      "text/html": [
       "<div>\n",
       "<style scoped>\n",
       "    .dataframe tbody tr th:only-of-type {\n",
       "        vertical-align: middle;\n",
       "    }\n",
       "\n",
       "    .dataframe tbody tr th {\n",
       "        vertical-align: top;\n",
       "    }\n",
       "\n",
       "    .dataframe thead th {\n",
       "        text-align: right;\n",
       "    }\n",
       "</style>\n",
       "<table border=\"1\" class=\"dataframe\">\n",
       "  <thead>\n",
       "    <tr style=\"text-align: right;\">\n",
       "      <th></th>\n",
       "      <th>mean</th>\n",
       "      <th>count</th>\n",
       "      <th>diff</th>\n",
       "      <th>risk</th>\n",
       "    </tr>\n",
       "    <tr>\n",
       "      <th>gender</th>\n",
       "      <th></th>\n",
       "      <th></th>\n",
       "      <th></th>\n",
       "      <th></th>\n",
       "    </tr>\n",
       "  </thead>\n",
       "  <tbody>\n",
       "    <tr>\n",
       "      <th>female</th>\n",
       "      <td>0.276824</td>\n",
       "      <td>2796</td>\n",
       "      <td>0.006856</td>\n",
       "      <td>1.025396</td>\n",
       "    </tr>\n",
       "    <tr>\n",
       "      <th>male</th>\n",
       "      <td>0.263214</td>\n",
       "      <td>2838</td>\n",
       "      <td>-0.006755</td>\n",
       "      <td>0.974980</td>\n",
       "    </tr>\n",
       "  </tbody>\n",
       "</table>\n",
       "</div>"
      ],
      "text/plain": [
       "            mean  count      diff      risk\n",
       "gender                                     \n",
       "female  0.276824   2796  0.006856  1.025396\n",
       "male    0.263214   2838 -0.006755  0.974980"
      ]
     },
     "execution_count": 33,
     "metadata": {},
     "output_type": "execute_result"
    }
   ],
   "source": [
    "# Lets do that query in Pandas\n",
    "df_group = df_full_train.groupby('gender').churn.agg(['mean', 'count'])\n",
    "df_group['diff'] = df_group['mean'] - global_churn_rate\n",
    "df_group['risk'] = df_group['mean'] / global_churn_rate\n",
    "df_group"
   ]
  },
  {
   "cell_type": "code",
   "execution_count": 34,
   "id": "ebd951ce",
   "metadata": {
    "execution": {
     "iopub.execute_input": "2023-10-16T20:51:58.925943Z",
     "iopub.status.busy": "2023-10-16T20:51:58.925546Z",
     "iopub.status.idle": "2023-10-16T20:51:58.941180Z",
     "shell.execute_reply": "2023-10-16T20:51:58.940036Z"
    },
    "papermill": {
     "duration": 0.044139,
     "end_time": "2023-10-16T20:51:58.943125",
     "exception": false,
     "start_time": "2023-10-16T20:51:58.898986",
     "status": "completed"
    },
    "tags": []
   },
   "outputs": [
    {
     "data": {
      "text/html": [
       "<div>\n",
       "<style scoped>\n",
       "    .dataframe tbody tr th:only-of-type {\n",
       "        vertical-align: middle;\n",
       "    }\n",
       "\n",
       "    .dataframe tbody tr th {\n",
       "        vertical-align: top;\n",
       "    }\n",
       "\n",
       "    .dataframe thead th {\n",
       "        text-align: right;\n",
       "    }\n",
       "</style>\n",
       "<table border=\"1\" class=\"dataframe\">\n",
       "  <thead>\n",
       "    <tr style=\"text-align: right;\">\n",
       "      <th></th>\n",
       "      <th>mean</th>\n",
       "      <th>count</th>\n",
       "      <th>diff</th>\n",
       "      <th>risk</th>\n",
       "    </tr>\n",
       "    <tr>\n",
       "      <th>partner</th>\n",
       "      <th></th>\n",
       "      <th></th>\n",
       "      <th></th>\n",
       "      <th></th>\n",
       "    </tr>\n",
       "  </thead>\n",
       "  <tbody>\n",
       "    <tr>\n",
       "      <th>no</th>\n",
       "      <td>0.329809</td>\n",
       "      <td>2932</td>\n",
       "      <td>0.059841</td>\n",
       "      <td>1.221659</td>\n",
       "    </tr>\n",
       "    <tr>\n",
       "      <th>yes</th>\n",
       "      <td>0.205033</td>\n",
       "      <td>2702</td>\n",
       "      <td>-0.064935</td>\n",
       "      <td>0.759472</td>\n",
       "    </tr>\n",
       "  </tbody>\n",
       "</table>\n",
       "</div>"
      ],
      "text/plain": [
       "             mean  count      diff      risk\n",
       "partner                                     \n",
       "no       0.329809   2932  0.059841  1.221659\n",
       "yes      0.205033   2702 -0.064935  0.759472"
      ]
     },
     "execution_count": 34,
     "metadata": {},
     "output_type": "execute_result"
    }
   ],
   "source": [
    "df_partner_group = df_full_train.groupby('partner').churn.agg(['mean', 'count'])\n",
    "df_partner_group['diff'] = df_partner_group['mean'] - global_churn_rate\n",
    "df_partner_group['risk'] = df_partner_group['mean'] / global_churn_rate\n",
    "df_partner_group"
   ]
  },
  {
   "cell_type": "code",
   "execution_count": 35,
   "id": "cf053730",
   "metadata": {
    "execution": {
     "iopub.execute_input": "2023-10-16T20:51:58.994265Z",
     "iopub.status.busy": "2023-10-16T20:51:58.993253Z",
     "iopub.status.idle": "2023-10-16T20:51:58.997640Z",
     "shell.execute_reply": "2023-10-16T20:51:58.996816Z"
    },
    "papermill": {
     "duration": 0.032177,
     "end_time": "2023-10-16T20:51:58.999781",
     "exception": false,
     "start_time": "2023-10-16T20:51:58.967604",
     "status": "completed"
    },
    "tags": []
   },
   "outputs": [],
   "source": [
    "from IPython.display import display    "
   ]
  },
  {
   "cell_type": "code",
   "execution_count": 36,
   "id": "7173ea5d",
   "metadata": {
    "execution": {
     "iopub.execute_input": "2023-10-16T20:51:59.051988Z",
     "iopub.status.busy": "2023-10-16T20:51:59.051608Z",
     "iopub.status.idle": "2023-10-16T20:51:59.217168Z",
     "shell.execute_reply": "2023-10-16T20:51:59.216131Z"
    },
    "papermill": {
     "duration": 0.194658,
     "end_time": "2023-10-16T20:51:59.219768",
     "exception": false,
     "start_time": "2023-10-16T20:51:59.025110",
     "status": "completed"
    },
    "tags": []
   },
   "outputs": [
    {
     "name": "stdout",
     "output_type": "stream",
     "text": [
      "gender\n"
     ]
    },
    {
     "data": {
      "text/html": [
       "<div>\n",
       "<style scoped>\n",
       "    .dataframe tbody tr th:only-of-type {\n",
       "        vertical-align: middle;\n",
       "    }\n",
       "\n",
       "    .dataframe tbody tr th {\n",
       "        vertical-align: top;\n",
       "    }\n",
       "\n",
       "    .dataframe thead th {\n",
       "        text-align: right;\n",
       "    }\n",
       "</style>\n",
       "<table border=\"1\" class=\"dataframe\">\n",
       "  <thead>\n",
       "    <tr style=\"text-align: right;\">\n",
       "      <th></th>\n",
       "      <th>mean</th>\n",
       "      <th>count</th>\n",
       "      <th>diff</th>\n",
       "      <th>risk</th>\n",
       "    </tr>\n",
       "    <tr>\n",
       "      <th>gender</th>\n",
       "      <th></th>\n",
       "      <th></th>\n",
       "      <th></th>\n",
       "      <th></th>\n",
       "    </tr>\n",
       "  </thead>\n",
       "  <tbody>\n",
       "    <tr>\n",
       "      <th>female</th>\n",
       "      <td>0.276824</td>\n",
       "      <td>2796</td>\n",
       "      <td>0.006856</td>\n",
       "      <td>1.025396</td>\n",
       "    </tr>\n",
       "    <tr>\n",
       "      <th>male</th>\n",
       "      <td>0.263214</td>\n",
       "      <td>2838</td>\n",
       "      <td>-0.006755</td>\n",
       "      <td>0.974980</td>\n",
       "    </tr>\n",
       "  </tbody>\n",
       "</table>\n",
       "</div>"
      ],
      "text/plain": [
       "            mean  count      diff      risk\n",
       "gender                                     \n",
       "female  0.276824   2796  0.006856  1.025396\n",
       "male    0.263214   2838 -0.006755  0.974980"
      ]
     },
     "metadata": {},
     "output_type": "display_data"
    },
    {
     "name": "stdout",
     "output_type": "stream",
     "text": [
      "\n",
      "\n",
      "seniorcitizen\n"
     ]
    },
    {
     "data": {
      "text/html": [
       "<div>\n",
       "<style scoped>\n",
       "    .dataframe tbody tr th:only-of-type {\n",
       "        vertical-align: middle;\n",
       "    }\n",
       "\n",
       "    .dataframe tbody tr th {\n",
       "        vertical-align: top;\n",
       "    }\n",
       "\n",
       "    .dataframe thead th {\n",
       "        text-align: right;\n",
       "    }\n",
       "</style>\n",
       "<table border=\"1\" class=\"dataframe\">\n",
       "  <thead>\n",
       "    <tr style=\"text-align: right;\">\n",
       "      <th></th>\n",
       "      <th>mean</th>\n",
       "      <th>count</th>\n",
       "      <th>diff</th>\n",
       "      <th>risk</th>\n",
       "    </tr>\n",
       "    <tr>\n",
       "      <th>seniorcitizen</th>\n",
       "      <th></th>\n",
       "      <th></th>\n",
       "      <th></th>\n",
       "      <th></th>\n",
       "    </tr>\n",
       "  </thead>\n",
       "  <tbody>\n",
       "    <tr>\n",
       "      <th>0</th>\n",
       "      <td>0.242270</td>\n",
       "      <td>4722</td>\n",
       "      <td>-0.027698</td>\n",
       "      <td>0.897403</td>\n",
       "    </tr>\n",
       "    <tr>\n",
       "      <th>1</th>\n",
       "      <td>0.413377</td>\n",
       "      <td>912</td>\n",
       "      <td>0.143409</td>\n",
       "      <td>1.531208</td>\n",
       "    </tr>\n",
       "  </tbody>\n",
       "</table>\n",
       "</div>"
      ],
      "text/plain": [
       "                   mean  count      diff      risk\n",
       "seniorcitizen                                     \n",
       "0              0.242270   4722 -0.027698  0.897403\n",
       "1              0.413377    912  0.143409  1.531208"
      ]
     },
     "metadata": {},
     "output_type": "display_data"
    },
    {
     "name": "stdout",
     "output_type": "stream",
     "text": [
      "\n",
      "\n",
      "partner\n"
     ]
    },
    {
     "data": {
      "text/html": [
       "<div>\n",
       "<style scoped>\n",
       "    .dataframe tbody tr th:only-of-type {\n",
       "        vertical-align: middle;\n",
       "    }\n",
       "\n",
       "    .dataframe tbody tr th {\n",
       "        vertical-align: top;\n",
       "    }\n",
       "\n",
       "    .dataframe thead th {\n",
       "        text-align: right;\n",
       "    }\n",
       "</style>\n",
       "<table border=\"1\" class=\"dataframe\">\n",
       "  <thead>\n",
       "    <tr style=\"text-align: right;\">\n",
       "      <th></th>\n",
       "      <th>mean</th>\n",
       "      <th>count</th>\n",
       "      <th>diff</th>\n",
       "      <th>risk</th>\n",
       "    </tr>\n",
       "    <tr>\n",
       "      <th>partner</th>\n",
       "      <th></th>\n",
       "      <th></th>\n",
       "      <th></th>\n",
       "      <th></th>\n",
       "    </tr>\n",
       "  </thead>\n",
       "  <tbody>\n",
       "    <tr>\n",
       "      <th>no</th>\n",
       "      <td>0.329809</td>\n",
       "      <td>2932</td>\n",
       "      <td>0.059841</td>\n",
       "      <td>1.221659</td>\n",
       "    </tr>\n",
       "    <tr>\n",
       "      <th>yes</th>\n",
       "      <td>0.205033</td>\n",
       "      <td>2702</td>\n",
       "      <td>-0.064935</td>\n",
       "      <td>0.759472</td>\n",
       "    </tr>\n",
       "  </tbody>\n",
       "</table>\n",
       "</div>"
      ],
      "text/plain": [
       "             mean  count      diff      risk\n",
       "partner                                     \n",
       "no       0.329809   2932  0.059841  1.221659\n",
       "yes      0.205033   2702 -0.064935  0.759472"
      ]
     },
     "metadata": {},
     "output_type": "display_data"
    },
    {
     "name": "stdout",
     "output_type": "stream",
     "text": [
      "\n",
      "\n",
      "dependents\n"
     ]
    },
    {
     "data": {
      "text/html": [
       "<div>\n",
       "<style scoped>\n",
       "    .dataframe tbody tr th:only-of-type {\n",
       "        vertical-align: middle;\n",
       "    }\n",
       "\n",
       "    .dataframe tbody tr th {\n",
       "        vertical-align: top;\n",
       "    }\n",
       "\n",
       "    .dataframe thead th {\n",
       "        text-align: right;\n",
       "    }\n",
       "</style>\n",
       "<table border=\"1\" class=\"dataframe\">\n",
       "  <thead>\n",
       "    <tr style=\"text-align: right;\">\n",
       "      <th></th>\n",
       "      <th>mean</th>\n",
       "      <th>count</th>\n",
       "      <th>diff</th>\n",
       "      <th>risk</th>\n",
       "    </tr>\n",
       "    <tr>\n",
       "      <th>dependents</th>\n",
       "      <th></th>\n",
       "      <th></th>\n",
       "      <th></th>\n",
       "      <th></th>\n",
       "    </tr>\n",
       "  </thead>\n",
       "  <tbody>\n",
       "    <tr>\n",
       "      <th>no</th>\n",
       "      <td>0.313760</td>\n",
       "      <td>3968</td>\n",
       "      <td>0.043792</td>\n",
       "      <td>1.162212</td>\n",
       "    </tr>\n",
       "    <tr>\n",
       "      <th>yes</th>\n",
       "      <td>0.165666</td>\n",
       "      <td>1666</td>\n",
       "      <td>-0.104302</td>\n",
       "      <td>0.613651</td>\n",
       "    </tr>\n",
       "  </tbody>\n",
       "</table>\n",
       "</div>"
      ],
      "text/plain": [
       "                mean  count      diff      risk\n",
       "dependents                                     \n",
       "no          0.313760   3968  0.043792  1.162212\n",
       "yes         0.165666   1666 -0.104302  0.613651"
      ]
     },
     "metadata": {},
     "output_type": "display_data"
    },
    {
     "name": "stdout",
     "output_type": "stream",
     "text": [
      "\n",
      "\n",
      "phoneservice\n"
     ]
    },
    {
     "data": {
      "text/html": [
       "<div>\n",
       "<style scoped>\n",
       "    .dataframe tbody tr th:only-of-type {\n",
       "        vertical-align: middle;\n",
       "    }\n",
       "\n",
       "    .dataframe tbody tr th {\n",
       "        vertical-align: top;\n",
       "    }\n",
       "\n",
       "    .dataframe thead th {\n",
       "        text-align: right;\n",
       "    }\n",
       "</style>\n",
       "<table border=\"1\" class=\"dataframe\">\n",
       "  <thead>\n",
       "    <tr style=\"text-align: right;\">\n",
       "      <th></th>\n",
       "      <th>mean</th>\n",
       "      <th>count</th>\n",
       "      <th>diff</th>\n",
       "      <th>risk</th>\n",
       "    </tr>\n",
       "    <tr>\n",
       "      <th>phoneservice</th>\n",
       "      <th></th>\n",
       "      <th></th>\n",
       "      <th></th>\n",
       "      <th></th>\n",
       "    </tr>\n",
       "  </thead>\n",
       "  <tbody>\n",
       "    <tr>\n",
       "      <th>no</th>\n",
       "      <td>0.241316</td>\n",
       "      <td>547</td>\n",
       "      <td>-0.028652</td>\n",
       "      <td>0.893870</td>\n",
       "    </tr>\n",
       "    <tr>\n",
       "      <th>yes</th>\n",
       "      <td>0.273049</td>\n",
       "      <td>5087</td>\n",
       "      <td>0.003081</td>\n",
       "      <td>1.011412</td>\n",
       "    </tr>\n",
       "  </tbody>\n",
       "</table>\n",
       "</div>"
      ],
      "text/plain": [
       "                  mean  count      diff      risk\n",
       "phoneservice                                     \n",
       "no            0.241316    547 -0.028652  0.893870\n",
       "yes           0.273049   5087  0.003081  1.011412"
      ]
     },
     "metadata": {},
     "output_type": "display_data"
    },
    {
     "name": "stdout",
     "output_type": "stream",
     "text": [
      "\n",
      "\n",
      "multiplelines\n"
     ]
    },
    {
     "data": {
      "text/html": [
       "<div>\n",
       "<style scoped>\n",
       "    .dataframe tbody tr th:only-of-type {\n",
       "        vertical-align: middle;\n",
       "    }\n",
       "\n",
       "    .dataframe tbody tr th {\n",
       "        vertical-align: top;\n",
       "    }\n",
       "\n",
       "    .dataframe thead th {\n",
       "        text-align: right;\n",
       "    }\n",
       "</style>\n",
       "<table border=\"1\" class=\"dataframe\">\n",
       "  <thead>\n",
       "    <tr style=\"text-align: right;\">\n",
       "      <th></th>\n",
       "      <th>mean</th>\n",
       "      <th>count</th>\n",
       "      <th>diff</th>\n",
       "      <th>risk</th>\n",
       "    </tr>\n",
       "    <tr>\n",
       "      <th>multiplelines</th>\n",
       "      <th></th>\n",
       "      <th></th>\n",
       "      <th></th>\n",
       "      <th></th>\n",
       "    </tr>\n",
       "  </thead>\n",
       "  <tbody>\n",
       "    <tr>\n",
       "      <th>no</th>\n",
       "      <td>0.257407</td>\n",
       "      <td>2700</td>\n",
       "      <td>-0.012561</td>\n",
       "      <td>0.953474</td>\n",
       "    </tr>\n",
       "    <tr>\n",
       "      <th>no_phone_service</th>\n",
       "      <td>0.241316</td>\n",
       "      <td>547</td>\n",
       "      <td>-0.028652</td>\n",
       "      <td>0.893870</td>\n",
       "    </tr>\n",
       "    <tr>\n",
       "      <th>yes</th>\n",
       "      <td>0.290742</td>\n",
       "      <td>2387</td>\n",
       "      <td>0.020773</td>\n",
       "      <td>1.076948</td>\n",
       "    </tr>\n",
       "  </tbody>\n",
       "</table>\n",
       "</div>"
      ],
      "text/plain": [
       "                      mean  count      diff      risk\n",
       "multiplelines                                        \n",
       "no                0.257407   2700 -0.012561  0.953474\n",
       "no_phone_service  0.241316    547 -0.028652  0.893870\n",
       "yes               0.290742   2387  0.020773  1.076948"
      ]
     },
     "metadata": {},
     "output_type": "display_data"
    },
    {
     "name": "stdout",
     "output_type": "stream",
     "text": [
      "\n",
      "\n",
      "internetservice\n"
     ]
    },
    {
     "data": {
      "text/html": [
       "<div>\n",
       "<style scoped>\n",
       "    .dataframe tbody tr th:only-of-type {\n",
       "        vertical-align: middle;\n",
       "    }\n",
       "\n",
       "    .dataframe tbody tr th {\n",
       "        vertical-align: top;\n",
       "    }\n",
       "\n",
       "    .dataframe thead th {\n",
       "        text-align: right;\n",
       "    }\n",
       "</style>\n",
       "<table border=\"1\" class=\"dataframe\">\n",
       "  <thead>\n",
       "    <tr style=\"text-align: right;\">\n",
       "      <th></th>\n",
       "      <th>mean</th>\n",
       "      <th>count</th>\n",
       "      <th>diff</th>\n",
       "      <th>risk</th>\n",
       "    </tr>\n",
       "    <tr>\n",
       "      <th>internetservice</th>\n",
       "      <th></th>\n",
       "      <th></th>\n",
       "      <th></th>\n",
       "      <th></th>\n",
       "    </tr>\n",
       "  </thead>\n",
       "  <tbody>\n",
       "    <tr>\n",
       "      <th>dsl</th>\n",
       "      <td>0.192347</td>\n",
       "      <td>1934</td>\n",
       "      <td>-0.077621</td>\n",
       "      <td>0.712482</td>\n",
       "    </tr>\n",
       "    <tr>\n",
       "      <th>fiber_optic</th>\n",
       "      <td>0.425171</td>\n",
       "      <td>2479</td>\n",
       "      <td>0.155203</td>\n",
       "      <td>1.574895</td>\n",
       "    </tr>\n",
       "    <tr>\n",
       "      <th>no</th>\n",
       "      <td>0.077805</td>\n",
       "      <td>1221</td>\n",
       "      <td>-0.192163</td>\n",
       "      <td>0.288201</td>\n",
       "    </tr>\n",
       "  </tbody>\n",
       "</table>\n",
       "</div>"
      ],
      "text/plain": [
       "                     mean  count      diff      risk\n",
       "internetservice                                     \n",
       "dsl              0.192347   1934 -0.077621  0.712482\n",
       "fiber_optic      0.425171   2479  0.155203  1.574895\n",
       "no               0.077805   1221 -0.192163  0.288201"
      ]
     },
     "metadata": {},
     "output_type": "display_data"
    },
    {
     "name": "stdout",
     "output_type": "stream",
     "text": [
      "\n",
      "\n",
      "onlinesecurity\n"
     ]
    },
    {
     "data": {
      "text/html": [
       "<div>\n",
       "<style scoped>\n",
       "    .dataframe tbody tr th:only-of-type {\n",
       "        vertical-align: middle;\n",
       "    }\n",
       "\n",
       "    .dataframe tbody tr th {\n",
       "        vertical-align: top;\n",
       "    }\n",
       "\n",
       "    .dataframe thead th {\n",
       "        text-align: right;\n",
       "    }\n",
       "</style>\n",
       "<table border=\"1\" class=\"dataframe\">\n",
       "  <thead>\n",
       "    <tr style=\"text-align: right;\">\n",
       "      <th></th>\n",
       "      <th>mean</th>\n",
       "      <th>count</th>\n",
       "      <th>diff</th>\n",
       "      <th>risk</th>\n",
       "    </tr>\n",
       "    <tr>\n",
       "      <th>onlinesecurity</th>\n",
       "      <th></th>\n",
       "      <th></th>\n",
       "      <th></th>\n",
       "      <th></th>\n",
       "    </tr>\n",
       "  </thead>\n",
       "  <tbody>\n",
       "    <tr>\n",
       "      <th>no</th>\n",
       "      <td>0.420921</td>\n",
       "      <td>2801</td>\n",
       "      <td>0.150953</td>\n",
       "      <td>1.559152</td>\n",
       "    </tr>\n",
       "    <tr>\n",
       "      <th>no_internet_service</th>\n",
       "      <td>0.077805</td>\n",
       "      <td>1221</td>\n",
       "      <td>-0.192163</td>\n",
       "      <td>0.288201</td>\n",
       "    </tr>\n",
       "    <tr>\n",
       "      <th>yes</th>\n",
       "      <td>0.153226</td>\n",
       "      <td>1612</td>\n",
       "      <td>-0.116742</td>\n",
       "      <td>0.567570</td>\n",
       "    </tr>\n",
       "  </tbody>\n",
       "</table>\n",
       "</div>"
      ],
      "text/plain": [
       "                         mean  count      diff      risk\n",
       "onlinesecurity                                          \n",
       "no                   0.420921   2801  0.150953  1.559152\n",
       "no_internet_service  0.077805   1221 -0.192163  0.288201\n",
       "yes                  0.153226   1612 -0.116742  0.567570"
      ]
     },
     "metadata": {},
     "output_type": "display_data"
    },
    {
     "name": "stdout",
     "output_type": "stream",
     "text": [
      "\n",
      "\n",
      "onlinebackup\n"
     ]
    },
    {
     "data": {
      "text/html": [
       "<div>\n",
       "<style scoped>\n",
       "    .dataframe tbody tr th:only-of-type {\n",
       "        vertical-align: middle;\n",
       "    }\n",
       "\n",
       "    .dataframe tbody tr th {\n",
       "        vertical-align: top;\n",
       "    }\n",
       "\n",
       "    .dataframe thead th {\n",
       "        text-align: right;\n",
       "    }\n",
       "</style>\n",
       "<table border=\"1\" class=\"dataframe\">\n",
       "  <thead>\n",
       "    <tr style=\"text-align: right;\">\n",
       "      <th></th>\n",
       "      <th>mean</th>\n",
       "      <th>count</th>\n",
       "      <th>diff</th>\n",
       "      <th>risk</th>\n",
       "    </tr>\n",
       "    <tr>\n",
       "      <th>onlinebackup</th>\n",
       "      <th></th>\n",
       "      <th></th>\n",
       "      <th></th>\n",
       "      <th></th>\n",
       "    </tr>\n",
       "  </thead>\n",
       "  <tbody>\n",
       "    <tr>\n",
       "      <th>no</th>\n",
       "      <td>0.404323</td>\n",
       "      <td>2498</td>\n",
       "      <td>0.134355</td>\n",
       "      <td>1.497672</td>\n",
       "    </tr>\n",
       "    <tr>\n",
       "      <th>no_internet_service</th>\n",
       "      <td>0.077805</td>\n",
       "      <td>1221</td>\n",
       "      <td>-0.192163</td>\n",
       "      <td>0.288201</td>\n",
       "    </tr>\n",
       "    <tr>\n",
       "      <th>yes</th>\n",
       "      <td>0.217232</td>\n",
       "      <td>1915</td>\n",
       "      <td>-0.052736</td>\n",
       "      <td>0.804660</td>\n",
       "    </tr>\n",
       "  </tbody>\n",
       "</table>\n",
       "</div>"
      ],
      "text/plain": [
       "                         mean  count      diff      risk\n",
       "onlinebackup                                            \n",
       "no                   0.404323   2498  0.134355  1.497672\n",
       "no_internet_service  0.077805   1221 -0.192163  0.288201\n",
       "yes                  0.217232   1915 -0.052736  0.804660"
      ]
     },
     "metadata": {},
     "output_type": "display_data"
    },
    {
     "name": "stdout",
     "output_type": "stream",
     "text": [
      "\n",
      "\n",
      "deviceprotection\n"
     ]
    },
    {
     "data": {
      "text/html": [
       "<div>\n",
       "<style scoped>\n",
       "    .dataframe tbody tr th:only-of-type {\n",
       "        vertical-align: middle;\n",
       "    }\n",
       "\n",
       "    .dataframe tbody tr th {\n",
       "        vertical-align: top;\n",
       "    }\n",
       "\n",
       "    .dataframe thead th {\n",
       "        text-align: right;\n",
       "    }\n",
       "</style>\n",
       "<table border=\"1\" class=\"dataframe\">\n",
       "  <thead>\n",
       "    <tr style=\"text-align: right;\">\n",
       "      <th></th>\n",
       "      <th>mean</th>\n",
       "      <th>count</th>\n",
       "      <th>diff</th>\n",
       "      <th>risk</th>\n",
       "    </tr>\n",
       "    <tr>\n",
       "      <th>deviceprotection</th>\n",
       "      <th></th>\n",
       "      <th></th>\n",
       "      <th></th>\n",
       "      <th></th>\n",
       "    </tr>\n",
       "  </thead>\n",
       "  <tbody>\n",
       "    <tr>\n",
       "      <th>no</th>\n",
       "      <td>0.395875</td>\n",
       "      <td>2473</td>\n",
       "      <td>0.125907</td>\n",
       "      <td>1.466379</td>\n",
       "    </tr>\n",
       "    <tr>\n",
       "      <th>no_internet_service</th>\n",
       "      <td>0.077805</td>\n",
       "      <td>1221</td>\n",
       "      <td>-0.192163</td>\n",
       "      <td>0.288201</td>\n",
       "    </tr>\n",
       "    <tr>\n",
       "      <th>yes</th>\n",
       "      <td>0.230412</td>\n",
       "      <td>1940</td>\n",
       "      <td>-0.039556</td>\n",
       "      <td>0.853480</td>\n",
       "    </tr>\n",
       "  </tbody>\n",
       "</table>\n",
       "</div>"
      ],
      "text/plain": [
       "                         mean  count      diff      risk\n",
       "deviceprotection                                        \n",
       "no                   0.395875   2473  0.125907  1.466379\n",
       "no_internet_service  0.077805   1221 -0.192163  0.288201\n",
       "yes                  0.230412   1940 -0.039556  0.853480"
      ]
     },
     "metadata": {},
     "output_type": "display_data"
    },
    {
     "name": "stdout",
     "output_type": "stream",
     "text": [
      "\n",
      "\n",
      "techsupport\n"
     ]
    },
    {
     "data": {
      "text/html": [
       "<div>\n",
       "<style scoped>\n",
       "    .dataframe tbody tr th:only-of-type {\n",
       "        vertical-align: middle;\n",
       "    }\n",
       "\n",
       "    .dataframe tbody tr th {\n",
       "        vertical-align: top;\n",
       "    }\n",
       "\n",
       "    .dataframe thead th {\n",
       "        text-align: right;\n",
       "    }\n",
       "</style>\n",
       "<table border=\"1\" class=\"dataframe\">\n",
       "  <thead>\n",
       "    <tr style=\"text-align: right;\">\n",
       "      <th></th>\n",
       "      <th>mean</th>\n",
       "      <th>count</th>\n",
       "      <th>diff</th>\n",
       "      <th>risk</th>\n",
       "    </tr>\n",
       "    <tr>\n",
       "      <th>techsupport</th>\n",
       "      <th></th>\n",
       "      <th></th>\n",
       "      <th></th>\n",
       "      <th></th>\n",
       "    </tr>\n",
       "  </thead>\n",
       "  <tbody>\n",
       "    <tr>\n",
       "      <th>no</th>\n",
       "      <td>0.418914</td>\n",
       "      <td>2781</td>\n",
       "      <td>0.148946</td>\n",
       "      <td>1.551717</td>\n",
       "    </tr>\n",
       "    <tr>\n",
       "      <th>no_internet_service</th>\n",
       "      <td>0.077805</td>\n",
       "      <td>1221</td>\n",
       "      <td>-0.192163</td>\n",
       "      <td>0.288201</td>\n",
       "    </tr>\n",
       "    <tr>\n",
       "      <th>yes</th>\n",
       "      <td>0.159926</td>\n",
       "      <td>1632</td>\n",
       "      <td>-0.110042</td>\n",
       "      <td>0.592390</td>\n",
       "    </tr>\n",
       "  </tbody>\n",
       "</table>\n",
       "</div>"
      ],
      "text/plain": [
       "                         mean  count      diff      risk\n",
       "techsupport                                             \n",
       "no                   0.418914   2781  0.148946  1.551717\n",
       "no_internet_service  0.077805   1221 -0.192163  0.288201\n",
       "yes                  0.159926   1632 -0.110042  0.592390"
      ]
     },
     "metadata": {},
     "output_type": "display_data"
    },
    {
     "name": "stdout",
     "output_type": "stream",
     "text": [
      "\n",
      "\n",
      "streamingtv\n"
     ]
    },
    {
     "data": {
      "text/html": [
       "<div>\n",
       "<style scoped>\n",
       "    .dataframe tbody tr th:only-of-type {\n",
       "        vertical-align: middle;\n",
       "    }\n",
       "\n",
       "    .dataframe tbody tr th {\n",
       "        vertical-align: top;\n",
       "    }\n",
       "\n",
       "    .dataframe thead th {\n",
       "        text-align: right;\n",
       "    }\n",
       "</style>\n",
       "<table border=\"1\" class=\"dataframe\">\n",
       "  <thead>\n",
       "    <tr style=\"text-align: right;\">\n",
       "      <th></th>\n",
       "      <th>mean</th>\n",
       "      <th>count</th>\n",
       "      <th>diff</th>\n",
       "      <th>risk</th>\n",
       "    </tr>\n",
       "    <tr>\n",
       "      <th>streamingtv</th>\n",
       "      <th></th>\n",
       "      <th></th>\n",
       "      <th></th>\n",
       "      <th></th>\n",
       "    </tr>\n",
       "  </thead>\n",
       "  <tbody>\n",
       "    <tr>\n",
       "      <th>no</th>\n",
       "      <td>0.342832</td>\n",
       "      <td>2246</td>\n",
       "      <td>0.072864</td>\n",
       "      <td>1.269897</td>\n",
       "    </tr>\n",
       "    <tr>\n",
       "      <th>no_internet_service</th>\n",
       "      <td>0.077805</td>\n",
       "      <td>1221</td>\n",
       "      <td>-0.192163</td>\n",
       "      <td>0.288201</td>\n",
       "    </tr>\n",
       "    <tr>\n",
       "      <th>yes</th>\n",
       "      <td>0.302723</td>\n",
       "      <td>2167</td>\n",
       "      <td>0.032755</td>\n",
       "      <td>1.121328</td>\n",
       "    </tr>\n",
       "  </tbody>\n",
       "</table>\n",
       "</div>"
      ],
      "text/plain": [
       "                         mean  count      diff      risk\n",
       "streamingtv                                             \n",
       "no                   0.342832   2246  0.072864  1.269897\n",
       "no_internet_service  0.077805   1221 -0.192163  0.288201\n",
       "yes                  0.302723   2167  0.032755  1.121328"
      ]
     },
     "metadata": {},
     "output_type": "display_data"
    },
    {
     "name": "stdout",
     "output_type": "stream",
     "text": [
      "\n",
      "\n",
      "streamingmovies\n"
     ]
    },
    {
     "data": {
      "text/html": [
       "<div>\n",
       "<style scoped>\n",
       "    .dataframe tbody tr th:only-of-type {\n",
       "        vertical-align: middle;\n",
       "    }\n",
       "\n",
       "    .dataframe tbody tr th {\n",
       "        vertical-align: top;\n",
       "    }\n",
       "\n",
       "    .dataframe thead th {\n",
       "        text-align: right;\n",
       "    }\n",
       "</style>\n",
       "<table border=\"1\" class=\"dataframe\">\n",
       "  <thead>\n",
       "    <tr style=\"text-align: right;\">\n",
       "      <th></th>\n",
       "      <th>mean</th>\n",
       "      <th>count</th>\n",
       "      <th>diff</th>\n",
       "      <th>risk</th>\n",
       "    </tr>\n",
       "    <tr>\n",
       "      <th>streamingmovies</th>\n",
       "      <th></th>\n",
       "      <th></th>\n",
       "      <th></th>\n",
       "      <th></th>\n",
       "    </tr>\n",
       "  </thead>\n",
       "  <tbody>\n",
       "    <tr>\n",
       "      <th>no</th>\n",
       "      <td>0.338906</td>\n",
       "      <td>2213</td>\n",
       "      <td>0.068938</td>\n",
       "      <td>1.255358</td>\n",
       "    </tr>\n",
       "    <tr>\n",
       "      <th>no_internet_service</th>\n",
       "      <td>0.077805</td>\n",
       "      <td>1221</td>\n",
       "      <td>-0.192163</td>\n",
       "      <td>0.288201</td>\n",
       "    </tr>\n",
       "    <tr>\n",
       "      <th>yes</th>\n",
       "      <td>0.307273</td>\n",
       "      <td>2200</td>\n",
       "      <td>0.037305</td>\n",
       "      <td>1.138182</td>\n",
       "    </tr>\n",
       "  </tbody>\n",
       "</table>\n",
       "</div>"
      ],
      "text/plain": [
       "                         mean  count      diff      risk\n",
       "streamingmovies                                         \n",
       "no                   0.338906   2213  0.068938  1.255358\n",
       "no_internet_service  0.077805   1221 -0.192163  0.288201\n",
       "yes                  0.307273   2200  0.037305  1.138182"
      ]
     },
     "metadata": {},
     "output_type": "display_data"
    },
    {
     "name": "stdout",
     "output_type": "stream",
     "text": [
      "\n",
      "\n",
      "contract\n"
     ]
    },
    {
     "data": {
      "text/html": [
       "<div>\n",
       "<style scoped>\n",
       "    .dataframe tbody tr th:only-of-type {\n",
       "        vertical-align: middle;\n",
       "    }\n",
       "\n",
       "    .dataframe tbody tr th {\n",
       "        vertical-align: top;\n",
       "    }\n",
       "\n",
       "    .dataframe thead th {\n",
       "        text-align: right;\n",
       "    }\n",
       "</style>\n",
       "<table border=\"1\" class=\"dataframe\">\n",
       "  <thead>\n",
       "    <tr style=\"text-align: right;\">\n",
       "      <th></th>\n",
       "      <th>mean</th>\n",
       "      <th>count</th>\n",
       "      <th>diff</th>\n",
       "      <th>risk</th>\n",
       "    </tr>\n",
       "    <tr>\n",
       "      <th>contract</th>\n",
       "      <th></th>\n",
       "      <th></th>\n",
       "      <th></th>\n",
       "      <th></th>\n",
       "    </tr>\n",
       "  </thead>\n",
       "  <tbody>\n",
       "    <tr>\n",
       "      <th>month-to-month</th>\n",
       "      <td>0.431701</td>\n",
       "      <td>3104</td>\n",
       "      <td>0.161733</td>\n",
       "      <td>1.599082</td>\n",
       "    </tr>\n",
       "    <tr>\n",
       "      <th>one_year</th>\n",
       "      <td>0.120573</td>\n",
       "      <td>1186</td>\n",
       "      <td>-0.149395</td>\n",
       "      <td>0.446621</td>\n",
       "    </tr>\n",
       "    <tr>\n",
       "      <th>two_year</th>\n",
       "      <td>0.028274</td>\n",
       "      <td>1344</td>\n",
       "      <td>-0.241694</td>\n",
       "      <td>0.104730</td>\n",
       "    </tr>\n",
       "  </tbody>\n",
       "</table>\n",
       "</div>"
      ],
      "text/plain": [
       "                    mean  count      diff      risk\n",
       "contract                                           \n",
       "month-to-month  0.431701   3104  0.161733  1.599082\n",
       "one_year        0.120573   1186 -0.149395  0.446621\n",
       "two_year        0.028274   1344 -0.241694  0.104730"
      ]
     },
     "metadata": {},
     "output_type": "display_data"
    },
    {
     "name": "stdout",
     "output_type": "stream",
     "text": [
      "\n",
      "\n",
      "paperlessbilling\n"
     ]
    },
    {
     "data": {
      "text/html": [
       "<div>\n",
       "<style scoped>\n",
       "    .dataframe tbody tr th:only-of-type {\n",
       "        vertical-align: middle;\n",
       "    }\n",
       "\n",
       "    .dataframe tbody tr th {\n",
       "        vertical-align: top;\n",
       "    }\n",
       "\n",
       "    .dataframe thead th {\n",
       "        text-align: right;\n",
       "    }\n",
       "</style>\n",
       "<table border=\"1\" class=\"dataframe\">\n",
       "  <thead>\n",
       "    <tr style=\"text-align: right;\">\n",
       "      <th></th>\n",
       "      <th>mean</th>\n",
       "      <th>count</th>\n",
       "      <th>diff</th>\n",
       "      <th>risk</th>\n",
       "    </tr>\n",
       "    <tr>\n",
       "      <th>paperlessbilling</th>\n",
       "      <th></th>\n",
       "      <th></th>\n",
       "      <th></th>\n",
       "      <th></th>\n",
       "    </tr>\n",
       "  </thead>\n",
       "  <tbody>\n",
       "    <tr>\n",
       "      <th>no</th>\n",
       "      <td>0.172071</td>\n",
       "      <td>2313</td>\n",
       "      <td>-0.097897</td>\n",
       "      <td>0.637375</td>\n",
       "    </tr>\n",
       "    <tr>\n",
       "      <th>yes</th>\n",
       "      <td>0.338151</td>\n",
       "      <td>3321</td>\n",
       "      <td>0.068183</td>\n",
       "      <td>1.252560</td>\n",
       "    </tr>\n",
       "  </tbody>\n",
       "</table>\n",
       "</div>"
      ],
      "text/plain": [
       "                      mean  count      diff      risk\n",
       "paperlessbilling                                     \n",
       "no                0.172071   2313 -0.097897  0.637375\n",
       "yes               0.338151   3321  0.068183  1.252560"
      ]
     },
     "metadata": {},
     "output_type": "display_data"
    },
    {
     "name": "stdout",
     "output_type": "stream",
     "text": [
      "\n",
      "\n",
      "paymentmethod\n"
     ]
    },
    {
     "data": {
      "text/html": [
       "<div>\n",
       "<style scoped>\n",
       "    .dataframe tbody tr th:only-of-type {\n",
       "        vertical-align: middle;\n",
       "    }\n",
       "\n",
       "    .dataframe tbody tr th {\n",
       "        vertical-align: top;\n",
       "    }\n",
       "\n",
       "    .dataframe thead th {\n",
       "        text-align: right;\n",
       "    }\n",
       "</style>\n",
       "<table border=\"1\" class=\"dataframe\">\n",
       "  <thead>\n",
       "    <tr style=\"text-align: right;\">\n",
       "      <th></th>\n",
       "      <th>mean</th>\n",
       "      <th>count</th>\n",
       "      <th>diff</th>\n",
       "      <th>risk</th>\n",
       "    </tr>\n",
       "    <tr>\n",
       "      <th>paymentmethod</th>\n",
       "      <th></th>\n",
       "      <th></th>\n",
       "      <th></th>\n",
       "      <th></th>\n",
       "    </tr>\n",
       "  </thead>\n",
       "  <tbody>\n",
       "    <tr>\n",
       "      <th>bank_transfer_(automatic)</th>\n",
       "      <td>0.168171</td>\n",
       "      <td>1219</td>\n",
       "      <td>-0.101797</td>\n",
       "      <td>0.622928</td>\n",
       "    </tr>\n",
       "    <tr>\n",
       "      <th>credit_card_(automatic)</th>\n",
       "      <td>0.164339</td>\n",
       "      <td>1217</td>\n",
       "      <td>-0.105630</td>\n",
       "      <td>0.608733</td>\n",
       "    </tr>\n",
       "    <tr>\n",
       "      <th>electronic_check</th>\n",
       "      <td>0.455890</td>\n",
       "      <td>1893</td>\n",
       "      <td>0.185922</td>\n",
       "      <td>1.688682</td>\n",
       "    </tr>\n",
       "    <tr>\n",
       "      <th>mailed_check</th>\n",
       "      <td>0.193870</td>\n",
       "      <td>1305</td>\n",
       "      <td>-0.076098</td>\n",
       "      <td>0.718121</td>\n",
       "    </tr>\n",
       "  </tbody>\n",
       "</table>\n",
       "</div>"
      ],
      "text/plain": [
       "                               mean  count      diff      risk\n",
       "paymentmethod                                                 \n",
       "bank_transfer_(automatic)  0.168171   1219 -0.101797  0.622928\n",
       "credit_card_(automatic)    0.164339   1217 -0.105630  0.608733\n",
       "electronic_check           0.455890   1893  0.185922  1.688682\n",
       "mailed_check               0.193870   1305 -0.076098  0.718121"
      ]
     },
     "metadata": {},
     "output_type": "display_data"
    },
    {
     "name": "stdout",
     "output_type": "stream",
     "text": [
      "\n",
      "\n"
     ]
    }
   ],
   "source": [
    "for c in categorical:\n",
    "    print(c)\n",
    "    df_group = df_full_train.groupby(c).churn.agg(['mean', 'count'])\n",
    "    df_group['diff'] = df_group['mean'] - global_churn_rate\n",
    "    df_group['risk'] = df_group['mean'] / global_churn_rate\n",
    "    display(df_group)\n",
    "    print()\n",
    "    print()"
   ]
  },
  {
   "cell_type": "markdown",
   "id": "41c38d6f",
   "metadata": {
    "papermill": {
     "duration": 0.028254,
     "end_time": "2023-10-16T20:51:59.275876",
     "exception": false,
     "start_time": "2023-10-16T20:51:59.247622",
     "status": "completed"
    },
    "tags": []
   },
   "source": [
    "Feature Importance: Mutual Information"
   ]
  },
  {
   "cell_type": "code",
   "execution_count": 37,
   "id": "ae7bb1fd",
   "metadata": {
    "execution": {
     "iopub.execute_input": "2023-10-16T20:51:59.334104Z",
     "iopub.status.busy": "2023-10-16T20:51:59.333746Z",
     "iopub.status.idle": "2023-10-16T20:51:59.339391Z",
     "shell.execute_reply": "2023-10-16T20:51:59.338298Z"
    },
    "papermill": {
     "duration": 0.036754,
     "end_time": "2023-10-16T20:51:59.341503",
     "exception": false,
     "start_time": "2023-10-16T20:51:59.304749",
     "status": "completed"
    },
    "tags": []
   },
   "outputs": [],
   "source": [
    "from sklearn.metrics import mutual_info_score"
   ]
  },
  {
   "cell_type": "code",
   "execution_count": 38,
   "id": "6146833e",
   "metadata": {
    "execution": {
     "iopub.execute_input": "2023-10-16T20:51:59.401187Z",
     "iopub.status.busy": "2023-10-16T20:51:59.400797Z",
     "iopub.status.idle": "2023-10-16T20:51:59.620297Z",
     "shell.execute_reply": "2023-10-16T20:51:59.619450Z"
    },
    "papermill": {
     "duration": 0.251378,
     "end_time": "2023-10-16T20:51:59.622285",
     "exception": false,
     "start_time": "2023-10-16T20:51:59.370907",
     "status": "completed"
    },
    "tags": []
   },
   "outputs": [
    {
     "name": "stdout",
     "output_type": "stream",
     "text": [
      "gender\n"
     ]
    },
    {
     "data": {
      "text/plain": [
       "0.0001174846211139946"
      ]
     },
     "metadata": {},
     "output_type": "display_data"
    },
    {
     "name": "stdout",
     "output_type": "stream",
     "text": [
      "\n",
      "seniorcitizen\n"
     ]
    },
    {
     "data": {
      "text/plain": [
       "0.009410216144208144"
      ]
     },
     "metadata": {},
     "output_type": "display_data"
    },
    {
     "name": "stdout",
     "output_type": "stream",
     "text": [
      "\n",
      "partner\n"
     ]
    },
    {
     "data": {
      "text/plain": [
       "0.009967689095399745"
      ]
     },
     "metadata": {},
     "output_type": "display_data"
    },
    {
     "name": "stdout",
     "output_type": "stream",
     "text": [
      "\n",
      "dependents\n"
     ]
    },
    {
     "data": {
      "text/plain": [
       "0.012345815445534689"
      ]
     },
     "metadata": {},
     "output_type": "display_data"
    },
    {
     "name": "stdout",
     "output_type": "stream",
     "text": [
      "\n",
      "phoneservice\n"
     ]
    },
    {
     "data": {
      "text/plain": [
       "0.00022871269738296285"
      ]
     },
     "metadata": {},
     "output_type": "display_data"
    },
    {
     "name": "stdout",
     "output_type": "stream",
     "text": [
      "\n",
      "multiplelines\n"
     ]
    },
    {
     "data": {
      "text/plain": [
       "0.0008574478744731856"
      ]
     },
     "metadata": {},
     "output_type": "display_data"
    },
    {
     "name": "stdout",
     "output_type": "stream",
     "text": [
      "\n",
      "internetservice\n"
     ]
    },
    {
     "data": {
      "text/plain": [
       "0.055867945893496467"
      ]
     },
     "metadata": {},
     "output_type": "display_data"
    },
    {
     "name": "stdout",
     "output_type": "stream",
     "text": [
      "\n",
      "onlinesecurity\n"
     ]
    },
    {
     "data": {
      "text/plain": [
       "0.06308524972985574"
      ]
     },
     "metadata": {},
     "output_type": "display_data"
    },
    {
     "name": "stdout",
     "output_type": "stream",
     "text": [
      "\n",
      "onlinebackup\n"
     ]
    },
    {
     "data": {
      "text/plain": [
       "0.0469234640537918"
      ]
     },
     "metadata": {},
     "output_type": "display_data"
    },
    {
     "name": "stdout",
     "output_type": "stream",
     "text": [
      "\n",
      "deviceprotection\n"
     ]
    },
    {
     "data": {
      "text/plain": [
       "0.04345286925268559"
      ]
     },
     "metadata": {},
     "output_type": "display_data"
    },
    {
     "name": "stdout",
     "output_type": "stream",
     "text": [
      "\n",
      "techsupport\n"
     ]
    },
    {
     "data": {
      "text/plain": [
       "0.06103245991777444"
      ]
     },
     "metadata": {},
     "output_type": "display_data"
    },
    {
     "name": "stdout",
     "output_type": "stream",
     "text": [
      "\n",
      "streamingtv\n"
     ]
    },
    {
     "data": {
      "text/plain": [
       "0.03185333110086085"
      ]
     },
     "metadata": {},
     "output_type": "display_data"
    },
    {
     "name": "stdout",
     "output_type": "stream",
     "text": [
      "\n",
      "streamingmovies\n"
     ]
    },
    {
     "data": {
      "text/plain": [
       "0.03158089669519908"
      ]
     },
     "metadata": {},
     "output_type": "display_data"
    },
    {
     "name": "stdout",
     "output_type": "stream",
     "text": [
      "\n",
      "contract\n"
     ]
    },
    {
     "data": {
      "text/plain": [
       "0.0983203874041556"
      ]
     },
     "metadata": {},
     "output_type": "display_data"
    },
    {
     "name": "stdout",
     "output_type": "stream",
     "text": [
      "\n",
      "paperlessbilling\n"
     ]
    },
    {
     "data": {
      "text/plain": [
       "0.01758882715925275"
      ]
     },
     "metadata": {},
     "output_type": "display_data"
    },
    {
     "name": "stdout",
     "output_type": "stream",
     "text": [
      "\n",
      "paymentmethod\n"
     ]
    },
    {
     "data": {
      "text/plain": [
       "0.043210027531582915"
      ]
     },
     "metadata": {},
     "output_type": "display_data"
    },
    {
     "name": "stdout",
     "output_type": "stream",
     "text": [
      "\n"
     ]
    }
   ],
   "source": [
    "for c in categorical:\n",
    "    print(c)\n",
    "    score = mutual_info_score(df_full_train[c], df_full_train['churn'])\n",
    "    display(score)\n",
    "    print()"
   ]
  },
  {
   "cell_type": "code",
   "execution_count": 39,
   "id": "774de478",
   "metadata": {
    "execution": {
     "iopub.execute_input": "2023-10-16T20:51:59.685028Z",
     "iopub.status.busy": "2023-10-16T20:51:59.684403Z",
     "iopub.status.idle": "2023-10-16T20:51:59.689210Z",
     "shell.execute_reply": "2023-10-16T20:51:59.688168Z"
    },
    "papermill": {
     "duration": 0.038844,
     "end_time": "2023-10-16T20:51:59.691317",
     "exception": false,
     "start_time": "2023-10-16T20:51:59.652473",
     "status": "completed"
    },
    "tags": []
   },
   "outputs": [],
   "source": [
    "# We can also define this as a function and apply it to out data frame using df.frame()\n",
    "def mutual_info_churn_score(series):\n",
    "    return mutual_info_score(series, df_full_train.churn)\n",
    "\n"
   ]
  },
  {
   "cell_type": "code",
   "execution_count": 40,
   "id": "3ab80005",
   "metadata": {
    "execution": {
     "iopub.execute_input": "2023-10-16T20:51:59.753403Z",
     "iopub.status.busy": "2023-10-16T20:51:59.753041Z",
     "iopub.status.idle": "2023-10-16T20:51:59.911392Z",
     "shell.execute_reply": "2023-10-16T20:51:59.910391Z"
    },
    "papermill": {
     "duration": 0.192763,
     "end_time": "2023-10-16T20:51:59.914032",
     "exception": false,
     "start_time": "2023-10-16T20:51:59.721269",
     "status": "completed"
    },
    "tags": []
   },
   "outputs": [
    {
     "data": {
      "text/html": [
       "<div>\n",
       "<style scoped>\n",
       "    .dataframe tbody tr th:only-of-type {\n",
       "        vertical-align: middle;\n",
       "    }\n",
       "\n",
       "    .dataframe tbody tr th {\n",
       "        vertical-align: top;\n",
       "    }\n",
       "\n",
       "    .dataframe thead th {\n",
       "        text-align: right;\n",
       "    }\n",
       "</style>\n",
       "<table border=\"1\" class=\"dataframe\">\n",
       "  <thead>\n",
       "    <tr style=\"text-align: right;\">\n",
       "      <th></th>\n",
       "      <th>MI Score</th>\n",
       "    </tr>\n",
       "  </thead>\n",
       "  <tbody>\n",
       "    <tr>\n",
       "      <th>contract</th>\n",
       "      <td>0.098320</td>\n",
       "    </tr>\n",
       "    <tr>\n",
       "      <th>onlinesecurity</th>\n",
       "      <td>0.063085</td>\n",
       "    </tr>\n",
       "    <tr>\n",
       "      <th>techsupport</th>\n",
       "      <td>0.061032</td>\n",
       "    </tr>\n",
       "    <tr>\n",
       "      <th>internetservice</th>\n",
       "      <td>0.055868</td>\n",
       "    </tr>\n",
       "    <tr>\n",
       "      <th>onlinebackup</th>\n",
       "      <td>0.046923</td>\n",
       "    </tr>\n",
       "    <tr>\n",
       "      <th>deviceprotection</th>\n",
       "      <td>0.043453</td>\n",
       "    </tr>\n",
       "    <tr>\n",
       "      <th>paymentmethod</th>\n",
       "      <td>0.043210</td>\n",
       "    </tr>\n",
       "    <tr>\n",
       "      <th>streamingtv</th>\n",
       "      <td>0.031853</td>\n",
       "    </tr>\n",
       "    <tr>\n",
       "      <th>streamingmovies</th>\n",
       "      <td>0.031581</td>\n",
       "    </tr>\n",
       "    <tr>\n",
       "      <th>paperlessbilling</th>\n",
       "      <td>0.017589</td>\n",
       "    </tr>\n",
       "    <tr>\n",
       "      <th>dependents</th>\n",
       "      <td>0.012346</td>\n",
       "    </tr>\n",
       "    <tr>\n",
       "      <th>partner</th>\n",
       "      <td>0.009968</td>\n",
       "    </tr>\n",
       "    <tr>\n",
       "      <th>seniorcitizen</th>\n",
       "      <td>0.009410</td>\n",
       "    </tr>\n",
       "    <tr>\n",
       "      <th>multiplelines</th>\n",
       "      <td>0.000857</td>\n",
       "    </tr>\n",
       "    <tr>\n",
       "      <th>phoneservice</th>\n",
       "      <td>0.000229</td>\n",
       "    </tr>\n",
       "    <tr>\n",
       "      <th>gender</th>\n",
       "      <td>0.000117</td>\n",
       "    </tr>\n",
       "  </tbody>\n",
       "</table>\n",
       "</div>"
      ],
      "text/plain": [
       "                  MI Score\n",
       "contract          0.098320\n",
       "onlinesecurity    0.063085\n",
       "techsupport       0.061032\n",
       "internetservice   0.055868\n",
       "onlinebackup      0.046923\n",
       "deviceprotection  0.043453\n",
       "paymentmethod     0.043210\n",
       "streamingtv       0.031853\n",
       "streamingmovies   0.031581\n",
       "paperlessbilling  0.017589\n",
       "dependents        0.012346\n",
       "partner           0.009968\n",
       "seniorcitizen     0.009410\n",
       "multiplelines     0.000857\n",
       "phoneservice      0.000229\n",
       "gender            0.000117"
      ]
     },
     "execution_count": 40,
     "metadata": {},
     "output_type": "execute_result"
    }
   ],
   "source": [
    "# df[x].apply(y) = apply a function Y to the X series of the DF \n",
    "mi = df_full_train[categorical].apply(mutual_info_churn_score)\n",
    "mi.sort_values(ascending=False).to_frame(name='MI Score')"
   ]
  },
  {
   "cell_type": "markdown",
   "id": "c300a563",
   "metadata": {
    "papermill": {
     "duration": 0.03028,
     "end_time": "2023-10-16T20:51:59.975635",
     "exception": false,
     "start_time": "2023-10-16T20:51:59.945355",
     "status": "completed"
    },
    "tags": []
   },
   "source": [
    "Feature Importance\n",
    "Correlation - Numerical Columns"
   ]
  },
  {
   "cell_type": "code",
   "execution_count": 41,
   "id": "66b5cbc7",
   "metadata": {
    "execution": {
     "iopub.execute_input": "2023-10-16T20:52:00.038756Z",
     "iopub.status.busy": "2023-10-16T20:52:00.038137Z",
     "iopub.status.idle": "2023-10-16T20:52:00.045024Z",
     "shell.execute_reply": "2023-10-16T20:52:00.043995Z"
    },
    "papermill": {
     "duration": 0.040667,
     "end_time": "2023-10-16T20:52:00.047002",
     "exception": false,
     "start_time": "2023-10-16T20:52:00.006335",
     "status": "completed"
    },
    "tags": []
   },
   "outputs": [
    {
     "data": {
      "text/plain": [
       "Index(['tenure', 'monthlycharges', 'totalcharges'], dtype='object')"
      ]
     },
     "execution_count": 41,
     "metadata": {},
     "output_type": "execute_result"
    }
   ],
   "source": [
    "df_full_train[numerical].columns"
   ]
  },
  {
   "cell_type": "code",
   "execution_count": 42,
   "id": "4f56a13f",
   "metadata": {
    "execution": {
     "iopub.execute_input": "2023-10-16T20:52:00.108823Z",
     "iopub.status.busy": "2023-10-16T20:52:00.108393Z",
     "iopub.status.idle": "2023-10-16T20:52:00.122750Z",
     "shell.execute_reply": "2023-10-16T20:52:00.121663Z"
    },
    "papermill": {
     "duration": 0.048124,
     "end_time": "2023-10-16T20:52:00.125052",
     "exception": false,
     "start_time": "2023-10-16T20:52:00.076928",
     "status": "completed"
    },
    "tags": []
   },
   "outputs": [
    {
     "data": {
      "text/plain": [
       "tenure           -0.351885\n",
       "monthlycharges    0.196805\n",
       "totalcharges     -0.196353\n",
       "dtype: float64"
      ]
     },
     "execution_count": 42,
     "metadata": {},
     "output_type": "execute_result"
    }
   ],
   "source": [
    "df_full_train[numerical].corrwith(df_full_train.churn)"
   ]
  },
  {
   "cell_type": "code",
   "execution_count": 43,
   "id": "adc96fd9",
   "metadata": {
    "execution": {
     "iopub.execute_input": "2023-10-16T20:52:00.188278Z",
     "iopub.status.busy": "2023-10-16T20:52:00.187929Z",
     "iopub.status.idle": "2023-10-16T20:52:00.196184Z",
     "shell.execute_reply": "2023-10-16T20:52:00.195051Z"
    },
    "papermill": {
     "duration": 0.042598,
     "end_time": "2023-10-16T20:52:00.198138",
     "exception": false,
     "start_time": "2023-10-16T20:52:00.155540",
     "status": "completed"
    },
    "tags": []
   },
   "outputs": [
    {
     "data": {
      "text/plain": [
       "0.5953420669577875"
      ]
     },
     "execution_count": 43,
     "metadata": {},
     "output_type": "execute_result"
    }
   ],
   "source": [
    "# check churn for tenure\n",
    "df_full_train[df_full_train.tenure <= 2].churn.mean()"
   ]
  },
  {
   "cell_type": "code",
   "execution_count": 44,
   "id": "77224ad0",
   "metadata": {
    "execution": {
     "iopub.execute_input": "2023-10-16T20:52:00.261067Z",
     "iopub.status.busy": "2023-10-16T20:52:00.260715Z",
     "iopub.status.idle": "2023-10-16T20:52:00.270500Z",
     "shell.execute_reply": "2023-10-16T20:52:00.269501Z"
    },
    "papermill": {
     "duration": 0.043954,
     "end_time": "2023-10-16T20:52:00.272612",
     "exception": false,
     "start_time": "2023-10-16T20:52:00.228658",
     "status": "completed"
    },
    "tags": []
   },
   "outputs": [
    {
     "data": {
      "text/plain": [
       "0.3994413407821229"
      ]
     },
     "execution_count": 44,
     "metadata": {},
     "output_type": "execute_result"
    }
   ],
   "source": [
    "df_full_train[(df_full_train.tenure > 2) & (df_full_train.tenure  <= 12)].churn.mean()"
   ]
  },
  {
   "cell_type": "code",
   "execution_count": 45,
   "id": "f74f8833",
   "metadata": {
    "execution": {
     "iopub.execute_input": "2023-10-16T20:52:00.342044Z",
     "iopub.status.busy": "2023-10-16T20:52:00.341412Z",
     "iopub.status.idle": "2023-10-16T20:52:00.355988Z",
     "shell.execute_reply": "2023-10-16T20:52:00.355236Z"
    },
    "papermill": {
     "duration": 0.055907,
     "end_time": "2023-10-16T20:52:00.359093",
     "exception": false,
     "start_time": "2023-10-16T20:52:00.303186",
     "status": "completed"
    },
    "tags": []
   },
   "outputs": [
    {
     "data": {
      "text/plain": [
       "0.17634908339788277"
      ]
     },
     "execution_count": 45,
     "metadata": {},
     "output_type": "execute_result"
    }
   ],
   "source": [
    "df_full_train[df_full_train.tenure > 12].churn.mean()"
   ]
  },
  {
   "cell_type": "code",
   "execution_count": 46,
   "id": "de902dd9",
   "metadata": {
    "execution": {
     "iopub.execute_input": "2023-10-16T20:52:00.428145Z",
     "iopub.status.busy": "2023-10-16T20:52:00.427580Z",
     "iopub.status.idle": "2023-10-16T20:52:00.434300Z",
     "shell.execute_reply": "2023-10-16T20:52:00.433521Z"
    },
    "papermill": {
     "duration": 0.042626,
     "end_time": "2023-10-16T20:52:00.436172",
     "exception": false,
     "start_time": "2023-10-16T20:52:00.393546",
     "status": "completed"
    },
    "tags": []
   },
   "outputs": [
    {
     "data": {
      "text/plain": [
       "0.08829568788501027"
      ]
     },
     "execution_count": 46,
     "metadata": {},
     "output_type": "execute_result"
    }
   ],
   "source": [
    "df_full_train[df_full_train.monthlycharges < 20].churn.mean()"
   ]
  },
  {
   "cell_type": "code",
   "execution_count": 47,
   "id": "55954ce6",
   "metadata": {
    "execution": {
     "iopub.execute_input": "2023-10-16T20:52:00.509099Z",
     "iopub.status.busy": "2023-10-16T20:52:00.507902Z",
     "iopub.status.idle": "2023-10-16T20:52:00.524999Z",
     "shell.execute_reply": "2023-10-16T20:52:00.523858Z"
    },
    "papermill": {
     "duration": 0.057632,
     "end_time": "2023-10-16T20:52:00.527210",
     "exception": false,
     "start_time": "2023-10-16T20:52:00.469578",
     "status": "completed"
    },
    "tags": []
   },
   "outputs": [
    {
     "data": {
      "text/plain": [
       "0.28859323028761497"
      ]
     },
     "execution_count": 47,
     "metadata": {},
     "output_type": "execute_result"
    }
   ],
   "source": [
    "df_full_train[df_full_train.monthlycharges > 20].churn.mean()"
   ]
  },
  {
   "cell_type": "markdown",
   "id": "cf1735a0",
   "metadata": {
    "papermill": {
     "duration": 0.046804,
     "end_time": "2023-10-16T20:52:00.615038",
     "exception": false,
     "start_time": "2023-10-16T20:52:00.568234",
     "status": "completed"
    },
    "tags": []
   },
   "source": [
    "One Hot Encoding"
   ]
  },
  {
   "cell_type": "code",
   "execution_count": 48,
   "id": "1f17bcd3",
   "metadata": {
    "execution": {
     "iopub.execute_input": "2023-10-16T20:52:00.703570Z",
     "iopub.status.busy": "2023-10-16T20:52:00.703181Z",
     "iopub.status.idle": "2023-10-16T20:52:00.722331Z",
     "shell.execute_reply": "2023-10-16T20:52:00.721553Z"
    },
    "papermill": {
     "duration": 0.0576,
     "end_time": "2023-10-16T20:52:00.724803",
     "exception": false,
     "start_time": "2023-10-16T20:52:00.667203",
     "status": "completed"
    },
    "tags": []
   },
   "outputs": [],
   "source": [
    "# Done with Scikit-learn instead of manually\n",
    "from sklearn.feature_extraction import DictVectorizer"
   ]
  },
  {
   "cell_type": "code",
   "execution_count": null,
   "id": "cd33ebf6",
   "metadata": {
    "papermill": {
     "duration": 0.036783,
     "end_time": "2023-10-16T20:52:00.793046",
     "exception": false,
     "start_time": "2023-10-16T20:52:00.756263",
     "status": "completed"
    },
    "tags": []
   },
   "outputs": [],
   "source": []
  },
  {
   "cell_type": "code",
   "execution_count": 49,
   "id": "083f8013",
   "metadata": {
    "execution": {
     "iopub.execute_input": "2023-10-16T20:52:00.865334Z",
     "iopub.status.busy": "2023-10-16T20:52:00.864551Z",
     "iopub.status.idle": "2023-10-16T20:52:00.873666Z",
     "shell.execute_reply": "2023-10-16T20:52:00.872603Z"
    },
    "papermill": {
     "duration": 0.046592,
     "end_time": "2023-10-16T20:52:00.875951",
     "exception": false,
     "start_time": "2023-10-16T20:52:00.829359",
     "status": "completed"
    },
    "tags": []
   },
   "outputs": [],
   "source": [
    "dicts = df_train[['gender', 'contract', 'tenure']].iloc[:20].to_dict(orient=\"records\")"
   ]
  },
  {
   "cell_type": "code",
   "execution_count": 50,
   "id": "ab04e678",
   "metadata": {
    "execution": {
     "iopub.execute_input": "2023-10-16T20:52:00.939820Z",
     "iopub.status.busy": "2023-10-16T20:52:00.939467Z",
     "iopub.status.idle": "2023-10-16T20:52:01.095639Z",
     "shell.execute_reply": "2023-10-16T20:52:01.094698Z"
    },
    "papermill": {
     "duration": 0.190997,
     "end_time": "2023-10-16T20:52:01.097909",
     "exception": false,
     "start_time": "2023-10-16T20:52:00.906912",
     "status": "completed"
    },
    "tags": []
   },
   "outputs": [],
   "source": [
    "train_dicts = df_train[categorical + numerical].to_dict(orient=\"records\")"
   ]
  },
  {
   "cell_type": "code",
   "execution_count": 51,
   "id": "4c52cb94",
   "metadata": {
    "execution": {
     "iopub.execute_input": "2023-10-16T20:52:01.162014Z",
     "iopub.status.busy": "2023-10-16T20:52:01.161458Z",
     "iopub.status.idle": "2023-10-16T20:52:01.164990Z",
     "shell.execute_reply": "2023-10-16T20:52:01.164293Z"
    },
    "papermill": {
     "duration": 0.037694,
     "end_time": "2023-10-16T20:52:01.166792",
     "exception": false,
     "start_time": "2023-10-16T20:52:01.129098",
     "status": "completed"
    },
    "tags": []
   },
   "outputs": [],
   "source": [
    "dv = DictVectorizer(sparse=False)"
   ]
  },
  {
   "cell_type": "code",
   "execution_count": 52,
   "id": "b5f5fb64",
   "metadata": {
    "execution": {
     "iopub.execute_input": "2023-10-16T20:52:01.230609Z",
     "iopub.status.busy": "2023-10-16T20:52:01.229989Z",
     "iopub.status.idle": "2023-10-16T20:52:01.242418Z",
     "shell.execute_reply": "2023-10-16T20:52:01.241216Z"
    },
    "papermill": {
     "duration": 0.046875,
     "end_time": "2023-10-16T20:52:01.244531",
     "exception": false,
     "start_time": "2023-10-16T20:52:01.197656",
     "status": "completed"
    },
    "tags": []
   },
   "outputs": [
    {
     "data": {
      "text/html": [
       "<style>#sk-container-id-1 {color: black;background-color: white;}#sk-container-id-1 pre{padding: 0;}#sk-container-id-1 div.sk-toggleable {background-color: white;}#sk-container-id-1 label.sk-toggleable__label {cursor: pointer;display: block;width: 100%;margin-bottom: 0;padding: 0.3em;box-sizing: border-box;text-align: center;}#sk-container-id-1 label.sk-toggleable__label-arrow:before {content: \"▸\";float: left;margin-right: 0.25em;color: #696969;}#sk-container-id-1 label.sk-toggleable__label-arrow:hover:before {color: black;}#sk-container-id-1 div.sk-estimator:hover label.sk-toggleable__label-arrow:before {color: black;}#sk-container-id-1 div.sk-toggleable__content {max-height: 0;max-width: 0;overflow: hidden;text-align: left;background-color: #f0f8ff;}#sk-container-id-1 div.sk-toggleable__content pre {margin: 0.2em;color: black;border-radius: 0.25em;background-color: #f0f8ff;}#sk-container-id-1 input.sk-toggleable__control:checked~div.sk-toggleable__content {max-height: 200px;max-width: 100%;overflow: auto;}#sk-container-id-1 input.sk-toggleable__control:checked~label.sk-toggleable__label-arrow:before {content: \"▾\";}#sk-container-id-1 div.sk-estimator input.sk-toggleable__control:checked~label.sk-toggleable__label {background-color: #d4ebff;}#sk-container-id-1 div.sk-label input.sk-toggleable__control:checked~label.sk-toggleable__label {background-color: #d4ebff;}#sk-container-id-1 input.sk-hidden--visually {border: 0;clip: rect(1px 1px 1px 1px);clip: rect(1px, 1px, 1px, 1px);height: 1px;margin: -1px;overflow: hidden;padding: 0;position: absolute;width: 1px;}#sk-container-id-1 div.sk-estimator {font-family: monospace;background-color: #f0f8ff;border: 1px dotted black;border-radius: 0.25em;box-sizing: border-box;margin-bottom: 0.5em;}#sk-container-id-1 div.sk-estimator:hover {background-color: #d4ebff;}#sk-container-id-1 div.sk-parallel-item::after {content: \"\";width: 100%;border-bottom: 1px solid gray;flex-grow: 1;}#sk-container-id-1 div.sk-label:hover label.sk-toggleable__label {background-color: #d4ebff;}#sk-container-id-1 div.sk-serial::before {content: \"\";position: absolute;border-left: 1px solid gray;box-sizing: border-box;top: 0;bottom: 0;left: 50%;z-index: 0;}#sk-container-id-1 div.sk-serial {display: flex;flex-direction: column;align-items: center;background-color: white;padding-right: 0.2em;padding-left: 0.2em;position: relative;}#sk-container-id-1 div.sk-item {position: relative;z-index: 1;}#sk-container-id-1 div.sk-parallel {display: flex;align-items: stretch;justify-content: center;background-color: white;position: relative;}#sk-container-id-1 div.sk-item::before, #sk-container-id-1 div.sk-parallel-item::before {content: \"\";position: absolute;border-left: 1px solid gray;box-sizing: border-box;top: 0;bottom: 0;left: 50%;z-index: -1;}#sk-container-id-1 div.sk-parallel-item {display: flex;flex-direction: column;z-index: 1;position: relative;background-color: white;}#sk-container-id-1 div.sk-parallel-item:first-child::after {align-self: flex-end;width: 50%;}#sk-container-id-1 div.sk-parallel-item:last-child::after {align-self: flex-start;width: 50%;}#sk-container-id-1 div.sk-parallel-item:only-child::after {width: 0;}#sk-container-id-1 div.sk-dashed-wrapped {border: 1px dashed gray;margin: 0 0.4em 0.5em 0.4em;box-sizing: border-box;padding-bottom: 0.4em;background-color: white;}#sk-container-id-1 div.sk-label label {font-family: monospace;font-weight: bold;display: inline-block;line-height: 1.2em;}#sk-container-id-1 div.sk-label-container {text-align: center;}#sk-container-id-1 div.sk-container {/* jupyter's `normalize.less` sets `[hidden] { display: none; }` but bootstrap.min.css set `[hidden] { display: none !important; }` so we also need the `!important` here to be able to override the default hidden behavior on the sphinx rendered scikit-learn.org. See: https://github.com/scikit-learn/scikit-learn/issues/21755 */display: inline-block !important;position: relative;}#sk-container-id-1 div.sk-text-repr-fallback {display: none;}</style><div id=\"sk-container-id-1\" class=\"sk-top-container\"><div class=\"sk-text-repr-fallback\"><pre>DictVectorizer(sparse=False)</pre><b>In a Jupyter environment, please rerun this cell to show the HTML representation or trust the notebook. <br />On GitHub, the HTML representation is unable to render, please try loading this page with nbviewer.org.</b></div><div class=\"sk-container\" hidden><div class=\"sk-item\"><div class=\"sk-estimator sk-toggleable\"><input class=\"sk-toggleable__control sk-hidden--visually\" id=\"sk-estimator-id-1\" type=\"checkbox\" checked><label for=\"sk-estimator-id-1\" class=\"sk-toggleable__label sk-toggleable__label-arrow\">DictVectorizer</label><div class=\"sk-toggleable__content\"><pre>DictVectorizer(sparse=False)</pre></div></div></div></div></div>"
      ],
      "text/plain": [
       "DictVectorizer(sparse=False)"
      ]
     },
     "execution_count": 52,
     "metadata": {},
     "output_type": "execute_result"
    }
   ],
   "source": [
    "dv.fit(dicts)"
   ]
  },
  {
   "cell_type": "code",
   "execution_count": 53,
   "id": "8291fdc0",
   "metadata": {
    "execution": {
     "iopub.execute_input": "2023-10-16T20:52:01.309456Z",
     "iopub.status.busy": "2023-10-16T20:52:01.309045Z",
     "iopub.status.idle": "2023-10-16T20:52:01.318075Z",
     "shell.execute_reply": "2023-10-16T20:52:01.316944Z"
    },
    "papermill": {
     "duration": 0.044378,
     "end_time": "2023-10-16T20:52:01.320341",
     "exception": false,
     "start_time": "2023-10-16T20:52:01.275963",
     "status": "completed"
    },
    "tags": []
   },
   "outputs": [
    {
     "data": {
      "text/plain": [
       "array([[ 0.,  0.,  1.,  1.,  0., 72.],\n",
       "       [ 1.,  0.,  0.,  0.,  1., 10.],\n",
       "       [ 1.,  0.,  0.,  1.,  0.,  5.],\n",
       "       [ 1.,  0.,  0.,  1.,  0.,  5.],\n",
       "       [ 0.,  0.,  1.,  1.,  0., 18.],\n",
       "       [ 1.,  0.,  0.,  0.,  1.,  4.],\n",
       "       [ 1.,  0.,  0.,  0.,  1.,  1.],\n",
       "       [ 1.,  0.,  0.,  1.,  0.,  1.],\n",
       "       [ 0.,  0.,  1.,  1.,  0., 72.],\n",
       "       [ 1.,  0.,  0.,  1.,  0.,  6.],\n",
       "       [ 0.,  0.,  1.,  1.,  0., 72.],\n",
       "       [ 1.,  0.,  0.,  0.,  1., 17.],\n",
       "       [ 0.,  0.,  1.,  1.,  0., 66.],\n",
       "       [ 1.,  0.,  0.,  1.,  0.,  2.],\n",
       "       [ 1.,  0.,  0.,  1.,  0.,  4.],\n",
       "       [ 1.,  0.,  0.,  0.,  1.,  3.],\n",
       "       [ 0.,  0.,  1.,  1.,  0., 71.],\n",
       "       [ 1.,  0.,  0.,  1.,  0., 32.],\n",
       "       [ 0.,  1.,  0.,  0.,  1., 53.],\n",
       "       [ 0.,  0.,  1.,  0.,  1., 56.]])"
      ]
     },
     "execution_count": 53,
     "metadata": {},
     "output_type": "execute_result"
    }
   ],
   "source": [
    "dv.transform(dicts)"
   ]
  },
  {
   "cell_type": "code",
   "execution_count": 54,
   "id": "07691b03",
   "metadata": {
    "execution": {
     "iopub.execute_input": "2023-10-16T20:52:01.388089Z",
     "iopub.status.busy": "2023-10-16T20:52:01.387733Z",
     "iopub.status.idle": "2023-10-16T20:52:01.393172Z",
     "shell.execute_reply": "2023-10-16T20:52:01.392399Z"
    },
    "papermill": {
     "duration": 0.042799,
     "end_time": "2023-10-16T20:52:01.394914",
     "exception": false,
     "start_time": "2023-10-16T20:52:01.352115",
     "status": "completed"
    },
    "tags": []
   },
   "outputs": [
    {
     "data": {
      "text/plain": [
       "array(['contract=month-to-month', 'contract=one_year',\n",
       "       'contract=two_year', 'gender=female', 'gender=male', 'tenure'],\n",
       "      dtype=object)"
      ]
     },
     "execution_count": 54,
     "metadata": {},
     "output_type": "execute_result"
    }
   ],
   "source": [
    "dv.get_feature_names_out()"
   ]
  },
  {
   "cell_type": "code",
   "execution_count": 55,
   "id": "7486f32c",
   "metadata": {
    "execution": {
     "iopub.execute_input": "2023-10-16T20:52:01.462160Z",
     "iopub.status.busy": "2023-10-16T20:52:01.461596Z",
     "iopub.status.idle": "2023-10-16T20:52:01.517304Z",
     "shell.execute_reply": "2023-10-16T20:52:01.516198Z"
    },
    "papermill": {
     "duration": 0.091542,
     "end_time": "2023-10-16T20:52:01.519739",
     "exception": false,
     "start_time": "2023-10-16T20:52:01.428197",
     "status": "completed"
    },
    "tags": []
   },
   "outputs": [
    {
     "data": {
      "text/html": [
       "<style>#sk-container-id-2 {color: black;background-color: white;}#sk-container-id-2 pre{padding: 0;}#sk-container-id-2 div.sk-toggleable {background-color: white;}#sk-container-id-2 label.sk-toggleable__label {cursor: pointer;display: block;width: 100%;margin-bottom: 0;padding: 0.3em;box-sizing: border-box;text-align: center;}#sk-container-id-2 label.sk-toggleable__label-arrow:before {content: \"▸\";float: left;margin-right: 0.25em;color: #696969;}#sk-container-id-2 label.sk-toggleable__label-arrow:hover:before {color: black;}#sk-container-id-2 div.sk-estimator:hover label.sk-toggleable__label-arrow:before {color: black;}#sk-container-id-2 div.sk-toggleable__content {max-height: 0;max-width: 0;overflow: hidden;text-align: left;background-color: #f0f8ff;}#sk-container-id-2 div.sk-toggleable__content pre {margin: 0.2em;color: black;border-radius: 0.25em;background-color: #f0f8ff;}#sk-container-id-2 input.sk-toggleable__control:checked~div.sk-toggleable__content {max-height: 200px;max-width: 100%;overflow: auto;}#sk-container-id-2 input.sk-toggleable__control:checked~label.sk-toggleable__label-arrow:before {content: \"▾\";}#sk-container-id-2 div.sk-estimator input.sk-toggleable__control:checked~label.sk-toggleable__label {background-color: #d4ebff;}#sk-container-id-2 div.sk-label input.sk-toggleable__control:checked~label.sk-toggleable__label {background-color: #d4ebff;}#sk-container-id-2 input.sk-hidden--visually {border: 0;clip: rect(1px 1px 1px 1px);clip: rect(1px, 1px, 1px, 1px);height: 1px;margin: -1px;overflow: hidden;padding: 0;position: absolute;width: 1px;}#sk-container-id-2 div.sk-estimator {font-family: monospace;background-color: #f0f8ff;border: 1px dotted black;border-radius: 0.25em;box-sizing: border-box;margin-bottom: 0.5em;}#sk-container-id-2 div.sk-estimator:hover {background-color: #d4ebff;}#sk-container-id-2 div.sk-parallel-item::after {content: \"\";width: 100%;border-bottom: 1px solid gray;flex-grow: 1;}#sk-container-id-2 div.sk-label:hover label.sk-toggleable__label {background-color: #d4ebff;}#sk-container-id-2 div.sk-serial::before {content: \"\";position: absolute;border-left: 1px solid gray;box-sizing: border-box;top: 0;bottom: 0;left: 50%;z-index: 0;}#sk-container-id-2 div.sk-serial {display: flex;flex-direction: column;align-items: center;background-color: white;padding-right: 0.2em;padding-left: 0.2em;position: relative;}#sk-container-id-2 div.sk-item {position: relative;z-index: 1;}#sk-container-id-2 div.sk-parallel {display: flex;align-items: stretch;justify-content: center;background-color: white;position: relative;}#sk-container-id-2 div.sk-item::before, #sk-container-id-2 div.sk-parallel-item::before {content: \"\";position: absolute;border-left: 1px solid gray;box-sizing: border-box;top: 0;bottom: 0;left: 50%;z-index: -1;}#sk-container-id-2 div.sk-parallel-item {display: flex;flex-direction: column;z-index: 1;position: relative;background-color: white;}#sk-container-id-2 div.sk-parallel-item:first-child::after {align-self: flex-end;width: 50%;}#sk-container-id-2 div.sk-parallel-item:last-child::after {align-self: flex-start;width: 50%;}#sk-container-id-2 div.sk-parallel-item:only-child::after {width: 0;}#sk-container-id-2 div.sk-dashed-wrapped {border: 1px dashed gray;margin: 0 0.4em 0.5em 0.4em;box-sizing: border-box;padding-bottom: 0.4em;background-color: white;}#sk-container-id-2 div.sk-label label {font-family: monospace;font-weight: bold;display: inline-block;line-height: 1.2em;}#sk-container-id-2 div.sk-label-container {text-align: center;}#sk-container-id-2 div.sk-container {/* jupyter's `normalize.less` sets `[hidden] { display: none; }` but bootstrap.min.css set `[hidden] { display: none !important; }` so we also need the `!important` here to be able to override the default hidden behavior on the sphinx rendered scikit-learn.org. See: https://github.com/scikit-learn/scikit-learn/issues/21755 */display: inline-block !important;position: relative;}#sk-container-id-2 div.sk-text-repr-fallback {display: none;}</style><div id=\"sk-container-id-2\" class=\"sk-top-container\"><div class=\"sk-text-repr-fallback\"><pre>DictVectorizer(sparse=False)</pre><b>In a Jupyter environment, please rerun this cell to show the HTML representation or trust the notebook. <br />On GitHub, the HTML representation is unable to render, please try loading this page with nbviewer.org.</b></div><div class=\"sk-container\" hidden><div class=\"sk-item\"><div class=\"sk-estimator sk-toggleable\"><input class=\"sk-toggleable__control sk-hidden--visually\" id=\"sk-estimator-id-2\" type=\"checkbox\" checked><label for=\"sk-estimator-id-2\" class=\"sk-toggleable__label sk-toggleable__label-arrow\">DictVectorizer</label><div class=\"sk-toggleable__content\"><pre>DictVectorizer(sparse=False)</pre></div></div></div></div></div>"
      ],
      "text/plain": [
       "DictVectorizer(sparse=False)"
      ]
     },
     "execution_count": 55,
     "metadata": {},
     "output_type": "execute_result"
    }
   ],
   "source": [
    "dv.fit(train_dicts)"
   ]
  },
  {
   "cell_type": "code",
   "execution_count": 56,
   "id": "b342d285",
   "metadata": {
    "execution": {
     "iopub.execute_input": "2023-10-16T20:52:01.586727Z",
     "iopub.status.busy": "2023-10-16T20:52:01.586313Z",
     "iopub.status.idle": "2023-10-16T20:52:01.593158Z",
     "shell.execute_reply": "2023-10-16T20:52:01.591948Z"
    },
    "papermill": {
     "duration": 0.043028,
     "end_time": "2023-10-16T20:52:01.595470",
     "exception": false,
     "start_time": "2023-10-16T20:52:01.552442",
     "status": "completed"
    },
    "tags": []
   },
   "outputs": [
    {
     "data": {
      "text/plain": [
       "array(['contract=month-to-month', 'contract=one_year',\n",
       "       'contract=two_year', 'dependents=no', 'dependents=yes',\n",
       "       'deviceprotection=no', 'deviceprotection=no_internet_service',\n",
       "       'deviceprotection=yes', 'gender=female', 'gender=male',\n",
       "       'internetservice=dsl', 'internetservice=fiber_optic',\n",
       "       'internetservice=no', 'monthlycharges', 'multiplelines=no',\n",
       "       'multiplelines=no_phone_service', 'multiplelines=yes',\n",
       "       'onlinebackup=no', 'onlinebackup=no_internet_service',\n",
       "       'onlinebackup=yes', 'onlinesecurity=no',\n",
       "       'onlinesecurity=no_internet_service', 'onlinesecurity=yes',\n",
       "       'paperlessbilling=no', 'paperlessbilling=yes', 'partner=no',\n",
       "       'partner=yes', 'paymentmethod=bank_transfer_(automatic)',\n",
       "       'paymentmethod=credit_card_(automatic)',\n",
       "       'paymentmethod=electronic_check', 'paymentmethod=mailed_check',\n",
       "       'phoneservice=no', 'phoneservice=yes', 'seniorcitizen',\n",
       "       'streamingmovies=no', 'streamingmovies=no_internet_service',\n",
       "       'streamingmovies=yes', 'streamingtv=no',\n",
       "       'streamingtv=no_internet_service', 'streamingtv=yes',\n",
       "       'techsupport=no', 'techsupport=no_internet_service',\n",
       "       'techsupport=yes', 'tenure', 'totalcharges'], dtype=object)"
      ]
     },
     "execution_count": 56,
     "metadata": {},
     "output_type": "execute_result"
    }
   ],
   "source": [
    "dv.get_feature_names_out()"
   ]
  },
  {
   "cell_type": "code",
   "execution_count": 57,
   "id": "cb836467",
   "metadata": {
    "execution": {
     "iopub.execute_input": "2023-10-16T20:52:01.661477Z",
     "iopub.status.busy": "2023-10-16T20:52:01.661086Z",
     "iopub.status.idle": "2023-10-16T20:52:01.768136Z",
     "shell.execute_reply": "2023-10-16T20:52:01.767186Z"
    },
    "papermill": {
     "duration": 0.14252,
     "end_time": "2023-10-16T20:52:01.770267",
     "exception": false,
     "start_time": "2023-10-16T20:52:01.627747",
     "status": "completed"
    },
    "tags": []
   },
   "outputs": [
    {
     "data": {
      "text/plain": [
       "(4225, 45)"
      ]
     },
     "execution_count": 57,
     "metadata": {},
     "output_type": "execute_result"
    }
   ],
   "source": [
    "X_train =  dv.fit_transform(train_dicts)\n",
    "X_train.shape"
   ]
  },
  {
   "cell_type": "code",
   "execution_count": 58,
   "id": "92dec408",
   "metadata": {
    "execution": {
     "iopub.execute_input": "2023-10-16T20:52:01.838219Z",
     "iopub.status.busy": "2023-10-16T20:52:01.837237Z",
     "iopub.status.idle": "2023-10-16T20:52:01.870206Z",
     "shell.execute_reply": "2023-10-16T20:52:01.868933Z"
    },
    "papermill": {
     "duration": 0.069972,
     "end_time": "2023-10-16T20:52:01.872817",
     "exception": false,
     "start_time": "2023-10-16T20:52:01.802845",
     "status": "completed"
    },
    "tags": []
   },
   "outputs": [],
   "source": [
    "val_dicts = df_val[categorical + numerical].to_dict(orient=\"records\")"
   ]
  },
  {
   "cell_type": "code",
   "execution_count": 59,
   "id": "126e3ec6",
   "metadata": {
    "execution": {
     "iopub.execute_input": "2023-10-16T20:52:01.941829Z",
     "iopub.status.busy": "2023-10-16T20:52:01.941444Z",
     "iopub.status.idle": "2023-10-16T20:52:01.979514Z",
     "shell.execute_reply": "2023-10-16T20:52:01.978494Z"
    },
    "papermill": {
     "duration": 0.075507,
     "end_time": "2023-10-16T20:52:01.981772",
     "exception": false,
     "start_time": "2023-10-16T20:52:01.906265",
     "status": "completed"
    },
    "tags": []
   },
   "outputs": [
    {
     "data": {
      "text/plain": [
       "(1409, 45)"
      ]
     },
     "execution_count": 59,
     "metadata": {},
     "output_type": "execute_result"
    }
   ],
   "source": [
    "X_val = dv.transform(val_dicts)\n",
    "X_val.shape"
   ]
  },
  {
   "cell_type": "markdown",
   "id": "c08c8e53",
   "metadata": {
    "papermill": {
     "duration": 0.032341,
     "end_time": "2023-10-16T20:52:02.048518",
     "exception": false,
     "start_time": "2023-10-16T20:52:02.016177",
     "status": "completed"
    },
    "tags": []
   },
   "source": [
    "Logistic Regression vs Linear Regression"
   ]
  },
  {
   "cell_type": "code",
   "execution_count": 60,
   "id": "96a74e09",
   "metadata": {
    "execution": {
     "iopub.execute_input": "2023-10-16T20:52:02.117467Z",
     "iopub.status.busy": "2023-10-16T20:52:02.117046Z",
     "iopub.status.idle": "2023-10-16T20:52:02.122189Z",
     "shell.execute_reply": "2023-10-16T20:52:02.121148Z"
    },
    "papermill": {
     "duration": 0.042634,
     "end_time": "2023-10-16T20:52:02.124174",
     "exception": false,
     "start_time": "2023-10-16T20:52:02.081540",
     "status": "completed"
    },
    "tags": []
   },
   "outputs": [],
   "source": [
    "# sigmoid function\n",
    "def sigmoid(z):\n",
    "    return 1 / (1+ np.exp(-z))"
   ]
  },
  {
   "cell_type": "code",
   "execution_count": 61,
   "id": "e0300b87",
   "metadata": {
    "execution": {
     "iopub.execute_input": "2023-10-16T20:52:02.191604Z",
     "iopub.status.busy": "2023-10-16T20:52:02.190501Z",
     "iopub.status.idle": "2023-10-16T20:52:02.195682Z",
     "shell.execute_reply": "2023-10-16T20:52:02.194824Z"
    },
    "papermill": {
     "duration": 0.041029,
     "end_time": "2023-10-16T20:52:02.197687",
     "exception": false,
     "start_time": "2023-10-16T20:52:02.156658",
     "status": "completed"
    },
    "tags": []
   },
   "outputs": [],
   "source": [
    "z = np.linspace( -5, 5, 51)"
   ]
  },
  {
   "cell_type": "code",
   "execution_count": 62,
   "id": "4fb69e9b",
   "metadata": {
    "execution": {
     "iopub.execute_input": "2023-10-16T20:52:02.264458Z",
     "iopub.status.busy": "2023-10-16T20:52:02.263804Z",
     "iopub.status.idle": "2023-10-16T20:52:02.271151Z",
     "shell.execute_reply": "2023-10-16T20:52:02.270304Z"
    },
    "papermill": {
     "duration": 0.043244,
     "end_time": "2023-10-16T20:52:02.273052",
     "exception": false,
     "start_time": "2023-10-16T20:52:02.229808",
     "status": "completed"
    },
    "tags": []
   },
   "outputs": [
    {
     "data": {
      "text/plain": [
       "array([0.00669285, 0.00816257, 0.0099518 , 0.01212843, 0.01477403,\n",
       "       0.01798621, 0.02188127, 0.02659699, 0.03229546, 0.03916572,\n",
       "       0.04742587, 0.05732418, 0.06913842, 0.0831727 , 0.09975049,\n",
       "       0.11920292, 0.14185106, 0.16798161, 0.19781611, 0.23147522,\n",
       "       0.26894142, 0.31002552, 0.35434369, 0.40131234, 0.450166  ,\n",
       "       0.5       , 0.549834  , 0.59868766, 0.64565631, 0.68997448,\n",
       "       0.73105858, 0.76852478, 0.80218389, 0.83201839, 0.85814894,\n",
       "       0.88079708, 0.90024951, 0.9168273 , 0.93086158, 0.94267582,\n",
       "       0.95257413, 0.96083428, 0.96770454, 0.97340301, 0.97811873,\n",
       "       0.98201379, 0.98522597, 0.98787157, 0.9900482 , 0.99183743,\n",
       "       0.99330715])"
      ]
     },
     "execution_count": 62,
     "metadata": {},
     "output_type": "execute_result"
    }
   ],
   "source": [
    "sigmoid(z)"
   ]
  },
  {
   "cell_type": "code",
   "execution_count": 63,
   "id": "b123bcde",
   "metadata": {
    "execution": {
     "iopub.execute_input": "2023-10-16T20:52:02.340794Z",
     "iopub.status.busy": "2023-10-16T20:52:02.340400Z",
     "iopub.status.idle": "2023-10-16T20:52:02.595805Z",
     "shell.execute_reply": "2023-10-16T20:52:02.594510Z"
    },
    "papermill": {
     "duration": 0.291714,
     "end_time": "2023-10-16T20:52:02.598208",
     "exception": false,
     "start_time": "2023-10-16T20:52:02.306494",
     "status": "completed"
    },
    "tags": []
   },
   "outputs": [
    {
     "data": {
      "text/plain": [
       "[<matplotlib.lines.Line2D at 0x7e32f985b1c0>]"
      ]
     },
     "execution_count": 63,
     "metadata": {},
     "output_type": "execute_result"
    },
    {
     "data": {
      "image/png": "[encoded data removed]",
      "text/plain": [
       "<Figure size 640x480 with 1 Axes>"
      ]
     },
     "metadata": {},
     "output_type": "display_data"
    }
   ],
   "source": [
    "plt.plot(z, sigmoid(z))"
   ]
  },
  {
   "cell_type": "code",
   "execution_count": 64,
   "id": "2983333a",
   "metadata": {
    "execution": {
     "iopub.execute_input": "2023-10-16T20:52:02.667059Z",
     "iopub.status.busy": "2023-10-16T20:52:02.666681Z",
     "iopub.status.idle": "2023-10-16T20:52:02.671857Z",
     "shell.execute_reply": "2023-10-16T20:52:02.670814Z"
    },
    "papermill": {
     "duration": 0.042281,
     "end_time": "2023-10-16T20:52:02.674025",
     "exception": false,
     "start_time": "2023-10-16T20:52:02.631744",
     "status": "completed"
    },
    "tags": []
   },
   "outputs": [],
   "source": [
    "def linear_regression(xi):\n",
    "    result = w0\n",
    "    \n",
    "    for j in range(len(w)):\n",
    "        result = result + xi[j] * w[j]\n",
    "        \n",
    "    return result"
   ]
  },
  {
   "cell_type": "code",
   "execution_count": 65,
   "id": "6f070ec4",
   "metadata": {
    "execution": {
     "iopub.execute_input": "2023-10-16T20:52:02.742464Z",
     "iopub.status.busy": "2023-10-16T20:52:02.741728Z",
     "iopub.status.idle": "2023-10-16T20:52:02.746796Z",
     "shell.execute_reply": "2023-10-16T20:52:02.745852Z"
    },
    "papermill": {
     "duration": 0.041549,
     "end_time": "2023-10-16T20:52:02.748910",
     "exception": false,
     "start_time": "2023-10-16T20:52:02.707361",
     "status": "completed"
    },
    "tags": []
   },
   "outputs": [],
   "source": [
    "def logistic_regression(xi):\n",
    "    score = w0\n",
    "    \n",
    "    for j in range(len(w)):\n",
    "        score = score + xi[j] * w[j]\n",
    "#         both use Dot product, so they are considered Linear Models. Fast to train.\n",
    "        \n",
    "    result = sigmoid(score)\n",
    "    return result"
   ]
  },
  {
   "cell_type": "markdown",
   "id": "2f4b77f8",
   "metadata": {
    "papermill": {
     "duration": 0.032938,
     "end_time": "2023-10-16T20:52:02.816660",
     "exception": false,
     "start_time": "2023-10-16T20:52:02.783722",
     "status": "completed"
    },
    "tags": []
   },
   "source": [
    "Training Logistic Regression"
   ]
  },
  {
   "cell_type": "code",
   "execution_count": 66,
   "id": "2959d18d",
   "metadata": {
    "execution": {
     "iopub.execute_input": "2023-10-16T20:52:02.886112Z",
     "iopub.status.busy": "2023-10-16T20:52:02.885479Z",
     "iopub.status.idle": "2023-10-16T20:52:02.991975Z",
     "shell.execute_reply": "2023-10-16T20:52:02.990988Z"
    },
    "papermill": {
     "duration": 0.143795,
     "end_time": "2023-10-16T20:52:02.994558",
     "exception": false,
     "start_time": "2023-10-16T20:52:02.850763",
     "status": "completed"
    },
    "tags": []
   },
   "outputs": [],
   "source": [
    "from sklearn.linear_model import LogisticRegression"
   ]
  },
  {
   "cell_type": "code",
   "execution_count": 67,
   "id": "238c6f54",
   "metadata": {
    "execution": {
     "iopub.execute_input": "2023-10-16T20:52:03.064232Z",
     "iopub.status.busy": "2023-10-16T20:52:03.063873Z",
     "iopub.status.idle": "2023-10-16T20:52:03.186312Z",
     "shell.execute_reply": "2023-10-16T20:52:03.184894Z"
    },
    "papermill": {
     "duration": 0.160959,
     "end_time": "2023-10-16T20:52:03.190177",
     "exception": false,
     "start_time": "2023-10-16T20:52:03.029218",
     "status": "completed"
    },
    "tags": []
   },
   "outputs": [
    {
     "data": {
      "text/html": [
       "<style>#sk-container-id-3 {color: black;background-color: white;}#sk-container-id-3 pre{padding: 0;}#sk-container-id-3 div.sk-toggleable {background-color: white;}#sk-container-id-3 label.sk-toggleable__label {cursor: pointer;display: block;width: 100%;margin-bottom: 0;padding: 0.3em;box-sizing: border-box;text-align: center;}#sk-container-id-3 label.sk-toggleable__label-arrow:before {content: \"▸\";float: left;margin-right: 0.25em;color: #696969;}#sk-container-id-3 label.sk-toggleable__label-arrow:hover:before {color: black;}#sk-container-id-3 div.sk-estimator:hover label.sk-toggleable__label-arrow:before {color: black;}#sk-container-id-3 div.sk-toggleable__content {max-height: 0;max-width: 0;overflow: hidden;text-align: left;background-color: #f0f8ff;}#sk-container-id-3 div.sk-toggleable__content pre {margin: 0.2em;color: black;border-radius: 0.25em;background-color: #f0f8ff;}#sk-container-id-3 input.sk-toggleable__control:checked~div.sk-toggleable__content {max-height: 200px;max-width: 100%;overflow: auto;}#sk-container-id-3 input.sk-toggleable__control:checked~label.sk-toggleable__label-arrow:before {content: \"▾\";}#sk-container-id-3 div.sk-estimator input.sk-toggleable__control:checked~label.sk-toggleable__label {background-color: #d4ebff;}#sk-container-id-3 div.sk-label input.sk-toggleable__control:checked~label.sk-toggleable__label {background-color: #d4ebff;}#sk-container-id-3 input.sk-hidden--visually {border: 0;clip: rect(1px 1px 1px 1px);clip: rect(1px, 1px, 1px, 1px);height: 1px;margin: -1px;overflow: hidden;padding: 0;position: absolute;width: 1px;}#sk-container-id-3 div.sk-estimator {font-family: monospace;background-color: #f0f8ff;border: 1px dotted black;border-radius: 0.25em;box-sizing: border-box;margin-bottom: 0.5em;}#sk-container-id-3 div.sk-estimator:hover {background-color: #d4ebff;}#sk-container-id-3 div.sk-parallel-item::after {content: \"\";width: 100%;border-bottom: 1px solid gray;flex-grow: 1;}#sk-container-id-3 div.sk-label:hover label.sk-toggleable__label {background-color: #d4ebff;}#sk-container-id-3 div.sk-serial::before {content: \"\";position: absolute;border-left: 1px solid gray;box-sizing: border-box;top: 0;bottom: 0;left: 50%;z-index: 0;}#sk-container-id-3 div.sk-serial {display: flex;flex-direction: column;align-items: center;background-color: white;padding-right: 0.2em;padding-left: 0.2em;position: relative;}#sk-container-id-3 div.sk-item {position: relative;z-index: 1;}#sk-container-id-3 div.sk-parallel {display: flex;align-items: stretch;justify-content: center;background-color: white;position: relative;}#sk-container-id-3 div.sk-item::before, #sk-container-id-3 div.sk-parallel-item::before {content: \"\";position: absolute;border-left: 1px solid gray;box-sizing: border-box;top: 0;bottom: 0;left: 50%;z-index: -1;}#sk-container-id-3 div.sk-parallel-item {display: flex;flex-direction: column;z-index: 1;position: relative;background-color: white;}#sk-container-id-3 div.sk-parallel-item:first-child::after {align-self: flex-end;width: 50%;}#sk-container-id-3 div.sk-parallel-item:last-child::after {align-self: flex-start;width: 50%;}#sk-container-id-3 div.sk-parallel-item:only-child::after {width: 0;}#sk-container-id-3 div.sk-dashed-wrapped {border: 1px dashed gray;margin: 0 0.4em 0.5em 0.4em;box-sizing: border-box;padding-bottom: 0.4em;background-color: white;}#sk-container-id-3 div.sk-label label {font-family: monospace;font-weight: bold;display: inline-block;line-height: 1.2em;}#sk-container-id-3 div.sk-label-container {text-align: center;}#sk-container-id-3 div.sk-container {/* jupyter's `normalize.less` sets `[hidden] { display: none; }` but bootstrap.min.css set `[hidden] { display: none !important; }` so we also need the `!important` here to be able to override the default hidden behavior on the sphinx rendered scikit-learn.org. See: https://github.com/scikit-learn/scikit-learn/issues/21755 */display: inline-block !important;position: relative;}#sk-container-id-3 div.sk-text-repr-fallback {display: none;}</style><div id=\"sk-container-id-3\" class=\"sk-top-container\"><div class=\"sk-text-repr-fallback\"><pre>LogisticRegression()</pre><b>In a Jupyter environment, please rerun this cell to show the HTML representation or trust the notebook. <br />On GitHub, the HTML representation is unable to render, please try loading this page with nbviewer.org.</b></div><div class=\"sk-container\" hidden><div class=\"sk-item\"><div class=\"sk-estimator sk-toggleable\"><input class=\"sk-toggleable__control sk-hidden--visually\" id=\"sk-estimator-id-3\" type=\"checkbox\" checked><label for=\"sk-estimator-id-3\" class=\"sk-toggleable__label sk-toggleable__label-arrow\">LogisticRegression</label><div class=\"sk-toggleable__content\"><pre>LogisticRegression()</pre></div></div></div></div></div>"
      ],
      "text/plain": [
       "LogisticRegression()"
      ]
     },
     "execution_count": 67,
     "metadata": {},
     "output_type": "execute_result"
    }
   ],
   "source": [
    "model = LogisticRegression()\n",
    "model.fit(X_train, y_train)"
   ]
  },
  {
   "cell_type": "code",
   "execution_count": 68,
   "id": "7be951c0",
   "metadata": {
    "execution": {
     "iopub.execute_input": "2023-10-16T20:52:03.331933Z",
     "iopub.status.busy": "2023-10-16T20:52:03.331583Z",
     "iopub.status.idle": "2023-10-16T20:52:03.338252Z",
     "shell.execute_reply": "2023-10-16T20:52:03.337214Z"
    },
    "papermill": {
     "duration": 0.047279,
     "end_time": "2023-10-16T20:52:03.340008",
     "exception": false,
     "start_time": "2023-10-16T20:52:03.292729",
     "status": "completed"
    },
    "tags": []
   },
   "outputs": [
    {
     "data": {
      "text/plain": [
       "array([ 0.475, -0.175, -0.407, -0.03 , -0.078,  0.063, -0.089, -0.081,\n",
       "       -0.034, -0.073, -0.335,  0.316, -0.089,  0.004, -0.258,  0.141,\n",
       "        0.009,  0.063, -0.089, -0.081,  0.266, -0.089, -0.284, -0.231,\n",
       "        0.123, -0.166,  0.058, -0.087, -0.032,  0.07 , -0.059,  0.141,\n",
       "       -0.249,  0.215, -0.12 , -0.089,  0.102, -0.071, -0.089,  0.052,\n",
       "        0.213, -0.089, -0.232, -0.07 ,  0.   ])"
      ]
     },
     "execution_count": 68,
     "metadata": {},
     "output_type": "execute_result"
    }
   ],
   "source": [
    "# The weights\n",
    "model.coef_[0].round(3)"
   ]
  },
  {
   "cell_type": "code",
   "execution_count": 69,
   "id": "cee865cf",
   "metadata": {
    "execution": {
     "iopub.execute_input": "2023-10-16T20:52:03.410375Z",
     "iopub.status.busy": "2023-10-16T20:52:03.409700Z",
     "iopub.status.idle": "2023-10-16T20:52:03.415684Z",
     "shell.execute_reply": "2023-10-16T20:52:03.414859Z"
    },
    "papermill": {
     "duration": 0.043884,
     "end_time": "2023-10-16T20:52:03.417517",
     "exception": false,
     "start_time": "2023-10-16T20:52:03.373633",
     "status": "completed"
    },
    "tags": []
   },
   "outputs": [
    {
     "data": {
      "text/plain": [
       "-0.10906983612861662"
      ]
     },
     "execution_count": 69,
     "metadata": {},
     "output_type": "execute_result"
    }
   ],
   "source": [
    "model.intercept_[0]"
   ]
  },
  {
   "cell_type": "code",
   "execution_count": 70,
   "id": "628af466",
   "metadata": {
    "execution": {
     "iopub.execute_input": "2023-10-16T20:52:03.487117Z",
     "iopub.status.busy": "2023-10-16T20:52:03.486445Z",
     "iopub.status.idle": "2023-10-16T20:52:03.496982Z",
     "shell.execute_reply": "2023-10-16T20:52:03.495641Z"
    },
    "papermill": {
     "duration": 0.049184,
     "end_time": "2023-10-16T20:52:03.500643",
     "exception": false,
     "start_time": "2023-10-16T20:52:03.451459",
     "status": "completed"
    },
    "tags": []
   },
   "outputs": [
    {
     "data": {
      "text/plain": [
       "array([0, 1, 1, ..., 1, 0, 1])"
      ]
     },
     "execution_count": 70,
     "metadata": {},
     "output_type": "execute_result"
    }
   ],
   "source": [
    "model.predict(X_train)\n",
    "# This will pump out Hard Predictions - they are labeled. They are not the probabilities"
   ]
  },
  {
   "cell_type": "code",
   "execution_count": 71,
   "id": "a1ff21b7",
   "metadata": {
    "execution": {
     "iopub.execute_input": "2023-10-16T20:52:03.644325Z",
     "iopub.status.busy": "2023-10-16T20:52:03.643948Z",
     "iopub.status.idle": "2023-10-16T20:52:03.657673Z",
     "shell.execute_reply": "2023-10-16T20:52:03.656370Z"
    },
    "papermill": {
     "duration": 0.057072,
     "end_time": "2023-10-16T20:52:03.661390",
     "exception": false,
     "start_time": "2023-10-16T20:52:03.604318",
     "status": "completed"
    },
    "tags": []
   },
   "outputs": [
    {
     "data": {
      "text/plain": [
       "array([[0.90443048, 0.09556952],\n",
       "       [0.32074291, 0.67925709],\n",
       "       [0.36639176, 0.63360824],\n",
       "       ...,\n",
       "       [0.4684025 , 0.5315975 ],\n",
       "       [0.95750228, 0.04249772],\n",
       "       [0.30138089, 0.69861911]])"
      ]
     },
     "execution_count": 71,
     "metadata": {},
     "output_type": "execute_result"
    }
   ],
   "source": [
    "model.predict_proba(X_train)\n",
    "# This are soft predictions - giving us the probabilities of churn\n",
    "# It gives us [probability of not chruning - 0, probability of churning - 1]"
   ]
  },
  {
   "cell_type": "code",
   "execution_count": 72,
   "id": "620b9651",
   "metadata": {
    "execution": {
     "iopub.execute_input": "2023-10-16T20:52:03.805837Z",
     "iopub.status.busy": "2023-10-16T20:52:03.805450Z",
     "iopub.status.idle": "2023-10-16T20:52:03.814562Z",
     "shell.execute_reply": "2023-10-16T20:52:03.813101Z"
    },
    "papermill": {
     "duration": 0.052554,
     "end_time": "2023-10-16T20:52:03.818360",
     "exception": false,
     "start_time": "2023-10-16T20:52:03.765806",
     "status": "completed"
    },
    "tags": []
   },
   "outputs": [],
   "source": [
    "y_pred = model.predict_proba(X_val)[:, 1]"
   ]
  },
  {
   "cell_type": "code",
   "execution_count": 73,
   "id": "28992bf8",
   "metadata": {
    "execution": {
     "iopub.execute_input": "2023-10-16T20:52:04.026216Z",
     "iopub.status.busy": "2023-10-16T20:52:04.025856Z",
     "iopub.status.idle": "2023-10-16T20:52:04.032101Z",
     "shell.execute_reply": "2023-10-16T20:52:04.031190Z"
    },
    "papermill": {
     "duration": 0.108597,
     "end_time": "2023-10-16T20:52:04.034249",
     "exception": false,
     "start_time": "2023-10-16T20:52:03.925652",
     "status": "completed"
    },
    "tags": []
   },
   "outputs": [
    {
     "data": {
      "text/plain": [
       "array([False, False, False, ..., False,  True,  True])"
      ]
     },
     "execution_count": 73,
     "metadata": {},
     "output_type": "execute_result"
    }
   ],
   "source": [
    "churn_decision = (y_pred >= 0.5)\n",
    "churn_decision"
   ]
  },
  {
   "cell_type": "code",
   "execution_count": 74,
   "id": "3b9d10bd",
   "metadata": {
    "execution": {
     "iopub.execute_input": "2023-10-16T20:52:04.105582Z",
     "iopub.status.busy": "2023-10-16T20:52:04.105188Z",
     "iopub.status.idle": "2023-10-16T20:52:04.115670Z",
     "shell.execute_reply": "2023-10-16T20:52:04.114738Z"
    },
    "papermill": {
     "duration": 0.048477,
     "end_time": "2023-10-16T20:52:04.117797",
     "exception": false,
     "start_time": "2023-10-16T20:52:04.069320",
     "status": "completed"
    },
    "tags": []
   },
   "outputs": [
    {
     "data": {
      "text/plain": [
       "2504    8433-wxgna\n",
       "4597    3440-jpscl\n",
       "2343    2637-fkfsy\n",
       "5591    7228-omtpn\n",
       "4482    6711-fldfb\n",
       "           ...    \n",
       "2611    5976-jcjrh\n",
       "4211    2034-cgrhz\n",
       "3999    5276-kqwhg\n",
       "6240    6521-yytyi\n",
       "5282    3049-solay\n",
       "Name: customerid, Length: 311, dtype: object"
      ]
     },
     "execution_count": 74,
     "metadata": {},
     "output_type": "execute_result"
    }
   ],
   "source": [
    "df_val[churn_decision].customerid"
   ]
  },
  {
   "cell_type": "code",
   "execution_count": 75,
   "id": "d9aa97b6",
   "metadata": {
    "execution": {
     "iopub.execute_input": "2023-10-16T20:52:04.188396Z",
     "iopub.status.busy": "2023-10-16T20:52:04.188049Z",
     "iopub.status.idle": "2023-10-16T20:52:04.194872Z",
     "shell.execute_reply": "2023-10-16T20:52:04.193601Z"
    },
    "papermill": {
     "duration": 0.044658,
     "end_time": "2023-10-16T20:52:04.197181",
     "exception": false,
     "start_time": "2023-10-16T20:52:04.152523",
     "status": "completed"
    },
    "tags": []
   },
   "outputs": [
    {
     "data": {
      "text/plain": [
       "array([0, 0, 0, ..., 0, 1, 1])"
      ]
     },
     "execution_count": 75,
     "metadata": {},
     "output_type": "execute_result"
    }
   ],
   "source": [
    "# testing accuracy\n",
    "y_val\n",
    "churn_decision.astype(int)"
   ]
  },
  {
   "cell_type": "code",
   "execution_count": 76,
   "id": "182b7211",
   "metadata": {
    "execution": {
     "iopub.execute_input": "2023-10-16T20:52:04.268611Z",
     "iopub.status.busy": "2023-10-16T20:52:04.268220Z",
     "iopub.status.idle": "2023-10-16T20:52:04.274615Z",
     "shell.execute_reply": "2023-10-16T20:52:04.273816Z"
    },
    "papermill": {
     "duration": 0.044176,
     "end_time": "2023-10-16T20:52:04.276583",
     "exception": false,
     "start_time": "2023-10-16T20:52:04.232407",
     "status": "completed"
    },
    "tags": []
   },
   "outputs": [
    {
     "data": {
      "text/plain": [
       "0.8034066713981547"
      ]
     },
     "execution_count": 76,
     "metadata": {},
     "output_type": "execute_result"
    }
   ],
   "source": [
    "(y_val == churn_decision).mean()"
   ]
  },
  {
   "cell_type": "code",
   "execution_count": 77,
   "id": "20d6a769",
   "metadata": {
    "execution": {
     "iopub.execute_input": "2023-10-16T20:52:04.347873Z",
     "iopub.status.busy": "2023-10-16T20:52:04.347529Z",
     "iopub.status.idle": "2023-10-16T20:52:04.362893Z",
     "shell.execute_reply": "2023-10-16T20:52:04.362038Z"
    },
    "papermill": {
     "duration": 0.053554,
     "end_time": "2023-10-16T20:52:04.364932",
     "exception": false,
     "start_time": "2023-10-16T20:52:04.311378",
     "status": "completed"
    },
    "tags": []
   },
   "outputs": [
    {
     "data": {
      "text/html": [
       "<div>\n",
       "<style scoped>\n",
       "    .dataframe tbody tr th:only-of-type {\n",
       "        vertical-align: middle;\n",
       "    }\n",
       "\n",
       "    .dataframe tbody tr th {\n",
       "        vertical-align: top;\n",
       "    }\n",
       "\n",
       "    .dataframe thead th {\n",
       "        text-align: right;\n",
       "    }\n",
       "</style>\n",
       "<table border=\"1\" class=\"dataframe\">\n",
       "  <thead>\n",
       "    <tr style=\"text-align: right;\">\n",
       "      <th></th>\n",
       "      <th>probability</th>\n",
       "      <th>prediction</th>\n",
       "      <th>actual</th>\n",
       "    </tr>\n",
       "  </thead>\n",
       "  <tbody>\n",
       "    <tr>\n",
       "      <th>0</th>\n",
       "      <td>0.008998</td>\n",
       "      <td>0</td>\n",
       "      <td>0</td>\n",
       "    </tr>\n",
       "    <tr>\n",
       "      <th>1</th>\n",
       "      <td>0.204370</td>\n",
       "      <td>0</td>\n",
       "      <td>0</td>\n",
       "    </tr>\n",
       "    <tr>\n",
       "      <th>2</th>\n",
       "      <td>0.212051</td>\n",
       "      <td>0</td>\n",
       "      <td>0</td>\n",
       "    </tr>\n",
       "    <tr>\n",
       "      <th>3</th>\n",
       "      <td>0.543001</td>\n",
       "      <td>1</td>\n",
       "      <td>1</td>\n",
       "    </tr>\n",
       "    <tr>\n",
       "      <th>4</th>\n",
       "      <td>0.213627</td>\n",
       "      <td>0</td>\n",
       "      <td>0</td>\n",
       "    </tr>\n",
       "    <tr>\n",
       "      <th>...</th>\n",
       "      <td>...</td>\n",
       "      <td>...</td>\n",
       "      <td>...</td>\n",
       "    </tr>\n",
       "    <tr>\n",
       "      <th>1404</th>\n",
       "      <td>0.313505</td>\n",
       "      <td>0</td>\n",
       "      <td>0</td>\n",
       "    </tr>\n",
       "    <tr>\n",
       "      <th>1405</th>\n",
       "      <td>0.039354</td>\n",
       "      <td>0</td>\n",
       "      <td>1</td>\n",
       "    </tr>\n",
       "    <tr>\n",
       "      <th>1406</th>\n",
       "      <td>0.136380</td>\n",
       "      <td>0</td>\n",
       "      <td>0</td>\n",
       "    </tr>\n",
       "    <tr>\n",
       "      <th>1407</th>\n",
       "      <td>0.799702</td>\n",
       "      <td>1</td>\n",
       "      <td>1</td>\n",
       "    </tr>\n",
       "    <tr>\n",
       "      <th>1408</th>\n",
       "      <td>0.837341</td>\n",
       "      <td>1</td>\n",
       "      <td>1</td>\n",
       "    </tr>\n",
       "  </tbody>\n",
       "</table>\n",
       "<p>1409 rows × 3 columns</p>\n",
       "</div>"
      ],
      "text/plain": [
       "      probability  prediction  actual\n",
       "0        0.008998           0       0\n",
       "1        0.204370           0       0\n",
       "2        0.212051           0       0\n",
       "3        0.543001           1       1\n",
       "4        0.213627           0       0\n",
       "...           ...         ...     ...\n",
       "1404     0.313505           0       0\n",
       "1405     0.039354           0       1\n",
       "1406     0.136380           0       0\n",
       "1407     0.799702           1       1\n",
       "1408     0.837341           1       1\n",
       "\n",
       "[1409 rows x 3 columns]"
      ]
     },
     "execution_count": 77,
     "metadata": {},
     "output_type": "execute_result"
    }
   ],
   "source": [
    "# make a DF\n",
    "df_pred = pd.DataFrame()\n",
    "df_pred['probability'] = y_pred\n",
    "df_pred['prediction'] = churn_decision.astype(int)\n",
    "df_pred['actual'] = y_val\n",
    "df_pred"
   ]
  },
  {
   "cell_type": "code",
   "execution_count": 78,
   "id": "eba52ef0",
   "metadata": {
    "execution": {
     "iopub.execute_input": "2023-10-16T20:52:04.440212Z",
     "iopub.status.busy": "2023-10-16T20:52:04.439818Z",
     "iopub.status.idle": "2023-10-16T20:52:04.453953Z",
     "shell.execute_reply": "2023-10-16T20:52:04.452928Z"
    },
    "papermill": {
     "duration": 0.054127,
     "end_time": "2023-10-16T20:52:04.456153",
     "exception": false,
     "start_time": "2023-10-16T20:52:04.402026",
     "status": "completed"
    },
    "tags": []
   },
   "outputs": [
    {
     "data": {
      "text/html": [
       "<div>\n",
       "<style scoped>\n",
       "    .dataframe tbody tr th:only-of-type {\n",
       "        vertical-align: middle;\n",
       "    }\n",
       "\n",
       "    .dataframe tbody tr th {\n",
       "        vertical-align: top;\n",
       "    }\n",
       "\n",
       "    .dataframe thead th {\n",
       "        text-align: right;\n",
       "    }\n",
       "</style>\n",
       "<table border=\"1\" class=\"dataframe\">\n",
       "  <thead>\n",
       "    <tr style=\"text-align: right;\">\n",
       "      <th></th>\n",
       "      <th>probability</th>\n",
       "      <th>prediction</th>\n",
       "      <th>actual</th>\n",
       "      <th>correct</th>\n",
       "    </tr>\n",
       "  </thead>\n",
       "  <tbody>\n",
       "    <tr>\n",
       "      <th>0</th>\n",
       "      <td>0.008998</td>\n",
       "      <td>0</td>\n",
       "      <td>0</td>\n",
       "      <td>True</td>\n",
       "    </tr>\n",
       "    <tr>\n",
       "      <th>1</th>\n",
       "      <td>0.204370</td>\n",
       "      <td>0</td>\n",
       "      <td>0</td>\n",
       "      <td>True</td>\n",
       "    </tr>\n",
       "    <tr>\n",
       "      <th>2</th>\n",
       "      <td>0.212051</td>\n",
       "      <td>0</td>\n",
       "      <td>0</td>\n",
       "      <td>True</td>\n",
       "    </tr>\n",
       "    <tr>\n",
       "      <th>3</th>\n",
       "      <td>0.543001</td>\n",
       "      <td>1</td>\n",
       "      <td>1</td>\n",
       "      <td>True</td>\n",
       "    </tr>\n",
       "    <tr>\n",
       "      <th>4</th>\n",
       "      <td>0.213627</td>\n",
       "      <td>0</td>\n",
       "      <td>0</td>\n",
       "      <td>True</td>\n",
       "    </tr>\n",
       "    <tr>\n",
       "      <th>...</th>\n",
       "      <td>...</td>\n",
       "      <td>...</td>\n",
       "      <td>...</td>\n",
       "      <td>...</td>\n",
       "    </tr>\n",
       "    <tr>\n",
       "      <th>1404</th>\n",
       "      <td>0.313505</td>\n",
       "      <td>0</td>\n",
       "      <td>0</td>\n",
       "      <td>True</td>\n",
       "    </tr>\n",
       "    <tr>\n",
       "      <th>1405</th>\n",
       "      <td>0.039354</td>\n",
       "      <td>0</td>\n",
       "      <td>1</td>\n",
       "      <td>False</td>\n",
       "    </tr>\n",
       "    <tr>\n",
       "      <th>1406</th>\n",
       "      <td>0.136380</td>\n",
       "      <td>0</td>\n",
       "      <td>0</td>\n",
       "      <td>True</td>\n",
       "    </tr>\n",
       "    <tr>\n",
       "      <th>1407</th>\n",
       "      <td>0.799702</td>\n",
       "      <td>1</td>\n",
       "      <td>1</td>\n",
       "      <td>True</td>\n",
       "    </tr>\n",
       "    <tr>\n",
       "      <th>1408</th>\n",
       "      <td>0.837341</td>\n",
       "      <td>1</td>\n",
       "      <td>1</td>\n",
       "      <td>True</td>\n",
       "    </tr>\n",
       "  </tbody>\n",
       "</table>\n",
       "<p>1409 rows × 4 columns</p>\n",
       "</div>"
      ],
      "text/plain": [
       "      probability  prediction  actual  correct\n",
       "0        0.008998           0       0     True\n",
       "1        0.204370           0       0     True\n",
       "2        0.212051           0       0     True\n",
       "3        0.543001           1       1     True\n",
       "4        0.213627           0       0     True\n",
       "...           ...         ...     ...      ...\n",
       "1404     0.313505           0       0     True\n",
       "1405     0.039354           0       1    False\n",
       "1406     0.136380           0       0     True\n",
       "1407     0.799702           1       1     True\n",
       "1408     0.837341           1       1     True\n",
       "\n",
       "[1409 rows x 4 columns]"
      ]
     },
     "execution_count": 78,
     "metadata": {},
     "output_type": "execute_result"
    }
   ],
   "source": [
    "df_pred['correct'] = df_pred.prediction == df_pred.actual\n",
    "df_pred"
   ]
  },
  {
   "cell_type": "code",
   "execution_count": 79,
   "id": "ad776424",
   "metadata": {
    "execution": {
     "iopub.execute_input": "2023-10-16T20:52:04.530620Z",
     "iopub.status.busy": "2023-10-16T20:52:04.530240Z",
     "iopub.status.idle": "2023-10-16T20:52:04.536793Z",
     "shell.execute_reply": "2023-10-16T20:52:04.535649Z"
    },
    "papermill": {
     "duration": 0.045285,
     "end_time": "2023-10-16T20:52:04.538642",
     "exception": false,
     "start_time": "2023-10-16T20:52:04.493357",
     "status": "completed"
    },
    "tags": []
   },
   "outputs": [
    {
     "data": {
      "text/plain": [
       "0.8034066713981547"
      ]
     },
     "execution_count": 79,
     "metadata": {},
     "output_type": "execute_result"
    }
   ],
   "source": [
    "df_pred.correct.mean()"
   ]
  },
  {
   "cell_type": "markdown",
   "id": "21230b54",
   "metadata": {
    "papermill": {
     "duration": 0.035592,
     "end_time": "2023-10-16T20:52:04.609330",
     "exception": false,
     "start_time": "2023-10-16T20:52:04.573738",
     "status": "completed"
    },
    "tags": []
   },
   "source": [
    "Model Interpretation"
   ]
  },
  {
   "cell_type": "code",
   "execution_count": 80,
   "id": "74dc758d",
   "metadata": {
    "execution": {
     "iopub.execute_input": "2023-10-16T20:52:04.682791Z",
     "iopub.status.busy": "2023-10-16T20:52:04.682369Z",
     "iopub.status.idle": "2023-10-16T20:52:04.689208Z",
     "shell.execute_reply": "2023-10-16T20:52:04.688482Z"
    },
    "papermill": {
     "duration": 0.046026,
     "end_time": "2023-10-16T20:52:04.690982",
     "exception": false,
     "start_time": "2023-10-16T20:52:04.644956",
     "status": "completed"
    },
    "tags": []
   },
   "outputs": [
    {
     "data": {
      "text/plain": [
       "{'contract=month-to-month': 0.475,\n",
       " 'contract=one_year': -0.175,\n",
       " 'contract=two_year': -0.407,\n",
       " 'dependents=no': -0.03,\n",
       " 'dependents=yes': -0.078,\n",
       " 'deviceprotection=no': 0.063,\n",
       " 'deviceprotection=no_internet_service': -0.089,\n",
       " 'deviceprotection=yes': -0.081,\n",
       " 'gender=female': -0.034,\n",
       " 'gender=male': -0.073,\n",
       " 'internetservice=dsl': -0.335,\n",
       " 'internetservice=fiber_optic': 0.316,\n",
       " 'internetservice=no': -0.089,\n",
       " 'monthlycharges': 0.004,\n",
       " 'multiplelines=no': -0.258,\n",
       " 'multiplelines=no_phone_service': 0.141,\n",
       " 'multiplelines=yes': 0.009,\n",
       " 'onlinebackup=no': 0.063,\n",
       " 'onlinebackup=no_internet_service': -0.089,\n",
       " 'onlinebackup=yes': -0.081,\n",
       " 'onlinesecurity=no': 0.266,\n",
       " 'onlinesecurity=no_internet_service': -0.089,\n",
       " 'onlinesecurity=yes': -0.284,\n",
       " 'paperlessbilling=no': -0.231,\n",
       " 'paperlessbilling=yes': 0.123,\n",
       " 'partner=no': -0.166,\n",
       " 'partner=yes': 0.058,\n",
       " 'paymentmethod=bank_transfer_(automatic)': -0.087,\n",
       " 'paymentmethod=credit_card_(automatic)': -0.032,\n",
       " 'paymentmethod=electronic_check': 0.07,\n",
       " 'paymentmethod=mailed_check': -0.059,\n",
       " 'phoneservice=no': 0.141,\n",
       " 'phoneservice=yes': -0.249,\n",
       " 'seniorcitizen': 0.215,\n",
       " 'streamingmovies=no': -0.12,\n",
       " 'streamingmovies=no_internet_service': -0.089,\n",
       " 'streamingmovies=yes': 0.102,\n",
       " 'streamingtv=no': -0.071,\n",
       " 'streamingtv=no_internet_service': -0.089,\n",
       " 'streamingtv=yes': 0.052,\n",
       " 'techsupport=no': 0.213,\n",
       " 'techsupport=no_internet_service': -0.089,\n",
       " 'techsupport=yes': -0.232,\n",
       " 'tenure': -0.07,\n",
       " 'totalcharges': 0.0}"
      ]
     },
     "execution_count": 80,
     "metadata": {},
     "output_type": "execute_result"
    }
   ],
   "source": [
    "dict(zip(dv.get_feature_names_out(), model.coef_[0].round(3)))"
   ]
  },
  {
   "cell_type": "code",
   "execution_count": 81,
   "id": "425e66cf",
   "metadata": {
    "execution": {
     "iopub.execute_input": "2023-10-16T20:52:04.764628Z",
     "iopub.status.busy": "2023-10-16T20:52:04.764243Z",
     "iopub.status.idle": "2023-10-16T20:52:04.785806Z",
     "shell.execute_reply": "2023-10-16T20:52:04.784813Z"
    },
    "papermill": {
     "duration": 0.061268,
     "end_time": "2023-10-16T20:52:04.788092",
     "exception": false,
     "start_time": "2023-10-16T20:52:04.726824",
     "status": "completed"
    },
    "tags": []
   },
   "outputs": [],
   "source": [
    "small = ['contract', 'tenure', 'monthlycharges']\n",
    "df_small_train = df_train[small].to_dict(orient=\"records\")\n",
    "df_small_val = df_val[small].to_dict(orient=\"records\")"
   ]
  },
  {
   "cell_type": "code",
   "execution_count": 82,
   "id": "40be022e",
   "metadata": {
    "execution": {
     "iopub.execute_input": "2023-10-16T20:52:04.862389Z",
     "iopub.status.busy": "2023-10-16T20:52:04.861518Z",
     "iopub.status.idle": "2023-10-16T20:52:04.884020Z",
     "shell.execute_reply": "2023-10-16T20:52:04.883149Z"
    },
    "papermill": {
     "duration": 0.062374,
     "end_time": "2023-10-16T20:52:04.885897",
     "exception": false,
     "start_time": "2023-10-16T20:52:04.823523",
     "status": "completed"
    },
    "tags": []
   },
   "outputs": [
    {
     "data": {
      "text/plain": [
       "array([[  0.  ,   0.  ,   1.  , 115.5 ,  72.  ],\n",
       "       [  1.  ,   0.  ,   0.  ,  95.25,  10.  ],\n",
       "       [  1.  ,   0.  ,   0.  ,  75.55,   5.  ],\n",
       "       ...,\n",
       "       [  1.  ,   0.  ,   0.  ,  90.  ,   2.  ],\n",
       "       [  0.  ,   0.  ,   1.  ,  24.5 ,  27.  ],\n",
       "       [  1.  ,   0.  ,   0.  ,  80.85,   9.  ]])"
      ]
     },
     "execution_count": 82,
     "metadata": {},
     "output_type": "execute_result"
    }
   ],
   "source": [
    "dv_small = DictVectorizer(sparse=False)\n",
    "dv_small.fit_transform(df_small_train)"
   ]
  },
  {
   "cell_type": "code",
   "execution_count": 83,
   "id": "85378a6f",
   "metadata": {
    "execution": {
     "iopub.execute_input": "2023-10-16T20:52:04.961526Z",
     "iopub.status.busy": "2023-10-16T20:52:04.960827Z",
     "iopub.status.idle": "2023-10-16T20:52:04.966894Z",
     "shell.execute_reply": "2023-10-16T20:52:04.965788Z"
    },
    "papermill": {
     "duration": 0.047113,
     "end_time": "2023-10-16T20:52:04.968964",
     "exception": false,
     "start_time": "2023-10-16T20:52:04.921851",
     "status": "completed"
    },
    "tags": []
   },
   "outputs": [
    {
     "data": {
      "text/plain": [
       "array(['contract=month-to-month', 'contract=one_year',\n",
       "       'contract=two_year', 'monthlycharges', 'tenure'], dtype=object)"
      ]
     },
     "execution_count": 83,
     "metadata": {},
     "output_type": "execute_result"
    }
   ],
   "source": [
    "dv_small.get_feature_names_out()"
   ]
  },
  {
   "cell_type": "code",
   "execution_count": 84,
   "id": "4ae206c0",
   "metadata": {
    "execution": {
     "iopub.execute_input": "2023-10-16T20:52:05.042266Z",
     "iopub.status.busy": "2023-10-16T20:52:05.041875Z",
     "iopub.status.idle": "2023-10-16T20:52:05.062213Z",
     "shell.execute_reply": "2023-10-16T20:52:05.061325Z"
    },
    "papermill": {
     "duration": 0.059532,
     "end_time": "2023-10-16T20:52:05.064406",
     "exception": false,
     "start_time": "2023-10-16T20:52:05.004874",
     "status": "completed"
    },
    "tags": []
   },
   "outputs": [],
   "source": [
    "X_train_small = dv_small.fit_transform(df_small_train)"
   ]
  },
  {
   "cell_type": "code",
   "execution_count": 85,
   "id": "de67be24",
   "metadata": {
    "execution": {
     "iopub.execute_input": "2023-10-16T20:52:05.138173Z",
     "iopub.status.busy": "2023-10-16T20:52:05.137494Z",
     "iopub.status.idle": "2023-10-16T20:52:05.204670Z",
     "shell.execute_reply": "2023-10-16T20:52:05.203253Z"
    },
    "papermill": {
     "duration": 0.108222,
     "end_time": "2023-10-16T20:52:05.208354",
     "exception": false,
     "start_time": "2023-10-16T20:52:05.100132",
     "status": "completed"
    },
    "tags": []
   },
   "outputs": [
    {
     "data": {
      "text/html": [
       "<style>#sk-container-id-4 {color: black;background-color: white;}#sk-container-id-4 pre{padding: 0;}#sk-container-id-4 div.sk-toggleable {background-color: white;}#sk-container-id-4 label.sk-toggleable__label {cursor: pointer;display: block;width: 100%;margin-bottom: 0;padding: 0.3em;box-sizing: border-box;text-align: center;}#sk-container-id-4 label.sk-toggleable__label-arrow:before {content: \"▸\";float: left;margin-right: 0.25em;color: #696969;}#sk-container-id-4 label.sk-toggleable__label-arrow:hover:before {color: black;}#sk-container-id-4 div.sk-estimator:hover label.sk-toggleable__label-arrow:before {color: black;}#sk-container-id-4 div.sk-toggleable__content {max-height: 0;max-width: 0;overflow: hidden;text-align: left;background-color: #f0f8ff;}#sk-container-id-4 div.sk-toggleable__content pre {margin: 0.2em;color: black;border-radius: 0.25em;background-color: #f0f8ff;}#sk-container-id-4 input.sk-toggleable__control:checked~div.sk-toggleable__content {max-height: 200px;max-width: 100%;overflow: auto;}#sk-container-id-4 input.sk-toggleable__control:checked~label.sk-toggleable__label-arrow:before {content: \"▾\";}#sk-container-id-4 div.sk-estimator input.sk-toggleable__control:checked~label.sk-toggleable__label {background-color: #d4ebff;}#sk-container-id-4 div.sk-label input.sk-toggleable__control:checked~label.sk-toggleable__label {background-color: #d4ebff;}#sk-container-id-4 input.sk-hidden--visually {border: 0;clip: rect(1px 1px 1px 1px);clip: rect(1px, 1px, 1px, 1px);height: 1px;margin: -1px;overflow: hidden;padding: 0;position: absolute;width: 1px;}#sk-container-id-4 div.sk-estimator {font-family: monospace;background-color: #f0f8ff;border: 1px dotted black;border-radius: 0.25em;box-sizing: border-box;margin-bottom: 0.5em;}#sk-container-id-4 div.sk-estimator:hover {background-color: #d4ebff;}#sk-container-id-4 div.sk-parallel-item::after {content: \"\";width: 100%;border-bottom: 1px solid gray;flex-grow: 1;}#sk-container-id-4 div.sk-label:hover label.sk-toggleable__label {background-color: #d4ebff;}#sk-container-id-4 div.sk-serial::before {content: \"\";position: absolute;border-left: 1px solid gray;box-sizing: border-box;top: 0;bottom: 0;left: 50%;z-index: 0;}#sk-container-id-4 div.sk-serial {display: flex;flex-direction: column;align-items: center;background-color: white;padding-right: 0.2em;padding-left: 0.2em;position: relative;}#sk-container-id-4 div.sk-item {position: relative;z-index: 1;}#sk-container-id-4 div.sk-parallel {display: flex;align-items: stretch;justify-content: center;background-color: white;position: relative;}#sk-container-id-4 div.sk-item::before, #sk-container-id-4 div.sk-parallel-item::before {content: \"\";position: absolute;border-left: 1px solid gray;box-sizing: border-box;top: 0;bottom: 0;left: 50%;z-index: -1;}#sk-container-id-4 div.sk-parallel-item {display: flex;flex-direction: column;z-index: 1;position: relative;background-color: white;}#sk-container-id-4 div.sk-parallel-item:first-child::after {align-self: flex-end;width: 50%;}#sk-container-id-4 div.sk-parallel-item:last-child::after {align-self: flex-start;width: 50%;}#sk-container-id-4 div.sk-parallel-item:only-child::after {width: 0;}#sk-container-id-4 div.sk-dashed-wrapped {border: 1px dashed gray;margin: 0 0.4em 0.5em 0.4em;box-sizing: border-box;padding-bottom: 0.4em;background-color: white;}#sk-container-id-4 div.sk-label label {font-family: monospace;font-weight: bold;display: inline-block;line-height: 1.2em;}#sk-container-id-4 div.sk-label-container {text-align: center;}#sk-container-id-4 div.sk-container {/* jupyter's `normalize.less` sets `[hidden] { display: none; }` but bootstrap.min.css set `[hidden] { display: none !important; }` so we also need the `!important` here to be able to override the default hidden behavior on the sphinx rendered scikit-learn.org. See: https://github.com/scikit-learn/scikit-learn/issues/21755 */display: inline-block !important;position: relative;}#sk-container-id-4 div.sk-text-repr-fallback {display: none;}</style><div id=\"sk-container-id-4\" class=\"sk-top-container\"><div class=\"sk-text-repr-fallback\"><pre>LogisticRegression()</pre><b>In a Jupyter environment, please rerun this cell to show the HTML representation or trust the notebook. <br />On GitHub, the HTML representation is unable to render, please try loading this page with nbviewer.org.</b></div><div class=\"sk-container\" hidden><div class=\"sk-item\"><div class=\"sk-estimator sk-toggleable\"><input class=\"sk-toggleable__control sk-hidden--visually\" id=\"sk-estimator-id-4\" type=\"checkbox\" checked><label for=\"sk-estimator-id-4\" class=\"sk-toggleable__label sk-toggleable__label-arrow\">LogisticRegression</label><div class=\"sk-toggleable__content\"><pre>LogisticRegression()</pre></div></div></div></div></div>"
      ],
      "text/plain": [
       "LogisticRegression()"
      ]
     },
     "execution_count": 85,
     "metadata": {},
     "output_type": "execute_result"
    }
   ],
   "source": [
    "model_small = LogisticRegression()\n",
    "model_small.fit(X_train_small, y_train)"
   ]
  },
  {
   "cell_type": "code",
   "execution_count": 86,
   "id": "25f27ab7",
   "metadata": {
    "execution": {
     "iopub.execute_input": "2023-10-16T20:52:05.355893Z",
     "iopub.status.busy": "2023-10-16T20:52:05.355496Z",
     "iopub.status.idle": "2023-10-16T20:52:05.361525Z",
     "shell.execute_reply": "2023-10-16T20:52:05.360488Z"
    },
    "papermill": {
     "duration": 0.044738,
     "end_time": "2023-10-16T20:52:05.363484",
     "exception": false,
     "start_time": "2023-10-16T20:52:05.318746",
     "status": "completed"
    },
    "tags": []
   },
   "outputs": [
    {
     "data": {
      "text/plain": [
       "-2.476775662198788"
      ]
     },
     "execution_count": 86,
     "metadata": {},
     "output_type": "execute_result"
    }
   ],
   "source": [
    "w0 = model_small.intercept_[0]\n",
    "w0"
   ]
  },
  {
   "cell_type": "code",
   "execution_count": 87,
   "id": "747436c9",
   "metadata": {
    "execution": {
     "iopub.execute_input": "2023-10-16T20:52:05.438936Z",
     "iopub.status.busy": "2023-10-16T20:52:05.438455Z",
     "iopub.status.idle": "2023-10-16T20:52:05.444285Z",
     "shell.execute_reply": "2023-10-16T20:52:05.443600Z"
    },
    "papermill": {
     "duration": 0.045783,
     "end_time": "2023-10-16T20:52:05.446252",
     "exception": false,
     "start_time": "2023-10-16T20:52:05.400469",
     "status": "completed"
    },
    "tags": []
   },
   "outputs": [
    {
     "data": {
      "text/plain": [
       "array([ 0.97 , -0.025, -0.949,  0.027, -0.036])"
      ]
     },
     "execution_count": 87,
     "metadata": {},
     "output_type": "execute_result"
    }
   ],
   "source": [
    "w = model_small.coef_[0]\n",
    "w.round(3)"
   ]
  },
  {
   "cell_type": "code",
   "execution_count": 88,
   "id": "b62d7e4d",
   "metadata": {
    "execution": {
     "iopub.execute_input": "2023-10-16T20:52:05.521053Z",
     "iopub.status.busy": "2023-10-16T20:52:05.519830Z",
     "iopub.status.idle": "2023-10-16T20:52:05.527093Z",
     "shell.execute_reply": "2023-10-16T20:52:05.526278Z"
    },
    "papermill": {
     "duration": 0.046164,
     "end_time": "2023-10-16T20:52:05.528913",
     "exception": false,
     "start_time": "2023-10-16T20:52:05.482749",
     "status": "completed"
    },
    "tags": []
   },
   "outputs": [
    {
     "data": {
      "text/plain": [
       "{'contract=month-to-month': 0.97,\n",
       " 'contract=one_year': -0.025,\n",
       " 'contract=two_year': -0.949,\n",
       " 'monthlycharges': 0.027,\n",
       " 'tenure': -0.036}"
      ]
     },
     "execution_count": 88,
     "metadata": {},
     "output_type": "execute_result"
    }
   ],
   "source": [
    "dict(zip(dv_small.get_feature_names_out(), w.round(3)))"
   ]
  },
  {
   "cell_type": "code",
   "execution_count": 89,
   "id": "d08af4ee",
   "metadata": {
    "execution": {
     "iopub.execute_input": "2023-10-16T20:52:05.604697Z",
     "iopub.status.busy": "2023-10-16T20:52:05.603407Z",
     "iopub.status.idle": "2023-10-16T20:52:05.610254Z",
     "shell.execute_reply": "2023-10-16T20:52:05.609457Z"
    },
    "papermill": {
     "duration": 0.046649,
     "end_time": "2023-10-16T20:52:05.612207",
     "exception": false,
     "start_time": "2023-10-16T20:52:05.565558",
     "status": "completed"
    },
    "tags": []
   },
   "outputs": [
    {
     "data": {
      "text/plain": [
       "0.6239999999999999"
      ]
     },
     "execution_count": 89,
     "metadata": {},
     "output_type": "execute_result"
    }
   ],
   "source": [
    "# fake customer - contract, monthly charges, tenure\n",
    "-2.47 + 0.97 + 80 * 0.027 + 1 * -.036\n"
   ]
  },
  {
   "cell_type": "code",
   "execution_count": 90,
   "id": "fdcad0db",
   "metadata": {
    "execution": {
     "iopub.execute_input": "2023-10-16T20:52:05.687876Z",
     "iopub.status.busy": "2023-10-16T20:52:05.687380Z",
     "iopub.status.idle": "2023-10-16T20:52:05.693936Z",
     "shell.execute_reply": "2023-10-16T20:52:05.692884Z"
    },
    "papermill": {
     "duration": 0.047029,
     "end_time": "2023-10-16T20:52:05.696059",
     "exception": false,
     "start_time": "2023-10-16T20:52:05.649030",
     "status": "completed"
    },
    "tags": []
   },
   "outputs": [
    {
     "data": {
      "text/plain": [
       "0.6511277386034051"
      ]
     },
     "execution_count": 90,
     "metadata": {},
     "output_type": "execute_result"
    }
   ],
   "source": [
    "sigmoid(0.6239999999999999)"
   ]
  },
  {
   "cell_type": "markdown",
   "id": "4be7010c",
   "metadata": {
    "papermill": {
     "duration": 0.037287,
     "end_time": "2023-10-16T20:52:05.769691",
     "exception": false,
     "start_time": "2023-10-16T20:52:05.732404",
     "status": "completed"
    },
    "tags": []
   },
   "source": [
    "Using the model"
   ]
  },
  {
   "cell_type": "code",
   "execution_count": 91,
   "id": "1f16be25",
   "metadata": {
    "execution": {
     "iopub.execute_input": "2023-10-16T20:52:05.844471Z",
     "iopub.status.busy": "2023-10-16T20:52:05.843794Z",
     "iopub.status.idle": "2023-10-16T20:52:05.947102Z",
     "shell.execute_reply": "2023-10-16T20:52:05.946239Z"
    },
    "papermill": {
     "duration": 0.143305,
     "end_time": "2023-10-16T20:52:05.949375",
     "exception": false,
     "start_time": "2023-10-16T20:52:05.806070",
     "status": "completed"
    },
    "tags": []
   },
   "outputs": [],
   "source": [
    "dicts_full_train = df_full_train[categorical + numerical].to_dict(orient=\"records\")\n"
   ]
  },
  {
   "cell_type": "code",
   "execution_count": 92,
   "id": "f17d1049",
   "metadata": {
    "execution": {
     "iopub.execute_input": "2023-10-16T20:52:06.024794Z",
     "iopub.status.busy": "2023-10-16T20:52:06.024396Z",
     "iopub.status.idle": "2023-10-16T20:52:06.167694Z",
     "shell.execute_reply": "2023-10-16T20:52:06.166449Z"
    },
    "papermill": {
     "duration": 0.184003,
     "end_time": "2023-10-16T20:52:06.170057",
     "exception": false,
     "start_time": "2023-10-16T20:52:05.986054",
     "status": "completed"
    },
    "tags": []
   },
   "outputs": [],
   "source": [
    "dv = DictVectorizer(sparse=False)\n",
    "X_full_train = dv.fit_transform(dicts_full_train)"
   ]
  },
  {
   "cell_type": "code",
   "execution_count": 93,
   "id": "14d31791",
   "metadata": {
    "execution": {
     "iopub.execute_input": "2023-10-16T20:52:06.245909Z",
     "iopub.status.busy": "2023-10-16T20:52:06.244968Z",
     "iopub.status.idle": "2023-10-16T20:52:06.249898Z",
     "shell.execute_reply": "2023-10-16T20:52:06.249174Z"
    },
    "papermill": {
     "duration": 0.044141,
     "end_time": "2023-10-16T20:52:06.251779",
     "exception": false,
     "start_time": "2023-10-16T20:52:06.207638",
     "status": "completed"
    },
    "tags": []
   },
   "outputs": [],
   "source": [
    "y_full_train = df_full_train.churn.values"
   ]
  },
  {
   "cell_type": "code",
   "execution_count": 94,
   "id": "bc0f1b7d",
   "metadata": {
    "execution": {
     "iopub.execute_input": "2023-10-16T20:52:06.327086Z",
     "iopub.status.busy": "2023-10-16T20:52:06.326479Z",
     "iopub.status.idle": "2023-10-16T20:52:06.419149Z",
     "shell.execute_reply": "2023-10-16T20:52:06.417944Z"
    },
    "papermill": {
     "duration": 0.134378,
     "end_time": "2023-10-16T20:52:06.422883",
     "exception": false,
     "start_time": "2023-10-16T20:52:06.288505",
     "status": "completed"
    },
    "tags": []
   },
   "outputs": [
    {
     "data": {
      "text/html": [
       "<style>#sk-container-id-5 {color: black;background-color: white;}#sk-container-id-5 pre{padding: 0;}#sk-container-id-5 div.sk-toggleable {background-color: white;}#sk-container-id-5 label.sk-toggleable__label {cursor: pointer;display: block;width: 100%;margin-bottom: 0;padding: 0.3em;box-sizing: border-box;text-align: center;}#sk-container-id-5 label.sk-toggleable__label-arrow:before {content: \"▸\";float: left;margin-right: 0.25em;color: #696969;}#sk-container-id-5 label.sk-toggleable__label-arrow:hover:before {color: black;}#sk-container-id-5 div.sk-estimator:hover label.sk-toggleable__label-arrow:before {color: black;}#sk-container-id-5 div.sk-toggleable__content {max-height: 0;max-width: 0;overflow: hidden;text-align: left;background-color: #f0f8ff;}#sk-container-id-5 div.sk-toggleable__content pre {margin: 0.2em;color: black;border-radius: 0.25em;background-color: #f0f8ff;}#sk-container-id-5 input.sk-toggleable__control:checked~div.sk-toggleable__content {max-height: 200px;max-width: 100%;overflow: auto;}#sk-container-id-5 input.sk-toggleable__control:checked~label.sk-toggleable__label-arrow:before {content: \"▾\";}#sk-container-id-5 div.sk-estimator input.sk-toggleable__control:checked~label.sk-toggleable__label {background-color: #d4ebff;}#sk-container-id-5 div.sk-label input.sk-toggleable__control:checked~label.sk-toggleable__label {background-color: #d4ebff;}#sk-container-id-5 input.sk-hidden--visually {border: 0;clip: rect(1px 1px 1px 1px);clip: rect(1px, 1px, 1px, 1px);height: 1px;margin: -1px;overflow: hidden;padding: 0;position: absolute;width: 1px;}#sk-container-id-5 div.sk-estimator {font-family: monospace;background-color: #f0f8ff;border: 1px dotted black;border-radius: 0.25em;box-sizing: border-box;margin-bottom: 0.5em;}#sk-container-id-5 div.sk-estimator:hover {background-color: #d4ebff;}#sk-container-id-5 div.sk-parallel-item::after {content: \"\";width: 100%;border-bottom: 1px solid gray;flex-grow: 1;}#sk-container-id-5 div.sk-label:hover label.sk-toggleable__label {background-color: #d4ebff;}#sk-container-id-5 div.sk-serial::before {content: \"\";position: absolute;border-left: 1px solid gray;box-sizing: border-box;top: 0;bottom: 0;left: 50%;z-index: 0;}#sk-container-id-5 div.sk-serial {display: flex;flex-direction: column;align-items: center;background-color: white;padding-right: 0.2em;padding-left: 0.2em;position: relative;}#sk-container-id-5 div.sk-item {position: relative;z-index: 1;}#sk-container-id-5 div.sk-parallel {display: flex;align-items: stretch;justify-content: center;background-color: white;position: relative;}#sk-container-id-5 div.sk-item::before, #sk-container-id-5 div.sk-parallel-item::before {content: \"\";position: absolute;border-left: 1px solid gray;box-sizing: border-box;top: 0;bottom: 0;left: 50%;z-index: -1;}#sk-container-id-5 div.sk-parallel-item {display: flex;flex-direction: column;z-index: 1;position: relative;background-color: white;}#sk-container-id-5 div.sk-parallel-item:first-child::after {align-self: flex-end;width: 50%;}#sk-container-id-5 div.sk-parallel-item:last-child::after {align-self: flex-start;width: 50%;}#sk-container-id-5 div.sk-parallel-item:only-child::after {width: 0;}#sk-container-id-5 div.sk-dashed-wrapped {border: 1px dashed gray;margin: 0 0.4em 0.5em 0.4em;box-sizing: border-box;padding-bottom: 0.4em;background-color: white;}#sk-container-id-5 div.sk-label label {font-family: monospace;font-weight: bold;display: inline-block;line-height: 1.2em;}#sk-container-id-5 div.sk-label-container {text-align: center;}#sk-container-id-5 div.sk-container {/* jupyter's `normalize.less` sets `[hidden] { display: none; }` but bootstrap.min.css set `[hidden] { display: none !important; }` so we also need the `!important` here to be able to override the default hidden behavior on the sphinx rendered scikit-learn.org. See: https://github.com/scikit-learn/scikit-learn/issues/21755 */display: inline-block !important;position: relative;}#sk-container-id-5 div.sk-text-repr-fallback {display: none;}</style><div id=\"sk-container-id-5\" class=\"sk-top-container\"><div class=\"sk-text-repr-fallback\"><pre>LogisticRegression()</pre><b>In a Jupyter environment, please rerun this cell to show the HTML representation or trust the notebook. <br />On GitHub, the HTML representation is unable to render, please try loading this page with nbviewer.org.</b></div><div class=\"sk-container\" hidden><div class=\"sk-item\"><div class=\"sk-estimator sk-toggleable\"><input class=\"sk-toggleable__control sk-hidden--visually\" id=\"sk-estimator-id-5\" type=\"checkbox\" checked><label for=\"sk-estimator-id-5\" class=\"sk-toggleable__label sk-toggleable__label-arrow\">LogisticRegression</label><div class=\"sk-toggleable__content\"><pre>LogisticRegression()</pre></div></div></div></div></div>"
      ],
      "text/plain": [
       "LogisticRegression()"
      ]
     },
     "execution_count": 94,
     "metadata": {},
     "output_type": "execute_result"
    }
   ],
   "source": [
    "model = LogisticRegression()\n",
    "model.fit(X_full_train, y_full_train)"
   ]
  },
  {
   "cell_type": "code",
   "execution_count": 95,
   "id": "b42fac6f",
   "metadata": {
    "execution": {
     "iopub.execute_input": "2023-10-16T20:52:06.575031Z",
     "iopub.status.busy": "2023-10-16T20:52:06.574673Z",
     "iopub.status.idle": "2023-10-16T20:52:06.607712Z",
     "shell.execute_reply": "2023-10-16T20:52:06.606757Z"
    },
    "papermill": {
     "duration": 0.07404,
     "end_time": "2023-10-16T20:52:06.610069",
     "exception": false,
     "start_time": "2023-10-16T20:52:06.536029",
     "status": "completed"
    },
    "tags": []
   },
   "outputs": [],
   "source": [
    "dicts_test = df_test[categorical + numerical].to_dict(orient=\"records\")\n"
   ]
  },
  {
   "cell_type": "code",
   "execution_count": 96,
   "id": "08f19c87",
   "metadata": {
    "execution": {
     "iopub.execute_input": "2023-10-16T20:52:06.686231Z",
     "iopub.status.busy": "2023-10-16T20:52:06.685694Z",
     "iopub.status.idle": "2023-10-16T20:52:06.720501Z",
     "shell.execute_reply": "2023-10-16T20:52:06.719585Z"
    },
    "papermill": {
     "duration": 0.076098,
     "end_time": "2023-10-16T20:52:06.722879",
     "exception": false,
     "start_time": "2023-10-16T20:52:06.646781",
     "status": "completed"
    },
    "tags": []
   },
   "outputs": [],
   "source": [
    "X_test = dv.transform(dicts_test)"
   ]
  },
  {
   "cell_type": "code",
   "execution_count": 97,
   "id": "4a921fd6",
   "metadata": {
    "execution": {
     "iopub.execute_input": "2023-10-16T20:52:06.799498Z",
     "iopub.status.busy": "2023-10-16T20:52:06.798934Z",
     "iopub.status.idle": "2023-10-16T20:52:06.807159Z",
     "shell.execute_reply": "2023-10-16T20:52:06.805734Z"
    },
    "papermill": {
     "duration": 0.051262,
     "end_time": "2023-10-16T20:52:06.811129",
     "exception": false,
     "start_time": "2023-10-16T20:52:06.759867",
     "status": "completed"
    },
    "tags": []
   },
   "outputs": [],
   "source": [
    "y_pred = model.predict_proba(X_val)[:, 1]"
   ]
  },
  {
   "cell_type": "code",
   "execution_count": 98,
   "id": "691d1048",
   "metadata": {
    "execution": {
     "iopub.execute_input": "2023-10-16T20:52:06.963299Z",
     "iopub.status.busy": "2023-10-16T20:52:06.962906Z",
     "iopub.status.idle": "2023-10-16T20:52:06.967375Z",
     "shell.execute_reply": "2023-10-16T20:52:06.966660Z"
    },
    "papermill": {
     "duration": 0.044524,
     "end_time": "2023-10-16T20:52:06.969551",
     "exception": false,
     "start_time": "2023-10-16T20:52:06.925027",
     "status": "completed"
    },
    "tags": []
   },
   "outputs": [],
   "source": [
    "churn_decision = (y_pred >= 0.5)"
   ]
  },
  {
   "cell_type": "code",
   "execution_count": 99,
   "id": "6a9fb56d",
   "metadata": {
    "execution": {
     "iopub.execute_input": "2023-10-16T20:52:07.046207Z",
     "iopub.status.busy": "2023-10-16T20:52:07.045172Z",
     "iopub.status.idle": "2023-10-16T20:52:07.050608Z",
     "shell.execute_reply": "2023-10-16T20:52:07.049918Z"
    },
    "papermill": {
     "duration": 0.045521,
     "end_time": "2023-10-16T20:52:07.052487",
     "exception": false,
     "start_time": "2023-10-16T20:52:07.006966",
     "status": "completed"
    },
    "tags": []
   },
   "outputs": [
    {
     "data": {
      "text/plain": [
       "0.6486870120652946"
      ]
     },
     "execution_count": 99,
     "metadata": {},
     "output_type": "execute_result"
    }
   ],
   "source": [
    "(churn_decision == y_test).mean()"
   ]
  },
  {
   "cell_type": "code",
   "execution_count": 100,
   "id": "3a3ac866",
   "metadata": {
    "execution": {
     "iopub.execute_input": "2023-10-16T20:52:07.130236Z",
     "iopub.status.busy": "2023-10-16T20:52:07.129346Z",
     "iopub.status.idle": "2023-10-16T20:52:07.133403Z",
     "shell.execute_reply": "2023-10-16T20:52:07.132667Z"
    },
    "papermill": {
     "duration": 0.045492,
     "end_time": "2023-10-16T20:52:07.135344",
     "exception": false,
     "start_time": "2023-10-16T20:52:07.089852",
     "status": "completed"
    },
    "tags": []
   },
   "outputs": [],
   "source": [
    "customer = dicts_test[-1]"
   ]
  },
  {
   "cell_type": "code",
   "execution_count": 101,
   "id": "91544477",
   "metadata": {
    "execution": {
     "iopub.execute_input": "2023-10-16T20:52:07.213681Z",
     "iopub.status.busy": "2023-10-16T20:52:07.213290Z",
     "iopub.status.idle": "2023-10-16T20:52:07.218052Z",
     "shell.execute_reply": "2023-10-16T20:52:07.216893Z"
    },
    "papermill": {
     "duration": 0.046802,
     "end_time": "2023-10-16T20:52:07.220017",
     "exception": false,
     "start_time": "2023-10-16T20:52:07.173215",
     "status": "completed"
    },
    "tags": []
   },
   "outputs": [],
   "source": [
    "X_small = dv.transform([customer])"
   ]
  },
  {
   "cell_type": "code",
   "execution_count": 102,
   "id": "87d0826d",
   "metadata": {
    "execution": {
     "iopub.execute_input": "2023-10-16T20:52:07.297940Z",
     "iopub.status.busy": "2023-10-16T20:52:07.297193Z",
     "iopub.status.idle": "2023-10-16T20:52:07.303176Z",
     "shell.execute_reply": "2023-10-16T20:52:07.302495Z"
    },
    "papermill": {
     "duration": 0.047644,
     "end_time": "2023-10-16T20:52:07.305025",
     "exception": false,
     "start_time": "2023-10-16T20:52:07.257381",
     "status": "completed"
    },
    "tags": []
   },
   "outputs": [
    {
     "data": {
      "text/plain": [
       "0.5968852088271023"
      ]
     },
     "execution_count": 102,
     "metadata": {},
     "output_type": "execute_result"
    }
   ],
   "source": [
    "model.predict_proba(X_small)[0, 1]"
   ]
  },
  {
   "cell_type": "markdown",
   "id": "770355c1",
   "metadata": {
    "papermill": {
     "duration": 0.038116,
     "end_time": "2023-10-16T20:52:07.381164",
     "exception": false,
     "start_time": "2023-10-16T20:52:07.343048",
     "status": "completed"
    },
    "tags": []
   },
   "source": [
    "# 4.2 Accuracy and dummy model"
   ]
  },
  {
   "cell_type": "code",
   "execution_count": 103,
   "id": "2ef7e7a6",
   "metadata": {
    "execution": {
     "iopub.execute_input": "2023-10-16T20:52:07.460328Z",
     "iopub.status.busy": "2023-10-16T20:52:07.459919Z",
     "iopub.status.idle": "2023-10-16T20:52:07.466216Z",
     "shell.execute_reply": "2023-10-16T20:52:07.465163Z"
    },
    "papermill": {
     "duration": 0.047559,
     "end_time": "2023-10-16T20:52:07.468265",
     "exception": false,
     "start_time": "2023-10-16T20:52:07.420706",
     "status": "completed"
    },
    "tags": []
   },
   "outputs": [
    {
     "data": {
      "text/plain": [
       "1409"
      ]
     },
     "execution_count": 103,
     "metadata": {},
     "output_type": "execute_result"
    }
   ],
   "source": [
    "len(y_val)"
   ]
  },
  {
   "cell_type": "code",
   "execution_count": 104,
   "id": "a8e0649f",
   "metadata": {
    "execution": {
     "iopub.execute_input": "2023-10-16T20:52:07.546552Z",
     "iopub.status.busy": "2023-10-16T20:52:07.545290Z",
     "iopub.status.idle": "2023-10-16T20:52:07.552803Z",
     "shell.execute_reply": "2023-10-16T20:52:07.551931Z"
    },
    "papermill": {
     "duration": 0.048499,
     "end_time": "2023-10-16T20:52:07.554671",
     "exception": false,
     "start_time": "2023-10-16T20:52:07.506172",
     "status": "completed"
    },
    "tags": []
   },
   "outputs": [
    {
     "data": {
      "text/plain": [
       "array([0.  , 0.05, 0.1 , 0.15, 0.2 , 0.25, 0.3 , 0.35, 0.4 , 0.45, 0.5 ,\n",
       "       0.55, 0.6 , 0.65, 0.7 , 0.75, 0.8 , 0.85, 0.9 , 0.95, 1.  ])"
      ]
     },
     "execution_count": 104,
     "metadata": {},
     "output_type": "execute_result"
    }
   ],
   "source": [
    "thresholds = np.linspace(0, 1, 21)\n",
    "thresholds"
   ]
  },
  {
   "cell_type": "code",
   "execution_count": 105,
   "id": "2fabcda9",
   "metadata": {
    "execution": {
     "iopub.execute_input": "2023-10-16T20:52:07.633544Z",
     "iopub.status.busy": "2023-10-16T20:52:07.632347Z",
     "iopub.status.idle": "2023-10-16T20:52:07.639495Z",
     "shell.execute_reply": "2023-10-16T20:52:07.638503Z"
    },
    "papermill": {
     "duration": 0.047632,
     "end_time": "2023-10-16T20:52:07.641299",
     "exception": false,
     "start_time": "2023-10-16T20:52:07.593667",
     "status": "completed"
    },
    "tags": []
   },
   "outputs": [
    {
     "name": "stdout",
     "output_type": "stream",
     "text": [
      "0.00 0.274\n",
      "0.05 0.495\n",
      "0.10 0.590\n",
      "0.15 0.664\n",
      "0.20 0.720\n",
      "0.25 0.754\n",
      "0.30 0.774\n",
      "0.35 0.779\n",
      "0.40 0.785\n",
      "0.45 0.796\n",
      "0.50 0.802\n",
      "0.55 0.815\n",
      "0.60 0.803\n",
      "0.65 0.790\n",
      "0.70 0.778\n",
      "0.75 0.759\n",
      "0.80 0.737\n",
      "0.85 0.727\n",
      "0.90 0.726\n",
      "0.95 0.726\n",
      "1.00 0.726\n"
     ]
    }
   ],
   "source": [
    "scores = []\n",
    "for t in thresholds:\n",
    "    churn_decision = (y_pred >= t)\n",
    "    score = (y_val == churn_decision).mean()\n",
    "    scores.append(score)\n",
    "    print('%.2f %.3f' % (t, score))\n",
    "\n"
   ]
  },
  {
   "cell_type": "code",
   "execution_count": 106,
   "id": "8fa71040",
   "metadata": {
    "execution": {
     "iopub.execute_input": "2023-10-16T20:52:07.719358Z",
     "iopub.status.busy": "2023-10-16T20:52:07.718259Z",
     "iopub.status.idle": "2023-10-16T20:52:07.959780Z",
     "shell.execute_reply": "2023-10-16T20:52:07.958652Z"
    },
    "papermill": {
     "duration": 0.282631,
     "end_time": "2023-10-16T20:52:07.961946",
     "exception": false,
     "start_time": "2023-10-16T20:52:07.679315",
     "status": "completed"
    },
    "tags": []
   },
   "outputs": [
    {
     "data": {
      "text/plain": [
       "[<matplotlib.lines.Line2D at 0x7e32f6aa3070>]"
      ]
     },
     "execution_count": 106,
     "metadata": {},
     "output_type": "execute_result"
    },
    {
     "data": {
      "image/png": "[encoded data removed]",
      "text/plain": [
       "<Figure size 640x480 with 1 Axes>"
      ]
     },
     "metadata": {},
     "output_type": "display_data"
    }
   ],
   "source": [
    "plt.plot(thresholds, scores)"
   ]
  },
  {
   "cell_type": "code",
   "execution_count": 107,
   "id": "1d8bb9b6",
   "metadata": {
    "execution": {
     "iopub.execute_input": "2023-10-16T20:52:08.044208Z",
     "iopub.status.busy": "2023-10-16T20:52:08.043112Z",
     "iopub.status.idle": "2023-10-16T20:52:08.048035Z",
     "shell.execute_reply": "2023-10-16T20:52:08.047006Z"
    },
    "papermill": {
     "duration": 0.049417,
     "end_time": "2023-10-16T20:52:08.050219",
     "exception": false,
     "start_time": "2023-10-16T20:52:08.000802",
     "status": "completed"
    },
    "tags": []
   },
   "outputs": [],
   "source": [
    "from collections import Counter"
   ]
  },
  {
   "cell_type": "code",
   "execution_count": 108,
   "id": "8e84d01f",
   "metadata": {
    "execution": {
     "iopub.execute_input": "2023-10-16T20:52:08.129500Z",
     "iopub.status.busy": "2023-10-16T20:52:08.129048Z",
     "iopub.status.idle": "2023-10-16T20:52:08.136466Z",
     "shell.execute_reply": "2023-10-16T20:52:08.135432Z"
    },
    "papermill": {
     "duration": 0.049464,
     "end_time": "2023-10-16T20:52:08.138499",
     "exception": false,
     "start_time": "2023-10-16T20:52:08.089035",
     "status": "completed"
    },
    "tags": []
   },
   "outputs": [
    {
     "data": {
      "text/plain": [
       "Counter({False: 1409})"
      ]
     },
     "execution_count": 108,
     "metadata": {},
     "output_type": "execute_result"
    }
   ],
   "source": [
    "Counter(y_pred >= 1.0)"
   ]
  },
  {
   "cell_type": "code",
   "execution_count": 109,
   "id": "8232f3ae",
   "metadata": {
    "execution": {
     "iopub.execute_input": "2023-10-16T20:52:08.218766Z",
     "iopub.status.busy": "2023-10-16T20:52:08.217587Z",
     "iopub.status.idle": "2023-10-16T20:52:08.222768Z",
     "shell.execute_reply": "2023-10-16T20:52:08.221790Z"
    },
    "papermill": {
     "duration": 0.047002,
     "end_time": "2023-10-16T20:52:08.224657",
     "exception": false,
     "start_time": "2023-10-16T20:52:08.177655",
     "status": "completed"
    },
    "tags": []
   },
   "outputs": [],
   "source": [
    "actual_positive = (y_val == 1)\n",
    "actual_negative = (y_val == 0)"
   ]
  },
  {
   "cell_type": "code",
   "execution_count": 110,
   "id": "724c9a30",
   "metadata": {
    "execution": {
     "iopub.execute_input": "2023-10-16T20:52:08.305721Z",
     "iopub.status.busy": "2023-10-16T20:52:08.305240Z",
     "iopub.status.idle": "2023-10-16T20:52:08.309789Z",
     "shell.execute_reply": "2023-10-16T20:52:08.308622Z"
    },
    "papermill": {
     "duration": 0.048041,
     "end_time": "2023-10-16T20:52:08.312205",
     "exception": false,
     "start_time": "2023-10-16T20:52:08.264164",
     "status": "completed"
    },
    "tags": []
   },
   "outputs": [],
   "source": [
    "t = 0.5"
   ]
  },
  {
   "cell_type": "code",
   "execution_count": 111,
   "id": "b1057dc8",
   "metadata": {
    "execution": {
     "iopub.execute_input": "2023-10-16T20:52:08.394216Z",
     "iopub.status.busy": "2023-10-16T20:52:08.393815Z",
     "iopub.status.idle": "2023-10-16T20:52:08.398917Z",
     "shell.execute_reply": "2023-10-16T20:52:08.397950Z"
    },
    "papermill": {
     "duration": 0.048232,
     "end_time": "2023-10-16T20:52:08.400985",
     "exception": false,
     "start_time": "2023-10-16T20:52:08.352753",
     "status": "completed"
    },
    "tags": []
   },
   "outputs": [],
   "source": [
    "\n",
    "predict_positive = (y_pred >= t)\n",
    "predict_negative = (y_pred < t)"
   ]
  },
  {
   "cell_type": "code",
   "execution_count": 112,
   "id": "84dd6fcf",
   "metadata": {
    "execution": {
     "iopub.execute_input": "2023-10-16T20:52:08.482337Z",
     "iopub.status.busy": "2023-10-16T20:52:08.481986Z",
     "iopub.status.idle": "2023-10-16T20:52:08.488788Z",
     "shell.execute_reply": "2023-10-16T20:52:08.487636Z"
    },
    "papermill": {
     "duration": 0.050427,
     "end_time": "2023-10-16T20:52:08.490706",
     "exception": false,
     "start_time": "2023-10-16T20:52:08.440279",
     "status": "completed"
    },
    "tags": []
   },
   "outputs": [
    {
     "data": {
      "text/plain": [
       "(210, 920)"
      ]
     },
     "execution_count": 112,
     "metadata": {},
     "output_type": "execute_result"
    }
   ],
   "source": [
    "tp =(predict_positive & actual_positive).sum()\n",
    "tn = (predict_negative & actual_negative).sum()\n",
    "tp, tn"
   ]
  },
  {
   "cell_type": "code",
   "execution_count": 113,
   "id": "f0c0e380",
   "metadata": {
    "execution": {
     "iopub.execute_input": "2023-10-16T20:52:08.575487Z",
     "iopub.status.busy": "2023-10-16T20:52:08.575093Z",
     "iopub.status.idle": "2023-10-16T20:52:08.581704Z",
     "shell.execute_reply": "2023-10-16T20:52:08.580511Z"
    },
    "papermill": {
     "duration": 0.052209,
     "end_time": "2023-10-16T20:52:08.583705",
     "exception": false,
     "start_time": "2023-10-16T20:52:08.531496",
     "status": "completed"
    },
    "tags": []
   },
   "outputs": [
    {
     "data": {
      "text/plain": [
       "(103, 176)"
      ]
     },
     "execution_count": 113,
     "metadata": {},
     "output_type": "execute_result"
    }
   ],
   "source": [
    "\n",
    "fp =(predict_positive & actual_negative).sum()\n",
    "fn = (predict_negative & actual_positive).sum()\n",
    "fp, fn"
   ]
  },
  {
   "cell_type": "code",
   "execution_count": 114,
   "id": "2440e741",
   "metadata": {
    "execution": {
     "iopub.execute_input": "2023-10-16T20:52:08.664384Z",
     "iopub.status.busy": "2023-10-16T20:52:08.664001Z",
     "iopub.status.idle": "2023-10-16T20:52:08.670682Z",
     "shell.execute_reply": "2023-10-16T20:52:08.669574Z"
    },
    "papermill": {
     "duration": 0.048796,
     "end_time": "2023-10-16T20:52:08.672771",
     "exception": false,
     "start_time": "2023-10-16T20:52:08.623975",
     "status": "completed"
    },
    "tags": []
   },
   "outputs": [
    {
     "data": {
      "text/plain": [
       "array([[920, 103],\n",
       "       [176, 210]])"
      ]
     },
     "execution_count": 114,
     "metadata": {},
     "output_type": "execute_result"
    }
   ],
   "source": [
    "confusion_matrix = np.array([\n",
    "    [tn, fp],\n",
    "    [fn, tp]\n",
    "])\n",
    "confusion_matrix"
   ]
  },
  {
   "cell_type": "code",
   "execution_count": 115,
   "id": "94c2cb64",
   "metadata": {
    "execution": {
     "iopub.execute_input": "2023-10-16T20:52:08.753521Z",
     "iopub.status.busy": "2023-10-16T20:52:08.753156Z",
     "iopub.status.idle": "2023-10-16T20:52:08.760650Z",
     "shell.execute_reply": "2023-10-16T20:52:08.759290Z"
    },
    "papermill": {
     "duration": 0.051355,
     "end_time": "2023-10-16T20:52:08.763091",
     "exception": false,
     "start_time": "2023-10-16T20:52:08.711736",
     "status": "completed"
    },
    "tags": []
   },
   "outputs": [
    {
     "data": {
      "text/plain": [
       "array([[0.65, 0.07],\n",
       "       [0.12, 0.15]])"
      ]
     },
     "execution_count": 115,
     "metadata": {},
     "output_type": "execute_result"
    }
   ],
   "source": [
    "(confusion_matrix / confusion_matrix.sum()).round(2)"
   ]
  },
  {
   "cell_type": "code",
   "execution_count": 116,
   "id": "05bc7443",
   "metadata": {
    "execution": {
     "iopub.execute_input": "2023-10-16T20:52:08.844448Z",
     "iopub.status.busy": "2023-10-16T20:52:08.844061Z",
     "iopub.status.idle": "2023-10-16T20:52:08.849855Z",
     "shell.execute_reply": "2023-10-16T20:52:08.848840Z"
    },
    "papermill": {
     "duration": 0.049299,
     "end_time": "2023-10-16T20:52:08.852102",
     "exception": false,
     "start_time": "2023-10-16T20:52:08.802803",
     "status": "completed"
    },
    "tags": []
   },
   "outputs": [
    {
     "data": {
      "text/plain": [
       "0.670926517571885"
      ]
     },
     "execution_count": 116,
     "metadata": {},
     "output_type": "execute_result"
    }
   ],
   "source": [
    "# Precision\n",
    "p = tp / (tp + fp)\n",
    "p"
   ]
  },
  {
   "cell_type": "code",
   "execution_count": 117,
   "id": "30813865",
   "metadata": {
    "execution": {
     "iopub.execute_input": "2023-10-16T20:52:08.934571Z",
     "iopub.status.busy": "2023-10-16T20:52:08.933954Z",
     "iopub.status.idle": "2023-10-16T20:52:08.940279Z",
     "shell.execute_reply": "2023-10-16T20:52:08.939248Z"
    },
    "papermill": {
     "duration": 0.049441,
     "end_time": "2023-10-16T20:52:08.942193",
     "exception": false,
     "start_time": "2023-10-16T20:52:08.892752",
     "status": "completed"
    },
    "tags": []
   },
   "outputs": [
    {
     "data": {
      "text/plain": [
       "0.5440414507772021"
      ]
     },
     "execution_count": 117,
     "metadata": {},
     "output_type": "execute_result"
    }
   ],
   "source": [
    "# Recall\n",
    "R = tp / (tp + fn)\n",
    "R"
   ]
  },
  {
   "cell_type": "code",
   "execution_count": 118,
   "id": "f1228248",
   "metadata": {
    "execution": {
     "iopub.execute_input": "2023-10-16T20:52:09.022374Z",
     "iopub.status.busy": "2023-10-16T20:52:09.022027Z",
     "iopub.status.idle": "2023-10-16T20:52:09.027793Z",
     "shell.execute_reply": "2023-10-16T20:52:09.026825Z"
    },
    "papermill": {
     "duration": 0.048315,
     "end_time": "2023-10-16T20:52:09.029585",
     "exception": false,
     "start_time": "2023-10-16T20:52:08.981270",
     "status": "completed"
    },
    "tags": []
   },
   "outputs": [
    {
     "data": {
      "text/plain": [
       "(0.5440414507772021, 0.5440414507772021)"
      ]
     },
     "execution_count": 118,
     "metadata": {},
     "output_type": "execute_result"
    }
   ],
   "source": [
    "tpr = tp /(tp+fn)\n",
    "tpr, R"
   ]
  },
  {
   "cell_type": "code",
   "execution_count": 119,
   "id": "b07b1a2e",
   "metadata": {
    "execution": {
     "iopub.execute_input": "2023-10-16T20:52:09.110548Z",
     "iopub.status.busy": "2023-10-16T20:52:09.109563Z",
     "iopub.status.idle": "2023-10-16T20:52:09.116487Z",
     "shell.execute_reply": "2023-10-16T20:52:09.115494Z"
    },
    "papermill": {
     "duration": 0.049537,
     "end_time": "2023-10-16T20:52:09.118370",
     "exception": false,
     "start_time": "2023-10-16T20:52:09.068833",
     "status": "completed"
    },
    "tags": []
   },
   "outputs": [
    {
     "data": {
      "text/plain": [
       "0.10068426197458455"
      ]
     },
     "execution_count": 119,
     "metadata": {},
     "output_type": "execute_result"
    }
   ],
   "source": [
    "fpr = fp/ (tn + fp)\n",
    "fpr"
   ]
  },
  {
   "cell_type": "code",
   "execution_count": 120,
   "id": "bf2aac1a",
   "metadata": {
    "execution": {
     "iopub.execute_input": "2023-10-16T20:52:09.199916Z",
     "iopub.status.busy": "2023-10-16T20:52:09.198819Z",
     "iopub.status.idle": "2023-10-16T20:52:09.206203Z",
     "shell.execute_reply": "2023-10-16T20:52:09.205355Z"
    },
    "papermill": {
     "duration": 0.050087,
     "end_time": "2023-10-16T20:52:09.207953",
     "exception": false,
     "start_time": "2023-10-16T20:52:09.157866",
     "status": "completed"
    },
    "tags": []
   },
   "outputs": [
    {
     "data": {
      "text/plain": [
       "array([0.  , 0.01, 0.02, 0.03, 0.04, 0.05, 0.06, 0.07, 0.08, 0.09, 0.1 ,\n",
       "       0.11, 0.12, 0.13, 0.14, 0.15, 0.16, 0.17, 0.18, 0.19, 0.2 , 0.21,\n",
       "       0.22, 0.23, 0.24, 0.25, 0.26, 0.27, 0.28, 0.29, 0.3 , 0.31, 0.32,\n",
       "       0.33, 0.34, 0.35, 0.36, 0.37, 0.38, 0.39, 0.4 , 0.41, 0.42, 0.43,\n",
       "       0.44, 0.45, 0.46, 0.47, 0.48, 0.49, 0.5 , 0.51, 0.52, 0.53, 0.54,\n",
       "       0.55, 0.56, 0.57, 0.58, 0.59, 0.6 , 0.61, 0.62, 0.63, 0.64, 0.65,\n",
       "       0.66, 0.67, 0.68, 0.69, 0.7 , 0.71, 0.72, 0.73, 0.74, 0.75, 0.76,\n",
       "       0.77, 0.78, 0.79, 0.8 , 0.81, 0.82, 0.83, 0.84, 0.85, 0.86, 0.87,\n",
       "       0.88, 0.89, 0.9 , 0.91, 0.92, 0.93, 0.94, 0.95, 0.96, 0.97, 0.98,\n",
       "       0.99, 1.  ])"
      ]
     },
     "execution_count": 120,
     "metadata": {},
     "output_type": "execute_result"
    }
   ],
   "source": [
    "thresholds = np.linspace(0 , 1, 101)\n",
    "thresholds"
   ]
  },
  {
   "cell_type": "code",
   "execution_count": 121,
   "id": "a1dab084",
   "metadata": {
    "execution": {
     "iopub.execute_input": "2023-10-16T20:52:09.288700Z",
     "iopub.status.busy": "2023-10-16T20:52:09.288314Z",
     "iopub.status.idle": "2023-10-16T20:52:09.301156Z",
     "shell.execute_reply": "2023-10-16T20:52:09.300334Z"
    },
    "papermill": {
     "duration": 0.055813,
     "end_time": "2023-10-16T20:52:09.303157",
     "exception": false,
     "start_time": "2023-10-16T20:52:09.247344",
     "status": "completed"
    },
    "tags": []
   },
   "outputs": [],
   "source": [
    "scores = []\n",
    "\n",
    "for t in thresholds:\n",
    "    actual_positive = (y_val == 1)\n",
    "    actual_negative = (y_val == 0)\n",
    "    \n",
    "    predict_positive = (y_pred >= t)\n",
    "    predict_negative = (y_pred < t)\n",
    "    \n",
    "    tp =(predict_positive & actual_positive).sum()\n",
    "    tn = (predict_negative & actual_negative).sum()\n",
    "    \n",
    "    fp =(predict_positive & actual_negative).sum()\n",
    "    fn = (predict_negative & actual_positive).sum()\n",
    "    \n",
    "    scores.append((t, tp, fp, tn, fn))\n",
    "columns = ['thresholds', 'tp', 'fp', 'tn', 'fn']\n",
    "df_scores = pd.DataFrame(scores, columns=columns)\n",
    "# [::10] says to look at every 10th record for all records"
   ]
  },
  {
   "cell_type": "code",
   "execution_count": 122,
   "id": "45f07e6b",
   "metadata": {
    "execution": {
     "iopub.execute_input": "2023-10-16T20:52:09.384475Z",
     "iopub.status.busy": "2023-10-16T20:52:09.383877Z",
     "iopub.status.idle": "2023-10-16T20:52:09.398949Z",
     "shell.execute_reply": "2023-10-16T20:52:09.397882Z"
    },
    "papermill": {
     "duration": 0.058185,
     "end_time": "2023-10-16T20:52:09.400843",
     "exception": false,
     "start_time": "2023-10-16T20:52:09.342658",
     "status": "completed"
    },
    "tags": []
   },
   "outputs": [
    {
     "data": {
      "text/html": [
       "<div>\n",
       "<style scoped>\n",
       "    .dataframe tbody tr th:only-of-type {\n",
       "        vertical-align: middle;\n",
       "    }\n",
       "\n",
       "    .dataframe tbody tr th {\n",
       "        vertical-align: top;\n",
       "    }\n",
       "\n",
       "    .dataframe thead th {\n",
       "        text-align: right;\n",
       "    }\n",
       "</style>\n",
       "<table border=\"1\" class=\"dataframe\">\n",
       "  <thead>\n",
       "    <tr style=\"text-align: right;\">\n",
       "      <th></th>\n",
       "      <th>thresholds</th>\n",
       "      <th>tp</th>\n",
       "      <th>fp</th>\n",
       "      <th>tn</th>\n",
       "      <th>fn</th>\n",
       "      <th>fpr</th>\n",
       "      <th>tpr</th>\n",
       "    </tr>\n",
       "  </thead>\n",
       "  <tbody>\n",
       "    <tr>\n",
       "      <th>0</th>\n",
       "      <td>0.0</td>\n",
       "      <td>386</td>\n",
       "      <td>1023</td>\n",
       "      <td>0</td>\n",
       "      <td>0</td>\n",
       "      <td>1.000000</td>\n",
       "      <td>1.000000</td>\n",
       "    </tr>\n",
       "    <tr>\n",
       "      <th>10</th>\n",
       "      <td>0.1</td>\n",
       "      <td>365</td>\n",
       "      <td>556</td>\n",
       "      <td>467</td>\n",
       "      <td>21</td>\n",
       "      <td>0.543500</td>\n",
       "      <td>0.945596</td>\n",
       "    </tr>\n",
       "    <tr>\n",
       "      <th>20</th>\n",
       "      <td>0.2</td>\n",
       "      <td>330</td>\n",
       "      <td>338</td>\n",
       "      <td>685</td>\n",
       "      <td>56</td>\n",
       "      <td>0.330401</td>\n",
       "      <td>0.854922</td>\n",
       "    </tr>\n",
       "    <tr>\n",
       "      <th>30</th>\n",
       "      <td>0.3</td>\n",
       "      <td>293</td>\n",
       "      <td>226</td>\n",
       "      <td>797</td>\n",
       "      <td>93</td>\n",
       "      <td>0.220919</td>\n",
       "      <td>0.759067</td>\n",
       "    </tr>\n",
       "    <tr>\n",
       "      <th>40</th>\n",
       "      <td>0.4</td>\n",
       "      <td>249</td>\n",
       "      <td>166</td>\n",
       "      <td>857</td>\n",
       "      <td>137</td>\n",
       "      <td>0.162268</td>\n",
       "      <td>0.645078</td>\n",
       "    </tr>\n",
       "    <tr>\n",
       "      <th>50</th>\n",
       "      <td>0.5</td>\n",
       "      <td>210</td>\n",
       "      <td>103</td>\n",
       "      <td>920</td>\n",
       "      <td>176</td>\n",
       "      <td>0.100684</td>\n",
       "      <td>0.544041</td>\n",
       "    </tr>\n",
       "    <tr>\n",
       "      <th>60</th>\n",
       "      <td>0.6</td>\n",
       "      <td>158</td>\n",
       "      <td>50</td>\n",
       "      <td>973</td>\n",
       "      <td>228</td>\n",
       "      <td>0.048876</td>\n",
       "      <td>0.409326</td>\n",
       "    </tr>\n",
       "    <tr>\n",
       "      <th>70</th>\n",
       "      <td>0.7</td>\n",
       "      <td>93</td>\n",
       "      <td>20</td>\n",
       "      <td>1003</td>\n",
       "      <td>293</td>\n",
       "      <td>0.019550</td>\n",
       "      <td>0.240933</td>\n",
       "    </tr>\n",
       "    <tr>\n",
       "      <th>80</th>\n",
       "      <td>0.8</td>\n",
       "      <td>17</td>\n",
       "      <td>2</td>\n",
       "      <td>1021</td>\n",
       "      <td>369</td>\n",
       "      <td>0.001955</td>\n",
       "      <td>0.044041</td>\n",
       "    </tr>\n",
       "    <tr>\n",
       "      <th>90</th>\n",
       "      <td>0.9</td>\n",
       "      <td>0</td>\n",
       "      <td>0</td>\n",
       "      <td>1023</td>\n",
       "      <td>386</td>\n",
       "      <td>0.000000</td>\n",
       "      <td>0.000000</td>\n",
       "    </tr>\n",
       "    <tr>\n",
       "      <th>100</th>\n",
       "      <td>1.0</td>\n",
       "      <td>0</td>\n",
       "      <td>0</td>\n",
       "      <td>1023</td>\n",
       "      <td>386</td>\n",
       "      <td>0.000000</td>\n",
       "      <td>0.000000</td>\n",
       "    </tr>\n",
       "  </tbody>\n",
       "</table>\n",
       "</div>"
      ],
      "text/plain": [
       "     thresholds   tp    fp    tn   fn       fpr       tpr\n",
       "0           0.0  386  1023     0    0  1.000000  1.000000\n",
       "10          0.1  365   556   467   21  0.543500  0.945596\n",
       "20          0.2  330   338   685   56  0.330401  0.854922\n",
       "30          0.3  293   226   797   93  0.220919  0.759067\n",
       "40          0.4  249   166   857  137  0.162268  0.645078\n",
       "50          0.5  210   103   920  176  0.100684  0.544041\n",
       "60          0.6  158    50   973  228  0.048876  0.409326\n",
       "70          0.7   93    20  1003  293  0.019550  0.240933\n",
       "80          0.8   17     2  1021  369  0.001955  0.044041\n",
       "90          0.9    0     0  1023  386  0.000000  0.000000\n",
       "100         1.0    0     0  1023  386  0.000000  0.000000"
      ]
     },
     "execution_count": 122,
     "metadata": {},
     "output_type": "execute_result"
    }
   ],
   "source": [
    "df_scores['fpr'] = df_scores.fp / (df_scores.fp+df_scores.tn)\n",
    "df_scores['tpr'] = df_scores.tp / (df_scores.fn + df_scores.tp)\n",
    "df_scores[::10]"
   ]
  },
  {
   "cell_type": "code",
   "execution_count": 123,
   "id": "d9c21058",
   "metadata": {
    "execution": {
     "iopub.execute_input": "2023-10-16T20:52:09.482590Z",
     "iopub.status.busy": "2023-10-16T20:52:09.481967Z",
     "iopub.status.idle": "2023-10-16T20:52:09.755088Z",
     "shell.execute_reply": "2023-10-16T20:52:09.753782Z"
    },
    "papermill": {
     "duration": 0.316787,
     "end_time": "2023-10-16T20:52:09.757388",
     "exception": false,
     "start_time": "2023-10-16T20:52:09.440601",
     "status": "completed"
    },
    "tags": []
   },
   "outputs": [
    {
     "data": {
      "text/plain": [
       "<matplotlib.legend.Legend at 0x7e32f7243f70>"
      ]
     },
     "execution_count": 123,
     "metadata": {},
     "output_type": "execute_result"
    },
    {
     "data": {
      "image/png": "[encoded data removed]",
      "text/plain": [
       "<Figure size 640x480 with 1 Axes>"
      ]
     },
     "metadata": {},
     "output_type": "display_data"
    }
   ],
   "source": [
    "plt.plot(df_scores.thresholds, df_scores['tpr'], label='TPR')\n",
    "plt.plot(df_scores.thresholds, df_scores['fpr'], label=\"FPR\")\n",
    "\n",
    "plt.legend()"
   ]
  },
  {
   "cell_type": "code",
   "execution_count": 124,
   "id": "fdcb325f",
   "metadata": {
    "execution": {
     "iopub.execute_input": "2023-10-16T20:52:09.852628Z",
     "iopub.status.busy": "2023-10-16T20:52:09.852038Z",
     "iopub.status.idle": "2023-10-16T20:52:09.856324Z",
     "shell.execute_reply": "2023-10-16T20:52:09.855607Z"
    },
    "papermill": {
     "duration": 0.058857,
     "end_time": "2023-10-16T20:52:09.858557",
     "exception": false,
     "start_time": "2023-10-16T20:52:09.799700",
     "status": "completed"
    },
    "tags": []
   },
   "outputs": [],
   "source": [
    "# random model\n",
    "np.random.seed(1)\n",
    "y_rand = np.random.uniform(0, 1, size=len(y_val))"
   ]
  },
  {
   "cell_type": "code",
   "execution_count": 125,
   "id": "5f917a07",
   "metadata": {
    "execution": {
     "iopub.execute_input": "2023-10-16T20:52:09.944519Z",
     "iopub.status.busy": "2023-10-16T20:52:09.943793Z",
     "iopub.status.idle": "2023-10-16T20:52:09.949260Z",
     "shell.execute_reply": "2023-10-16T20:52:09.948523Z"
    },
    "papermill": {
     "duration": 0.050595,
     "end_time": "2023-10-16T20:52:09.951107",
     "exception": false,
     "start_time": "2023-10-16T20:52:09.900512",
     "status": "completed"
    },
    "tags": []
   },
   "outputs": [
    {
     "data": {
      "text/plain": [
       "0.5017743080198722"
      ]
     },
     "execution_count": 125,
     "metadata": {},
     "output_type": "execute_result"
    }
   ],
   "source": [
    "((y_rand >= 0.5) == y_val).mean()"
   ]
  },
  {
   "cell_type": "code",
   "execution_count": 126,
   "id": "0f9a8abb",
   "metadata": {
    "execution": {
     "iopub.execute_input": "2023-10-16T20:52:10.036950Z",
     "iopub.status.busy": "2023-10-16T20:52:10.036365Z",
     "iopub.status.idle": "2023-10-16T20:52:10.043010Z",
     "shell.execute_reply": "2023-10-16T20:52:10.042087Z"
    },
    "papermill": {
     "duration": 0.053058,
     "end_time": "2023-10-16T20:52:10.045332",
     "exception": false,
     "start_time": "2023-10-16T20:52:09.992274",
     "status": "completed"
    },
    "tags": []
   },
   "outputs": [],
   "source": [
    "def tpr_fpr_dataframe(y_val, y_pred):\n",
    "    scores = []\n",
    "    \n",
    "    thresholds = np.linspace(0, 1, 101)\n",
    "    \n",
    "    for t in thresholds:\n",
    "        actual_positive = (y_val == 1)\n",
    "        actual_negative = (y_val == 0)\n",
    "\n",
    "        predict_positive = (y_pred >= t)\n",
    "        predict_negative = (y_pred < t)\n",
    "\n",
    "        tp =(predict_positive & actual_positive).sum()\n",
    "        tn = (predict_negative & actual_negative).sum()\n",
    "\n",
    "        fp =(predict_positive & actual_negative).sum()\n",
    "        fn = (predict_negative & actual_positive).sum()\n",
    "\n",
    "        scores.append((t, tp, fp, tn, fn))\n",
    "        \n",
    "    columns = ['thresholds', 'tp', 'fp', 'tn', 'fn']\n",
    "    df_scores = pd.DataFrame(scores, columns=columns)\n",
    "    df_scores['fpr'] = df_scores.fp / (df_scores.fp+df_scores.tn)\n",
    "    df_scores['tpr'] = df_scores.tp / (df_scores.fn + df_scores.tp)\n",
    "\n",
    "    return df_scores\n",
    "    "
   ]
  },
  {
   "cell_type": "code",
   "execution_count": 127,
   "id": "3c248667",
   "metadata": {
    "execution": {
     "iopub.execute_input": "2023-10-16T20:52:10.131064Z",
     "iopub.status.busy": "2023-10-16T20:52:10.129743Z",
     "iopub.status.idle": "2023-10-16T20:52:10.141276Z",
     "shell.execute_reply": "2023-10-16T20:52:10.140452Z"
    },
    "papermill": {
     "duration": 0.05665,
     "end_time": "2023-10-16T20:52:10.143575",
     "exception": false,
     "start_time": "2023-10-16T20:52:10.086925",
     "status": "completed"
    },
    "tags": []
   },
   "outputs": [],
   "source": [
    "df_rand = tpr_fpr_dataframe(y_val, y_rand)"
   ]
  },
  {
   "cell_type": "code",
   "execution_count": 128,
   "id": "53e28946",
   "metadata": {
    "execution": {
     "iopub.execute_input": "2023-10-16T20:52:10.228406Z",
     "iopub.status.busy": "2023-10-16T20:52:10.227685Z",
     "iopub.status.idle": "2023-10-16T20:52:10.241615Z",
     "shell.execute_reply": "2023-10-16T20:52:10.240515Z"
    },
    "papermill": {
     "duration": 0.05872,
     "end_time": "2023-10-16T20:52:10.243701",
     "exception": false,
     "start_time": "2023-10-16T20:52:10.184981",
     "status": "completed"
    },
    "tags": []
   },
   "outputs": [
    {
     "data": {
      "text/html": [
       "<div>\n",
       "<style scoped>\n",
       "    .dataframe tbody tr th:only-of-type {\n",
       "        vertical-align: middle;\n",
       "    }\n",
       "\n",
       "    .dataframe tbody tr th {\n",
       "        vertical-align: top;\n",
       "    }\n",
       "\n",
       "    .dataframe thead th {\n",
       "        text-align: right;\n",
       "    }\n",
       "</style>\n",
       "<table border=\"1\" class=\"dataframe\">\n",
       "  <thead>\n",
       "    <tr style=\"text-align: right;\">\n",
       "      <th></th>\n",
       "      <th>thresholds</th>\n",
       "      <th>tp</th>\n",
       "      <th>fp</th>\n",
       "      <th>tn</th>\n",
       "      <th>fn</th>\n",
       "      <th>fpr</th>\n",
       "      <th>tpr</th>\n",
       "    </tr>\n",
       "  </thead>\n",
       "  <tbody>\n",
       "    <tr>\n",
       "      <th>0</th>\n",
       "      <td>0.0</td>\n",
       "      <td>386</td>\n",
       "      <td>1023</td>\n",
       "      <td>0</td>\n",
       "      <td>0</td>\n",
       "      <td>1.000000</td>\n",
       "      <td>1.000000</td>\n",
       "    </tr>\n",
       "    <tr>\n",
       "      <th>10</th>\n",
       "      <td>0.1</td>\n",
       "      <td>347</td>\n",
       "      <td>923</td>\n",
       "      <td>100</td>\n",
       "      <td>39</td>\n",
       "      <td>0.902248</td>\n",
       "      <td>0.898964</td>\n",
       "    </tr>\n",
       "    <tr>\n",
       "      <th>20</th>\n",
       "      <td>0.2</td>\n",
       "      <td>307</td>\n",
       "      <td>822</td>\n",
       "      <td>201</td>\n",
       "      <td>79</td>\n",
       "      <td>0.803519</td>\n",
       "      <td>0.795337</td>\n",
       "    </tr>\n",
       "    <tr>\n",
       "      <th>30</th>\n",
       "      <td>0.3</td>\n",
       "      <td>276</td>\n",
       "      <td>724</td>\n",
       "      <td>299</td>\n",
       "      <td>110</td>\n",
       "      <td>0.707722</td>\n",
       "      <td>0.715026</td>\n",
       "    </tr>\n",
       "    <tr>\n",
       "      <th>40</th>\n",
       "      <td>0.4</td>\n",
       "      <td>237</td>\n",
       "      <td>624</td>\n",
       "      <td>399</td>\n",
       "      <td>149</td>\n",
       "      <td>0.609971</td>\n",
       "      <td>0.613990</td>\n",
       "    </tr>\n",
       "    <tr>\n",
       "      <th>50</th>\n",
       "      <td>0.5</td>\n",
       "      <td>202</td>\n",
       "      <td>518</td>\n",
       "      <td>505</td>\n",
       "      <td>184</td>\n",
       "      <td>0.506354</td>\n",
       "      <td>0.523316</td>\n",
       "    </tr>\n",
       "    <tr>\n",
       "      <th>60</th>\n",
       "      <td>0.6</td>\n",
       "      <td>161</td>\n",
       "      <td>409</td>\n",
       "      <td>614</td>\n",
       "      <td>225</td>\n",
       "      <td>0.399804</td>\n",
       "      <td>0.417098</td>\n",
       "    </tr>\n",
       "    <tr>\n",
       "      <th>70</th>\n",
       "      <td>0.7</td>\n",
       "      <td>121</td>\n",
       "      <td>302</td>\n",
       "      <td>721</td>\n",
       "      <td>265</td>\n",
       "      <td>0.295210</td>\n",
       "      <td>0.313472</td>\n",
       "    </tr>\n",
       "    <tr>\n",
       "      <th>80</th>\n",
       "      <td>0.8</td>\n",
       "      <td>78</td>\n",
       "      <td>206</td>\n",
       "      <td>817</td>\n",
       "      <td>308</td>\n",
       "      <td>0.201369</td>\n",
       "      <td>0.202073</td>\n",
       "    </tr>\n",
       "    <tr>\n",
       "      <th>90</th>\n",
       "      <td>0.9</td>\n",
       "      <td>40</td>\n",
       "      <td>101</td>\n",
       "      <td>922</td>\n",
       "      <td>346</td>\n",
       "      <td>0.098729</td>\n",
       "      <td>0.103627</td>\n",
       "    </tr>\n",
       "    <tr>\n",
       "      <th>100</th>\n",
       "      <td>1.0</td>\n",
       "      <td>0</td>\n",
       "      <td>0</td>\n",
       "      <td>1023</td>\n",
       "      <td>386</td>\n",
       "      <td>0.000000</td>\n",
       "      <td>0.000000</td>\n",
       "    </tr>\n",
       "  </tbody>\n",
       "</table>\n",
       "</div>"
      ],
      "text/plain": [
       "     thresholds   tp    fp    tn   fn       fpr       tpr\n",
       "0           0.0  386  1023     0    0  1.000000  1.000000\n",
       "10          0.1  347   923   100   39  0.902248  0.898964\n",
       "20          0.2  307   822   201   79  0.803519  0.795337\n",
       "30          0.3  276   724   299  110  0.707722  0.715026\n",
       "40          0.4  237   624   399  149  0.609971  0.613990\n",
       "50          0.5  202   518   505  184  0.506354  0.523316\n",
       "60          0.6  161   409   614  225  0.399804  0.417098\n",
       "70          0.7  121   302   721  265  0.295210  0.313472\n",
       "80          0.8   78   206   817  308  0.201369  0.202073\n",
       "90          0.9   40   101   922  346  0.098729  0.103627\n",
       "100         1.0    0     0  1023  386  0.000000  0.000000"
      ]
     },
     "execution_count": 128,
     "metadata": {},
     "output_type": "execute_result"
    }
   ],
   "source": [
    "df_rand[::10]"
   ]
  },
  {
   "cell_type": "code",
   "execution_count": 129,
   "id": "36f5425d",
   "metadata": {
    "execution": {
     "iopub.execute_input": "2023-10-16T20:52:10.334727Z",
     "iopub.status.busy": "2023-10-16T20:52:10.333960Z",
     "iopub.status.idle": "2023-10-16T20:52:10.625188Z",
     "shell.execute_reply": "2023-10-16T20:52:10.623942Z"
    },
    "papermill": {
     "duration": 0.338482,
     "end_time": "2023-10-16T20:52:10.627411",
     "exception": false,
     "start_time": "2023-10-16T20:52:10.288929",
     "status": "completed"
    },
    "tags": []
   },
   "outputs": [
    {
     "data": {
      "text/plain": [
       "<matplotlib.legend.Legend at 0x7e32f67f8f40>"
      ]
     },
     "execution_count": 129,
     "metadata": {},
     "output_type": "execute_result"
    },
    {
     "data": {
      "image/png": "[encoded data removed]",
      "text/plain": [
       "<Figure size 640x480 with 1 Axes>"
      ]
     },
     "metadata": {},
     "output_type": "display_data"
    }
   ],
   "source": [
    "plt.plot(df_rand.thresholds, df_rand['tpr'], label='TPR')\n",
    "plt.plot(df_rand.thresholds, df_rand['fpr'], label=\"FPR\")\n",
    "\n",
    "plt.legend()"
   ]
  },
  {
   "cell_type": "code",
   "execution_count": null,
   "id": "2af86211",
   "metadata": {
    "papermill": {
     "duration": 0.042077,
     "end_time": "2023-10-16T20:52:10.712722",
     "exception": false,
     "start_time": "2023-10-16T20:52:10.670645",
     "status": "completed"
    },
    "tags": []
   },
   "outputs": [],
   "source": []
  },
  {
   "cell_type": "code",
   "execution_count": 130,
   "id": "1df3930d",
   "metadata": {
    "execution": {
     "iopub.execute_input": "2023-10-16T20:52:10.800912Z",
     "iopub.status.busy": "2023-10-16T20:52:10.799979Z",
     "iopub.status.idle": "2023-10-16T20:52:10.805856Z",
     "shell.execute_reply": "2023-10-16T20:52:10.805145Z"
    },
    "papermill": {
     "duration": 0.052779,
     "end_time": "2023-10-16T20:52:10.807627",
     "exception": false,
     "start_time": "2023-10-16T20:52:10.754848",
     "status": "completed"
    },
    "tags": []
   },
   "outputs": [
    {
     "data": {
      "text/plain": [
       "(1023, 386)"
      ]
     },
     "execution_count": 130,
     "metadata": {},
     "output_type": "execute_result"
    }
   ],
   "source": [
    "# Ideal Model\n",
    "num_neg = (y_val == 0).sum()\n",
    "num_pos = (y_val == 1).sum()\n",
    "num_neg, num_pos"
   ]
  },
  {
   "cell_type": "code",
   "execution_count": 131,
   "id": "aa5dfd18",
   "metadata": {
    "execution": {
     "iopub.execute_input": "2023-10-16T20:52:10.957024Z",
     "iopub.status.busy": "2023-10-16T20:52:10.956327Z",
     "iopub.status.idle": "2023-10-16T20:52:10.960484Z",
     "shell.execute_reply": "2023-10-16T20:52:10.959713Z"
    },
    "papermill": {
     "duration": 0.112115,
     "end_time": "2023-10-16T20:52:10.962479",
     "exception": false,
     "start_time": "2023-10-16T20:52:10.850364",
     "status": "completed"
    },
    "tags": []
   },
   "outputs": [],
   "source": [
    "y_ideal = np.repeat([0,1], [num_neg, num_pos])"
   ]
  },
  {
   "cell_type": "code",
   "execution_count": 132,
   "id": "2d6d1edb",
   "metadata": {
    "execution": {
     "iopub.execute_input": "2023-10-16T20:52:11.050522Z",
     "iopub.status.busy": "2023-10-16T20:52:11.049796Z",
     "iopub.status.idle": "2023-10-16T20:52:11.054588Z",
     "shell.execute_reply": "2023-10-16T20:52:11.053359Z"
    },
    "papermill": {
     "duration": 0.051668,
     "end_time": "2023-10-16T20:52:11.056482",
     "exception": false,
     "start_time": "2023-10-16T20:52:11.004814",
     "status": "completed"
    },
    "tags": []
   },
   "outputs": [],
   "source": [
    "y_ideal_pred = np.linspace(0, 1, len(y_val))"
   ]
  },
  {
   "cell_type": "code",
   "execution_count": 133,
   "id": "136d9431",
   "metadata": {
    "execution": {
     "iopub.execute_input": "2023-10-16T20:52:11.143030Z",
     "iopub.status.busy": "2023-10-16T20:52:11.142631Z",
     "iopub.status.idle": "2023-10-16T20:52:11.149535Z",
     "shell.execute_reply": "2023-10-16T20:52:11.148476Z"
    },
    "papermill": {
     "duration": 0.05303,
     "end_time": "2023-10-16T20:52:11.151413",
     "exception": false,
     "start_time": "2023-10-16T20:52:11.098383",
     "status": "completed"
    },
    "tags": []
   },
   "outputs": [
    {
     "data": {
      "text/plain": [
       "1.0"
      ]
     },
     "execution_count": 133,
     "metadata": {},
     "output_type": "execute_result"
    }
   ],
   "source": [
    "((y_ideal_pred >= 0.726) == y_ideal).mean()"
   ]
  },
  {
   "cell_type": "code",
   "execution_count": 134,
   "id": "20977fd0",
   "metadata": {
    "execution": {
     "iopub.execute_input": "2023-10-16T20:52:11.238126Z",
     "iopub.status.busy": "2023-10-16T20:52:11.237508Z",
     "iopub.status.idle": "2023-10-16T20:52:11.247403Z",
     "shell.execute_reply": "2023-10-16T20:52:11.246610Z"
    },
    "papermill": {
     "duration": 0.055878,
     "end_time": "2023-10-16T20:52:11.249568",
     "exception": false,
     "start_time": "2023-10-16T20:52:11.193690",
     "status": "completed"
    },
    "tags": []
   },
   "outputs": [],
   "source": [
    "df_ideal = tpr_fpr_dataframe(y_ideal, y_ideal_pred)"
   ]
  },
  {
   "cell_type": "code",
   "execution_count": 135,
   "id": "45962c12",
   "metadata": {
    "execution": {
     "iopub.execute_input": "2023-10-16T20:52:11.334999Z",
     "iopub.status.busy": "2023-10-16T20:52:11.334590Z",
     "iopub.status.idle": "2023-10-16T20:52:11.611898Z",
     "shell.execute_reply": "2023-10-16T20:52:11.610627Z"
    },
    "papermill": {
     "duration": 0.322575,
     "end_time": "2023-10-16T20:52:11.614028",
     "exception": false,
     "start_time": "2023-10-16T20:52:11.291453",
     "status": "completed"
    },
    "tags": []
   },
   "outputs": [
    {
     "data": {
      "text/plain": [
       "<matplotlib.legend.Legend at 0x7e32f97e1c00>"
      ]
     },
     "execution_count": 135,
     "metadata": {},
     "output_type": "execute_result"
    },
    {
     "data": {
      "image/png": "[encoded data removed]",
      "text/plain": [
       "<Figure size 640x480 with 1 Axes>"
      ]
     },
     "metadata": {},
     "output_type": "display_data"
    }
   ],
   "source": [
    "plt.plot(df_ideal.thresholds, df_ideal['tpr'], label='TPR')\n",
    "plt.plot(df_ideal.thresholds, df_ideal['fpr'], label=\"FPR\")\n",
    "\n",
    "plt.legend()"
   ]
  },
  {
   "cell_type": "code",
   "execution_count": 136,
   "id": "21437509",
   "metadata": {
    "execution": {
     "iopub.execute_input": "2023-10-16T20:52:11.703904Z",
     "iopub.status.busy": "2023-10-16T20:52:11.703558Z",
     "iopub.status.idle": "2023-10-16T20:52:12.004166Z",
     "shell.execute_reply": "2023-10-16T20:52:12.003027Z"
    },
    "papermill": {
     "duration": 0.347949,
     "end_time": "2023-10-16T20:52:12.006242",
     "exception": false,
     "start_time": "2023-10-16T20:52:11.658293",
     "status": "completed"
    },
    "tags": []
   },
   "outputs": [
    {
     "data": {
      "text/plain": [
       "<matplotlib.legend.Legend at 0x7e32f686efe0>"
      ]
     },
     "execution_count": 136,
     "metadata": {},
     "output_type": "execute_result"
    },
    {
     "data": {
      "image/png": "[encoded data removed]",
      "text/plain": [
       "<Figure size 640x480 with 1 Axes>"
      ]
     },
     "metadata": {},
     "output_type": "display_data"
    }
   ],
   "source": [
    "# Putting everything together\n",
    "plt.plot(df_scores.thresholds, df_scores['tpr'], label='TPR')\n",
    "plt.plot(df_scores.thresholds, df_scores['fpr'], label=\"FPR\")\n",
    "\n",
    "# plt.plot(df_rand.thresholds, df_rand['tpr'], label='TPR')\n",
    "# plt.plot(df_rand.thresholds, df_rand['fpr'], label=\"FPR\")\n",
    "plt.plot(df_ideal.thresholds, df_ideal['tpr'], label='TPR', color=\"black\")\n",
    "plt.plot(df_ideal.thresholds, df_ideal['fpr'], label=\"FPR\", color=\"black\")\n",
    "\n",
    "plt.legend()"
   ]
  },
  {
   "cell_type": "code",
   "execution_count": 137,
   "id": "da33999d",
   "metadata": {
    "execution": {
     "iopub.execute_input": "2023-10-16T20:52:12.096527Z",
     "iopub.status.busy": "2023-10-16T20:52:12.095581Z",
     "iopub.status.idle": "2023-10-16T20:52:12.353821Z",
     "shell.execute_reply": "2023-10-16T20:52:12.352597Z"
    },
    "papermill": {
     "duration": 0.306664,
     "end_time": "2023-10-16T20:52:12.356896",
     "exception": false,
     "start_time": "2023-10-16T20:52:12.050232",
     "status": "completed"
    },
    "tags": []
   },
   "outputs": [
    {
     "data": {
      "text/plain": [
       "Text(0, 0.5, 'TPR')"
      ]
     },
     "execution_count": 137,
     "metadata": {},
     "output_type": "execute_result"
    },
    {
     "data": {
      "image/png": "[encoded data removed]",
      "text/plain": [
       "<Figure size 600x600 with 1 Axes>"
      ]
     },
     "metadata": {},
     "output_type": "display_data"
    }
   ],
   "source": [
    "# ROC curves are square\n",
    "plt.figure(figsize=(6,6))\n",
    "plt.plot(df_scores.fpr, df_scores.tpr, label=\"model\")\n",
    "plt.plot([0,1], [0,1], label=\"random\")\n",
    "# plt.plot(df_rand.fpr, df_rand.tpr, label=\"model\")\n",
    "# plt.plot(df_ideal.fpr, df_ideal.tpr, label=\"model\")\n",
    "\n",
    "plt.xlabel('FPR')\n",
    "plt.ylabel('TPR')\n"
   ]
  },
  {
   "cell_type": "markdown",
   "id": "3dc77b50",
   "metadata": {
    "papermill": {
     "duration": 0.044977,
     "end_time": "2023-10-16T20:52:12.463618",
     "exception": false,
     "start_time": "2023-10-16T20:52:12.418641",
     "status": "completed"
    },
    "tags": []
   },
   "source": [
    "Using SkLearn"
   ]
  },
  {
   "cell_type": "markdown",
   "id": "e8f7eb83",
   "metadata": {
    "papermill": {
     "duration": 0.04521,
     "end_time": "2023-10-16T20:52:12.571010",
     "exception": false,
     "start_time": "2023-10-16T20:52:12.525800",
     "status": "completed"
    },
    "tags": []
   },
   "source": []
  },
  {
   "cell_type": "code",
   "execution_count": 138,
   "id": "e41e7496",
   "metadata": {
    "execution": {
     "iopub.execute_input": "2023-10-16T20:52:12.672101Z",
     "iopub.status.busy": "2023-10-16T20:52:12.671067Z",
     "iopub.status.idle": "2023-10-16T20:52:12.678440Z",
     "shell.execute_reply": "2023-10-16T20:52:12.677335Z"
    },
    "papermill": {
     "duration": 0.064355,
     "end_time": "2023-10-16T20:52:12.680674",
     "exception": false,
     "start_time": "2023-10-16T20:52:12.616319",
     "status": "completed"
    },
    "tags": []
   },
   "outputs": [],
   "source": [
    "from sklearn.metrics import roc_curve\n",
    "\n",
    "fpr, tpr, thresholds = roc_curve(y_val, y_pred)"
   ]
  },
  {
   "cell_type": "code",
   "execution_count": 139,
   "id": "dca0e3f1",
   "metadata": {
    "execution": {
     "iopub.execute_input": "2023-10-16T20:52:12.781616Z",
     "iopub.status.busy": "2023-10-16T20:52:12.780670Z",
     "iopub.status.idle": "2023-10-16T20:52:13.017701Z",
     "shell.execute_reply": "2023-10-16T20:52:13.016508Z"
    },
    "papermill": {
     "duration": 0.288983,
     "end_time": "2023-10-16T20:52:13.020076",
     "exception": false,
     "start_time": "2023-10-16T20:52:12.731093",
     "status": "completed"
    },
    "tags": []
   },
   "outputs": [
    {
     "data": {
      "text/plain": [
       "Text(0, 0.5, 'TPR')"
      ]
     },
     "execution_count": 139,
     "metadata": {},
     "output_type": "execute_result"
    },
    {
     "data": {
      "image/png": "[encoded data removed]",
      "text/plain": [
       "<Figure size 500x500 with 1 Axes>"
      ]
     },
     "metadata": {},
     "output_type": "display_data"
    }
   ],
   "source": [
    "# ROC curves are square\n",
    "plt.figure(figsize=(5,5))\n",
    "plt.plot(fpr, tpr, label=\"model\")\n",
    "plt.plot([0,1], [0,1], label=\"random\")\n",
    "# plt.plot(fpr, df_rand.tpr, label=\"model\")\n",
    "# plt.plot(df_ideal.fpr, df_ideal.tpr, label=\"model\")\n",
    "\n",
    "plt.xlabel('FPR')\n",
    "plt.ylabel('TPR')"
   ]
  },
  {
   "cell_type": "markdown",
   "id": "0b26af3c",
   "metadata": {
    "papermill": {
     "duration": 0.045949,
     "end_time": "2023-10-16T20:52:13.112358",
     "exception": false,
     "start_time": "2023-10-16T20:52:13.066409",
     "status": "completed"
    },
    "tags": []
   },
   "source": [
    "ROC AUC"
   ]
  },
  {
   "cell_type": "code",
   "execution_count": 140,
   "id": "82317c7b",
   "metadata": {
    "execution": {
     "iopub.execute_input": "2023-10-16T20:52:13.205057Z",
     "iopub.status.busy": "2023-10-16T20:52:13.204696Z",
     "iopub.status.idle": "2023-10-16T20:52:13.209484Z",
     "shell.execute_reply": "2023-10-16T20:52:13.208376Z"
    },
    "papermill": {
     "duration": 0.053687,
     "end_time": "2023-10-16T20:52:13.211623",
     "exception": false,
     "start_time": "2023-10-16T20:52:13.157936",
     "status": "completed"
    },
    "tags": []
   },
   "outputs": [],
   "source": [
    "from sklearn.metrics import auc"
   ]
  },
  {
   "cell_type": "code",
   "execution_count": 141,
   "id": "1bbd1bac",
   "metadata": {
    "execution": {
     "iopub.execute_input": "2023-10-16T20:52:13.304856Z",
     "iopub.status.busy": "2023-10-16T20:52:13.303912Z",
     "iopub.status.idle": "2023-10-16T20:52:13.311778Z",
     "shell.execute_reply": "2023-10-16T20:52:13.310639Z"
    },
    "papermill": {
     "duration": 0.057245,
     "end_time": "2023-10-16T20:52:13.313918",
     "exception": false,
     "start_time": "2023-10-16T20:52:13.256673",
     "status": "completed"
    },
    "tags": []
   },
   "outputs": [
    {
     "data": {
      "text/plain": [
       "0.8510831193431895"
      ]
     },
     "execution_count": 141,
     "metadata": {},
     "output_type": "execute_result"
    }
   ],
   "source": [
    "auc(fpr, tpr)"
   ]
  },
  {
   "cell_type": "markdown",
   "id": "06c729ed",
   "metadata": {
    "papermill": {
     "duration": 0.045273,
     "end_time": "2023-10-16T20:52:13.404652",
     "exception": false,
     "start_time": "2023-10-16T20:52:13.359379",
     "status": "completed"
    },
    "tags": []
   },
   "source": []
  },
  {
   "cell_type": "code",
   "execution_count": 142,
   "id": "78a2ec42",
   "metadata": {
    "execution": {
     "iopub.execute_input": "2023-10-16T20:52:13.502472Z",
     "iopub.status.busy": "2023-10-16T20:52:13.501641Z",
     "iopub.status.idle": "2023-10-16T20:52:13.508773Z",
     "shell.execute_reply": "2023-10-16T20:52:13.507722Z"
    },
    "papermill": {
     "duration": 0.058348,
     "end_time": "2023-10-16T20:52:13.511032",
     "exception": false,
     "start_time": "2023-10-16T20:52:13.452684",
     "status": "completed"
    },
    "tags": []
   },
   "outputs": [
    {
     "data": {
      "text/plain": [
       "0.8505943607899149"
      ]
     },
     "execution_count": 142,
     "metadata": {},
     "output_type": "execute_result"
    }
   ],
   "source": [
    "auc(df_scores.fpr, df_scores.tpr)"
   ]
  },
  {
   "cell_type": "code",
   "execution_count": 143,
   "id": "74395e12",
   "metadata": {
    "execution": {
     "iopub.execute_input": "2023-10-16T20:52:13.605072Z",
     "iopub.status.busy": "2023-10-16T20:52:13.604408Z",
     "iopub.status.idle": "2023-10-16T20:52:13.613667Z",
     "shell.execute_reply": "2023-10-16T20:52:13.612662Z"
    },
    "papermill": {
     "duration": 0.059102,
     "end_time": "2023-10-16T20:52:13.615756",
     "exception": false,
     "start_time": "2023-10-16T20:52:13.556654",
     "status": "completed"
    },
    "tags": []
   },
   "outputs": [
    {
     "data": {
      "text/plain": [
       "0.8510831193431895"
      ]
     },
     "execution_count": 143,
     "metadata": {},
     "output_type": "execute_result"
    }
   ],
   "source": [
    "# fpr, tpr, thresholds = roc_curve(y_val, y_pred)\n",
    "# auc(fpr, tpr)\n",
    "from sklearn.metrics import roc_auc_score\n",
    "roc_auc_score(y_val, y_pred)"
   ]
  }
 ],
 "metadata": {
  "kernelspec": {
   "display_name": "Python 3",
   "language": "python",
   "name": "python3"
  },
  "language_info": {
   "codemirror_mode": {
    "name": "ipython",
    "version": 3
   },
   "file_extension": ".py",
   "mimetype": "text/x-python",
   "name": "python",
   "nbconvert_exporter": "python",
   "pygments_lexer": "ipython3",
   "version": "3.10.12"
  },
  "papermill": {
   "default_parameters": {},
   "duration": 22.895776,
   "end_time": "2023-10-16T20:52:14.382655",
   "environment_variables": {},
   "exception": null,
   "input_path": "__notebook__.ipynb",
   "output_path": "__notebook__.ipynb",
   "parameters": {},
   "start_time": "2023-10-16T20:51:51.486879",
   "version": "2.4.0"
  }
 },
 "nbformat": 4,
 "nbformat_minor": 5
}
