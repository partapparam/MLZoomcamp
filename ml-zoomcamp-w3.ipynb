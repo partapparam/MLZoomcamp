{
 "cells": [
  {
   "cell_type": "code",
   "execution_count": 1,
   "id": "dd244d65",
   "metadata": {
    "_cell_guid": "b1076dfc-b9ad-4769-8c92-a6c4dae69d19",
    "_uuid": "8f2839f25d086af736a60e9eeb907d3b93b6e0e5",
    "execution": {
     "iopub.execute_input": "2023-10-04T22:11:21.681925Z",
     "iopub.status.busy": "2023-10-04T22:11:21.681177Z",
     "iopub.status.idle": "2023-10-04T22:11:22.124078Z",
     "shell.execute_reply": "2023-10-04T22:11:22.122901Z"
    },
    "papermill": {
     "duration": 0.473666,
     "end_time": "2023-10-04T22:11:22.127752",
     "exception": false,
     "start_time": "2023-10-04T22:11:21.654086",
     "status": "completed"
    },
    "tags": []
   },
   "outputs": [
    {
     "name": "stdout",
     "output_type": "stream",
     "text": [
      "/kaggle/input/telco-customer-churn/WA_Fn-UseC_-Telco-Customer-Churn.csv\n"
     ]
    }
   ],
   "source": [
    "# This Python 3 environment comes with many helpful analytics libraries installed\n",
    "# It is defined by the kaggle/python Docker image: https://github.com/kaggle/docker-python\n",
    "# For example, here's several helpful packages to load\n",
    "\n",
    "import numpy as np # linear algebra\n",
    "import pandas as pd # data processing, CSV file I/O (e.g. pd.read_csv)\n",
    "\n",
    "# Input data files are available in the read-only \"../input/\" directory\n",
    "# For example, running this (by clicking run or pressing Shift+Enter) will list all files under the input directory\n",
    "\n",
    "import os\n",
    "for dirname, _, filenames in os.walk('/kaggle/input'):\n",
    "    for filename in filenames:\n",
    "        print(os.path.join(dirname, filename))\n",
    "\n",
    "# You can write up to 20GB to the current directory (/kaggle/working/) that gets preserved as output when you create a version using \"Save & Run All\" \n",
    "# You can also write temporary files to /kaggle/temp/, but they won't be saved outside of the current session"
   ]
  },
  {
   "cell_type": "code",
   "execution_count": 2,
   "id": "d489dd01",
   "metadata": {
    "execution": {
     "iopub.execute_input": "2023-10-04T22:11:22.178983Z",
     "iopub.status.busy": "2023-10-04T22:11:22.178345Z",
     "iopub.status.idle": "2023-10-04T22:11:22.297309Z",
     "shell.execute_reply": "2023-10-04T22:11:22.296084Z"
    },
    "papermill": {
     "duration": 0.146591,
     "end_time": "2023-10-04T22:11:22.300147",
     "exception": false,
     "start_time": "2023-10-04T22:11:22.153556",
     "status": "completed"
    },
    "tags": []
   },
   "outputs": [
    {
     "data": {
      "text/html": [
       "<div>\n",
       "<style scoped>\n",
       "    .dataframe tbody tr th:only-of-type {\n",
       "        vertical-align: middle;\n",
       "    }\n",
       "\n",
       "    .dataframe tbody tr th {\n",
       "        vertical-align: top;\n",
       "    }\n",
       "\n",
       "    .dataframe thead th {\n",
       "        text-align: right;\n",
       "    }\n",
       "</style>\n",
       "<table border=\"1\" class=\"dataframe\">\n",
       "  <thead>\n",
       "    <tr style=\"text-align: right;\">\n",
       "      <th></th>\n",
       "      <th>customerID</th>\n",
       "      <th>gender</th>\n",
       "      <th>SeniorCitizen</th>\n",
       "      <th>Partner</th>\n",
       "      <th>Dependents</th>\n",
       "      <th>tenure</th>\n",
       "      <th>PhoneService</th>\n",
       "      <th>MultipleLines</th>\n",
       "      <th>InternetService</th>\n",
       "      <th>OnlineSecurity</th>\n",
       "      <th>...</th>\n",
       "      <th>DeviceProtection</th>\n",
       "      <th>TechSupport</th>\n",
       "      <th>StreamingTV</th>\n",
       "      <th>StreamingMovies</th>\n",
       "      <th>Contract</th>\n",
       "      <th>PaperlessBilling</th>\n",
       "      <th>PaymentMethod</th>\n",
       "      <th>MonthlyCharges</th>\n",
       "      <th>TotalCharges</th>\n",
       "      <th>Churn</th>\n",
       "    </tr>\n",
       "  </thead>\n",
       "  <tbody>\n",
       "    <tr>\n",
       "      <th>0</th>\n",
       "      <td>7590-VHVEG</td>\n",
       "      <td>Female</td>\n",
       "      <td>0</td>\n",
       "      <td>Yes</td>\n",
       "      <td>No</td>\n",
       "      <td>1</td>\n",
       "      <td>No</td>\n",
       "      <td>No phone service</td>\n",
       "      <td>DSL</td>\n",
       "      <td>No</td>\n",
       "      <td>...</td>\n",
       "      <td>No</td>\n",
       "      <td>No</td>\n",
       "      <td>No</td>\n",
       "      <td>No</td>\n",
       "      <td>Month-to-month</td>\n",
       "      <td>Yes</td>\n",
       "      <td>Electronic check</td>\n",
       "      <td>29.85</td>\n",
       "      <td>29.85</td>\n",
       "      <td>No</td>\n",
       "    </tr>\n",
       "    <tr>\n",
       "      <th>1</th>\n",
       "      <td>5575-GNVDE</td>\n",
       "      <td>Male</td>\n",
       "      <td>0</td>\n",
       "      <td>No</td>\n",
       "      <td>No</td>\n",
       "      <td>34</td>\n",
       "      <td>Yes</td>\n",
       "      <td>No</td>\n",
       "      <td>DSL</td>\n",
       "      <td>Yes</td>\n",
       "      <td>...</td>\n",
       "      <td>Yes</td>\n",
       "      <td>No</td>\n",
       "      <td>No</td>\n",
       "      <td>No</td>\n",
       "      <td>One year</td>\n",
       "      <td>No</td>\n",
       "      <td>Mailed check</td>\n",
       "      <td>56.95</td>\n",
       "      <td>1889.5</td>\n",
       "      <td>No</td>\n",
       "    </tr>\n",
       "    <tr>\n",
       "      <th>2</th>\n",
       "      <td>3668-QPYBK</td>\n",
       "      <td>Male</td>\n",
       "      <td>0</td>\n",
       "      <td>No</td>\n",
       "      <td>No</td>\n",
       "      <td>2</td>\n",
       "      <td>Yes</td>\n",
       "      <td>No</td>\n",
       "      <td>DSL</td>\n",
       "      <td>Yes</td>\n",
       "      <td>...</td>\n",
       "      <td>No</td>\n",
       "      <td>No</td>\n",
       "      <td>No</td>\n",
       "      <td>No</td>\n",
       "      <td>Month-to-month</td>\n",
       "      <td>Yes</td>\n",
       "      <td>Mailed check</td>\n",
       "      <td>53.85</td>\n",
       "      <td>108.15</td>\n",
       "      <td>Yes</td>\n",
       "    </tr>\n",
       "    <tr>\n",
       "      <th>3</th>\n",
       "      <td>7795-CFOCW</td>\n",
       "      <td>Male</td>\n",
       "      <td>0</td>\n",
       "      <td>No</td>\n",
       "      <td>No</td>\n",
       "      <td>45</td>\n",
       "      <td>No</td>\n",
       "      <td>No phone service</td>\n",
       "      <td>DSL</td>\n",
       "      <td>Yes</td>\n",
       "      <td>...</td>\n",
       "      <td>Yes</td>\n",
       "      <td>Yes</td>\n",
       "      <td>No</td>\n",
       "      <td>No</td>\n",
       "      <td>One year</td>\n",
       "      <td>No</td>\n",
       "      <td>Bank transfer (automatic)</td>\n",
       "      <td>42.30</td>\n",
       "      <td>1840.75</td>\n",
       "      <td>No</td>\n",
       "    </tr>\n",
       "    <tr>\n",
       "      <th>4</th>\n",
       "      <td>9237-HQITU</td>\n",
       "      <td>Female</td>\n",
       "      <td>0</td>\n",
       "      <td>No</td>\n",
       "      <td>No</td>\n",
       "      <td>2</td>\n",
       "      <td>Yes</td>\n",
       "      <td>No</td>\n",
       "      <td>Fiber optic</td>\n",
       "      <td>No</td>\n",
       "      <td>...</td>\n",
       "      <td>No</td>\n",
       "      <td>No</td>\n",
       "      <td>No</td>\n",
       "      <td>No</td>\n",
       "      <td>Month-to-month</td>\n",
       "      <td>Yes</td>\n",
       "      <td>Electronic check</td>\n",
       "      <td>70.70</td>\n",
       "      <td>151.65</td>\n",
       "      <td>Yes</td>\n",
       "    </tr>\n",
       "    <tr>\n",
       "      <th>...</th>\n",
       "      <td>...</td>\n",
       "      <td>...</td>\n",
       "      <td>...</td>\n",
       "      <td>...</td>\n",
       "      <td>...</td>\n",
       "      <td>...</td>\n",
       "      <td>...</td>\n",
       "      <td>...</td>\n",
       "      <td>...</td>\n",
       "      <td>...</td>\n",
       "      <td>...</td>\n",
       "      <td>...</td>\n",
       "      <td>...</td>\n",
       "      <td>...</td>\n",
       "      <td>...</td>\n",
       "      <td>...</td>\n",
       "      <td>...</td>\n",
       "      <td>...</td>\n",
       "      <td>...</td>\n",
       "      <td>...</td>\n",
       "      <td>...</td>\n",
       "    </tr>\n",
       "    <tr>\n",
       "      <th>7038</th>\n",
       "      <td>6840-RESVB</td>\n",
       "      <td>Male</td>\n",
       "      <td>0</td>\n",
       "      <td>Yes</td>\n",
       "      <td>Yes</td>\n",
       "      <td>24</td>\n",
       "      <td>Yes</td>\n",
       "      <td>Yes</td>\n",
       "      <td>DSL</td>\n",
       "      <td>Yes</td>\n",
       "      <td>...</td>\n",
       "      <td>Yes</td>\n",
       "      <td>Yes</td>\n",
       "      <td>Yes</td>\n",
       "      <td>Yes</td>\n",
       "      <td>One year</td>\n",
       "      <td>Yes</td>\n",
       "      <td>Mailed check</td>\n",
       "      <td>84.80</td>\n",
       "      <td>1990.5</td>\n",
       "      <td>No</td>\n",
       "    </tr>\n",
       "    <tr>\n",
       "      <th>7039</th>\n",
       "      <td>2234-XADUH</td>\n",
       "      <td>Female</td>\n",
       "      <td>0</td>\n",
       "      <td>Yes</td>\n",
       "      <td>Yes</td>\n",
       "      <td>72</td>\n",
       "      <td>Yes</td>\n",
       "      <td>Yes</td>\n",
       "      <td>Fiber optic</td>\n",
       "      <td>No</td>\n",
       "      <td>...</td>\n",
       "      <td>Yes</td>\n",
       "      <td>No</td>\n",
       "      <td>Yes</td>\n",
       "      <td>Yes</td>\n",
       "      <td>One year</td>\n",
       "      <td>Yes</td>\n",
       "      <td>Credit card (automatic)</td>\n",
       "      <td>103.20</td>\n",
       "      <td>7362.9</td>\n",
       "      <td>No</td>\n",
       "    </tr>\n",
       "    <tr>\n",
       "      <th>7040</th>\n",
       "      <td>4801-JZAZL</td>\n",
       "      <td>Female</td>\n",
       "      <td>0</td>\n",
       "      <td>Yes</td>\n",
       "      <td>Yes</td>\n",
       "      <td>11</td>\n",
       "      <td>No</td>\n",
       "      <td>No phone service</td>\n",
       "      <td>DSL</td>\n",
       "      <td>Yes</td>\n",
       "      <td>...</td>\n",
       "      <td>No</td>\n",
       "      <td>No</td>\n",
       "      <td>No</td>\n",
       "      <td>No</td>\n",
       "      <td>Month-to-month</td>\n",
       "      <td>Yes</td>\n",
       "      <td>Electronic check</td>\n",
       "      <td>29.60</td>\n",
       "      <td>346.45</td>\n",
       "      <td>No</td>\n",
       "    </tr>\n",
       "    <tr>\n",
       "      <th>7041</th>\n",
       "      <td>8361-LTMKD</td>\n",
       "      <td>Male</td>\n",
       "      <td>1</td>\n",
       "      <td>Yes</td>\n",
       "      <td>No</td>\n",
       "      <td>4</td>\n",
       "      <td>Yes</td>\n",
       "      <td>Yes</td>\n",
       "      <td>Fiber optic</td>\n",
       "      <td>No</td>\n",
       "      <td>...</td>\n",
       "      <td>No</td>\n",
       "      <td>No</td>\n",
       "      <td>No</td>\n",
       "      <td>No</td>\n",
       "      <td>Month-to-month</td>\n",
       "      <td>Yes</td>\n",
       "      <td>Mailed check</td>\n",
       "      <td>74.40</td>\n",
       "      <td>306.6</td>\n",
       "      <td>Yes</td>\n",
       "    </tr>\n",
       "    <tr>\n",
       "      <th>7042</th>\n",
       "      <td>3186-AJIEK</td>\n",
       "      <td>Male</td>\n",
       "      <td>0</td>\n",
       "      <td>No</td>\n",
       "      <td>No</td>\n",
       "      <td>66</td>\n",
       "      <td>Yes</td>\n",
       "      <td>No</td>\n",
       "      <td>Fiber optic</td>\n",
       "      <td>Yes</td>\n",
       "      <td>...</td>\n",
       "      <td>Yes</td>\n",
       "      <td>Yes</td>\n",
       "      <td>Yes</td>\n",
       "      <td>Yes</td>\n",
       "      <td>Two year</td>\n",
       "      <td>Yes</td>\n",
       "      <td>Bank transfer (automatic)</td>\n",
       "      <td>105.65</td>\n",
       "      <td>6844.5</td>\n",
       "      <td>No</td>\n",
       "    </tr>\n",
       "  </tbody>\n",
       "</table>\n",
       "<p>7043 rows × 21 columns</p>\n",
       "</div>"
      ],
      "text/plain": [
       "      customerID  gender  SeniorCitizen Partner Dependents  tenure  \\\n",
       "0     7590-VHVEG  Female              0     Yes         No       1   \n",
       "1     5575-GNVDE    Male              0      No         No      34   \n",
       "2     3668-QPYBK    Male              0      No         No       2   \n",
       "3     7795-CFOCW    Male              0      No         No      45   \n",
       "4     9237-HQITU  Female              0      No         No       2   \n",
       "...          ...     ...            ...     ...        ...     ...   \n",
       "7038  6840-RESVB    Male              0     Yes        Yes      24   \n",
       "7039  2234-XADUH  Female              0     Yes        Yes      72   \n",
       "7040  4801-JZAZL  Female              0     Yes        Yes      11   \n",
       "7041  8361-LTMKD    Male              1     Yes         No       4   \n",
       "7042  3186-AJIEK    Male              0      No         No      66   \n",
       "\n",
       "     PhoneService     MultipleLines InternetService OnlineSecurity  ...  \\\n",
       "0              No  No phone service             DSL             No  ...   \n",
       "1             Yes                No             DSL            Yes  ...   \n",
       "2             Yes                No             DSL            Yes  ...   \n",
       "3              No  No phone service             DSL            Yes  ...   \n",
       "4             Yes                No     Fiber optic             No  ...   \n",
       "...           ...               ...             ...            ...  ...   \n",
       "7038          Yes               Yes             DSL            Yes  ...   \n",
       "7039          Yes               Yes     Fiber optic             No  ...   \n",
       "7040           No  No phone service             DSL            Yes  ...   \n",
       "7041          Yes               Yes     Fiber optic             No  ...   \n",
       "7042          Yes                No     Fiber optic            Yes  ...   \n",
       "\n",
       "     DeviceProtection TechSupport StreamingTV StreamingMovies        Contract  \\\n",
       "0                  No          No          No              No  Month-to-month   \n",
       "1                 Yes          No          No              No        One year   \n",
       "2                  No          No          No              No  Month-to-month   \n",
       "3                 Yes         Yes          No              No        One year   \n",
       "4                  No          No          No              No  Month-to-month   \n",
       "...               ...         ...         ...             ...             ...   \n",
       "7038              Yes         Yes         Yes             Yes        One year   \n",
       "7039              Yes          No         Yes             Yes        One year   \n",
       "7040               No          No          No              No  Month-to-month   \n",
       "7041               No          No          No              No  Month-to-month   \n",
       "7042              Yes         Yes         Yes             Yes        Two year   \n",
       "\n",
       "     PaperlessBilling              PaymentMethod MonthlyCharges  TotalCharges  \\\n",
       "0                 Yes           Electronic check          29.85         29.85   \n",
       "1                  No               Mailed check          56.95        1889.5   \n",
       "2                 Yes               Mailed check          53.85        108.15   \n",
       "3                  No  Bank transfer (automatic)          42.30       1840.75   \n",
       "4                 Yes           Electronic check          70.70        151.65   \n",
       "...               ...                        ...            ...           ...   \n",
       "7038              Yes               Mailed check          84.80        1990.5   \n",
       "7039              Yes    Credit card (automatic)         103.20        7362.9   \n",
       "7040              Yes           Electronic check          29.60        346.45   \n",
       "7041              Yes               Mailed check          74.40         306.6   \n",
       "7042              Yes  Bank transfer (automatic)         105.65        6844.5   \n",
       "\n",
       "     Churn  \n",
       "0       No  \n",
       "1       No  \n",
       "2      Yes  \n",
       "3       No  \n",
       "4      Yes  \n",
       "...    ...  \n",
       "7038    No  \n",
       "7039    No  \n",
       "7040    No  \n",
       "7041   Yes  \n",
       "7042    No  \n",
       "\n",
       "[7043 rows x 21 columns]"
      ]
     },
     "execution_count": 2,
     "metadata": {},
     "output_type": "execute_result"
    }
   ],
   "source": [
    "df = pd.read_csv('../input/telco-customer-churn/WA_Fn-UseC_-Telco-Customer-Churn.csv')\n",
    "df"
   ]
  },
  {
   "cell_type": "code",
   "execution_count": 3,
   "id": "2f5b4780",
   "metadata": {
    "execution": {
     "iopub.execute_input": "2023-10-04T22:11:22.350940Z",
     "iopub.status.busy": "2023-10-04T22:11:22.350494Z",
     "iopub.status.idle": "2023-10-04T22:11:22.355524Z",
     "shell.execute_reply": "2023-10-04T22:11:22.354223Z"
    },
    "papermill": {
     "duration": 0.033455,
     "end_time": "2023-10-04T22:11:22.357748",
     "exception": false,
     "start_time": "2023-10-04T22:11:22.324293",
     "status": "completed"
    },
    "tags": []
   },
   "outputs": [],
   "source": [
    "import matplotlib.pyplot as plt"
   ]
  },
  {
   "cell_type": "code",
   "execution_count": 4,
   "id": "777ddb07",
   "metadata": {
    "execution": {
     "iopub.execute_input": "2023-10-04T22:11:22.510074Z",
     "iopub.status.busy": "2023-10-04T22:11:22.509453Z",
     "iopub.status.idle": "2023-10-04T22:11:22.529883Z",
     "shell.execute_reply": "2023-10-04T22:11:22.528687Z"
    },
    "papermill": {
     "duration": 0.04972,
     "end_time": "2023-10-04T22:11:22.532387",
     "exception": false,
     "start_time": "2023-10-04T22:11:22.482667",
     "status": "completed"
    },
    "tags": []
   },
   "outputs": [
    {
     "data": {
      "text/html": [
       "<div>\n",
       "<style scoped>\n",
       "    .dataframe tbody tr th:only-of-type {\n",
       "        vertical-align: middle;\n",
       "    }\n",
       "\n",
       "    .dataframe tbody tr th {\n",
       "        vertical-align: top;\n",
       "    }\n",
       "\n",
       "    .dataframe thead th {\n",
       "        text-align: right;\n",
       "    }\n",
       "</style>\n",
       "<table border=\"1\" class=\"dataframe\">\n",
       "  <thead>\n",
       "    <tr style=\"text-align: right;\">\n",
       "      <th></th>\n",
       "      <th>0</th>\n",
       "      <th>1</th>\n",
       "      <th>2</th>\n",
       "      <th>3</th>\n",
       "      <th>4</th>\n",
       "    </tr>\n",
       "  </thead>\n",
       "  <tbody>\n",
       "    <tr>\n",
       "      <th>customerID</th>\n",
       "      <td>7590-VHVEG</td>\n",
       "      <td>5575-GNVDE</td>\n",
       "      <td>3668-QPYBK</td>\n",
       "      <td>7795-CFOCW</td>\n",
       "      <td>9237-HQITU</td>\n",
       "    </tr>\n",
       "    <tr>\n",
       "      <th>gender</th>\n",
       "      <td>Female</td>\n",
       "      <td>Male</td>\n",
       "      <td>Male</td>\n",
       "      <td>Male</td>\n",
       "      <td>Female</td>\n",
       "    </tr>\n",
       "    <tr>\n",
       "      <th>SeniorCitizen</th>\n",
       "      <td>0</td>\n",
       "      <td>0</td>\n",
       "      <td>0</td>\n",
       "      <td>0</td>\n",
       "      <td>0</td>\n",
       "    </tr>\n",
       "    <tr>\n",
       "      <th>Partner</th>\n",
       "      <td>Yes</td>\n",
       "      <td>No</td>\n",
       "      <td>No</td>\n",
       "      <td>No</td>\n",
       "      <td>No</td>\n",
       "    </tr>\n",
       "    <tr>\n",
       "      <th>Dependents</th>\n",
       "      <td>No</td>\n",
       "      <td>No</td>\n",
       "      <td>No</td>\n",
       "      <td>No</td>\n",
       "      <td>No</td>\n",
       "    </tr>\n",
       "    <tr>\n",
       "      <th>tenure</th>\n",
       "      <td>1</td>\n",
       "      <td>34</td>\n",
       "      <td>2</td>\n",
       "      <td>45</td>\n",
       "      <td>2</td>\n",
       "    </tr>\n",
       "    <tr>\n",
       "      <th>PhoneService</th>\n",
       "      <td>No</td>\n",
       "      <td>Yes</td>\n",
       "      <td>Yes</td>\n",
       "      <td>No</td>\n",
       "      <td>Yes</td>\n",
       "    </tr>\n",
       "    <tr>\n",
       "      <th>MultipleLines</th>\n",
       "      <td>No phone service</td>\n",
       "      <td>No</td>\n",
       "      <td>No</td>\n",
       "      <td>No phone service</td>\n",
       "      <td>No</td>\n",
       "    </tr>\n",
       "    <tr>\n",
       "      <th>InternetService</th>\n",
       "      <td>DSL</td>\n",
       "      <td>DSL</td>\n",
       "      <td>DSL</td>\n",
       "      <td>DSL</td>\n",
       "      <td>Fiber optic</td>\n",
       "    </tr>\n",
       "    <tr>\n",
       "      <th>OnlineSecurity</th>\n",
       "      <td>No</td>\n",
       "      <td>Yes</td>\n",
       "      <td>Yes</td>\n",
       "      <td>Yes</td>\n",
       "      <td>No</td>\n",
       "    </tr>\n",
       "    <tr>\n",
       "      <th>OnlineBackup</th>\n",
       "      <td>Yes</td>\n",
       "      <td>No</td>\n",
       "      <td>Yes</td>\n",
       "      <td>No</td>\n",
       "      <td>No</td>\n",
       "    </tr>\n",
       "    <tr>\n",
       "      <th>DeviceProtection</th>\n",
       "      <td>No</td>\n",
       "      <td>Yes</td>\n",
       "      <td>No</td>\n",
       "      <td>Yes</td>\n",
       "      <td>No</td>\n",
       "    </tr>\n",
       "    <tr>\n",
       "      <th>TechSupport</th>\n",
       "      <td>No</td>\n",
       "      <td>No</td>\n",
       "      <td>No</td>\n",
       "      <td>Yes</td>\n",
       "      <td>No</td>\n",
       "    </tr>\n",
       "    <tr>\n",
       "      <th>StreamingTV</th>\n",
       "      <td>No</td>\n",
       "      <td>No</td>\n",
       "      <td>No</td>\n",
       "      <td>No</td>\n",
       "      <td>No</td>\n",
       "    </tr>\n",
       "    <tr>\n",
       "      <th>StreamingMovies</th>\n",
       "      <td>No</td>\n",
       "      <td>No</td>\n",
       "      <td>No</td>\n",
       "      <td>No</td>\n",
       "      <td>No</td>\n",
       "    </tr>\n",
       "    <tr>\n",
       "      <th>Contract</th>\n",
       "      <td>Month-to-month</td>\n",
       "      <td>One year</td>\n",
       "      <td>Month-to-month</td>\n",
       "      <td>One year</td>\n",
       "      <td>Month-to-month</td>\n",
       "    </tr>\n",
       "    <tr>\n",
       "      <th>PaperlessBilling</th>\n",
       "      <td>Yes</td>\n",
       "      <td>No</td>\n",
       "      <td>Yes</td>\n",
       "      <td>No</td>\n",
       "      <td>Yes</td>\n",
       "    </tr>\n",
       "    <tr>\n",
       "      <th>PaymentMethod</th>\n",
       "      <td>Electronic check</td>\n",
       "      <td>Mailed check</td>\n",
       "      <td>Mailed check</td>\n",
       "      <td>Bank transfer (automatic)</td>\n",
       "      <td>Electronic check</td>\n",
       "    </tr>\n",
       "    <tr>\n",
       "      <th>MonthlyCharges</th>\n",
       "      <td>29.85</td>\n",
       "      <td>56.95</td>\n",
       "      <td>53.85</td>\n",
       "      <td>42.3</td>\n",
       "      <td>70.7</td>\n",
       "    </tr>\n",
       "    <tr>\n",
       "      <th>TotalCharges</th>\n",
       "      <td>29.85</td>\n",
       "      <td>1889.5</td>\n",
       "      <td>108.15</td>\n",
       "      <td>1840.75</td>\n",
       "      <td>151.65</td>\n",
       "    </tr>\n",
       "    <tr>\n",
       "      <th>Churn</th>\n",
       "      <td>No</td>\n",
       "      <td>No</td>\n",
       "      <td>Yes</td>\n",
       "      <td>No</td>\n",
       "      <td>Yes</td>\n",
       "    </tr>\n",
       "  </tbody>\n",
       "</table>\n",
       "</div>"
      ],
      "text/plain": [
       "                                 0             1               2  \\\n",
       "customerID              7590-VHVEG    5575-GNVDE      3668-QPYBK   \n",
       "gender                      Female          Male            Male   \n",
       "SeniorCitizen                    0             0               0   \n",
       "Partner                        Yes            No              No   \n",
       "Dependents                      No            No              No   \n",
       "tenure                           1            34               2   \n",
       "PhoneService                    No           Yes             Yes   \n",
       "MultipleLines     No phone service            No              No   \n",
       "InternetService                DSL           DSL             DSL   \n",
       "OnlineSecurity                  No           Yes             Yes   \n",
       "OnlineBackup                   Yes            No             Yes   \n",
       "DeviceProtection                No           Yes              No   \n",
       "TechSupport                     No            No              No   \n",
       "StreamingTV                     No            No              No   \n",
       "StreamingMovies                 No            No              No   \n",
       "Contract            Month-to-month      One year  Month-to-month   \n",
       "PaperlessBilling               Yes            No             Yes   \n",
       "PaymentMethod     Electronic check  Mailed check    Mailed check   \n",
       "MonthlyCharges               29.85         56.95           53.85   \n",
       "TotalCharges                 29.85        1889.5          108.15   \n",
       "Churn                           No            No             Yes   \n",
       "\n",
       "                                          3                 4  \n",
       "customerID                       7795-CFOCW        9237-HQITU  \n",
       "gender                                 Male            Female  \n",
       "SeniorCitizen                             0                 0  \n",
       "Partner                                  No                No  \n",
       "Dependents                               No                No  \n",
       "tenure                                   45                 2  \n",
       "PhoneService                             No               Yes  \n",
       "MultipleLines              No phone service                No  \n",
       "InternetService                         DSL       Fiber optic  \n",
       "OnlineSecurity                          Yes                No  \n",
       "OnlineBackup                             No                No  \n",
       "DeviceProtection                        Yes                No  \n",
       "TechSupport                             Yes                No  \n",
       "StreamingTV                              No                No  \n",
       "StreamingMovies                          No                No  \n",
       "Contract                           One year    Month-to-month  \n",
       "PaperlessBilling                         No               Yes  \n",
       "PaymentMethod     Bank transfer (automatic)  Electronic check  \n",
       "MonthlyCharges                         42.3              70.7  \n",
       "TotalCharges                        1840.75            151.65  \n",
       "Churn                                    No               Yes  "
      ]
     },
     "execution_count": 4,
     "metadata": {},
     "output_type": "execute_result"
    }
   ],
   "source": [
    "# Using df.head() doesn't display all the columns because of the size of the DF\n",
    "# by using transpose, we make the columns the rows.\n",
    "df.head().T"
   ]
  },
  {
   "cell_type": "code",
   "execution_count": 5,
   "id": "14209a76",
   "metadata": {
    "execution": {
     "iopub.execute_input": "2023-10-04T22:11:22.586401Z",
     "iopub.status.busy": "2023-10-04T22:11:22.585006Z",
     "iopub.status.idle": "2023-10-04T22:11:22.594581Z",
     "shell.execute_reply": "2023-10-04T22:11:22.593499Z"
    },
    "papermill": {
     "duration": 0.038125,
     "end_time": "2023-10-04T22:11:22.596809",
     "exception": false,
     "start_time": "2023-10-04T22:11:22.558684",
     "status": "completed"
    },
    "tags": []
   },
   "outputs": [
    {
     "data": {
      "text/plain": [
       "Index(['customerid', 'gender', 'seniorcitizen', 'partner', 'dependents',\n",
       "       'tenure', 'phoneservice', 'multiplelines', 'internetservice',\n",
       "       'onlinesecurity', 'onlinebackup', 'deviceprotection', 'techsupport',\n",
       "       'streamingtv', 'streamingmovies', 'contract', 'paperlessbilling',\n",
       "       'paymentmethod', 'monthlycharges', 'totalcharges', 'churn'],\n",
       "      dtype='object')"
      ]
     },
     "execution_count": 5,
     "metadata": {},
     "output_type": "execute_result"
    }
   ],
   "source": [
    "# lets clean up the data\n",
    "df.columns = df.columns.str.lower().str.replace(' ', '_')\n",
    "df.columns"
   ]
  },
  {
   "cell_type": "code",
   "execution_count": 6,
   "id": "050a6305",
   "metadata": {
    "execution": {
     "iopub.execute_input": "2023-10-04T22:11:22.654341Z",
     "iopub.status.busy": "2023-10-04T22:11:22.653718Z",
     "iopub.status.idle": "2023-10-04T22:11:22.664055Z",
     "shell.execute_reply": "2023-10-04T22:11:22.662922Z"
    },
    "papermill": {
     "duration": 0.043457,
     "end_time": "2023-10-04T22:11:22.666844",
     "exception": false,
     "start_time": "2023-10-04T22:11:22.623387",
     "status": "completed"
    },
    "tags": []
   },
   "outputs": [
    {
     "data": {
      "text/plain": [
       "['customerid',\n",
       " 'gender',\n",
       " 'partner',\n",
       " 'dependents',\n",
       " 'phoneservice',\n",
       " 'multiplelines',\n",
       " 'internetservice',\n",
       " 'onlinesecurity',\n",
       " 'onlinebackup',\n",
       " 'deviceprotection',\n",
       " 'techsupport',\n",
       " 'streamingtv',\n",
       " 'streamingmovies',\n",
       " 'contract',\n",
       " 'paperlessbilling',\n",
       " 'paymentmethod',\n",
       " 'totalcharges',\n",
       " 'churn']"
      ]
     },
     "execution_count": 6,
     "metadata": {},
     "output_type": "execute_result"
    }
   ],
   "source": [
    "categorical_columns = list(df.dtypes[df.dtypes  == 'object'].index)\n",
    "categorical_columns"
   ]
  },
  {
   "cell_type": "code",
   "execution_count": 7,
   "id": "9b2275e6",
   "metadata": {
    "execution": {
     "iopub.execute_input": "2023-10-04T22:11:22.719081Z",
     "iopub.status.busy": "2023-10-04T22:11:22.718593Z",
     "iopub.status.idle": "2023-10-04T22:11:22.823999Z",
     "shell.execute_reply": "2023-10-04T22:11:22.822537Z"
    },
    "papermill": {
     "duration": 0.13533,
     "end_time": "2023-10-04T22:11:22.827335",
     "exception": false,
     "start_time": "2023-10-04T22:11:22.692005",
     "status": "completed"
    },
    "tags": []
   },
   "outputs": [],
   "source": [
    "# Now we go through and clean up the data in the columns\n",
    "for c in categorical_columns: \n",
    "    df[c] = df[c].str.lower().str.replace(' ', '_')"
   ]
  },
  {
   "cell_type": "code",
   "execution_count": 8,
   "id": "a7979fac",
   "metadata": {
    "execution": {
     "iopub.execute_input": "2023-10-04T22:11:22.892572Z",
     "iopub.status.busy": "2023-10-04T22:11:22.892177Z",
     "iopub.status.idle": "2023-10-04T22:11:22.913372Z",
     "shell.execute_reply": "2023-10-04T22:11:22.912322Z"
    },
    "papermill": {
     "duration": 0.055152,
     "end_time": "2023-10-04T22:11:22.915554",
     "exception": false,
     "start_time": "2023-10-04T22:11:22.860402",
     "status": "completed"
    },
    "tags": []
   },
   "outputs": [
    {
     "data": {
      "text/html": [
       "<div>\n",
       "<style scoped>\n",
       "    .dataframe tbody tr th:only-of-type {\n",
       "        vertical-align: middle;\n",
       "    }\n",
       "\n",
       "    .dataframe tbody tr th {\n",
       "        vertical-align: top;\n",
       "    }\n",
       "\n",
       "    .dataframe thead th {\n",
       "        text-align: right;\n",
       "    }\n",
       "</style>\n",
       "<table border=\"1\" class=\"dataframe\">\n",
       "  <thead>\n",
       "    <tr style=\"text-align: right;\">\n",
       "      <th></th>\n",
       "      <th>customerid</th>\n",
       "      <th>totalcharges</th>\n",
       "    </tr>\n",
       "  </thead>\n",
       "  <tbody>\n",
       "    <tr>\n",
       "      <th>488</th>\n",
       "      <td>4472-lvygi</td>\n",
       "      <td>_</td>\n",
       "    </tr>\n",
       "    <tr>\n",
       "      <th>753</th>\n",
       "      <td>3115-czmzd</td>\n",
       "      <td>_</td>\n",
       "    </tr>\n",
       "    <tr>\n",
       "      <th>936</th>\n",
       "      <td>5709-lvoeq</td>\n",
       "      <td>_</td>\n",
       "    </tr>\n",
       "    <tr>\n",
       "      <th>1082</th>\n",
       "      <td>4367-nuyao</td>\n",
       "      <td>_</td>\n",
       "    </tr>\n",
       "    <tr>\n",
       "      <th>1340</th>\n",
       "      <td>1371-dwpaz</td>\n",
       "      <td>_</td>\n",
       "    </tr>\n",
       "    <tr>\n",
       "      <th>3331</th>\n",
       "      <td>7644-omvmy</td>\n",
       "      <td>_</td>\n",
       "    </tr>\n",
       "    <tr>\n",
       "      <th>3826</th>\n",
       "      <td>3213-vvolg</td>\n",
       "      <td>_</td>\n",
       "    </tr>\n",
       "    <tr>\n",
       "      <th>4380</th>\n",
       "      <td>2520-sgtta</td>\n",
       "      <td>_</td>\n",
       "    </tr>\n",
       "    <tr>\n",
       "      <th>5218</th>\n",
       "      <td>2923-arzlg</td>\n",
       "      <td>_</td>\n",
       "    </tr>\n",
       "    <tr>\n",
       "      <th>6670</th>\n",
       "      <td>4075-wkniu</td>\n",
       "      <td>_</td>\n",
       "    </tr>\n",
       "    <tr>\n",
       "      <th>6754</th>\n",
       "      <td>2775-sefee</td>\n",
       "      <td>_</td>\n",
       "    </tr>\n",
       "  </tbody>\n",
       "</table>\n",
       "</div>"
      ],
      "text/plain": [
       "      customerid totalcharges\n",
       "488   4472-lvygi            _\n",
       "753   3115-czmzd            _\n",
       "936   5709-lvoeq            _\n",
       "1082  4367-nuyao            _\n",
       "1340  1371-dwpaz            _\n",
       "3331  7644-omvmy            _\n",
       "3826  3213-vvolg            _\n",
       "4380  2520-sgtta            _\n",
       "5218  2923-arzlg            _\n",
       "6670  4075-wkniu            _\n",
       "6754  2775-sefee            _"
      ]
     },
     "execution_count": 8,
     "metadata": {},
     "output_type": "execute_result"
    }
   ],
   "source": [
    "# setting error value to coerce will just return the input value as the output\n",
    "tc = pd.to_numeric(df.totalcharges, errors='coerce')\n",
    "# show the rows in DF that match tc.isnull and just show the two columns we want to see\n",
    "df[tc.isnull()][['customerid', 'totalcharges']]"
   ]
  },
  {
   "cell_type": "code",
   "execution_count": 9,
   "id": "350dc671",
   "metadata": {
    "execution": {
     "iopub.execute_input": "2023-10-04T22:11:22.972697Z",
     "iopub.status.busy": "2023-10-04T22:11:22.971878Z",
     "iopub.status.idle": "2023-10-04T22:11:22.983961Z",
     "shell.execute_reply": "2023-10-04T22:11:22.982872Z"
    },
    "papermill": {
     "duration": 0.045061,
     "end_time": "2023-10-04T22:11:22.986446",
     "exception": false,
     "start_time": "2023-10-04T22:11:22.941385",
     "status": "completed"
    },
    "tags": []
   },
   "outputs": [],
   "source": [
    "df.totalcharges = pd.to_numeric(df.totalcharges, errors='coerce')"
   ]
  },
  {
   "cell_type": "code",
   "execution_count": 10,
   "id": "eebbd7f1",
   "metadata": {
    "execution": {
     "iopub.execute_input": "2023-10-04T22:11:23.040355Z",
     "iopub.status.busy": "2023-10-04T22:11:23.039234Z",
     "iopub.status.idle": "2023-10-04T22:11:23.049443Z",
     "shell.execute_reply": "2023-10-04T22:11:23.048138Z"
    },
    "papermill": {
     "duration": 0.040336,
     "end_time": "2023-10-04T22:11:23.051996",
     "exception": false,
     "start_time": "2023-10-04T22:11:23.011660",
     "status": "completed"
    },
    "tags": []
   },
   "outputs": [
    {
     "data": {
      "text/plain": [
       "0"
      ]
     },
     "execution_count": 10,
     "metadata": {},
     "output_type": "execute_result"
    }
   ],
   "source": [
    "df.totalcharges = df.totalcharges.fillna(0)\n",
    "df.totalcharges.isnull().sum()"
   ]
  },
  {
   "cell_type": "code",
   "execution_count": 11,
   "id": "362153fa",
   "metadata": {
    "execution": {
     "iopub.execute_input": "2023-10-04T22:11:23.108162Z",
     "iopub.status.busy": "2023-10-04T22:11:23.107241Z",
     "iopub.status.idle": "2023-10-04T22:11:23.119829Z",
     "shell.execute_reply": "2023-10-04T22:11:23.118715Z"
    },
    "papermill": {
     "duration": 0.043084,
     "end_time": "2023-10-04T22:11:23.121998",
     "exception": false,
     "start_time": "2023-10-04T22:11:23.078914",
     "status": "completed"
    },
    "tags": []
   },
   "outputs": [
    {
     "data": {
      "text/plain": [
       "0       0\n",
       "1       0\n",
       "2       1\n",
       "3       0\n",
       "4       1\n",
       "       ..\n",
       "7038    0\n",
       "7039    0\n",
       "7040    0\n",
       "7041    1\n",
       "7042    0\n",
       "Name: churn, Length: 7043, dtype: int64"
      ]
     },
     "execution_count": 11,
     "metadata": {},
     "output_type": "execute_result"
    }
   ],
   "source": [
    "# convert the yes no values into 1 and 0\n",
    "df.churn = (df.churn == 'yes').astype(int)\n",
    "df.churn"
   ]
  },
  {
   "cell_type": "markdown",
   "id": "89addf8d",
   "metadata": {
    "papermill": {
     "duration": 0.026282,
     "end_time": "2023-10-04T22:11:23.174779",
     "exception": false,
     "start_time": "2023-10-04T22:11:23.148497",
     "status": "completed"
    },
    "tags": []
   },
   "source": [
    "Set up the validaiton framework using Scikit-Learn"
   ]
  },
  {
   "cell_type": "code",
   "execution_count": 12,
   "id": "214bfb18",
   "metadata": {
    "execution": {
     "iopub.execute_input": "2023-10-04T22:11:23.231529Z",
     "iopub.status.busy": "2023-10-04T22:11:23.230613Z",
     "iopub.status.idle": "2023-10-04T22:11:24.672601Z",
     "shell.execute_reply": "2023-10-04T22:11:24.671326Z"
    },
    "papermill": {
     "duration": 1.474479,
     "end_time": "2023-10-04T22:11:24.675232",
     "exception": false,
     "start_time": "2023-10-04T22:11:23.200753",
     "status": "completed"
    },
    "tags": []
   },
   "outputs": [
    {
     "data": {
      "text/plain": [
       "7043"
      ]
     },
     "execution_count": 12,
     "metadata": {},
     "output_type": "execute_result"
    }
   ],
   "source": [
    "from sklearn.model_selection import train_test_split\n",
    "df_full_train, df_test  = train_test_split(df, test_size=0.2, random_state=1)\n",
    "len(df)"
   ]
  },
  {
   "cell_type": "code",
   "execution_count": 13,
   "id": "143a6ab9",
   "metadata": {
    "execution": {
     "iopub.execute_input": "2023-10-04T22:11:24.727757Z",
     "iopub.status.busy": "2023-10-04T22:11:24.727027Z",
     "iopub.status.idle": "2023-10-04T22:11:24.734169Z",
     "shell.execute_reply": "2023-10-04T22:11:24.732995Z"
    },
    "papermill": {
     "duration": 0.036084,
     "end_time": "2023-10-04T22:11:24.736179",
     "exception": false,
     "start_time": "2023-10-04T22:11:24.700095",
     "status": "completed"
    },
    "tags": []
   },
   "outputs": [
    {
     "data": {
      "text/plain": [
       "(5634, 1409)"
      ]
     },
     "execution_count": 13,
     "metadata": {},
     "output_type": "execute_result"
    }
   ],
   "source": [
    "len(df_full_train), len(df_test)"
   ]
  },
  {
   "cell_type": "code",
   "execution_count": 14,
   "id": "91f63276",
   "metadata": {
    "execution": {
     "iopub.execute_input": "2023-10-04T22:11:24.788983Z",
     "iopub.status.busy": "2023-10-04T22:11:24.788236Z",
     "iopub.status.idle": "2023-10-04T22:11:24.806260Z",
     "shell.execute_reply": "2023-10-04T22:11:24.805131Z"
    },
    "papermill": {
     "duration": 0.047451,
     "end_time": "2023-10-04T22:11:24.808615",
     "exception": false,
     "start_time": "2023-10-04T22:11:24.761164",
     "status": "completed"
    },
    "tags": []
   },
   "outputs": [
    {
     "data": {
      "text/plain": [
       "(4225, 1409)"
      ]
     },
     "execution_count": 14,
     "metadata": {},
     "output_type": "execute_result"
    }
   ],
   "source": [
    "df_train, df_val = train_test_split(df_full_train, test_size=0.25, random_state=1)\n",
    "len(df_train), len(df_val)"
   ]
  },
  {
   "cell_type": "code",
   "execution_count": 15,
   "id": "c83ec52e",
   "metadata": {
    "execution": {
     "iopub.execute_input": "2023-10-04T22:11:24.861986Z",
     "iopub.status.busy": "2023-10-04T22:11:24.861255Z",
     "iopub.status.idle": "2023-10-04T22:11:24.901489Z",
     "shell.execute_reply": "2023-10-04T22:11:24.900131Z"
    },
    "papermill": {
     "duration": 0.070224,
     "end_time": "2023-10-04T22:11:24.904230",
     "exception": false,
     "start_time": "2023-10-04T22:11:24.834006",
     "status": "completed"
    },
    "tags": []
   },
   "outputs": [
    {
     "data": {
      "text/html": [
       "<div>\n",
       "<style scoped>\n",
       "    .dataframe tbody tr th:only-of-type {\n",
       "        vertical-align: middle;\n",
       "    }\n",
       "\n",
       "    .dataframe tbody tr th {\n",
       "        vertical-align: top;\n",
       "    }\n",
       "\n",
       "    .dataframe thead th {\n",
       "        text-align: right;\n",
       "    }\n",
       "</style>\n",
       "<table border=\"1\" class=\"dataframe\">\n",
       "  <thead>\n",
       "    <tr style=\"text-align: right;\">\n",
       "      <th></th>\n",
       "      <th>customerid</th>\n",
       "      <th>gender</th>\n",
       "      <th>seniorcitizen</th>\n",
       "      <th>partner</th>\n",
       "      <th>dependents</th>\n",
       "      <th>tenure</th>\n",
       "      <th>phoneservice</th>\n",
       "      <th>multiplelines</th>\n",
       "      <th>internetservice</th>\n",
       "      <th>onlinesecurity</th>\n",
       "      <th>...</th>\n",
       "      <th>deviceprotection</th>\n",
       "      <th>techsupport</th>\n",
       "      <th>streamingtv</th>\n",
       "      <th>streamingmovies</th>\n",
       "      <th>contract</th>\n",
       "      <th>paperlessbilling</th>\n",
       "      <th>paymentmethod</th>\n",
       "      <th>monthlycharges</th>\n",
       "      <th>totalcharges</th>\n",
       "      <th>churn</th>\n",
       "    </tr>\n",
       "  </thead>\n",
       "  <tbody>\n",
       "    <tr>\n",
       "      <th>0</th>\n",
       "      <td>8879-zkjof</td>\n",
       "      <td>female</td>\n",
       "      <td>0</td>\n",
       "      <td>no</td>\n",
       "      <td>no</td>\n",
       "      <td>41</td>\n",
       "      <td>yes</td>\n",
       "      <td>no</td>\n",
       "      <td>dsl</td>\n",
       "      <td>yes</td>\n",
       "      <td>...</td>\n",
       "      <td>yes</td>\n",
       "      <td>yes</td>\n",
       "      <td>yes</td>\n",
       "      <td>yes</td>\n",
       "      <td>one_year</td>\n",
       "      <td>yes</td>\n",
       "      <td>bank_transfer_(automatic)</td>\n",
       "      <td>79.85</td>\n",
       "      <td>3320.75</td>\n",
       "      <td>0</td>\n",
       "    </tr>\n",
       "    <tr>\n",
       "      <th>1</th>\n",
       "      <td>0201-mibol</td>\n",
       "      <td>female</td>\n",
       "      <td>1</td>\n",
       "      <td>no</td>\n",
       "      <td>no</td>\n",
       "      <td>66</td>\n",
       "      <td>yes</td>\n",
       "      <td>yes</td>\n",
       "      <td>fiber_optic</td>\n",
       "      <td>yes</td>\n",
       "      <td>...</td>\n",
       "      <td>no</td>\n",
       "      <td>no</td>\n",
       "      <td>yes</td>\n",
       "      <td>yes</td>\n",
       "      <td>two_year</td>\n",
       "      <td>yes</td>\n",
       "      <td>bank_transfer_(automatic)</td>\n",
       "      <td>102.40</td>\n",
       "      <td>6471.85</td>\n",
       "      <td>0</td>\n",
       "    </tr>\n",
       "    <tr>\n",
       "      <th>2</th>\n",
       "      <td>1600-dilpe</td>\n",
       "      <td>female</td>\n",
       "      <td>0</td>\n",
       "      <td>no</td>\n",
       "      <td>no</td>\n",
       "      <td>12</td>\n",
       "      <td>yes</td>\n",
       "      <td>no</td>\n",
       "      <td>dsl</td>\n",
       "      <td>no</td>\n",
       "      <td>...</td>\n",
       "      <td>no</td>\n",
       "      <td>no</td>\n",
       "      <td>no</td>\n",
       "      <td>no</td>\n",
       "      <td>month-to-month</td>\n",
       "      <td>yes</td>\n",
       "      <td>bank_transfer_(automatic)</td>\n",
       "      <td>45.00</td>\n",
       "      <td>524.35</td>\n",
       "      <td>0</td>\n",
       "    </tr>\n",
       "    <tr>\n",
       "      <th>3</th>\n",
       "      <td>8601-qacrs</td>\n",
       "      <td>female</td>\n",
       "      <td>0</td>\n",
       "      <td>no</td>\n",
       "      <td>no</td>\n",
       "      <td>5</td>\n",
       "      <td>yes</td>\n",
       "      <td>yes</td>\n",
       "      <td>dsl</td>\n",
       "      <td>no</td>\n",
       "      <td>...</td>\n",
       "      <td>no</td>\n",
       "      <td>no</td>\n",
       "      <td>no</td>\n",
       "      <td>no</td>\n",
       "      <td>month-to-month</td>\n",
       "      <td>yes</td>\n",
       "      <td>mailed_check</td>\n",
       "      <td>50.60</td>\n",
       "      <td>249.95</td>\n",
       "      <td>1</td>\n",
       "    </tr>\n",
       "    <tr>\n",
       "      <th>4</th>\n",
       "      <td>7919-zodzz</td>\n",
       "      <td>female</td>\n",
       "      <td>0</td>\n",
       "      <td>yes</td>\n",
       "      <td>yes</td>\n",
       "      <td>10</td>\n",
       "      <td>yes</td>\n",
       "      <td>no</td>\n",
       "      <td>dsl</td>\n",
       "      <td>no</td>\n",
       "      <td>...</td>\n",
       "      <td>yes</td>\n",
       "      <td>no</td>\n",
       "      <td>no</td>\n",
       "      <td>yes</td>\n",
       "      <td>one_year</td>\n",
       "      <td>yes</td>\n",
       "      <td>mailed_check</td>\n",
       "      <td>65.90</td>\n",
       "      <td>660.05</td>\n",
       "      <td>0</td>\n",
       "    </tr>\n",
       "    <tr>\n",
       "      <th>...</th>\n",
       "      <td>...</td>\n",
       "      <td>...</td>\n",
       "      <td>...</td>\n",
       "      <td>...</td>\n",
       "      <td>...</td>\n",
       "      <td>...</td>\n",
       "      <td>...</td>\n",
       "      <td>...</td>\n",
       "      <td>...</td>\n",
       "      <td>...</td>\n",
       "      <td>...</td>\n",
       "      <td>...</td>\n",
       "      <td>...</td>\n",
       "      <td>...</td>\n",
       "      <td>...</td>\n",
       "      <td>...</td>\n",
       "      <td>...</td>\n",
       "      <td>...</td>\n",
       "      <td>...</td>\n",
       "      <td>...</td>\n",
       "      <td>...</td>\n",
       "    </tr>\n",
       "    <tr>\n",
       "      <th>1404</th>\n",
       "      <td>5130-iekqt</td>\n",
       "      <td>male</td>\n",
       "      <td>1</td>\n",
       "      <td>no</td>\n",
       "      <td>no</td>\n",
       "      <td>25</td>\n",
       "      <td>yes</td>\n",
       "      <td>yes</td>\n",
       "      <td>fiber_optic</td>\n",
       "      <td>no</td>\n",
       "      <td>...</td>\n",
       "      <td>yes</td>\n",
       "      <td>no</td>\n",
       "      <td>yes</td>\n",
       "      <td>yes</td>\n",
       "      <td>month-to-month</td>\n",
       "      <td>no</td>\n",
       "      <td>mailed_check</td>\n",
       "      <td>105.95</td>\n",
       "      <td>2655.25</td>\n",
       "      <td>1</td>\n",
       "    </tr>\n",
       "    <tr>\n",
       "      <th>1405</th>\n",
       "      <td>4452-rohmo</td>\n",
       "      <td>female</td>\n",
       "      <td>0</td>\n",
       "      <td>no</td>\n",
       "      <td>no</td>\n",
       "      <td>15</td>\n",
       "      <td>yes</td>\n",
       "      <td>no</td>\n",
       "      <td>no</td>\n",
       "      <td>no_internet_service</td>\n",
       "      <td>...</td>\n",
       "      <td>no_internet_service</td>\n",
       "      <td>no_internet_service</td>\n",
       "      <td>no_internet_service</td>\n",
       "      <td>no_internet_service</td>\n",
       "      <td>two_year</td>\n",
       "      <td>no</td>\n",
       "      <td>mailed_check</td>\n",
       "      <td>19.60</td>\n",
       "      <td>331.60</td>\n",
       "      <td>0</td>\n",
       "    </tr>\n",
       "    <tr>\n",
       "      <th>1406</th>\n",
       "      <td>6164-haqtx</td>\n",
       "      <td>male</td>\n",
       "      <td>0</td>\n",
       "      <td>no</td>\n",
       "      <td>no</td>\n",
       "      <td>71</td>\n",
       "      <td>no</td>\n",
       "      <td>no_phone_service</td>\n",
       "      <td>dsl</td>\n",
       "      <td>yes</td>\n",
       "      <td>...</td>\n",
       "      <td>yes</td>\n",
       "      <td>yes</td>\n",
       "      <td>yes</td>\n",
       "      <td>no</td>\n",
       "      <td>two_year</td>\n",
       "      <td>no</td>\n",
       "      <td>bank_transfer_(automatic)</td>\n",
       "      <td>53.95</td>\n",
       "      <td>3888.65</td>\n",
       "      <td>0</td>\n",
       "    </tr>\n",
       "    <tr>\n",
       "      <th>1407</th>\n",
       "      <td>3982-dqlus</td>\n",
       "      <td>male</td>\n",
       "      <td>1</td>\n",
       "      <td>yes</td>\n",
       "      <td>yes</td>\n",
       "      <td>65</td>\n",
       "      <td>yes</td>\n",
       "      <td>yes</td>\n",
       "      <td>fiber_optic</td>\n",
       "      <td>yes</td>\n",
       "      <td>...</td>\n",
       "      <td>no</td>\n",
       "      <td>no</td>\n",
       "      <td>no</td>\n",
       "      <td>no</td>\n",
       "      <td>month-to-month</td>\n",
       "      <td>yes</td>\n",
       "      <td>electronic_check</td>\n",
       "      <td>85.75</td>\n",
       "      <td>5688.45</td>\n",
       "      <td>0</td>\n",
       "    </tr>\n",
       "    <tr>\n",
       "      <th>1408</th>\n",
       "      <td>9874-qlclh</td>\n",
       "      <td>female</td>\n",
       "      <td>0</td>\n",
       "      <td>yes</td>\n",
       "      <td>yes</td>\n",
       "      <td>17</td>\n",
       "      <td>yes</td>\n",
       "      <td>yes</td>\n",
       "      <td>fiber_optic</td>\n",
       "      <td>yes</td>\n",
       "      <td>...</td>\n",
       "      <td>yes</td>\n",
       "      <td>no</td>\n",
       "      <td>yes</td>\n",
       "      <td>yes</td>\n",
       "      <td>month-to-month</td>\n",
       "      <td>yes</td>\n",
       "      <td>electronic_check</td>\n",
       "      <td>104.20</td>\n",
       "      <td>1743.50</td>\n",
       "      <td>1</td>\n",
       "    </tr>\n",
       "  </tbody>\n",
       "</table>\n",
       "<p>1409 rows × 21 columns</p>\n",
       "</div>"
      ],
      "text/plain": [
       "      customerid  gender  seniorcitizen partner dependents  tenure  \\\n",
       "0     8879-zkjof  female              0      no         no      41   \n",
       "1     0201-mibol  female              1      no         no      66   \n",
       "2     1600-dilpe  female              0      no         no      12   \n",
       "3     8601-qacrs  female              0      no         no       5   \n",
       "4     7919-zodzz  female              0     yes        yes      10   \n",
       "...          ...     ...            ...     ...        ...     ...   \n",
       "1404  5130-iekqt    male              1      no         no      25   \n",
       "1405  4452-rohmo  female              0      no         no      15   \n",
       "1406  6164-haqtx    male              0      no         no      71   \n",
       "1407  3982-dqlus    male              1     yes        yes      65   \n",
       "1408  9874-qlclh  female              0     yes        yes      17   \n",
       "\n",
       "     phoneservice     multiplelines internetservice       onlinesecurity  ...  \\\n",
       "0             yes                no             dsl                  yes  ...   \n",
       "1             yes               yes     fiber_optic                  yes  ...   \n",
       "2             yes                no             dsl                   no  ...   \n",
       "3             yes               yes             dsl                   no  ...   \n",
       "4             yes                no             dsl                   no  ...   \n",
       "...           ...               ...             ...                  ...  ...   \n",
       "1404          yes               yes     fiber_optic                   no  ...   \n",
       "1405          yes                no              no  no_internet_service  ...   \n",
       "1406           no  no_phone_service             dsl                  yes  ...   \n",
       "1407          yes               yes     fiber_optic                  yes  ...   \n",
       "1408          yes               yes     fiber_optic                  yes  ...   \n",
       "\n",
       "         deviceprotection          techsupport          streamingtv  \\\n",
       "0                     yes                  yes                  yes   \n",
       "1                      no                   no                  yes   \n",
       "2                      no                   no                   no   \n",
       "3                      no                   no                   no   \n",
       "4                     yes                   no                   no   \n",
       "...                   ...                  ...                  ...   \n",
       "1404                  yes                   no                  yes   \n",
       "1405  no_internet_service  no_internet_service  no_internet_service   \n",
       "1406                  yes                  yes                  yes   \n",
       "1407                   no                   no                   no   \n",
       "1408                  yes                   no                  yes   \n",
       "\n",
       "          streamingmovies        contract paperlessbilling  \\\n",
       "0                     yes        one_year              yes   \n",
       "1                     yes        two_year              yes   \n",
       "2                      no  month-to-month              yes   \n",
       "3                      no  month-to-month              yes   \n",
       "4                     yes        one_year              yes   \n",
       "...                   ...             ...              ...   \n",
       "1404                  yes  month-to-month               no   \n",
       "1405  no_internet_service        two_year               no   \n",
       "1406                   no        two_year               no   \n",
       "1407                   no  month-to-month              yes   \n",
       "1408                  yes  month-to-month              yes   \n",
       "\n",
       "                  paymentmethod monthlycharges  totalcharges  churn  \n",
       "0     bank_transfer_(automatic)          79.85       3320.75      0  \n",
       "1     bank_transfer_(automatic)         102.40       6471.85      0  \n",
       "2     bank_transfer_(automatic)          45.00        524.35      0  \n",
       "3                  mailed_check          50.60        249.95      1  \n",
       "4                  mailed_check          65.90        660.05      0  \n",
       "...                         ...            ...           ...    ...  \n",
       "1404               mailed_check         105.95       2655.25      1  \n",
       "1405               mailed_check          19.60        331.60      0  \n",
       "1406  bank_transfer_(automatic)          53.95       3888.65      0  \n",
       "1407           electronic_check          85.75       5688.45      0  \n",
       "1408           electronic_check         104.20       1743.50      1  \n",
       "\n",
       "[1409 rows x 21 columns]"
      ]
     },
     "execution_count": 15,
     "metadata": {},
     "output_type": "execute_result"
    }
   ],
   "source": [
    "# get y_values\n",
    "df_train.reset_index(drop=True)\n",
    "df_val.reset_index(drop=True)\n",
    "df_test.reset_index(drop=True)"
   ]
  },
  {
   "cell_type": "code",
   "execution_count": 16,
   "id": "6337e781",
   "metadata": {
    "execution": {
     "iopub.execute_input": "2023-10-04T22:11:24.959347Z",
     "iopub.status.busy": "2023-10-04T22:11:24.958847Z",
     "iopub.status.idle": "2023-10-04T22:11:24.964685Z",
     "shell.execute_reply": "2023-10-04T22:11:24.963531Z"
    },
    "papermill": {
     "duration": 0.036413,
     "end_time": "2023-10-04T22:11:24.967057",
     "exception": false,
     "start_time": "2023-10-04T22:11:24.930644",
     "status": "completed"
    },
    "tags": []
   },
   "outputs": [],
   "source": [
    "y_train = df_train.churn.values\n",
    "y_test = df_test.churn.values\n",
    "y_val = df_val.churn.values"
   ]
  },
  {
   "cell_type": "code",
   "execution_count": 17,
   "id": "67270dab",
   "metadata": {
    "execution": {
     "iopub.execute_input": "2023-10-04T22:11:25.022461Z",
     "iopub.status.busy": "2023-10-04T22:11:25.021617Z",
     "iopub.status.idle": "2023-10-04T22:11:25.029205Z",
     "shell.execute_reply": "2023-10-04T22:11:25.027915Z"
    },
    "papermill": {
     "duration": 0.03785,
     "end_time": "2023-10-04T22:11:25.031716",
     "exception": false,
     "start_time": "2023-10-04T22:11:24.993866",
     "status": "completed"
    },
    "tags": []
   },
   "outputs": [],
   "source": [
    "del df_train['churn']\n",
    "del df_val['churn']\n",
    "del df_test['churn']"
   ]
  },
  {
   "cell_type": "code",
   "execution_count": 18,
   "id": "c03a5989",
   "metadata": {
    "execution": {
     "iopub.execute_input": "2023-10-04T22:11:25.086159Z",
     "iopub.status.busy": "2023-10-04T22:11:25.085702Z",
     "iopub.status.idle": "2023-10-04T22:11:25.093168Z",
     "shell.execute_reply": "2023-10-04T22:11:25.091900Z"
    },
    "papermill": {
     "duration": 0.037731,
     "end_time": "2023-10-04T22:11:25.095442",
     "exception": false,
     "start_time": "2023-10-04T22:11:25.057711",
     "status": "completed"
    },
    "tags": []
   },
   "outputs": [
    {
     "data": {
      "text/plain": [
       "Index(['customerid', 'gender', 'seniorcitizen', 'partner', 'dependents',\n",
       "       'tenure', 'phoneservice', 'multiplelines', 'internetservice',\n",
       "       'onlinesecurity', 'onlinebackup', 'deviceprotection', 'techsupport',\n",
       "       'streamingtv', 'streamingmovies', 'contract', 'paperlessbilling',\n",
       "       'paymentmethod', 'monthlycharges', 'totalcharges'],\n",
       "      dtype='object')"
      ]
     },
     "execution_count": 18,
     "metadata": {},
     "output_type": "execute_result"
    }
   ],
   "source": [
    "df_train.columns"
   ]
  },
  {
   "cell_type": "markdown",
   "id": "fe4e4c94",
   "metadata": {
    "papermill": {
     "duration": 0.026975,
     "end_time": "2023-10-04T22:11:25.148493",
     "exception": false,
     "start_time": "2023-10-04T22:11:25.121518",
     "status": "completed"
    },
    "tags": []
   },
   "source": [
    "EDA - Exploratory Data Analysiz"
   ]
  },
  {
   "cell_type": "code",
   "execution_count": 19,
   "id": "0c6ee694",
   "metadata": {
    "execution": {
     "iopub.execute_input": "2023-10-04T22:11:25.204191Z",
     "iopub.status.busy": "2023-10-04T22:11:25.203740Z",
     "iopub.status.idle": "2023-10-04T22:11:25.221297Z",
     "shell.execute_reply": "2023-10-04T22:11:25.220256Z"
    },
    "papermill": {
     "duration": 0.049476,
     "end_time": "2023-10-04T22:11:25.224088",
     "exception": false,
     "start_time": "2023-10-04T22:11:25.174612",
     "status": "completed"
    },
    "tags": []
   },
   "outputs": [],
   "source": [
    "df_full_train = df_full_train.reset_index(drop=True)"
   ]
  },
  {
   "cell_type": "code",
   "execution_count": 20,
   "id": "03f3d1bd",
   "metadata": {
    "execution": {
     "iopub.execute_input": "2023-10-04T22:11:25.279623Z",
     "iopub.status.busy": "2023-10-04T22:11:25.279161Z",
     "iopub.status.idle": "2023-10-04T22:11:25.292257Z",
     "shell.execute_reply": "2023-10-04T22:11:25.290859Z"
    },
    "papermill": {
     "duration": 0.044139,
     "end_time": "2023-10-04T22:11:25.294511",
     "exception": false,
     "start_time": "2023-10-04T22:11:25.250372",
     "status": "completed"
    },
    "tags": []
   },
   "outputs": [
    {
     "data": {
      "text/plain": [
       "churn\n",
       "0    0.730032\n",
       "1    0.269968\n",
       "Name: proportion, dtype: float64"
      ]
     },
     "execution_count": 20,
     "metadata": {},
     "output_type": "execute_result"
    }
   ],
   "source": [
    "df_full_train.churn.value_counts(normalize=True)\n",
    "# normalize will give us the %, so we can see that the churn rate is 26.9%"
   ]
  },
  {
   "cell_type": "code",
   "execution_count": 21,
   "id": "e88f1ef9",
   "metadata": {
    "execution": {
     "iopub.execute_input": "2023-10-04T22:11:25.349977Z",
     "iopub.status.busy": "2023-10-04T22:11:25.349517Z",
     "iopub.status.idle": "2023-10-04T22:11:25.357224Z",
     "shell.execute_reply": "2023-10-04T22:11:25.355806Z"
    },
    "papermill": {
     "duration": 0.037922,
     "end_time": "2023-10-04T22:11:25.359567",
     "exception": false,
     "start_time": "2023-10-04T22:11:25.321645",
     "status": "completed"
    },
    "tags": []
   },
   "outputs": [
    {
     "data": {
      "text/plain": [
       "0.27"
      ]
     },
     "execution_count": 21,
     "metadata": {},
     "output_type": "execute_result"
    }
   ],
   "source": [
    "global_churn_rate = df_full_train.churn.mean()\n",
    "round(global_churn_rate, 2)"
   ]
  },
  {
   "cell_type": "code",
   "execution_count": 22,
   "id": "df3b0b03",
   "metadata": {
    "execution": {
     "iopub.execute_input": "2023-10-04T22:11:25.414337Z",
     "iopub.status.busy": "2023-10-04T22:11:25.413916Z",
     "iopub.status.idle": "2023-10-04T22:11:25.418826Z",
     "shell.execute_reply": "2023-10-04T22:11:25.417562Z"
    },
    "papermill": {
     "duration": 0.034822,
     "end_time": "2023-10-04T22:11:25.420871",
     "exception": false,
     "start_time": "2023-10-04T22:11:25.386049",
     "status": "completed"
    },
    "tags": []
   },
   "outputs": [],
   "source": [
    "numerical = ['tenure', 'monthlycharges', 'totalcharges']"
   ]
  },
  {
   "cell_type": "code",
   "execution_count": 23,
   "id": "9bc2df12",
   "metadata": {
    "execution": {
     "iopub.execute_input": "2023-10-04T22:11:25.475459Z",
     "iopub.status.busy": "2023-10-04T22:11:25.474998Z",
     "iopub.status.idle": "2023-10-04T22:11:25.480490Z",
     "shell.execute_reply": "2023-10-04T22:11:25.479236Z"
    },
    "papermill": {
     "duration": 0.035417,
     "end_time": "2023-10-04T22:11:25.482506",
     "exception": false,
     "start_time": "2023-10-04T22:11:25.447089",
     "status": "completed"
    },
    "tags": []
   },
   "outputs": [],
   "source": [
    "\n",
    "df.columns\n",
    "categorical = ['gender', 'seniorcitizen', 'partner', 'dependents', 'phoneservice', 'multiplelines', 'internetservice',\n",
    "       'onlinesecurity', 'onlinebackup', 'deviceprotection', 'techsupport',\n",
    "       'streamingtv', 'streamingmovies', 'contract', 'paperlessbilling',\n",
    "       'paymentmethod']"
   ]
  },
  {
   "cell_type": "code",
   "execution_count": 24,
   "id": "ad0e1974",
   "metadata": {
    "execution": {
     "iopub.execute_input": "2023-10-04T22:11:25.536714Z",
     "iopub.status.busy": "2023-10-04T22:11:25.536291Z",
     "iopub.status.idle": "2023-10-04T22:11:25.565340Z",
     "shell.execute_reply": "2023-10-04T22:11:25.563986Z"
    },
    "papermill": {
     "duration": 0.058673,
     "end_time": "2023-10-04T22:11:25.567402",
     "exception": false,
     "start_time": "2023-10-04T22:11:25.508729",
     "status": "completed"
    },
    "tags": []
   },
   "outputs": [
    {
     "data": {
      "text/plain": [
       "gender              2\n",
       "seniorcitizen       2\n",
       "partner             2\n",
       "dependents          2\n",
       "phoneservice        2\n",
       "multiplelines       3\n",
       "internetservice     3\n",
       "onlinesecurity      3\n",
       "onlinebackup        3\n",
       "deviceprotection    3\n",
       "techsupport         3\n",
       "streamingtv         3\n",
       "streamingmovies     3\n",
       "contract            3\n",
       "paperlessbilling    2\n",
       "paymentmethod       4\n",
       "dtype: int64"
      ]
     },
     "execution_count": 24,
     "metadata": {},
     "output_type": "execute_result"
    }
   ],
   "source": [
    "df_full_train[categorical].nunique()"
   ]
  },
  {
   "cell_type": "markdown",
   "id": "25109eb5",
   "metadata": {
    "papermill": {
     "duration": 0.026221,
     "end_time": "2023-10-04T22:11:25.620208",
     "exception": false,
     "start_time": "2023-10-04T22:11:25.593987",
     "status": "completed"
    },
    "tags": []
   },
   "source": [
    "Feature Importance"
   ]
  },
  {
   "cell_type": "markdown",
   "id": "56020727",
   "metadata": {
    "papermill": {
     "duration": 0.02568,
     "end_time": "2023-10-04T22:11:25.672297",
     "exception": false,
     "start_time": "2023-10-04T22:11:25.646617",
     "status": "completed"
    },
    "tags": []
   },
   "source": [
    "Churn Rate"
   ]
  },
  {
   "cell_type": "code",
   "execution_count": 25,
   "id": "d07734aa",
   "metadata": {
    "execution": {
     "iopub.execute_input": "2023-10-04T22:11:25.727368Z",
     "iopub.status.busy": "2023-10-04T22:11:25.726964Z",
     "iopub.status.idle": "2023-10-04T22:11:25.739914Z",
     "shell.execute_reply": "2023-10-04T22:11:25.738656Z"
    },
    "papermill": {
     "duration": 0.043755,
     "end_time": "2023-10-04T22:11:25.742129",
     "exception": false,
     "start_time": "2023-10-04T22:11:25.698374",
     "status": "completed"
    },
    "tags": []
   },
   "outputs": [
    {
     "data": {
      "text/plain": [
       "0.2632135306553911"
      ]
     },
     "execution_count": 25,
     "metadata": {},
     "output_type": "execute_result"
    }
   ],
   "source": [
    "df_full_train[df_full_train.gender == 'male'].churn.mean()"
   ]
  },
  {
   "cell_type": "code",
   "execution_count": 26,
   "id": "cec11e12",
   "metadata": {
    "execution": {
     "iopub.execute_input": "2023-10-04T22:11:25.797660Z",
     "iopub.status.busy": "2023-10-04T22:11:25.797225Z",
     "iopub.status.idle": "2023-10-04T22:11:25.810256Z",
     "shell.execute_reply": "2023-10-04T22:11:25.809103Z"
    },
    "papermill": {
     "duration": 0.04398,
     "end_time": "2023-10-04T22:11:25.812827",
     "exception": false,
     "start_time": "2023-10-04T22:11:25.768847",
     "status": "completed"
    },
    "tags": []
   },
   "outputs": [
    {
     "data": {
      "text/plain": [
       "0.27682403433476394"
      ]
     },
     "execution_count": 26,
     "metadata": {},
     "output_type": "execute_result"
    }
   ],
   "source": [
    "df_full_train[df_full_train.gender =='female'].churn.mean()"
   ]
  },
  {
   "cell_type": "code",
   "execution_count": 27,
   "id": "c955afb9",
   "metadata": {
    "execution": {
     "iopub.execute_input": "2023-10-04T22:11:25.869228Z",
     "iopub.status.busy": "2023-10-04T22:11:25.868742Z",
     "iopub.status.idle": "2023-10-04T22:11:25.875101Z",
     "shell.execute_reply": "2023-10-04T22:11:25.874276Z"
    },
    "papermill": {
     "duration": 0.037555,
     "end_time": "2023-10-04T22:11:25.877203",
     "exception": false,
     "start_time": "2023-10-04T22:11:25.839648",
     "status": "completed"
    },
    "tags": []
   },
   "outputs": [
    {
     "data": {
      "text/plain": [
       "0.26996805111821087"
      ]
     },
     "execution_count": 27,
     "metadata": {},
     "output_type": "execute_result"
    }
   ],
   "source": [
    "df_full_train.churn.mean()"
   ]
  },
  {
   "cell_type": "code",
   "execution_count": 28,
   "id": "c4167513",
   "metadata": {
    "execution": {
     "iopub.execute_input": "2023-10-04T22:11:25.933972Z",
     "iopub.status.busy": "2023-10-04T22:11:25.933409Z",
     "iopub.status.idle": "2023-10-04T22:11:25.946739Z",
     "shell.execute_reply": "2023-10-04T22:11:25.945294Z"
    },
    "papermill": {
     "duration": 0.044714,
     "end_time": "2023-10-04T22:11:25.949166",
     "exception": false,
     "start_time": "2023-10-04T22:11:25.904452",
     "status": "completed"
    },
    "tags": []
   },
   "outputs": [],
   "source": [
    "churn_partner = df_full_train[df_full_train.partner == 'yes'].churn.mean()"
   ]
  },
  {
   "cell_type": "code",
   "execution_count": 29,
   "id": "a66ed7f5",
   "metadata": {
    "execution": {
     "iopub.execute_input": "2023-10-04T22:11:26.007950Z",
     "iopub.status.busy": "2023-10-04T22:11:26.007133Z",
     "iopub.status.idle": "2023-10-04T22:11:26.018968Z",
     "shell.execute_reply": "2023-10-04T22:11:26.018090Z"
    },
    "papermill": {
     "duration": 0.042919,
     "end_time": "2023-10-04T22:11:26.021340",
     "exception": false,
     "start_time": "2023-10-04T22:11:25.978421",
     "status": "completed"
    },
    "tags": []
   },
   "outputs": [
    {
     "data": {
      "text/plain": [
       "(0.20503330866025166, 0.3298090040927694)"
      ]
     },
     "execution_count": 29,
     "metadata": {},
     "output_type": "execute_result"
    }
   ],
   "source": [
    "churn_no_partner = df_full_train[df_full_train.partner == 'no'].churn.mean()\n",
    "churn_partner, churn_no_partner"
   ]
  },
  {
   "cell_type": "code",
   "execution_count": 30,
   "id": "dddc1893",
   "metadata": {
    "execution": {
     "iopub.execute_input": "2023-10-04T22:11:26.077317Z",
     "iopub.status.busy": "2023-10-04T22:11:26.076870Z",
     "iopub.status.idle": "2023-10-04T22:11:26.080743Z",
     "shell.execute_reply": "2023-10-04T22:11:26.080022Z"
    },
    "papermill": {
     "duration": 0.033877,
     "end_time": "2023-10-04T22:11:26.082475",
     "exception": false,
     "start_time": "2023-10-04T22:11:26.048598",
     "status": "completed"
    },
    "tags": []
   },
   "outputs": [],
   "source": [
    "# Now we begin to see that Gender does not matter so much in churn rate but for Partner, is matters and is important\n"
   ]
  },
  {
   "cell_type": "markdown",
   "id": "e9d15be4",
   "metadata": {
    "papermill": {
     "duration": 0.026502,
     "end_time": "2023-10-04T22:11:26.135998",
     "exception": false,
     "start_time": "2023-10-04T22:11:26.109496",
     "status": "completed"
    },
    "tags": []
   },
   "source": [
    "Risk Ratio"
   ]
  },
  {
   "cell_type": "code",
   "execution_count": 31,
   "id": "c0b978be",
   "metadata": {
    "execution": {
     "iopub.execute_input": "2023-10-04T22:11:26.194580Z",
     "iopub.status.busy": "2023-10-04T22:11:26.194175Z",
     "iopub.status.idle": "2023-10-04T22:11:26.201453Z",
     "shell.execute_reply": "2023-10-04T22:11:26.200151Z"
    },
    "papermill": {
     "duration": 0.038135,
     "end_time": "2023-10-04T22:11:26.203915",
     "exception": false,
     "start_time": "2023-10-04T22:11:26.165780",
     "status": "completed"
    },
    "tags": []
   },
   "outputs": [
    {
     "data": {
      "text/plain": [
       "1.2216593879412643"
      ]
     },
     "execution_count": 31,
     "metadata": {},
     "output_type": "execute_result"
    }
   ],
   "source": [
    "churn_no_partner / global_churn_rate"
   ]
  },
  {
   "cell_type": "code",
   "execution_count": 32,
   "id": "5419895e",
   "metadata": {
    "execution": {
     "iopub.execute_input": "2023-10-04T22:11:26.263021Z",
     "iopub.status.busy": "2023-10-04T22:11:26.262572Z",
     "iopub.status.idle": "2023-10-04T22:11:26.269453Z",
     "shell.execute_reply": "2023-10-04T22:11:26.268114Z"
    },
    "papermill": {
     "duration": 0.038784,
     "end_time": "2023-10-04T22:11:26.271796",
     "exception": false,
     "start_time": "2023-10-04T22:11:26.233012",
     "status": "completed"
    },
    "tags": []
   },
   "outputs": [
    {
     "data": {
      "text/plain": [
       "0.7594724924338315"
      ]
     },
     "execution_count": 32,
     "metadata": {},
     "output_type": "execute_result"
    }
   ],
   "source": [
    "churn_partner / global_churn_rate"
   ]
  },
  {
   "cell_type": "markdown",
   "id": "18cdc858",
   "metadata": {
    "papermill": {
     "duration": 0.026891,
     "end_time": "2023-10-04T22:11:26.326425",
     "exception": false,
     "start_time": "2023-10-04T22:11:26.299534",
     "status": "completed"
    },
    "tags": []
   },
   "source": [
    "Doing this in SQL\n",
    "\n",
    "SELECT \n",
    "    gender,\n",
    "    AVG(churn),\n",
    "    AVG(churn) - global_churn as diff,\n",
    "    AVG(churn) / global_churn as risk\n",
    "FROM\n",
    "    data\n",
    "GROUP BY \n",
    "    gender;"
   ]
  },
  {
   "cell_type": "code",
   "execution_count": 33,
   "id": "d4651012",
   "metadata": {
    "execution": {
     "iopub.execute_input": "2023-10-04T22:11:26.383660Z",
     "iopub.status.busy": "2023-10-04T22:11:26.382346Z",
     "iopub.status.idle": "2023-10-04T22:11:26.403002Z",
     "shell.execute_reply": "2023-10-04T22:11:26.402200Z"
    },
    "papermill": {
     "duration": 0.051942,
     "end_time": "2023-10-04T22:11:26.405482",
     "exception": false,
     "start_time": "2023-10-04T22:11:26.353540",
     "status": "completed"
    },
    "tags": []
   },
   "outputs": [
    {
     "data": {
      "text/html": [
       "<div>\n",
       "<style scoped>\n",
       "    .dataframe tbody tr th:only-of-type {\n",
       "        vertical-align: middle;\n",
       "    }\n",
       "\n",
       "    .dataframe tbody tr th {\n",
       "        vertical-align: top;\n",
       "    }\n",
       "\n",
       "    .dataframe thead th {\n",
       "        text-align: right;\n",
       "    }\n",
       "</style>\n",
       "<table border=\"1\" class=\"dataframe\">\n",
       "  <thead>\n",
       "    <tr style=\"text-align: right;\">\n",
       "      <th></th>\n",
       "      <th>mean</th>\n",
       "      <th>count</th>\n",
       "      <th>diff</th>\n",
       "      <th>risk</th>\n",
       "    </tr>\n",
       "    <tr>\n",
       "      <th>gender</th>\n",
       "      <th></th>\n",
       "      <th></th>\n",
       "      <th></th>\n",
       "      <th></th>\n",
       "    </tr>\n",
       "  </thead>\n",
       "  <tbody>\n",
       "    <tr>\n",
       "      <th>female</th>\n",
       "      <td>0.276824</td>\n",
       "      <td>2796</td>\n",
       "      <td>0.006856</td>\n",
       "      <td>1.025396</td>\n",
       "    </tr>\n",
       "    <tr>\n",
       "      <th>male</th>\n",
       "      <td>0.263214</td>\n",
       "      <td>2838</td>\n",
       "      <td>-0.006755</td>\n",
       "      <td>0.974980</td>\n",
       "    </tr>\n",
       "  </tbody>\n",
       "</table>\n",
       "</div>"
      ],
      "text/plain": [
       "            mean  count      diff      risk\n",
       "gender                                     \n",
       "female  0.276824   2796  0.006856  1.025396\n",
       "male    0.263214   2838 -0.006755  0.974980"
      ]
     },
     "execution_count": 33,
     "metadata": {},
     "output_type": "execute_result"
    }
   ],
   "source": [
    "# Lets do that query in Pandas\n",
    "df_group = df_full_train.groupby('gender').churn.agg(['mean', 'count'])\n",
    "df_group['diff'] = df_group['mean'] - global_churn_rate\n",
    "df_group['risk'] = df_group['mean'] / global_churn_rate\n",
    "df_group"
   ]
  },
  {
   "cell_type": "code",
   "execution_count": 34,
   "id": "b44b6cda",
   "metadata": {
    "execution": {
     "iopub.execute_input": "2023-10-04T22:11:26.462023Z",
     "iopub.status.busy": "2023-10-04T22:11:26.461247Z",
     "iopub.status.idle": "2023-10-04T22:11:26.477410Z",
     "shell.execute_reply": "2023-10-04T22:11:26.475888Z"
    },
    "papermill": {
     "duration": 0.047396,
     "end_time": "2023-10-04T22:11:26.479936",
     "exception": false,
     "start_time": "2023-10-04T22:11:26.432540",
     "status": "completed"
    },
    "tags": []
   },
   "outputs": [
    {
     "data": {
      "text/html": [
       "<div>\n",
       "<style scoped>\n",
       "    .dataframe tbody tr th:only-of-type {\n",
       "        vertical-align: middle;\n",
       "    }\n",
       "\n",
       "    .dataframe tbody tr th {\n",
       "        vertical-align: top;\n",
       "    }\n",
       "\n",
       "    .dataframe thead th {\n",
       "        text-align: right;\n",
       "    }\n",
       "</style>\n",
       "<table border=\"1\" class=\"dataframe\">\n",
       "  <thead>\n",
       "    <tr style=\"text-align: right;\">\n",
       "      <th></th>\n",
       "      <th>mean</th>\n",
       "      <th>count</th>\n",
       "      <th>diff</th>\n",
       "      <th>risk</th>\n",
       "    </tr>\n",
       "    <tr>\n",
       "      <th>partner</th>\n",
       "      <th></th>\n",
       "      <th></th>\n",
       "      <th></th>\n",
       "      <th></th>\n",
       "    </tr>\n",
       "  </thead>\n",
       "  <tbody>\n",
       "    <tr>\n",
       "      <th>no</th>\n",
       "      <td>0.329809</td>\n",
       "      <td>2932</td>\n",
       "      <td>0.059841</td>\n",
       "      <td>1.221659</td>\n",
       "    </tr>\n",
       "    <tr>\n",
       "      <th>yes</th>\n",
       "      <td>0.205033</td>\n",
       "      <td>2702</td>\n",
       "      <td>-0.064935</td>\n",
       "      <td>0.759472</td>\n",
       "    </tr>\n",
       "  </tbody>\n",
       "</table>\n",
       "</div>"
      ],
      "text/plain": [
       "             mean  count      diff      risk\n",
       "partner                                     \n",
       "no       0.329809   2932  0.059841  1.221659\n",
       "yes      0.205033   2702 -0.064935  0.759472"
      ]
     },
     "execution_count": 34,
     "metadata": {},
     "output_type": "execute_result"
    }
   ],
   "source": [
    "df_partner_group = df_full_train.groupby('partner').churn.agg(['mean', 'count'])\n",
    "df_partner_group['diff'] = df_partner_group['mean'] - global_churn_rate\n",
    "df_partner_group['risk'] = df_partner_group['mean'] / global_churn_rate\n",
    "df_partner_group"
   ]
  },
  {
   "cell_type": "code",
   "execution_count": 35,
   "id": "177770ba",
   "metadata": {
    "execution": {
     "iopub.execute_input": "2023-10-04T22:11:26.538223Z",
     "iopub.status.busy": "2023-10-04T22:11:26.537347Z",
     "iopub.status.idle": "2023-10-04T22:11:26.541966Z",
     "shell.execute_reply": "2023-10-04T22:11:26.541104Z"
    },
    "papermill": {
     "duration": 0.036198,
     "end_time": "2023-10-04T22:11:26.544336",
     "exception": false,
     "start_time": "2023-10-04T22:11:26.508138",
     "status": "completed"
    },
    "tags": []
   },
   "outputs": [],
   "source": [
    "from IPython.display import display    "
   ]
  },
  {
   "cell_type": "code",
   "execution_count": 36,
   "id": "2362b959",
   "metadata": {
    "execution": {
     "iopub.execute_input": "2023-10-04T22:11:26.602316Z",
     "iopub.status.busy": "2023-10-04T22:11:26.601471Z",
     "iopub.status.idle": "2023-10-04T22:11:26.768607Z",
     "shell.execute_reply": "2023-10-04T22:11:26.767788Z"
    },
    "papermill": {
     "duration": 0.198208,
     "end_time": "2023-10-04T22:11:26.770778",
     "exception": false,
     "start_time": "2023-10-04T22:11:26.572570",
     "status": "completed"
    },
    "tags": []
   },
   "outputs": [
    {
     "name": "stdout",
     "output_type": "stream",
     "text": [
      "gender\n"
     ]
    },
    {
     "data": {
      "text/html": [
       "<div>\n",
       "<style scoped>\n",
       "    .dataframe tbody tr th:only-of-type {\n",
       "        vertical-align: middle;\n",
       "    }\n",
       "\n",
       "    .dataframe tbody tr th {\n",
       "        vertical-align: top;\n",
       "    }\n",
       "\n",
       "    .dataframe thead th {\n",
       "        text-align: right;\n",
       "    }\n",
       "</style>\n",
       "<table border=\"1\" class=\"dataframe\">\n",
       "  <thead>\n",
       "    <tr style=\"text-align: right;\">\n",
       "      <th></th>\n",
       "      <th>mean</th>\n",
       "      <th>count</th>\n",
       "      <th>diff</th>\n",
       "      <th>risk</th>\n",
       "    </tr>\n",
       "    <tr>\n",
       "      <th>gender</th>\n",
       "      <th></th>\n",
       "      <th></th>\n",
       "      <th></th>\n",
       "      <th></th>\n",
       "    </tr>\n",
       "  </thead>\n",
       "  <tbody>\n",
       "    <tr>\n",
       "      <th>female</th>\n",
       "      <td>0.276824</td>\n",
       "      <td>2796</td>\n",
       "      <td>0.006856</td>\n",
       "      <td>1.025396</td>\n",
       "    </tr>\n",
       "    <tr>\n",
       "      <th>male</th>\n",
       "      <td>0.263214</td>\n",
       "      <td>2838</td>\n",
       "      <td>-0.006755</td>\n",
       "      <td>0.974980</td>\n",
       "    </tr>\n",
       "  </tbody>\n",
       "</table>\n",
       "</div>"
      ],
      "text/plain": [
       "            mean  count      diff      risk\n",
       "gender                                     \n",
       "female  0.276824   2796  0.006856  1.025396\n",
       "male    0.263214   2838 -0.006755  0.974980"
      ]
     },
     "metadata": {},
     "output_type": "display_data"
    },
    {
     "name": "stdout",
     "output_type": "stream",
     "text": [
      "\n",
      "\n",
      "seniorcitizen\n"
     ]
    },
    {
     "data": {
      "text/html": [
       "<div>\n",
       "<style scoped>\n",
       "    .dataframe tbody tr th:only-of-type {\n",
       "        vertical-align: middle;\n",
       "    }\n",
       "\n",
       "    .dataframe tbody tr th {\n",
       "        vertical-align: top;\n",
       "    }\n",
       "\n",
       "    .dataframe thead th {\n",
       "        text-align: right;\n",
       "    }\n",
       "</style>\n",
       "<table border=\"1\" class=\"dataframe\">\n",
       "  <thead>\n",
       "    <tr style=\"text-align: right;\">\n",
       "      <th></th>\n",
       "      <th>mean</th>\n",
       "      <th>count</th>\n",
       "      <th>diff</th>\n",
       "      <th>risk</th>\n",
       "    </tr>\n",
       "    <tr>\n",
       "      <th>seniorcitizen</th>\n",
       "      <th></th>\n",
       "      <th></th>\n",
       "      <th></th>\n",
       "      <th></th>\n",
       "    </tr>\n",
       "  </thead>\n",
       "  <tbody>\n",
       "    <tr>\n",
       "      <th>0</th>\n",
       "      <td>0.242270</td>\n",
       "      <td>4722</td>\n",
       "      <td>-0.027698</td>\n",
       "      <td>0.897403</td>\n",
       "    </tr>\n",
       "    <tr>\n",
       "      <th>1</th>\n",
       "      <td>0.413377</td>\n",
       "      <td>912</td>\n",
       "      <td>0.143409</td>\n",
       "      <td>1.531208</td>\n",
       "    </tr>\n",
       "  </tbody>\n",
       "</table>\n",
       "</div>"
      ],
      "text/plain": [
       "                   mean  count      diff      risk\n",
       "seniorcitizen                                     \n",
       "0              0.242270   4722 -0.027698  0.897403\n",
       "1              0.413377    912  0.143409  1.531208"
      ]
     },
     "metadata": {},
     "output_type": "display_data"
    },
    {
     "name": "stdout",
     "output_type": "stream",
     "text": [
      "\n",
      "\n",
      "partner\n"
     ]
    },
    {
     "data": {
      "text/html": [
       "<div>\n",
       "<style scoped>\n",
       "    .dataframe tbody tr th:only-of-type {\n",
       "        vertical-align: middle;\n",
       "    }\n",
       "\n",
       "    .dataframe tbody tr th {\n",
       "        vertical-align: top;\n",
       "    }\n",
       "\n",
       "    .dataframe thead th {\n",
       "        text-align: right;\n",
       "    }\n",
       "</style>\n",
       "<table border=\"1\" class=\"dataframe\">\n",
       "  <thead>\n",
       "    <tr style=\"text-align: right;\">\n",
       "      <th></th>\n",
       "      <th>mean</th>\n",
       "      <th>count</th>\n",
       "      <th>diff</th>\n",
       "      <th>risk</th>\n",
       "    </tr>\n",
       "    <tr>\n",
       "      <th>partner</th>\n",
       "      <th></th>\n",
       "      <th></th>\n",
       "      <th></th>\n",
       "      <th></th>\n",
       "    </tr>\n",
       "  </thead>\n",
       "  <tbody>\n",
       "    <tr>\n",
       "      <th>no</th>\n",
       "      <td>0.329809</td>\n",
       "      <td>2932</td>\n",
       "      <td>0.059841</td>\n",
       "      <td>1.221659</td>\n",
       "    </tr>\n",
       "    <tr>\n",
       "      <th>yes</th>\n",
       "      <td>0.205033</td>\n",
       "      <td>2702</td>\n",
       "      <td>-0.064935</td>\n",
       "      <td>0.759472</td>\n",
       "    </tr>\n",
       "  </tbody>\n",
       "</table>\n",
       "</div>"
      ],
      "text/plain": [
       "             mean  count      diff      risk\n",
       "partner                                     \n",
       "no       0.329809   2932  0.059841  1.221659\n",
       "yes      0.205033   2702 -0.064935  0.759472"
      ]
     },
     "metadata": {},
     "output_type": "display_data"
    },
    {
     "name": "stdout",
     "output_type": "stream",
     "text": [
      "\n",
      "\n",
      "dependents\n"
     ]
    },
    {
     "data": {
      "text/html": [
       "<div>\n",
       "<style scoped>\n",
       "    .dataframe tbody tr th:only-of-type {\n",
       "        vertical-align: middle;\n",
       "    }\n",
       "\n",
       "    .dataframe tbody tr th {\n",
       "        vertical-align: top;\n",
       "    }\n",
       "\n",
       "    .dataframe thead th {\n",
       "        text-align: right;\n",
       "    }\n",
       "</style>\n",
       "<table border=\"1\" class=\"dataframe\">\n",
       "  <thead>\n",
       "    <tr style=\"text-align: right;\">\n",
       "      <th></th>\n",
       "      <th>mean</th>\n",
       "      <th>count</th>\n",
       "      <th>diff</th>\n",
       "      <th>risk</th>\n",
       "    </tr>\n",
       "    <tr>\n",
       "      <th>dependents</th>\n",
       "      <th></th>\n",
       "      <th></th>\n",
       "      <th></th>\n",
       "      <th></th>\n",
       "    </tr>\n",
       "  </thead>\n",
       "  <tbody>\n",
       "    <tr>\n",
       "      <th>no</th>\n",
       "      <td>0.313760</td>\n",
       "      <td>3968</td>\n",
       "      <td>0.043792</td>\n",
       "      <td>1.162212</td>\n",
       "    </tr>\n",
       "    <tr>\n",
       "      <th>yes</th>\n",
       "      <td>0.165666</td>\n",
       "      <td>1666</td>\n",
       "      <td>-0.104302</td>\n",
       "      <td>0.613651</td>\n",
       "    </tr>\n",
       "  </tbody>\n",
       "</table>\n",
       "</div>"
      ],
      "text/plain": [
       "                mean  count      diff      risk\n",
       "dependents                                     \n",
       "no          0.313760   3968  0.043792  1.162212\n",
       "yes         0.165666   1666 -0.104302  0.613651"
      ]
     },
     "metadata": {},
     "output_type": "display_data"
    },
    {
     "name": "stdout",
     "output_type": "stream",
     "text": [
      "\n",
      "\n",
      "phoneservice\n"
     ]
    },
    {
     "data": {
      "text/html": [
       "<div>\n",
       "<style scoped>\n",
       "    .dataframe tbody tr th:only-of-type {\n",
       "        vertical-align: middle;\n",
       "    }\n",
       "\n",
       "    .dataframe tbody tr th {\n",
       "        vertical-align: top;\n",
       "    }\n",
       "\n",
       "    .dataframe thead th {\n",
       "        text-align: right;\n",
       "    }\n",
       "</style>\n",
       "<table border=\"1\" class=\"dataframe\">\n",
       "  <thead>\n",
       "    <tr style=\"text-align: right;\">\n",
       "      <th></th>\n",
       "      <th>mean</th>\n",
       "      <th>count</th>\n",
       "      <th>diff</th>\n",
       "      <th>risk</th>\n",
       "    </tr>\n",
       "    <tr>\n",
       "      <th>phoneservice</th>\n",
       "      <th></th>\n",
       "      <th></th>\n",
       "      <th></th>\n",
       "      <th></th>\n",
       "    </tr>\n",
       "  </thead>\n",
       "  <tbody>\n",
       "    <tr>\n",
       "      <th>no</th>\n",
       "      <td>0.241316</td>\n",
       "      <td>547</td>\n",
       "      <td>-0.028652</td>\n",
       "      <td>0.893870</td>\n",
       "    </tr>\n",
       "    <tr>\n",
       "      <th>yes</th>\n",
       "      <td>0.273049</td>\n",
       "      <td>5087</td>\n",
       "      <td>0.003081</td>\n",
       "      <td>1.011412</td>\n",
       "    </tr>\n",
       "  </tbody>\n",
       "</table>\n",
       "</div>"
      ],
      "text/plain": [
       "                  mean  count      diff      risk\n",
       "phoneservice                                     \n",
       "no            0.241316    547 -0.028652  0.893870\n",
       "yes           0.273049   5087  0.003081  1.011412"
      ]
     },
     "metadata": {},
     "output_type": "display_data"
    },
    {
     "name": "stdout",
     "output_type": "stream",
     "text": [
      "\n",
      "\n",
      "multiplelines\n"
     ]
    },
    {
     "data": {
      "text/html": [
       "<div>\n",
       "<style scoped>\n",
       "    .dataframe tbody tr th:only-of-type {\n",
       "        vertical-align: middle;\n",
       "    }\n",
       "\n",
       "    .dataframe tbody tr th {\n",
       "        vertical-align: top;\n",
       "    }\n",
       "\n",
       "    .dataframe thead th {\n",
       "        text-align: right;\n",
       "    }\n",
       "</style>\n",
       "<table border=\"1\" class=\"dataframe\">\n",
       "  <thead>\n",
       "    <tr style=\"text-align: right;\">\n",
       "      <th></th>\n",
       "      <th>mean</th>\n",
       "      <th>count</th>\n",
       "      <th>diff</th>\n",
       "      <th>risk</th>\n",
       "    </tr>\n",
       "    <tr>\n",
       "      <th>multiplelines</th>\n",
       "      <th></th>\n",
       "      <th></th>\n",
       "      <th></th>\n",
       "      <th></th>\n",
       "    </tr>\n",
       "  </thead>\n",
       "  <tbody>\n",
       "    <tr>\n",
       "      <th>no</th>\n",
       "      <td>0.257407</td>\n",
       "      <td>2700</td>\n",
       "      <td>-0.012561</td>\n",
       "      <td>0.953474</td>\n",
       "    </tr>\n",
       "    <tr>\n",
       "      <th>no_phone_service</th>\n",
       "      <td>0.241316</td>\n",
       "      <td>547</td>\n",
       "      <td>-0.028652</td>\n",
       "      <td>0.893870</td>\n",
       "    </tr>\n",
       "    <tr>\n",
       "      <th>yes</th>\n",
       "      <td>0.290742</td>\n",
       "      <td>2387</td>\n",
       "      <td>0.020773</td>\n",
       "      <td>1.076948</td>\n",
       "    </tr>\n",
       "  </tbody>\n",
       "</table>\n",
       "</div>"
      ],
      "text/plain": [
       "                      mean  count      diff      risk\n",
       "multiplelines                                        \n",
       "no                0.257407   2700 -0.012561  0.953474\n",
       "no_phone_service  0.241316    547 -0.028652  0.893870\n",
       "yes               0.290742   2387  0.020773  1.076948"
      ]
     },
     "metadata": {},
     "output_type": "display_data"
    },
    {
     "name": "stdout",
     "output_type": "stream",
     "text": [
      "\n",
      "\n",
      "internetservice\n"
     ]
    },
    {
     "data": {
      "text/html": [
       "<div>\n",
       "<style scoped>\n",
       "    .dataframe tbody tr th:only-of-type {\n",
       "        vertical-align: middle;\n",
       "    }\n",
       "\n",
       "    .dataframe tbody tr th {\n",
       "        vertical-align: top;\n",
       "    }\n",
       "\n",
       "    .dataframe thead th {\n",
       "        text-align: right;\n",
       "    }\n",
       "</style>\n",
       "<table border=\"1\" class=\"dataframe\">\n",
       "  <thead>\n",
       "    <tr style=\"text-align: right;\">\n",
       "      <th></th>\n",
       "      <th>mean</th>\n",
       "      <th>count</th>\n",
       "      <th>diff</th>\n",
       "      <th>risk</th>\n",
       "    </tr>\n",
       "    <tr>\n",
       "      <th>internetservice</th>\n",
       "      <th></th>\n",
       "      <th></th>\n",
       "      <th></th>\n",
       "      <th></th>\n",
       "    </tr>\n",
       "  </thead>\n",
       "  <tbody>\n",
       "    <tr>\n",
       "      <th>dsl</th>\n",
       "      <td>0.192347</td>\n",
       "      <td>1934</td>\n",
       "      <td>-0.077621</td>\n",
       "      <td>0.712482</td>\n",
       "    </tr>\n",
       "    <tr>\n",
       "      <th>fiber_optic</th>\n",
       "      <td>0.425171</td>\n",
       "      <td>2479</td>\n",
       "      <td>0.155203</td>\n",
       "      <td>1.574895</td>\n",
       "    </tr>\n",
       "    <tr>\n",
       "      <th>no</th>\n",
       "      <td>0.077805</td>\n",
       "      <td>1221</td>\n",
       "      <td>-0.192163</td>\n",
       "      <td>0.288201</td>\n",
       "    </tr>\n",
       "  </tbody>\n",
       "</table>\n",
       "</div>"
      ],
      "text/plain": [
       "                     mean  count      diff      risk\n",
       "internetservice                                     \n",
       "dsl              0.192347   1934 -0.077621  0.712482\n",
       "fiber_optic      0.425171   2479  0.155203  1.574895\n",
       "no               0.077805   1221 -0.192163  0.288201"
      ]
     },
     "metadata": {},
     "output_type": "display_data"
    },
    {
     "name": "stdout",
     "output_type": "stream",
     "text": [
      "\n",
      "\n",
      "onlinesecurity\n"
     ]
    },
    {
     "data": {
      "text/html": [
       "<div>\n",
       "<style scoped>\n",
       "    .dataframe tbody tr th:only-of-type {\n",
       "        vertical-align: middle;\n",
       "    }\n",
       "\n",
       "    .dataframe tbody tr th {\n",
       "        vertical-align: top;\n",
       "    }\n",
       "\n",
       "    .dataframe thead th {\n",
       "        text-align: right;\n",
       "    }\n",
       "</style>\n",
       "<table border=\"1\" class=\"dataframe\">\n",
       "  <thead>\n",
       "    <tr style=\"text-align: right;\">\n",
       "      <th></th>\n",
       "      <th>mean</th>\n",
       "      <th>count</th>\n",
       "      <th>diff</th>\n",
       "      <th>risk</th>\n",
       "    </tr>\n",
       "    <tr>\n",
       "      <th>onlinesecurity</th>\n",
       "      <th></th>\n",
       "      <th></th>\n",
       "      <th></th>\n",
       "      <th></th>\n",
       "    </tr>\n",
       "  </thead>\n",
       "  <tbody>\n",
       "    <tr>\n",
       "      <th>no</th>\n",
       "      <td>0.420921</td>\n",
       "      <td>2801</td>\n",
       "      <td>0.150953</td>\n",
       "      <td>1.559152</td>\n",
       "    </tr>\n",
       "    <tr>\n",
       "      <th>no_internet_service</th>\n",
       "      <td>0.077805</td>\n",
       "      <td>1221</td>\n",
       "      <td>-0.192163</td>\n",
       "      <td>0.288201</td>\n",
       "    </tr>\n",
       "    <tr>\n",
       "      <th>yes</th>\n",
       "      <td>0.153226</td>\n",
       "      <td>1612</td>\n",
       "      <td>-0.116742</td>\n",
       "      <td>0.567570</td>\n",
       "    </tr>\n",
       "  </tbody>\n",
       "</table>\n",
       "</div>"
      ],
      "text/plain": [
       "                         mean  count      diff      risk\n",
       "onlinesecurity                                          \n",
       "no                   0.420921   2801  0.150953  1.559152\n",
       "no_internet_service  0.077805   1221 -0.192163  0.288201\n",
       "yes                  0.153226   1612 -0.116742  0.567570"
      ]
     },
     "metadata": {},
     "output_type": "display_data"
    },
    {
     "name": "stdout",
     "output_type": "stream",
     "text": [
      "\n",
      "\n",
      "onlinebackup\n"
     ]
    },
    {
     "data": {
      "text/html": [
       "<div>\n",
       "<style scoped>\n",
       "    .dataframe tbody tr th:only-of-type {\n",
       "        vertical-align: middle;\n",
       "    }\n",
       "\n",
       "    .dataframe tbody tr th {\n",
       "        vertical-align: top;\n",
       "    }\n",
       "\n",
       "    .dataframe thead th {\n",
       "        text-align: right;\n",
       "    }\n",
       "</style>\n",
       "<table border=\"1\" class=\"dataframe\">\n",
       "  <thead>\n",
       "    <tr style=\"text-align: right;\">\n",
       "      <th></th>\n",
       "      <th>mean</th>\n",
       "      <th>count</th>\n",
       "      <th>diff</th>\n",
       "      <th>risk</th>\n",
       "    </tr>\n",
       "    <tr>\n",
       "      <th>onlinebackup</th>\n",
       "      <th></th>\n",
       "      <th></th>\n",
       "      <th></th>\n",
       "      <th></th>\n",
       "    </tr>\n",
       "  </thead>\n",
       "  <tbody>\n",
       "    <tr>\n",
       "      <th>no</th>\n",
       "      <td>0.404323</td>\n",
       "      <td>2498</td>\n",
       "      <td>0.134355</td>\n",
       "      <td>1.497672</td>\n",
       "    </tr>\n",
       "    <tr>\n",
       "      <th>no_internet_service</th>\n",
       "      <td>0.077805</td>\n",
       "      <td>1221</td>\n",
       "      <td>-0.192163</td>\n",
       "      <td>0.288201</td>\n",
       "    </tr>\n",
       "    <tr>\n",
       "      <th>yes</th>\n",
       "      <td>0.217232</td>\n",
       "      <td>1915</td>\n",
       "      <td>-0.052736</td>\n",
       "      <td>0.804660</td>\n",
       "    </tr>\n",
       "  </tbody>\n",
       "</table>\n",
       "</div>"
      ],
      "text/plain": [
       "                         mean  count      diff      risk\n",
       "onlinebackup                                            \n",
       "no                   0.404323   2498  0.134355  1.497672\n",
       "no_internet_service  0.077805   1221 -0.192163  0.288201\n",
       "yes                  0.217232   1915 -0.052736  0.804660"
      ]
     },
     "metadata": {},
     "output_type": "display_data"
    },
    {
     "name": "stdout",
     "output_type": "stream",
     "text": [
      "\n",
      "\n",
      "deviceprotection\n"
     ]
    },
    {
     "data": {
      "text/html": [
       "<div>\n",
       "<style scoped>\n",
       "    .dataframe tbody tr th:only-of-type {\n",
       "        vertical-align: middle;\n",
       "    }\n",
       "\n",
       "    .dataframe tbody tr th {\n",
       "        vertical-align: top;\n",
       "    }\n",
       "\n",
       "    .dataframe thead th {\n",
       "        text-align: right;\n",
       "    }\n",
       "</style>\n",
       "<table border=\"1\" class=\"dataframe\">\n",
       "  <thead>\n",
       "    <tr style=\"text-align: right;\">\n",
       "      <th></th>\n",
       "      <th>mean</th>\n",
       "      <th>count</th>\n",
       "      <th>diff</th>\n",
       "      <th>risk</th>\n",
       "    </tr>\n",
       "    <tr>\n",
       "      <th>deviceprotection</th>\n",
       "      <th></th>\n",
       "      <th></th>\n",
       "      <th></th>\n",
       "      <th></th>\n",
       "    </tr>\n",
       "  </thead>\n",
       "  <tbody>\n",
       "    <tr>\n",
       "      <th>no</th>\n",
       "      <td>0.395875</td>\n",
       "      <td>2473</td>\n",
       "      <td>0.125907</td>\n",
       "      <td>1.466379</td>\n",
       "    </tr>\n",
       "    <tr>\n",
       "      <th>no_internet_service</th>\n",
       "      <td>0.077805</td>\n",
       "      <td>1221</td>\n",
       "      <td>-0.192163</td>\n",
       "      <td>0.288201</td>\n",
       "    </tr>\n",
       "    <tr>\n",
       "      <th>yes</th>\n",
       "      <td>0.230412</td>\n",
       "      <td>1940</td>\n",
       "      <td>-0.039556</td>\n",
       "      <td>0.853480</td>\n",
       "    </tr>\n",
       "  </tbody>\n",
       "</table>\n",
       "</div>"
      ],
      "text/plain": [
       "                         mean  count      diff      risk\n",
       "deviceprotection                                        \n",
       "no                   0.395875   2473  0.125907  1.466379\n",
       "no_internet_service  0.077805   1221 -0.192163  0.288201\n",
       "yes                  0.230412   1940 -0.039556  0.853480"
      ]
     },
     "metadata": {},
     "output_type": "display_data"
    },
    {
     "name": "stdout",
     "output_type": "stream",
     "text": [
      "\n",
      "\n",
      "techsupport\n"
     ]
    },
    {
     "data": {
      "text/html": [
       "<div>\n",
       "<style scoped>\n",
       "    .dataframe tbody tr th:only-of-type {\n",
       "        vertical-align: middle;\n",
       "    }\n",
       "\n",
       "    .dataframe tbody tr th {\n",
       "        vertical-align: top;\n",
       "    }\n",
       "\n",
       "    .dataframe thead th {\n",
       "        text-align: right;\n",
       "    }\n",
       "</style>\n",
       "<table border=\"1\" class=\"dataframe\">\n",
       "  <thead>\n",
       "    <tr style=\"text-align: right;\">\n",
       "      <th></th>\n",
       "      <th>mean</th>\n",
       "      <th>count</th>\n",
       "      <th>diff</th>\n",
       "      <th>risk</th>\n",
       "    </tr>\n",
       "    <tr>\n",
       "      <th>techsupport</th>\n",
       "      <th></th>\n",
       "      <th></th>\n",
       "      <th></th>\n",
       "      <th></th>\n",
       "    </tr>\n",
       "  </thead>\n",
       "  <tbody>\n",
       "    <tr>\n",
       "      <th>no</th>\n",
       "      <td>0.418914</td>\n",
       "      <td>2781</td>\n",
       "      <td>0.148946</td>\n",
       "      <td>1.551717</td>\n",
       "    </tr>\n",
       "    <tr>\n",
       "      <th>no_internet_service</th>\n",
       "      <td>0.077805</td>\n",
       "      <td>1221</td>\n",
       "      <td>-0.192163</td>\n",
       "      <td>0.288201</td>\n",
       "    </tr>\n",
       "    <tr>\n",
       "      <th>yes</th>\n",
       "      <td>0.159926</td>\n",
       "      <td>1632</td>\n",
       "      <td>-0.110042</td>\n",
       "      <td>0.592390</td>\n",
       "    </tr>\n",
       "  </tbody>\n",
       "</table>\n",
       "</div>"
      ],
      "text/plain": [
       "                         mean  count      diff      risk\n",
       "techsupport                                             \n",
       "no                   0.418914   2781  0.148946  1.551717\n",
       "no_internet_service  0.077805   1221 -0.192163  0.288201\n",
       "yes                  0.159926   1632 -0.110042  0.592390"
      ]
     },
     "metadata": {},
     "output_type": "display_data"
    },
    {
     "name": "stdout",
     "output_type": "stream",
     "text": [
      "\n",
      "\n",
      "streamingtv\n"
     ]
    },
    {
     "data": {
      "text/html": [
       "<div>\n",
       "<style scoped>\n",
       "    .dataframe tbody tr th:only-of-type {\n",
       "        vertical-align: middle;\n",
       "    }\n",
       "\n",
       "    .dataframe tbody tr th {\n",
       "        vertical-align: top;\n",
       "    }\n",
       "\n",
       "    .dataframe thead th {\n",
       "        text-align: right;\n",
       "    }\n",
       "</style>\n",
       "<table border=\"1\" class=\"dataframe\">\n",
       "  <thead>\n",
       "    <tr style=\"text-align: right;\">\n",
       "      <th></th>\n",
       "      <th>mean</th>\n",
       "      <th>count</th>\n",
       "      <th>diff</th>\n",
       "      <th>risk</th>\n",
       "    </tr>\n",
       "    <tr>\n",
       "      <th>streamingtv</th>\n",
       "      <th></th>\n",
       "      <th></th>\n",
       "      <th></th>\n",
       "      <th></th>\n",
       "    </tr>\n",
       "  </thead>\n",
       "  <tbody>\n",
       "    <tr>\n",
       "      <th>no</th>\n",
       "      <td>0.342832</td>\n",
       "      <td>2246</td>\n",
       "      <td>0.072864</td>\n",
       "      <td>1.269897</td>\n",
       "    </tr>\n",
       "    <tr>\n",
       "      <th>no_internet_service</th>\n",
       "      <td>0.077805</td>\n",
       "      <td>1221</td>\n",
       "      <td>-0.192163</td>\n",
       "      <td>0.288201</td>\n",
       "    </tr>\n",
       "    <tr>\n",
       "      <th>yes</th>\n",
       "      <td>0.302723</td>\n",
       "      <td>2167</td>\n",
       "      <td>0.032755</td>\n",
       "      <td>1.121328</td>\n",
       "    </tr>\n",
       "  </tbody>\n",
       "</table>\n",
       "</div>"
      ],
      "text/plain": [
       "                         mean  count      diff      risk\n",
       "streamingtv                                             \n",
       "no                   0.342832   2246  0.072864  1.269897\n",
       "no_internet_service  0.077805   1221 -0.192163  0.288201\n",
       "yes                  0.302723   2167  0.032755  1.121328"
      ]
     },
     "metadata": {},
     "output_type": "display_data"
    },
    {
     "name": "stdout",
     "output_type": "stream",
     "text": [
      "\n",
      "\n",
      "streamingmovies\n"
     ]
    },
    {
     "data": {
      "text/html": [
       "<div>\n",
       "<style scoped>\n",
       "    .dataframe tbody tr th:only-of-type {\n",
       "        vertical-align: middle;\n",
       "    }\n",
       "\n",
       "    .dataframe tbody tr th {\n",
       "        vertical-align: top;\n",
       "    }\n",
       "\n",
       "    .dataframe thead th {\n",
       "        text-align: right;\n",
       "    }\n",
       "</style>\n",
       "<table border=\"1\" class=\"dataframe\">\n",
       "  <thead>\n",
       "    <tr style=\"text-align: right;\">\n",
       "      <th></th>\n",
       "      <th>mean</th>\n",
       "      <th>count</th>\n",
       "      <th>diff</th>\n",
       "      <th>risk</th>\n",
       "    </tr>\n",
       "    <tr>\n",
       "      <th>streamingmovies</th>\n",
       "      <th></th>\n",
       "      <th></th>\n",
       "      <th></th>\n",
       "      <th></th>\n",
       "    </tr>\n",
       "  </thead>\n",
       "  <tbody>\n",
       "    <tr>\n",
       "      <th>no</th>\n",
       "      <td>0.338906</td>\n",
       "      <td>2213</td>\n",
       "      <td>0.068938</td>\n",
       "      <td>1.255358</td>\n",
       "    </tr>\n",
       "    <tr>\n",
       "      <th>no_internet_service</th>\n",
       "      <td>0.077805</td>\n",
       "      <td>1221</td>\n",
       "      <td>-0.192163</td>\n",
       "      <td>0.288201</td>\n",
       "    </tr>\n",
       "    <tr>\n",
       "      <th>yes</th>\n",
       "      <td>0.307273</td>\n",
       "      <td>2200</td>\n",
       "      <td>0.037305</td>\n",
       "      <td>1.138182</td>\n",
       "    </tr>\n",
       "  </tbody>\n",
       "</table>\n",
       "</div>"
      ],
      "text/plain": [
       "                         mean  count      diff      risk\n",
       "streamingmovies                                         \n",
       "no                   0.338906   2213  0.068938  1.255358\n",
       "no_internet_service  0.077805   1221 -0.192163  0.288201\n",
       "yes                  0.307273   2200  0.037305  1.138182"
      ]
     },
     "metadata": {},
     "output_type": "display_data"
    },
    {
     "name": "stdout",
     "output_type": "stream",
     "text": [
      "\n",
      "\n",
      "contract\n"
     ]
    },
    {
     "data": {
      "text/html": [
       "<div>\n",
       "<style scoped>\n",
       "    .dataframe tbody tr th:only-of-type {\n",
       "        vertical-align: middle;\n",
       "    }\n",
       "\n",
       "    .dataframe tbody tr th {\n",
       "        vertical-align: top;\n",
       "    }\n",
       "\n",
       "    .dataframe thead th {\n",
       "        text-align: right;\n",
       "    }\n",
       "</style>\n",
       "<table border=\"1\" class=\"dataframe\">\n",
       "  <thead>\n",
       "    <tr style=\"text-align: right;\">\n",
       "      <th></th>\n",
       "      <th>mean</th>\n",
       "      <th>count</th>\n",
       "      <th>diff</th>\n",
       "      <th>risk</th>\n",
       "    </tr>\n",
       "    <tr>\n",
       "      <th>contract</th>\n",
       "      <th></th>\n",
       "      <th></th>\n",
       "      <th></th>\n",
       "      <th></th>\n",
       "    </tr>\n",
       "  </thead>\n",
       "  <tbody>\n",
       "    <tr>\n",
       "      <th>month-to-month</th>\n",
       "      <td>0.431701</td>\n",
       "      <td>3104</td>\n",
       "      <td>0.161733</td>\n",
       "      <td>1.599082</td>\n",
       "    </tr>\n",
       "    <tr>\n",
       "      <th>one_year</th>\n",
       "      <td>0.120573</td>\n",
       "      <td>1186</td>\n",
       "      <td>-0.149395</td>\n",
       "      <td>0.446621</td>\n",
       "    </tr>\n",
       "    <tr>\n",
       "      <th>two_year</th>\n",
       "      <td>0.028274</td>\n",
       "      <td>1344</td>\n",
       "      <td>-0.241694</td>\n",
       "      <td>0.104730</td>\n",
       "    </tr>\n",
       "  </tbody>\n",
       "</table>\n",
       "</div>"
      ],
      "text/plain": [
       "                    mean  count      diff      risk\n",
       "contract                                           \n",
       "month-to-month  0.431701   3104  0.161733  1.599082\n",
       "one_year        0.120573   1186 -0.149395  0.446621\n",
       "two_year        0.028274   1344 -0.241694  0.104730"
      ]
     },
     "metadata": {},
     "output_type": "display_data"
    },
    {
     "name": "stdout",
     "output_type": "stream",
     "text": [
      "\n",
      "\n",
      "paperlessbilling\n"
     ]
    },
    {
     "data": {
      "text/html": [
       "<div>\n",
       "<style scoped>\n",
       "    .dataframe tbody tr th:only-of-type {\n",
       "        vertical-align: middle;\n",
       "    }\n",
       "\n",
       "    .dataframe tbody tr th {\n",
       "        vertical-align: top;\n",
       "    }\n",
       "\n",
       "    .dataframe thead th {\n",
       "        text-align: right;\n",
       "    }\n",
       "</style>\n",
       "<table border=\"1\" class=\"dataframe\">\n",
       "  <thead>\n",
       "    <tr style=\"text-align: right;\">\n",
       "      <th></th>\n",
       "      <th>mean</th>\n",
       "      <th>count</th>\n",
       "      <th>diff</th>\n",
       "      <th>risk</th>\n",
       "    </tr>\n",
       "    <tr>\n",
       "      <th>paperlessbilling</th>\n",
       "      <th></th>\n",
       "      <th></th>\n",
       "      <th></th>\n",
       "      <th></th>\n",
       "    </tr>\n",
       "  </thead>\n",
       "  <tbody>\n",
       "    <tr>\n",
       "      <th>no</th>\n",
       "      <td>0.172071</td>\n",
       "      <td>2313</td>\n",
       "      <td>-0.097897</td>\n",
       "      <td>0.637375</td>\n",
       "    </tr>\n",
       "    <tr>\n",
       "      <th>yes</th>\n",
       "      <td>0.338151</td>\n",
       "      <td>3321</td>\n",
       "      <td>0.068183</td>\n",
       "      <td>1.252560</td>\n",
       "    </tr>\n",
       "  </tbody>\n",
       "</table>\n",
       "</div>"
      ],
      "text/plain": [
       "                      mean  count      diff      risk\n",
       "paperlessbilling                                     \n",
       "no                0.172071   2313 -0.097897  0.637375\n",
       "yes               0.338151   3321  0.068183  1.252560"
      ]
     },
     "metadata": {},
     "output_type": "display_data"
    },
    {
     "name": "stdout",
     "output_type": "stream",
     "text": [
      "\n",
      "\n",
      "paymentmethod\n"
     ]
    },
    {
     "data": {
      "text/html": [
       "<div>\n",
       "<style scoped>\n",
       "    .dataframe tbody tr th:only-of-type {\n",
       "        vertical-align: middle;\n",
       "    }\n",
       "\n",
       "    .dataframe tbody tr th {\n",
       "        vertical-align: top;\n",
       "    }\n",
       "\n",
       "    .dataframe thead th {\n",
       "        text-align: right;\n",
       "    }\n",
       "</style>\n",
       "<table border=\"1\" class=\"dataframe\">\n",
       "  <thead>\n",
       "    <tr style=\"text-align: right;\">\n",
       "      <th></th>\n",
       "      <th>mean</th>\n",
       "      <th>count</th>\n",
       "      <th>diff</th>\n",
       "      <th>risk</th>\n",
       "    </tr>\n",
       "    <tr>\n",
       "      <th>paymentmethod</th>\n",
       "      <th></th>\n",
       "      <th></th>\n",
       "      <th></th>\n",
       "      <th></th>\n",
       "    </tr>\n",
       "  </thead>\n",
       "  <tbody>\n",
       "    <tr>\n",
       "      <th>bank_transfer_(automatic)</th>\n",
       "      <td>0.168171</td>\n",
       "      <td>1219</td>\n",
       "      <td>-0.101797</td>\n",
       "      <td>0.622928</td>\n",
       "    </tr>\n",
       "    <tr>\n",
       "      <th>credit_card_(automatic)</th>\n",
       "      <td>0.164339</td>\n",
       "      <td>1217</td>\n",
       "      <td>-0.105630</td>\n",
       "      <td>0.608733</td>\n",
       "    </tr>\n",
       "    <tr>\n",
       "      <th>electronic_check</th>\n",
       "      <td>0.455890</td>\n",
       "      <td>1893</td>\n",
       "      <td>0.185922</td>\n",
       "      <td>1.688682</td>\n",
       "    </tr>\n",
       "    <tr>\n",
       "      <th>mailed_check</th>\n",
       "      <td>0.193870</td>\n",
       "      <td>1305</td>\n",
       "      <td>-0.076098</td>\n",
       "      <td>0.718121</td>\n",
       "    </tr>\n",
       "  </tbody>\n",
       "</table>\n",
       "</div>"
      ],
      "text/plain": [
       "                               mean  count      diff      risk\n",
       "paymentmethod                                                 \n",
       "bank_transfer_(automatic)  0.168171   1219 -0.101797  0.622928\n",
       "credit_card_(automatic)    0.164339   1217 -0.105630  0.608733\n",
       "electronic_check           0.455890   1893  0.185922  1.688682\n",
       "mailed_check               0.193870   1305 -0.076098  0.718121"
      ]
     },
     "metadata": {},
     "output_type": "display_data"
    },
    {
     "name": "stdout",
     "output_type": "stream",
     "text": [
      "\n",
      "\n"
     ]
    }
   ],
   "source": [
    "for c in categorical:\n",
    "    print(c)\n",
    "    df_group = df_full_train.groupby(c).churn.agg(['mean', 'count'])\n",
    "    df_group['diff'] = df_group['mean'] - global_churn_rate\n",
    "    df_group['risk'] = df_group['mean'] / global_churn_rate\n",
    "    display(df_group)\n",
    "    print()\n",
    "    print()"
   ]
  },
  {
   "cell_type": "markdown",
   "id": "fde24f52",
   "metadata": {
    "papermill": {
     "duration": 0.030734,
     "end_time": "2023-10-04T22:11:26.832633",
     "exception": false,
     "start_time": "2023-10-04T22:11:26.801899",
     "status": "completed"
    },
    "tags": []
   },
   "source": [
    "Feature Importance: Mutual Information"
   ]
  },
  {
   "cell_type": "code",
   "execution_count": 37,
   "id": "9e0676ea",
   "metadata": {
    "execution": {
     "iopub.execute_input": "2023-10-04T22:11:26.897251Z",
     "iopub.status.busy": "2023-10-04T22:11:26.896768Z",
     "iopub.status.idle": "2023-10-04T22:11:26.902217Z",
     "shell.execute_reply": "2023-10-04T22:11:26.900739Z"
    },
    "papermill": {
     "duration": 0.040625,
     "end_time": "2023-10-04T22:11:26.904489",
     "exception": false,
     "start_time": "2023-10-04T22:11:26.863864",
     "status": "completed"
    },
    "tags": []
   },
   "outputs": [],
   "source": [
    "from sklearn.metrics import mutual_info_score"
   ]
  },
  {
   "cell_type": "code",
   "execution_count": 38,
   "id": "795d01d5",
   "metadata": {
    "execution": {
     "iopub.execute_input": "2023-10-04T22:11:26.983232Z",
     "iopub.status.busy": "2023-10-04T22:11:26.982770Z",
     "iopub.status.idle": "2023-10-04T22:11:27.245581Z",
     "shell.execute_reply": "2023-10-04T22:11:27.244614Z"
    },
    "papermill": {
     "duration": 0.311798,
     "end_time": "2023-10-04T22:11:27.249045",
     "exception": false,
     "start_time": "2023-10-04T22:11:26.937247",
     "status": "completed"
    },
    "tags": []
   },
   "outputs": [
    {
     "name": "stdout",
     "output_type": "stream",
     "text": [
      "gender\n"
     ]
    },
    {
     "data": {
      "text/plain": [
       "0.0001174846211139946"
      ]
     },
     "metadata": {},
     "output_type": "display_data"
    },
    {
     "name": "stdout",
     "output_type": "stream",
     "text": [
      "\n",
      "seniorcitizen\n"
     ]
    },
    {
     "data": {
      "text/plain": [
       "0.009410216144208144"
      ]
     },
     "metadata": {},
     "output_type": "display_data"
    },
    {
     "name": "stdout",
     "output_type": "stream",
     "text": [
      "\n",
      "partner\n"
     ]
    },
    {
     "data": {
      "text/plain": [
       "0.009967689095399745"
      ]
     },
     "metadata": {},
     "output_type": "display_data"
    },
    {
     "name": "stdout",
     "output_type": "stream",
     "text": [
      "\n",
      "dependents\n"
     ]
    },
    {
     "data": {
      "text/plain": [
       "0.012345815445534689"
      ]
     },
     "metadata": {},
     "output_type": "display_data"
    },
    {
     "name": "stdout",
     "output_type": "stream",
     "text": [
      "\n",
      "phoneservice\n"
     ]
    },
    {
     "data": {
      "text/plain": [
       "0.00022871269738296285"
      ]
     },
     "metadata": {},
     "output_type": "display_data"
    },
    {
     "name": "stdout",
     "output_type": "stream",
     "text": [
      "\n",
      "multiplelines\n"
     ]
    },
    {
     "data": {
      "text/plain": [
       "0.0008574478744731856"
      ]
     },
     "metadata": {},
     "output_type": "display_data"
    },
    {
     "name": "stdout",
     "output_type": "stream",
     "text": [
      "\n",
      "internetservice\n"
     ]
    },
    {
     "data": {
      "text/plain": [
       "0.055867945893496467"
      ]
     },
     "metadata": {},
     "output_type": "display_data"
    },
    {
     "name": "stdout",
     "output_type": "stream",
     "text": [
      "\n",
      "onlinesecurity\n"
     ]
    },
    {
     "data": {
      "text/plain": [
       "0.06308524972985574"
      ]
     },
     "metadata": {},
     "output_type": "display_data"
    },
    {
     "name": "stdout",
     "output_type": "stream",
     "text": [
      "\n",
      "onlinebackup\n"
     ]
    },
    {
     "data": {
      "text/plain": [
       "0.0469234640537918"
      ]
     },
     "metadata": {},
     "output_type": "display_data"
    },
    {
     "name": "stdout",
     "output_type": "stream",
     "text": [
      "\n",
      "deviceprotection\n"
     ]
    },
    {
     "data": {
      "text/plain": [
       "0.04345286925268559"
      ]
     },
     "metadata": {},
     "output_type": "display_data"
    },
    {
     "name": "stdout",
     "output_type": "stream",
     "text": [
      "\n",
      "techsupport\n"
     ]
    },
    {
     "data": {
      "text/plain": [
       "0.06103245991777444"
      ]
     },
     "metadata": {},
     "output_type": "display_data"
    },
    {
     "name": "stdout",
     "output_type": "stream",
     "text": [
      "\n",
      "streamingtv\n"
     ]
    },
    {
     "data": {
      "text/plain": [
       "0.03185333110086085"
      ]
     },
     "metadata": {},
     "output_type": "display_data"
    },
    {
     "name": "stdout",
     "output_type": "stream",
     "text": [
      "\n",
      "streamingmovies\n"
     ]
    },
    {
     "data": {
      "text/plain": [
       "0.03158089669519908"
      ]
     },
     "metadata": {},
     "output_type": "display_data"
    },
    {
     "name": "stdout",
     "output_type": "stream",
     "text": [
      "\n",
      "contract\n"
     ]
    },
    {
     "data": {
      "text/plain": [
       "0.0983203874041556"
      ]
     },
     "metadata": {},
     "output_type": "display_data"
    },
    {
     "name": "stdout",
     "output_type": "stream",
     "text": [
      "\n",
      "paperlessbilling\n"
     ]
    },
    {
     "data": {
      "text/plain": [
       "0.01758882715925275"
      ]
     },
     "metadata": {},
     "output_type": "display_data"
    },
    {
     "name": "stdout",
     "output_type": "stream",
     "text": [
      "\n",
      "paymentmethod\n"
     ]
    },
    {
     "data": {
      "text/plain": [
       "0.043210027531582915"
      ]
     },
     "metadata": {},
     "output_type": "display_data"
    },
    {
     "name": "stdout",
     "output_type": "stream",
     "text": [
      "\n"
     ]
    }
   ],
   "source": [
    "for c in categorical:\n",
    "    print(c)\n",
    "    score = mutual_info_score(df_full_train[c], df_full_train['churn'])\n",
    "    display(score)\n",
    "    print()"
   ]
  },
  {
   "cell_type": "code",
   "execution_count": 39,
   "id": "4e4b1c6f",
   "metadata": {
    "execution": {
     "iopub.execute_input": "2023-10-04T22:11:27.321905Z",
     "iopub.status.busy": "2023-10-04T22:11:27.321127Z",
     "iopub.status.idle": "2023-10-04T22:11:27.325698Z",
     "shell.execute_reply": "2023-10-04T22:11:27.324847Z"
    },
    "papermill": {
     "duration": 0.04094,
     "end_time": "2023-10-04T22:11:27.327680",
     "exception": false,
     "start_time": "2023-10-04T22:11:27.286740",
     "status": "completed"
    },
    "tags": []
   },
   "outputs": [],
   "source": [
    "# We can also define this as a function and apply it to out data frame using df.frame()\n",
    "def mutual_info_churn_score(series):\n",
    "    return mutual_info_score(series, df_full_train.churn)\n",
    "\n"
   ]
  },
  {
   "cell_type": "code",
   "execution_count": 40,
   "id": "782536b1",
   "metadata": {
    "execution": {
     "iopub.execute_input": "2023-10-04T22:11:27.396093Z",
     "iopub.status.busy": "2023-10-04T22:11:27.395335Z",
     "iopub.status.idle": "2023-10-04T22:11:27.564967Z",
     "shell.execute_reply": "2023-10-04T22:11:27.563763Z"
    },
    "papermill": {
     "duration": 0.207279,
     "end_time": "2023-10-04T22:11:27.567368",
     "exception": false,
     "start_time": "2023-10-04T22:11:27.360089",
     "status": "completed"
    },
    "tags": []
   },
   "outputs": [
    {
     "data": {
      "text/html": [
       "<div>\n",
       "<style scoped>\n",
       "    .dataframe tbody tr th:only-of-type {\n",
       "        vertical-align: middle;\n",
       "    }\n",
       "\n",
       "    .dataframe tbody tr th {\n",
       "        vertical-align: top;\n",
       "    }\n",
       "\n",
       "    .dataframe thead th {\n",
       "        text-align: right;\n",
       "    }\n",
       "</style>\n",
       "<table border=\"1\" class=\"dataframe\">\n",
       "  <thead>\n",
       "    <tr style=\"text-align: right;\">\n",
       "      <th></th>\n",
       "      <th>MI Score</th>\n",
       "    </tr>\n",
       "  </thead>\n",
       "  <tbody>\n",
       "    <tr>\n",
       "      <th>contract</th>\n",
       "      <td>0.098320</td>\n",
       "    </tr>\n",
       "    <tr>\n",
       "      <th>onlinesecurity</th>\n",
       "      <td>0.063085</td>\n",
       "    </tr>\n",
       "    <tr>\n",
       "      <th>techsupport</th>\n",
       "      <td>0.061032</td>\n",
       "    </tr>\n",
       "    <tr>\n",
       "      <th>internetservice</th>\n",
       "      <td>0.055868</td>\n",
       "    </tr>\n",
       "    <tr>\n",
       "      <th>onlinebackup</th>\n",
       "      <td>0.046923</td>\n",
       "    </tr>\n",
       "    <tr>\n",
       "      <th>deviceprotection</th>\n",
       "      <td>0.043453</td>\n",
       "    </tr>\n",
       "    <tr>\n",
       "      <th>paymentmethod</th>\n",
       "      <td>0.043210</td>\n",
       "    </tr>\n",
       "    <tr>\n",
       "      <th>streamingtv</th>\n",
       "      <td>0.031853</td>\n",
       "    </tr>\n",
       "    <tr>\n",
       "      <th>streamingmovies</th>\n",
       "      <td>0.031581</td>\n",
       "    </tr>\n",
       "    <tr>\n",
       "      <th>paperlessbilling</th>\n",
       "      <td>0.017589</td>\n",
       "    </tr>\n",
       "    <tr>\n",
       "      <th>dependents</th>\n",
       "      <td>0.012346</td>\n",
       "    </tr>\n",
       "    <tr>\n",
       "      <th>partner</th>\n",
       "      <td>0.009968</td>\n",
       "    </tr>\n",
       "    <tr>\n",
       "      <th>seniorcitizen</th>\n",
       "      <td>0.009410</td>\n",
       "    </tr>\n",
       "    <tr>\n",
       "      <th>multiplelines</th>\n",
       "      <td>0.000857</td>\n",
       "    </tr>\n",
       "    <tr>\n",
       "      <th>phoneservice</th>\n",
       "      <td>0.000229</td>\n",
       "    </tr>\n",
       "    <tr>\n",
       "      <th>gender</th>\n",
       "      <td>0.000117</td>\n",
       "    </tr>\n",
       "  </tbody>\n",
       "</table>\n",
       "</div>"
      ],
      "text/plain": [
       "                  MI Score\n",
       "contract          0.098320\n",
       "onlinesecurity    0.063085\n",
       "techsupport       0.061032\n",
       "internetservice   0.055868\n",
       "onlinebackup      0.046923\n",
       "deviceprotection  0.043453\n",
       "paymentmethod     0.043210\n",
       "streamingtv       0.031853\n",
       "streamingmovies   0.031581\n",
       "paperlessbilling  0.017589\n",
       "dependents        0.012346\n",
       "partner           0.009968\n",
       "seniorcitizen     0.009410\n",
       "multiplelines     0.000857\n",
       "phoneservice      0.000229\n",
       "gender            0.000117"
      ]
     },
     "execution_count": 40,
     "metadata": {},
     "output_type": "execute_result"
    }
   ],
   "source": [
    "# df[x].apply(y) = apply a function Y to the X series of the DF \n",
    "mi = df_full_train[categorical].apply(mutual_info_churn_score)\n",
    "mi.sort_values(ascending=False).to_frame(name='MI Score')"
   ]
  },
  {
   "cell_type": "markdown",
   "id": "f7c98c06",
   "metadata": {
    "papermill": {
     "duration": 0.03356,
     "end_time": "2023-10-04T22:11:27.634129",
     "exception": false,
     "start_time": "2023-10-04T22:11:27.600569",
     "status": "completed"
    },
    "tags": []
   },
   "source": [
    "Feature Importance\n",
    "Correlation - Numerical Columns"
   ]
  },
  {
   "cell_type": "code",
   "execution_count": 41,
   "id": "63a12024",
   "metadata": {
    "execution": {
     "iopub.execute_input": "2023-10-04T22:11:27.702792Z",
     "iopub.status.busy": "2023-10-04T22:11:27.702386Z",
     "iopub.status.idle": "2023-10-04T22:11:27.710383Z",
     "shell.execute_reply": "2023-10-04T22:11:27.709609Z"
    },
    "papermill": {
     "duration": 0.045123,
     "end_time": "2023-10-04T22:11:27.712271",
     "exception": false,
     "start_time": "2023-10-04T22:11:27.667148",
     "status": "completed"
    },
    "tags": []
   },
   "outputs": [
    {
     "data": {
      "text/plain": [
       "Index(['tenure', 'monthlycharges', 'totalcharges'], dtype='object')"
      ]
     },
     "execution_count": 41,
     "metadata": {},
     "output_type": "execute_result"
    }
   ],
   "source": [
    "df_full_train[numerical].columns"
   ]
  },
  {
   "cell_type": "code",
   "execution_count": 42,
   "id": "03b21cd2",
   "metadata": {
    "execution": {
     "iopub.execute_input": "2023-10-04T22:11:27.780679Z",
     "iopub.status.busy": "2023-10-04T22:11:27.780228Z",
     "iopub.status.idle": "2023-10-04T22:11:27.796024Z",
     "shell.execute_reply": "2023-10-04T22:11:27.794909Z"
    },
    "papermill": {
     "duration": 0.052894,
     "end_time": "2023-10-04T22:11:27.798297",
     "exception": false,
     "start_time": "2023-10-04T22:11:27.745403",
     "status": "completed"
    },
    "tags": []
   },
   "outputs": [
    {
     "data": {
      "text/plain": [
       "tenure           -0.351885\n",
       "monthlycharges    0.196805\n",
       "totalcharges     -0.196353\n",
       "dtype: float64"
      ]
     },
     "execution_count": 42,
     "metadata": {},
     "output_type": "execute_result"
    }
   ],
   "source": [
    "df_full_train[numerical].corrwith(df_full_train.churn)"
   ]
  },
  {
   "cell_type": "code",
   "execution_count": 43,
   "id": "c64cb51b",
   "metadata": {
    "execution": {
     "iopub.execute_input": "2023-10-04T22:11:27.866882Z",
     "iopub.status.busy": "2023-10-04T22:11:27.866325Z",
     "iopub.status.idle": "2023-10-04T22:11:27.876373Z",
     "shell.execute_reply": "2023-10-04T22:11:27.875328Z"
    },
    "papermill": {
     "duration": 0.046824,
     "end_time": "2023-10-04T22:11:27.878398",
     "exception": false,
     "start_time": "2023-10-04T22:11:27.831574",
     "status": "completed"
    },
    "tags": []
   },
   "outputs": [
    {
     "data": {
      "text/plain": [
       "0.5953420669577875"
      ]
     },
     "execution_count": 43,
     "metadata": {},
     "output_type": "execute_result"
    }
   ],
   "source": [
    "# check churn for tenure\n",
    "df_full_train[df_full_train.tenure <= 2].churn.mean()"
   ]
  },
  {
   "cell_type": "code",
   "execution_count": 44,
   "id": "7da8b60a",
   "metadata": {
    "execution": {
     "iopub.execute_input": "2023-10-04T22:11:27.948582Z",
     "iopub.status.busy": "2023-10-04T22:11:27.947715Z",
     "iopub.status.idle": "2023-10-04T22:11:27.958129Z",
     "shell.execute_reply": "2023-10-04T22:11:27.957029Z"
    },
    "papermill": {
     "duration": 0.048539,
     "end_time": "2023-10-04T22:11:27.960144",
     "exception": false,
     "start_time": "2023-10-04T22:11:27.911605",
     "status": "completed"
    },
    "tags": []
   },
   "outputs": [
    {
     "data": {
      "text/plain": [
       "0.3994413407821229"
      ]
     },
     "execution_count": 44,
     "metadata": {},
     "output_type": "execute_result"
    }
   ],
   "source": [
    "df_full_train[(df_full_train.tenure > 2) & (df_full_train.tenure  <= 12)].churn.mean()"
   ]
  },
  {
   "cell_type": "code",
   "execution_count": 45,
   "id": "d352726d",
   "metadata": {
    "execution": {
     "iopub.execute_input": "2023-10-04T22:11:28.033657Z",
     "iopub.status.busy": "2023-10-04T22:11:28.032931Z",
     "iopub.status.idle": "2023-10-04T22:11:28.045506Z",
     "shell.execute_reply": "2023-10-04T22:11:28.044299Z"
    },
    "papermill": {
     "duration": 0.050542,
     "end_time": "2023-10-04T22:11:28.047626",
     "exception": false,
     "start_time": "2023-10-04T22:11:27.997084",
     "status": "completed"
    },
    "tags": []
   },
   "outputs": [
    {
     "data": {
      "text/plain": [
       "0.17634908339788277"
      ]
     },
     "execution_count": 45,
     "metadata": {},
     "output_type": "execute_result"
    }
   ],
   "source": [
    "df_full_train[df_full_train.tenure > 12].churn.mean()"
   ]
  },
  {
   "cell_type": "code",
   "execution_count": 46,
   "id": "41bd8e39",
   "metadata": {
    "execution": {
     "iopub.execute_input": "2023-10-04T22:11:28.117746Z",
     "iopub.status.busy": "2023-10-04T22:11:28.117025Z",
     "iopub.status.idle": "2023-10-04T22:11:28.126569Z",
     "shell.execute_reply": "2023-10-04T22:11:28.125335Z"
    },
    "papermill": {
     "duration": 0.047276,
     "end_time": "2023-10-04T22:11:28.128585",
     "exception": false,
     "start_time": "2023-10-04T22:11:28.081309",
     "status": "completed"
    },
    "tags": []
   },
   "outputs": [
    {
     "data": {
      "text/plain": [
       "0.08829568788501027"
      ]
     },
     "execution_count": 46,
     "metadata": {},
     "output_type": "execute_result"
    }
   ],
   "source": [
    "df_full_train[df_full_train.monthlycharges < 20].churn.mean()"
   ]
  },
  {
   "cell_type": "code",
   "execution_count": 47,
   "id": "e9d9f5c1",
   "metadata": {
    "execution": {
     "iopub.execute_input": "2023-10-04T22:11:28.201736Z",
     "iopub.status.busy": "2023-10-04T22:11:28.200914Z",
     "iopub.status.idle": "2023-10-04T22:11:28.212766Z",
     "shell.execute_reply": "2023-10-04T22:11:28.211962Z"
    },
    "papermill": {
     "duration": 0.050503,
     "end_time": "2023-10-04T22:11:28.214948",
     "exception": false,
     "start_time": "2023-10-04T22:11:28.164445",
     "status": "completed"
    },
    "tags": []
   },
   "outputs": [
    {
     "data": {
      "text/plain": [
       "0.28859323028761497"
      ]
     },
     "execution_count": 47,
     "metadata": {},
     "output_type": "execute_result"
    }
   ],
   "source": [
    "df_full_train[df_full_train.monthlycharges > 20].churn.mean()"
   ]
  },
  {
   "cell_type": "markdown",
   "id": "8b9c7a57",
   "metadata": {
    "papermill": {
     "duration": 0.033787,
     "end_time": "2023-10-04T22:11:28.283914",
     "exception": false,
     "start_time": "2023-10-04T22:11:28.250127",
     "status": "completed"
    },
    "tags": []
   },
   "source": [
    "One Hot Encoding"
   ]
  },
  {
   "cell_type": "code",
   "execution_count": 48,
   "id": "c1e4ff89",
   "metadata": {
    "execution": {
     "iopub.execute_input": "2023-10-04T22:11:28.353735Z",
     "iopub.status.busy": "2023-10-04T22:11:28.352877Z",
     "iopub.status.idle": "2023-10-04T22:11:28.372143Z",
     "shell.execute_reply": "2023-10-04T22:11:28.371040Z"
    },
    "papermill": {
     "duration": 0.056955,
     "end_time": "2023-10-04T22:11:28.374864",
     "exception": false,
     "start_time": "2023-10-04T22:11:28.317909",
     "status": "completed"
    },
    "tags": []
   },
   "outputs": [],
   "source": [
    "# Done with Scikit-learn instead of manually\n",
    "from sklearn.feature_extraction import DictVectorizer"
   ]
  },
  {
   "cell_type": "code",
   "execution_count": null,
   "id": "b6364e7d",
   "metadata": {
    "papermill": {
     "duration": 0.033218,
     "end_time": "2023-10-04T22:11:28.441773",
     "exception": false,
     "start_time": "2023-10-04T22:11:28.408555",
     "status": "completed"
    },
    "tags": []
   },
   "outputs": [],
   "source": []
  },
  {
   "cell_type": "code",
   "execution_count": 49,
   "id": "8818b51a",
   "metadata": {
    "execution": {
     "iopub.execute_input": "2023-10-04T22:11:28.511301Z",
     "iopub.status.busy": "2023-10-04T22:11:28.510854Z",
     "iopub.status.idle": "2023-10-04T22:11:28.521880Z",
     "shell.execute_reply": "2023-10-04T22:11:28.520614Z"
    },
    "papermill": {
     "duration": 0.048678,
     "end_time": "2023-10-04T22:11:28.524370",
     "exception": false,
     "start_time": "2023-10-04T22:11:28.475692",
     "status": "completed"
    },
    "tags": []
   },
   "outputs": [],
   "source": [
    "dicts = df_train[['gender', 'contract', 'tenure']].iloc[:20].to_dict(orient=\"records\")"
   ]
  },
  {
   "cell_type": "code",
   "execution_count": 50,
   "id": "e309b567",
   "metadata": {
    "execution": {
     "iopub.execute_input": "2023-10-04T22:11:28.594373Z",
     "iopub.status.busy": "2023-10-04T22:11:28.593425Z",
     "iopub.status.idle": "2023-10-04T22:11:28.787262Z",
     "shell.execute_reply": "2023-10-04T22:11:28.785989Z"
    },
    "papermill": {
     "duration": 0.231156,
     "end_time": "2023-10-04T22:11:28.790094",
     "exception": false,
     "start_time": "2023-10-04T22:11:28.558938",
     "status": "completed"
    },
    "tags": []
   },
   "outputs": [],
   "source": [
    "train_dicts = df_train[categorical + numerical].to_dict(orient=\"records\")"
   ]
  },
  {
   "cell_type": "code",
   "execution_count": 51,
   "id": "2736ade8",
   "metadata": {
    "execution": {
     "iopub.execute_input": "2023-10-04T22:11:28.860430Z",
     "iopub.status.busy": "2023-10-04T22:11:28.859981Z",
     "iopub.status.idle": "2023-10-04T22:11:28.865492Z",
     "shell.execute_reply": "2023-10-04T22:11:28.864338Z"
    },
    "papermill": {
     "duration": 0.043088,
     "end_time": "2023-10-04T22:11:28.868051",
     "exception": false,
     "start_time": "2023-10-04T22:11:28.824963",
     "status": "completed"
    },
    "tags": []
   },
   "outputs": [],
   "source": [
    "dv = DictVectorizer(sparse=False)"
   ]
  },
  {
   "cell_type": "code",
   "execution_count": 52,
   "id": "3db076c7",
   "metadata": {
    "execution": {
     "iopub.execute_input": "2023-10-04T22:11:28.938726Z",
     "iopub.status.busy": "2023-10-04T22:11:28.938268Z",
     "iopub.status.idle": "2023-10-04T22:11:28.951520Z",
     "shell.execute_reply": "2023-10-04T22:11:28.950214Z"
    },
    "papermill": {
     "duration": 0.05107,
     "end_time": "2023-10-04T22:11:28.953897",
     "exception": false,
     "start_time": "2023-10-04T22:11:28.902827",
     "status": "completed"
    },
    "tags": []
   },
   "outputs": [
    {
     "data": {
      "text/html": [
       "<style>#sk-container-id-1 {color: black;background-color: white;}#sk-container-id-1 pre{padding: 0;}#sk-container-id-1 div.sk-toggleable {background-color: white;}#sk-container-id-1 label.sk-toggleable__label {cursor: pointer;display: block;width: 100%;margin-bottom: 0;padding: 0.3em;box-sizing: border-box;text-align: center;}#sk-container-id-1 label.sk-toggleable__label-arrow:before {content: \"▸\";float: left;margin-right: 0.25em;color: #696969;}#sk-container-id-1 label.sk-toggleable__label-arrow:hover:before {color: black;}#sk-container-id-1 div.sk-estimator:hover label.sk-toggleable__label-arrow:before {color: black;}#sk-container-id-1 div.sk-toggleable__content {max-height: 0;max-width: 0;overflow: hidden;text-align: left;background-color: #f0f8ff;}#sk-container-id-1 div.sk-toggleable__content pre {margin: 0.2em;color: black;border-radius: 0.25em;background-color: #f0f8ff;}#sk-container-id-1 input.sk-toggleable__control:checked~div.sk-toggleable__content {max-height: 200px;max-width: 100%;overflow: auto;}#sk-container-id-1 input.sk-toggleable__control:checked~label.sk-toggleable__label-arrow:before {content: \"▾\";}#sk-container-id-1 div.sk-estimator input.sk-toggleable__control:checked~label.sk-toggleable__label {background-color: #d4ebff;}#sk-container-id-1 div.sk-label input.sk-toggleable__control:checked~label.sk-toggleable__label {background-color: #d4ebff;}#sk-container-id-1 input.sk-hidden--visually {border: 0;clip: rect(1px 1px 1px 1px);clip: rect(1px, 1px, 1px, 1px);height: 1px;margin: -1px;overflow: hidden;padding: 0;position: absolute;width: 1px;}#sk-container-id-1 div.sk-estimator {font-family: monospace;background-color: #f0f8ff;border: 1px dotted black;border-radius: 0.25em;box-sizing: border-box;margin-bottom: 0.5em;}#sk-container-id-1 div.sk-estimator:hover {background-color: #d4ebff;}#sk-container-id-1 div.sk-parallel-item::after {content: \"\";width: 100%;border-bottom: 1px solid gray;flex-grow: 1;}#sk-container-id-1 div.sk-label:hover label.sk-toggleable__label {background-color: #d4ebff;}#sk-container-id-1 div.sk-serial::before {content: \"\";position: absolute;border-left: 1px solid gray;box-sizing: border-box;top: 0;bottom: 0;left: 50%;z-index: 0;}#sk-container-id-1 div.sk-serial {display: flex;flex-direction: column;align-items: center;background-color: white;padding-right: 0.2em;padding-left: 0.2em;position: relative;}#sk-container-id-1 div.sk-item {position: relative;z-index: 1;}#sk-container-id-1 div.sk-parallel {display: flex;align-items: stretch;justify-content: center;background-color: white;position: relative;}#sk-container-id-1 div.sk-item::before, #sk-container-id-1 div.sk-parallel-item::before {content: \"\";position: absolute;border-left: 1px solid gray;box-sizing: border-box;top: 0;bottom: 0;left: 50%;z-index: -1;}#sk-container-id-1 div.sk-parallel-item {display: flex;flex-direction: column;z-index: 1;position: relative;background-color: white;}#sk-container-id-1 div.sk-parallel-item:first-child::after {align-self: flex-end;width: 50%;}#sk-container-id-1 div.sk-parallel-item:last-child::after {align-self: flex-start;width: 50%;}#sk-container-id-1 div.sk-parallel-item:only-child::after {width: 0;}#sk-container-id-1 div.sk-dashed-wrapped {border: 1px dashed gray;margin: 0 0.4em 0.5em 0.4em;box-sizing: border-box;padding-bottom: 0.4em;background-color: white;}#sk-container-id-1 div.sk-label label {font-family: monospace;font-weight: bold;display: inline-block;line-height: 1.2em;}#sk-container-id-1 div.sk-label-container {text-align: center;}#sk-container-id-1 div.sk-container {/* jupyter's `normalize.less` sets `[hidden] { display: none; }` but bootstrap.min.css set `[hidden] { display: none !important; }` so we also need the `!important` here to be able to override the default hidden behavior on the sphinx rendered scikit-learn.org. See: https://github.com/scikit-learn/scikit-learn/issues/21755 */display: inline-block !important;position: relative;}#sk-container-id-1 div.sk-text-repr-fallback {display: none;}</style><div id=\"sk-container-id-1\" class=\"sk-top-container\"><div class=\"sk-text-repr-fallback\"><pre>DictVectorizer(sparse=False)</pre><b>In a Jupyter environment, please rerun this cell to show the HTML representation or trust the notebook. <br />On GitHub, the HTML representation is unable to render, please try loading this page with nbviewer.org.</b></div><div class=\"sk-container\" hidden><div class=\"sk-item\"><div class=\"sk-estimator sk-toggleable\"><input class=\"sk-toggleable__control sk-hidden--visually\" id=\"sk-estimator-id-1\" type=\"checkbox\" checked><label for=\"sk-estimator-id-1\" class=\"sk-toggleable__label sk-toggleable__label-arrow\">DictVectorizer</label><div class=\"sk-toggleable__content\"><pre>DictVectorizer(sparse=False)</pre></div></div></div></div></div>"
      ],
      "text/plain": [
       "DictVectorizer(sparse=False)"
      ]
     },
     "execution_count": 52,
     "metadata": {},
     "output_type": "execute_result"
    }
   ],
   "source": [
    "dv.fit(dicts)"
   ]
  },
  {
   "cell_type": "code",
   "execution_count": 53,
   "id": "c9ab9800",
   "metadata": {
    "execution": {
     "iopub.execute_input": "2023-10-04T22:11:29.029635Z",
     "iopub.status.busy": "2023-10-04T22:11:29.028882Z",
     "iopub.status.idle": "2023-10-04T22:11:29.039462Z",
     "shell.execute_reply": "2023-10-04T22:11:29.038172Z"
    },
    "papermill": {
     "duration": 0.050308,
     "end_time": "2023-10-04T22:11:29.042411",
     "exception": false,
     "start_time": "2023-10-04T22:11:28.992103",
     "status": "completed"
    },
    "tags": []
   },
   "outputs": [
    {
     "data": {
      "text/plain": [
       "array([[ 0.,  0.,  1.,  1.,  0., 72.],\n",
       "       [ 1.,  0.,  0.,  0.,  1., 10.],\n",
       "       [ 1.,  0.,  0.,  1.,  0.,  5.],\n",
       "       [ 1.,  0.,  0.,  1.,  0.,  5.],\n",
       "       [ 0.,  0.,  1.,  1.,  0., 18.],\n",
       "       [ 1.,  0.,  0.,  0.,  1.,  4.],\n",
       "       [ 1.,  0.,  0.,  0.,  1.,  1.],\n",
       "       [ 1.,  0.,  0.,  1.,  0.,  1.],\n",
       "       [ 0.,  0.,  1.,  1.,  0., 72.],\n",
       "       [ 1.,  0.,  0.,  1.,  0.,  6.],\n",
       "       [ 0.,  0.,  1.,  1.,  0., 72.],\n",
       "       [ 1.,  0.,  0.,  0.,  1., 17.],\n",
       "       [ 0.,  0.,  1.,  1.,  0., 66.],\n",
       "       [ 1.,  0.,  0.,  1.,  0.,  2.],\n",
       "       [ 1.,  0.,  0.,  1.,  0.,  4.],\n",
       "       [ 1.,  0.,  0.,  0.,  1.,  3.],\n",
       "       [ 0.,  0.,  1.,  1.,  0., 71.],\n",
       "       [ 1.,  0.,  0.,  1.,  0., 32.],\n",
       "       [ 0.,  1.,  0.,  0.,  1., 53.],\n",
       "       [ 0.,  0.,  1.,  0.,  1., 56.]])"
      ]
     },
     "execution_count": 53,
     "metadata": {},
     "output_type": "execute_result"
    }
   ],
   "source": [
    "dv.transform(dicts)"
   ]
  },
  {
   "cell_type": "code",
   "execution_count": 54,
   "id": "68f94516",
   "metadata": {
    "execution": {
     "iopub.execute_input": "2023-10-04T22:11:29.114299Z",
     "iopub.status.busy": "2023-10-04T22:11:29.113727Z",
     "iopub.status.idle": "2023-10-04T22:11:29.122056Z",
     "shell.execute_reply": "2023-10-04T22:11:29.120686Z"
    },
    "papermill": {
     "duration": 0.046874,
     "end_time": "2023-10-04T22:11:29.124387",
     "exception": false,
     "start_time": "2023-10-04T22:11:29.077513",
     "status": "completed"
    },
    "tags": []
   },
   "outputs": [
    {
     "data": {
      "text/plain": [
       "array(['contract=month-to-month', 'contract=one_year',\n",
       "       'contract=two_year', 'gender=female', 'gender=male', 'tenure'],\n",
       "      dtype=object)"
      ]
     },
     "execution_count": 54,
     "metadata": {},
     "output_type": "execute_result"
    }
   ],
   "source": [
    "dv.get_feature_names_out()"
   ]
  },
  {
   "cell_type": "code",
   "execution_count": 55,
   "id": "a889c6ad",
   "metadata": {
    "execution": {
     "iopub.execute_input": "2023-10-04T22:11:29.199615Z",
     "iopub.status.busy": "2023-10-04T22:11:29.198795Z",
     "iopub.status.idle": "2023-10-04T22:11:29.261440Z",
     "shell.execute_reply": "2023-10-04T22:11:29.260122Z"
    },
    "papermill": {
     "duration": 0.102448,
     "end_time": "2023-10-04T22:11:29.264227",
     "exception": false,
     "start_time": "2023-10-04T22:11:29.161779",
     "status": "completed"
    },
    "tags": []
   },
   "outputs": [
    {
     "data": {
      "text/html": [
       "<style>#sk-container-id-2 {color: black;background-color: white;}#sk-container-id-2 pre{padding: 0;}#sk-container-id-2 div.sk-toggleable {background-color: white;}#sk-container-id-2 label.sk-toggleable__label {cursor: pointer;display: block;width: 100%;margin-bottom: 0;padding: 0.3em;box-sizing: border-box;text-align: center;}#sk-container-id-2 label.sk-toggleable__label-arrow:before {content: \"▸\";float: left;margin-right: 0.25em;color: #696969;}#sk-container-id-2 label.sk-toggleable__label-arrow:hover:before {color: black;}#sk-container-id-2 div.sk-estimator:hover label.sk-toggleable__label-arrow:before {color: black;}#sk-container-id-2 div.sk-toggleable__content {max-height: 0;max-width: 0;overflow: hidden;text-align: left;background-color: #f0f8ff;}#sk-container-id-2 div.sk-toggleable__content pre {margin: 0.2em;color: black;border-radius: 0.25em;background-color: #f0f8ff;}#sk-container-id-2 input.sk-toggleable__control:checked~div.sk-toggleable__content {max-height: 200px;max-width: 100%;overflow: auto;}#sk-container-id-2 input.sk-toggleable__control:checked~label.sk-toggleable__label-arrow:before {content: \"▾\";}#sk-container-id-2 div.sk-estimator input.sk-toggleable__control:checked~label.sk-toggleable__label {background-color: #d4ebff;}#sk-container-id-2 div.sk-label input.sk-toggleable__control:checked~label.sk-toggleable__label {background-color: #d4ebff;}#sk-container-id-2 input.sk-hidden--visually {border: 0;clip: rect(1px 1px 1px 1px);clip: rect(1px, 1px, 1px, 1px);height: 1px;margin: -1px;overflow: hidden;padding: 0;position: absolute;width: 1px;}#sk-container-id-2 div.sk-estimator {font-family: monospace;background-color: #f0f8ff;border: 1px dotted black;border-radius: 0.25em;box-sizing: border-box;margin-bottom: 0.5em;}#sk-container-id-2 div.sk-estimator:hover {background-color: #d4ebff;}#sk-container-id-2 div.sk-parallel-item::after {content: \"\";width: 100%;border-bottom: 1px solid gray;flex-grow: 1;}#sk-container-id-2 div.sk-label:hover label.sk-toggleable__label {background-color: #d4ebff;}#sk-container-id-2 div.sk-serial::before {content: \"\";position: absolute;border-left: 1px solid gray;box-sizing: border-box;top: 0;bottom: 0;left: 50%;z-index: 0;}#sk-container-id-2 div.sk-serial {display: flex;flex-direction: column;align-items: center;background-color: white;padding-right: 0.2em;padding-left: 0.2em;position: relative;}#sk-container-id-2 div.sk-item {position: relative;z-index: 1;}#sk-container-id-2 div.sk-parallel {display: flex;align-items: stretch;justify-content: center;background-color: white;position: relative;}#sk-container-id-2 div.sk-item::before, #sk-container-id-2 div.sk-parallel-item::before {content: \"\";position: absolute;border-left: 1px solid gray;box-sizing: border-box;top: 0;bottom: 0;left: 50%;z-index: -1;}#sk-container-id-2 div.sk-parallel-item {display: flex;flex-direction: column;z-index: 1;position: relative;background-color: white;}#sk-container-id-2 div.sk-parallel-item:first-child::after {align-self: flex-end;width: 50%;}#sk-container-id-2 div.sk-parallel-item:last-child::after {align-self: flex-start;width: 50%;}#sk-container-id-2 div.sk-parallel-item:only-child::after {width: 0;}#sk-container-id-2 div.sk-dashed-wrapped {border: 1px dashed gray;margin: 0 0.4em 0.5em 0.4em;box-sizing: border-box;padding-bottom: 0.4em;background-color: white;}#sk-container-id-2 div.sk-label label {font-family: monospace;font-weight: bold;display: inline-block;line-height: 1.2em;}#sk-container-id-2 div.sk-label-container {text-align: center;}#sk-container-id-2 div.sk-container {/* jupyter's `normalize.less` sets `[hidden] { display: none; }` but bootstrap.min.css set `[hidden] { display: none !important; }` so we also need the `!important` here to be able to override the default hidden behavior on the sphinx rendered scikit-learn.org. See: https://github.com/scikit-learn/scikit-learn/issues/21755 */display: inline-block !important;position: relative;}#sk-container-id-2 div.sk-text-repr-fallback {display: none;}</style><div id=\"sk-container-id-2\" class=\"sk-top-container\"><div class=\"sk-text-repr-fallback\"><pre>DictVectorizer(sparse=False)</pre><b>In a Jupyter environment, please rerun this cell to show the HTML representation or trust the notebook. <br />On GitHub, the HTML representation is unable to render, please try loading this page with nbviewer.org.</b></div><div class=\"sk-container\" hidden><div class=\"sk-item\"><div class=\"sk-estimator sk-toggleable\"><input class=\"sk-toggleable__control sk-hidden--visually\" id=\"sk-estimator-id-2\" type=\"checkbox\" checked><label for=\"sk-estimator-id-2\" class=\"sk-toggleable__label sk-toggleable__label-arrow\">DictVectorizer</label><div class=\"sk-toggleable__content\"><pre>DictVectorizer(sparse=False)</pre></div></div></div></div></div>"
      ],
      "text/plain": [
       "DictVectorizer(sparse=False)"
      ]
     },
     "execution_count": 55,
     "metadata": {},
     "output_type": "execute_result"
    }
   ],
   "source": [
    "dv.fit(train_dicts)"
   ]
  },
  {
   "cell_type": "code",
   "execution_count": 56,
   "id": "14603625",
   "metadata": {
    "execution": {
     "iopub.execute_input": "2023-10-04T22:11:29.336700Z",
     "iopub.status.busy": "2023-10-04T22:11:29.336288Z",
     "iopub.status.idle": "2023-10-04T22:11:29.343778Z",
     "shell.execute_reply": "2023-10-04T22:11:29.342566Z"
    },
    "papermill": {
     "duration": 0.046762,
     "end_time": "2023-10-04T22:11:29.345989",
     "exception": false,
     "start_time": "2023-10-04T22:11:29.299227",
     "status": "completed"
    },
    "tags": []
   },
   "outputs": [
    {
     "data": {
      "text/plain": [
       "array(['contract=month-to-month', 'contract=one_year',\n",
       "       'contract=two_year', 'dependents=no', 'dependents=yes',\n",
       "       'deviceprotection=no', 'deviceprotection=no_internet_service',\n",
       "       'deviceprotection=yes', 'gender=female', 'gender=male',\n",
       "       'internetservice=dsl', 'internetservice=fiber_optic',\n",
       "       'internetservice=no', 'monthlycharges', 'multiplelines=no',\n",
       "       'multiplelines=no_phone_service', 'multiplelines=yes',\n",
       "       'onlinebackup=no', 'onlinebackup=no_internet_service',\n",
       "       'onlinebackup=yes', 'onlinesecurity=no',\n",
       "       'onlinesecurity=no_internet_service', 'onlinesecurity=yes',\n",
       "       'paperlessbilling=no', 'paperlessbilling=yes', 'partner=no',\n",
       "       'partner=yes', 'paymentmethod=bank_transfer_(automatic)',\n",
       "       'paymentmethod=credit_card_(automatic)',\n",
       "       'paymentmethod=electronic_check', 'paymentmethod=mailed_check',\n",
       "       'phoneservice=no', 'phoneservice=yes', 'seniorcitizen',\n",
       "       'streamingmovies=no', 'streamingmovies=no_internet_service',\n",
       "       'streamingmovies=yes', 'streamingtv=no',\n",
       "       'streamingtv=no_internet_service', 'streamingtv=yes',\n",
       "       'techsupport=no', 'techsupport=no_internet_service',\n",
       "       'techsupport=yes', 'tenure', 'totalcharges'], dtype=object)"
      ]
     },
     "execution_count": 56,
     "metadata": {},
     "output_type": "execute_result"
    }
   ],
   "source": [
    "dv.get_feature_names_out()"
   ]
  },
  {
   "cell_type": "code",
   "execution_count": 57,
   "id": "1d0f389b",
   "metadata": {
    "execution": {
     "iopub.execute_input": "2023-10-04T22:11:29.419769Z",
     "iopub.status.busy": "2023-10-04T22:11:29.418943Z",
     "iopub.status.idle": "2023-10-04T22:11:29.530755Z",
     "shell.execute_reply": "2023-10-04T22:11:29.529509Z"
    },
    "papermill": {
     "duration": 0.152793,
     "end_time": "2023-10-04T22:11:29.533686",
     "exception": false,
     "start_time": "2023-10-04T22:11:29.380893",
     "status": "completed"
    },
    "tags": []
   },
   "outputs": [
    {
     "data": {
      "text/plain": [
       "(4225, 45)"
      ]
     },
     "execution_count": 57,
     "metadata": {},
     "output_type": "execute_result"
    }
   ],
   "source": [
    "X_train =  dv.fit_transform(train_dicts)\n",
    "X_train.shape"
   ]
  },
  {
   "cell_type": "code",
   "execution_count": 58,
   "id": "7083214d",
   "metadata": {
    "execution": {
     "iopub.execute_input": "2023-10-04T22:11:29.606623Z",
     "iopub.status.busy": "2023-10-04T22:11:29.606131Z",
     "iopub.status.idle": "2023-10-04T22:11:29.641752Z",
     "shell.execute_reply": "2023-10-04T22:11:29.640317Z"
    },
    "papermill": {
     "duration": 0.075373,
     "end_time": "2023-10-04T22:11:29.644744",
     "exception": false,
     "start_time": "2023-10-04T22:11:29.569371",
     "status": "completed"
    },
    "tags": []
   },
   "outputs": [],
   "source": [
    "val_dicts = df_val[categorical + numerical].to_dict(orient=\"records\")"
   ]
  },
  {
   "cell_type": "code",
   "execution_count": 59,
   "id": "f1c8f6e8",
   "metadata": {
    "execution": {
     "iopub.execute_input": "2023-10-04T22:11:29.717447Z",
     "iopub.status.busy": "2023-10-04T22:11:29.716598Z",
     "iopub.status.idle": "2023-10-04T22:11:29.756477Z",
     "shell.execute_reply": "2023-10-04T22:11:29.755280Z"
    },
    "papermill": {
     "duration": 0.079295,
     "end_time": "2023-10-04T22:11:29.758787",
     "exception": false,
     "start_time": "2023-10-04T22:11:29.679492",
     "status": "completed"
    },
    "tags": []
   },
   "outputs": [
    {
     "data": {
      "text/plain": [
       "(1409, 45)"
      ]
     },
     "execution_count": 59,
     "metadata": {},
     "output_type": "execute_result"
    }
   ],
   "source": [
    "X_val = dv.transform(val_dicts)\n",
    "X_val.shape"
   ]
  },
  {
   "cell_type": "markdown",
   "id": "20b2354e",
   "metadata": {
    "papermill": {
     "duration": 0.035101,
     "end_time": "2023-10-04T22:11:29.828805",
     "exception": false,
     "start_time": "2023-10-04T22:11:29.793704",
     "status": "completed"
    },
    "tags": []
   },
   "source": [
    "Logistic Regression vs Linear Regression"
   ]
  },
  {
   "cell_type": "code",
   "execution_count": 60,
   "id": "4c6d87ed",
   "metadata": {
    "execution": {
     "iopub.execute_input": "2023-10-04T22:11:29.901020Z",
     "iopub.status.busy": "2023-10-04T22:11:29.900536Z",
     "iopub.status.idle": "2023-10-04T22:11:29.905721Z",
     "shell.execute_reply": "2023-10-04T22:11:29.904857Z"
    },
    "papermill": {
     "duration": 0.043791,
     "end_time": "2023-10-04T22:11:29.907865",
     "exception": false,
     "start_time": "2023-10-04T22:11:29.864074",
     "status": "completed"
    },
    "tags": []
   },
   "outputs": [],
   "source": [
    "# sigmoid function\n",
    "def sigmoid(z):\n",
    "    return 1 / (1+ np.exp(-z))"
   ]
  },
  {
   "cell_type": "code",
   "execution_count": 61,
   "id": "22e0bf91",
   "metadata": {
    "execution": {
     "iopub.execute_input": "2023-10-04T22:11:29.986255Z",
     "iopub.status.busy": "2023-10-04T22:11:29.985132Z",
     "iopub.status.idle": "2023-10-04T22:11:29.991422Z",
     "shell.execute_reply": "2023-10-04T22:11:29.990279Z"
    },
    "papermill": {
     "duration": 0.048872,
     "end_time": "2023-10-04T22:11:29.993537",
     "exception": false,
     "start_time": "2023-10-04T22:11:29.944665",
     "status": "completed"
    },
    "tags": []
   },
   "outputs": [],
   "source": [
    "z = np.linspace( -5, 5, 51)"
   ]
  },
  {
   "cell_type": "code",
   "execution_count": 62,
   "id": "58fb447d",
   "metadata": {
    "execution": {
     "iopub.execute_input": "2023-10-04T22:11:30.067399Z",
     "iopub.status.busy": "2023-10-04T22:11:30.065802Z",
     "iopub.status.idle": "2023-10-04T22:11:30.073031Z",
     "shell.execute_reply": "2023-10-04T22:11:30.072284Z"
    },
    "papermill": {
     "duration": 0.046006,
     "end_time": "2023-10-04T22:11:30.075061",
     "exception": false,
     "start_time": "2023-10-04T22:11:30.029055",
     "status": "completed"
    },
    "tags": []
   },
   "outputs": [
    {
     "data": {
      "text/plain": [
       "array([0.00669285, 0.00816257, 0.0099518 , 0.01212843, 0.01477403,\n",
       "       0.01798621, 0.02188127, 0.02659699, 0.03229546, 0.03916572,\n",
       "       0.04742587, 0.05732418, 0.06913842, 0.0831727 , 0.09975049,\n",
       "       0.11920292, 0.14185106, 0.16798161, 0.19781611, 0.23147522,\n",
       "       0.26894142, 0.31002552, 0.35434369, 0.40131234, 0.450166  ,\n",
       "       0.5       , 0.549834  , 0.59868766, 0.64565631, 0.68997448,\n",
       "       0.73105858, 0.76852478, 0.80218389, 0.83201839, 0.85814894,\n",
       "       0.88079708, 0.90024951, 0.9168273 , 0.93086158, 0.94267582,\n",
       "       0.95257413, 0.96083428, 0.96770454, 0.97340301, 0.97811873,\n",
       "       0.98201379, 0.98522597, 0.98787157, 0.9900482 , 0.99183743,\n",
       "       0.99330715])"
      ]
     },
     "execution_count": 62,
     "metadata": {},
     "output_type": "execute_result"
    }
   ],
   "source": [
    "sigmoid(z)"
   ]
  },
  {
   "cell_type": "code",
   "execution_count": 63,
   "id": "9c34e1b4",
   "metadata": {
    "execution": {
     "iopub.execute_input": "2023-10-04T22:11:30.150087Z",
     "iopub.status.busy": "2023-10-04T22:11:30.149001Z",
     "iopub.status.idle": "2023-10-04T22:11:30.411876Z",
     "shell.execute_reply": "2023-10-04T22:11:30.410629Z"
    },
    "papermill": {
     "duration": 0.30388,
     "end_time": "2023-10-04T22:11:30.414176",
     "exception": false,
     "start_time": "2023-10-04T22:11:30.110296",
     "status": "completed"
    },
    "tags": []
   },
   "outputs": [
    {
     "data": {
      "text/plain": [
       "[<matplotlib.lines.Line2D at 0x7ebee9d0d3f0>]"
      ]
     },
     "execution_count": 63,
     "metadata": {},
     "output_type": "execute_result"
    },
    {
     "data": {
      "image/png": "[encoded data removed]",
      "text/plain": [
       "<Figure size 640x480 with 1 Axes>"
      ]
     },
     "metadata": {},
     "output_type": "display_data"
    }
   ],
   "source": [
    "plt.plot(z, sigmoid(z))"
   ]
  },
  {
   "cell_type": "code",
   "execution_count": 64,
   "id": "6a63463b",
   "metadata": {
    "execution": {
     "iopub.execute_input": "2023-10-04T22:11:30.488995Z",
     "iopub.status.busy": "2023-10-04T22:11:30.487746Z",
     "iopub.status.idle": "2023-10-04T22:11:30.492906Z",
     "shell.execute_reply": "2023-10-04T22:11:30.492159Z"
    },
    "papermill": {
     "duration": 0.045062,
     "end_time": "2023-10-04T22:11:30.494959",
     "exception": false,
     "start_time": "2023-10-04T22:11:30.449897",
     "status": "completed"
    },
    "tags": []
   },
   "outputs": [],
   "source": [
    "def linear_regression(xi):\n",
    "    result = w0\n",
    "    \n",
    "    for j in range(len(w)):\n",
    "        result = result + xi[j] * w[j]\n",
    "        \n",
    "    return result"
   ]
  },
  {
   "cell_type": "code",
   "execution_count": 65,
   "id": "aa5a83b7",
   "metadata": {
    "execution": {
     "iopub.execute_input": "2023-10-04T22:11:30.569773Z",
     "iopub.status.busy": "2023-10-04T22:11:30.568606Z",
     "iopub.status.idle": "2023-10-04T22:11:30.574357Z",
     "shell.execute_reply": "2023-10-04T22:11:30.573509Z"
    },
    "papermill": {
     "duration": 0.045761,
     "end_time": "2023-10-04T22:11:30.576679",
     "exception": false,
     "start_time": "2023-10-04T22:11:30.530918",
     "status": "completed"
    },
    "tags": []
   },
   "outputs": [],
   "source": [
    "def logistic_regression(xi):\n",
    "    score = w0\n",
    "    \n",
    "    for j in range(len(w)):\n",
    "        score = score + xi[j] * w[j]\n",
    "#         both use Dot product, so they are considered Linear Models. Fast to train.\n",
    "        \n",
    "    result = sigmoid(score)\n",
    "    return result"
   ]
  },
  {
   "cell_type": "markdown",
   "id": "425c130d",
   "metadata": {
    "papermill": {
     "duration": 0.036783,
     "end_time": "2023-10-04T22:11:30.650691",
     "exception": false,
     "start_time": "2023-10-04T22:11:30.613908",
     "status": "completed"
    },
    "tags": []
   },
   "source": [
    "Training Logistic Regression"
   ]
  },
  {
   "cell_type": "code",
   "execution_count": 66,
   "id": "5eb955df",
   "metadata": {
    "execution": {
     "iopub.execute_input": "2023-10-04T22:11:30.817577Z",
     "iopub.status.busy": "2023-10-04T22:11:30.817160Z",
     "iopub.status.idle": "2023-10-04T22:11:30.930033Z",
     "shell.execute_reply": "2023-10-04T22:11:30.928756Z"
    },
    "papermill": {
     "duration": 0.246422,
     "end_time": "2023-10-04T22:11:30.932798",
     "exception": false,
     "start_time": "2023-10-04T22:11:30.686376",
     "status": "completed"
    },
    "tags": []
   },
   "outputs": [],
   "source": [
    "from sklearn.linear_model import LogisticRegression"
   ]
  },
  {
   "cell_type": "code",
   "execution_count": 67,
   "id": "f1bfc069",
   "metadata": {
    "execution": {
     "iopub.execute_input": "2023-10-04T22:11:31.019491Z",
     "iopub.status.busy": "2023-10-04T22:11:31.018978Z",
     "iopub.status.idle": "2023-10-04T22:11:31.145400Z",
     "shell.execute_reply": "2023-10-04T22:11:31.143780Z"
    },
    "papermill": {
     "duration": 0.178316,
     "end_time": "2023-10-04T22:11:31.149542",
     "exception": false,
     "start_time": "2023-10-04T22:11:30.971226",
     "status": "completed"
    },
    "tags": []
   },
   "outputs": [
    {
     "data": {
      "text/html": [
       "<style>#sk-container-id-3 {color: black;background-color: white;}#sk-container-id-3 pre{padding: 0;}#sk-container-id-3 div.sk-toggleable {background-color: white;}#sk-container-id-3 label.sk-toggleable__label {cursor: pointer;display: block;width: 100%;margin-bottom: 0;padding: 0.3em;box-sizing: border-box;text-align: center;}#sk-container-id-3 label.sk-toggleable__label-arrow:before {content: \"▸\";float: left;margin-right: 0.25em;color: #696969;}#sk-container-id-3 label.sk-toggleable__label-arrow:hover:before {color: black;}#sk-container-id-3 div.sk-estimator:hover label.sk-toggleable__label-arrow:before {color: black;}#sk-container-id-3 div.sk-toggleable__content {max-height: 0;max-width: 0;overflow: hidden;text-align: left;background-color: #f0f8ff;}#sk-container-id-3 div.sk-toggleable__content pre {margin: 0.2em;color: black;border-radius: 0.25em;background-color: #f0f8ff;}#sk-container-id-3 input.sk-toggleable__control:checked~div.sk-toggleable__content {max-height: 200px;max-width: 100%;overflow: auto;}#sk-container-id-3 input.sk-toggleable__control:checked~label.sk-toggleable__label-arrow:before {content: \"▾\";}#sk-container-id-3 div.sk-estimator input.sk-toggleable__control:checked~label.sk-toggleable__label {background-color: #d4ebff;}#sk-container-id-3 div.sk-label input.sk-toggleable__control:checked~label.sk-toggleable__label {background-color: #d4ebff;}#sk-container-id-3 input.sk-hidden--visually {border: 0;clip: rect(1px 1px 1px 1px);clip: rect(1px, 1px, 1px, 1px);height: 1px;margin: -1px;overflow: hidden;padding: 0;position: absolute;width: 1px;}#sk-container-id-3 div.sk-estimator {font-family: monospace;background-color: #f0f8ff;border: 1px dotted black;border-radius: 0.25em;box-sizing: border-box;margin-bottom: 0.5em;}#sk-container-id-3 div.sk-estimator:hover {background-color: #d4ebff;}#sk-container-id-3 div.sk-parallel-item::after {content: \"\";width: 100%;border-bottom: 1px solid gray;flex-grow: 1;}#sk-container-id-3 div.sk-label:hover label.sk-toggleable__label {background-color: #d4ebff;}#sk-container-id-3 div.sk-serial::before {content: \"\";position: absolute;border-left: 1px solid gray;box-sizing: border-box;top: 0;bottom: 0;left: 50%;z-index: 0;}#sk-container-id-3 div.sk-serial {display: flex;flex-direction: column;align-items: center;background-color: white;padding-right: 0.2em;padding-left: 0.2em;position: relative;}#sk-container-id-3 div.sk-item {position: relative;z-index: 1;}#sk-container-id-3 div.sk-parallel {display: flex;align-items: stretch;justify-content: center;background-color: white;position: relative;}#sk-container-id-3 div.sk-item::before, #sk-container-id-3 div.sk-parallel-item::before {content: \"\";position: absolute;border-left: 1px solid gray;box-sizing: border-box;top: 0;bottom: 0;left: 50%;z-index: -1;}#sk-container-id-3 div.sk-parallel-item {display: flex;flex-direction: column;z-index: 1;position: relative;background-color: white;}#sk-container-id-3 div.sk-parallel-item:first-child::after {align-self: flex-end;width: 50%;}#sk-container-id-3 div.sk-parallel-item:last-child::after {align-self: flex-start;width: 50%;}#sk-container-id-3 div.sk-parallel-item:only-child::after {width: 0;}#sk-container-id-3 div.sk-dashed-wrapped {border: 1px dashed gray;margin: 0 0.4em 0.5em 0.4em;box-sizing: border-box;padding-bottom: 0.4em;background-color: white;}#sk-container-id-3 div.sk-label label {font-family: monospace;font-weight: bold;display: inline-block;line-height: 1.2em;}#sk-container-id-3 div.sk-label-container {text-align: center;}#sk-container-id-3 div.sk-container {/* jupyter's `normalize.less` sets `[hidden] { display: none; }` but bootstrap.min.css set `[hidden] { display: none !important; }` so we also need the `!important` here to be able to override the default hidden behavior on the sphinx rendered scikit-learn.org. See: https://github.com/scikit-learn/scikit-learn/issues/21755 */display: inline-block !important;position: relative;}#sk-container-id-3 div.sk-text-repr-fallback {display: none;}</style><div id=\"sk-container-id-3\" class=\"sk-top-container\"><div class=\"sk-text-repr-fallback\"><pre>LogisticRegression()</pre><b>In a Jupyter environment, please rerun this cell to show the HTML representation or trust the notebook. <br />On GitHub, the HTML representation is unable to render, please try loading this page with nbviewer.org.</b></div><div class=\"sk-container\" hidden><div class=\"sk-item\"><div class=\"sk-estimator sk-toggleable\"><input class=\"sk-toggleable__control sk-hidden--visually\" id=\"sk-estimator-id-3\" type=\"checkbox\" checked><label for=\"sk-estimator-id-3\" class=\"sk-toggleable__label sk-toggleable__label-arrow\">LogisticRegression</label><div class=\"sk-toggleable__content\"><pre>LogisticRegression()</pre></div></div></div></div></div>"
      ],
      "text/plain": [
       "LogisticRegression()"
      ]
     },
     "execution_count": 67,
     "metadata": {},
     "output_type": "execute_result"
    }
   ],
   "source": [
    "model = LogisticRegression()\n",
    "model.fit(X_train, y_train)"
   ]
  },
  {
   "cell_type": "code",
   "execution_count": 68,
   "id": "10b41488",
   "metadata": {
    "execution": {
     "iopub.execute_input": "2023-10-04T22:11:31.297365Z",
     "iopub.status.busy": "2023-10-04T22:11:31.296941Z",
     "iopub.status.idle": "2023-10-04T22:11:31.305096Z",
     "shell.execute_reply": "2023-10-04T22:11:31.303904Z"
    },
    "papermill": {
     "duration": 0.049495,
     "end_time": "2023-10-04T22:11:31.307157",
     "exception": false,
     "start_time": "2023-10-04T22:11:31.257662",
     "status": "completed"
    },
    "tags": []
   },
   "outputs": [
    {
     "data": {
      "text/plain": [
       "array([ 0.475, -0.175, -0.407, -0.03 , -0.078,  0.063, -0.089, -0.081,\n",
       "       -0.034, -0.073, -0.335,  0.316, -0.089,  0.004, -0.258,  0.141,\n",
       "        0.009,  0.063, -0.089, -0.081,  0.266, -0.089, -0.284, -0.231,\n",
       "        0.123, -0.166,  0.058, -0.087, -0.032,  0.07 , -0.059,  0.141,\n",
       "       -0.249,  0.215, -0.12 , -0.089,  0.102, -0.071, -0.089,  0.052,\n",
       "        0.213, -0.089, -0.232, -0.07 ,  0.   ])"
      ]
     },
     "execution_count": 68,
     "metadata": {},
     "output_type": "execute_result"
    }
   ],
   "source": [
    "# The weights\n",
    "model.coef_[0].round(3)"
   ]
  },
  {
   "cell_type": "code",
   "execution_count": 69,
   "id": "ebda80e2",
   "metadata": {
    "execution": {
     "iopub.execute_input": "2023-10-04T22:11:31.383349Z",
     "iopub.status.busy": "2023-10-04T22:11:31.382565Z",
     "iopub.status.idle": "2023-10-04T22:11:31.390259Z",
     "shell.execute_reply": "2023-10-04T22:11:31.388867Z"
    },
    "papermill": {
     "duration": 0.047777,
     "end_time": "2023-10-04T22:11:31.392357",
     "exception": false,
     "start_time": "2023-10-04T22:11:31.344580",
     "status": "completed"
    },
    "tags": []
   },
   "outputs": [
    {
     "data": {
      "text/plain": [
       "-0.10906983612861662"
      ]
     },
     "execution_count": 69,
     "metadata": {},
     "output_type": "execute_result"
    }
   ],
   "source": [
    "model.intercept_[0]"
   ]
  },
  {
   "cell_type": "code",
   "execution_count": 70,
   "id": "7cfbe966",
   "metadata": {
    "execution": {
     "iopub.execute_input": "2023-10-04T22:11:31.466632Z",
     "iopub.status.busy": "2023-10-04T22:11:31.466136Z",
     "iopub.status.idle": "2023-10-04T22:11:31.483063Z",
     "shell.execute_reply": "2023-10-04T22:11:31.481193Z"
    },
    "papermill": {
     "duration": 0.059453,
     "end_time": "2023-10-04T22:11:31.488227",
     "exception": false,
     "start_time": "2023-10-04T22:11:31.428774",
     "status": "completed"
    },
    "tags": []
   },
   "outputs": [
    {
     "data": {
      "text/plain": [
       "array([0, 1, 1, ..., 1, 0, 1])"
      ]
     },
     "execution_count": 70,
     "metadata": {},
     "output_type": "execute_result"
    }
   ],
   "source": [
    "model.predict(X_train)\n",
    "# This will pump out Hard Predictions - they are labeled. They are not the probabilities"
   ]
  },
  {
   "cell_type": "code",
   "execution_count": 71,
   "id": "d7e977fb",
   "metadata": {
    "execution": {
     "iopub.execute_input": "2023-10-04T22:11:31.632711Z",
     "iopub.status.busy": "2023-10-04T22:11:31.632264Z",
     "iopub.status.idle": "2023-10-04T22:11:31.647464Z",
     "shell.execute_reply": "2023-10-04T22:11:31.645896Z"
    },
    "papermill": {
     "duration": 0.056714,
     "end_time": "2023-10-04T22:11:31.651842",
     "exception": false,
     "start_time": "2023-10-04T22:11:31.595128",
     "status": "completed"
    },
    "tags": []
   },
   "outputs": [
    {
     "data": {
      "text/plain": [
       "array([[0.90443048, 0.09556952],\n",
       "       [0.32074291, 0.67925709],\n",
       "       [0.36639176, 0.63360824],\n",
       "       ...,\n",
       "       [0.4684025 , 0.5315975 ],\n",
       "       [0.95750228, 0.04249772],\n",
       "       [0.30138089, 0.69861911]])"
      ]
     },
     "execution_count": 71,
     "metadata": {},
     "output_type": "execute_result"
    }
   ],
   "source": [
    "model.predict_proba(X_train)\n",
    "# This are soft predictions - giving us the probabilities of churn\n",
    "# It gives us [probability of not chruning - 0, probability of churning - 1]"
   ]
  },
  {
   "cell_type": "code",
   "execution_count": 72,
   "id": "98e4d18e",
   "metadata": {
    "execution": {
     "iopub.execute_input": "2023-10-04T22:11:31.797300Z",
     "iopub.status.busy": "2023-10-04T22:11:31.796876Z",
     "iopub.status.idle": "2023-10-04T22:11:31.804453Z",
     "shell.execute_reply": "2023-10-04T22:11:31.802890Z"
    },
    "papermill": {
     "duration": 0.049147,
     "end_time": "2023-10-04T22:11:31.808418",
     "exception": false,
     "start_time": "2023-10-04T22:11:31.759271",
     "status": "completed"
    },
    "tags": []
   },
   "outputs": [],
   "source": [
    "y_pred = model.predict_proba(X_val)[:, 1]"
   ]
  },
  {
   "cell_type": "code",
   "execution_count": 73,
   "id": "ef910a8f",
   "metadata": {
    "execution": {
     "iopub.execute_input": "2023-10-04T22:11:31.957544Z",
     "iopub.status.busy": "2023-10-04T22:11:31.957085Z",
     "iopub.status.idle": "2023-10-04T22:11:31.964426Z",
     "shell.execute_reply": "2023-10-04T22:11:31.963320Z"
    },
    "papermill": {
     "duration": 0.050073,
     "end_time": "2023-10-04T22:11:31.966669",
     "exception": false,
     "start_time": "2023-10-04T22:11:31.916596",
     "status": "completed"
    },
    "tags": []
   },
   "outputs": [
    {
     "data": {
      "text/plain": [
       "array([False, False, False, ..., False,  True,  True])"
      ]
     },
     "execution_count": 73,
     "metadata": {},
     "output_type": "execute_result"
    }
   ],
   "source": [
    "churn_decision = (y_pred >= 0.5)\n",
    "churn_decision"
   ]
  },
  {
   "cell_type": "code",
   "execution_count": 74,
   "id": "6730fe85",
   "metadata": {
    "execution": {
     "iopub.execute_input": "2023-10-04T22:11:32.046712Z",
     "iopub.status.busy": "2023-10-04T22:11:32.045950Z",
     "iopub.status.idle": "2023-10-04T22:11:32.055450Z",
     "shell.execute_reply": "2023-10-04T22:11:32.054238Z"
    },
    "papermill": {
     "duration": 0.049949,
     "end_time": "2023-10-04T22:11:32.057643",
     "exception": false,
     "start_time": "2023-10-04T22:11:32.007694",
     "status": "completed"
    },
    "tags": []
   },
   "outputs": [
    {
     "data": {
      "text/plain": [
       "2504    8433-wxgna\n",
       "4597    3440-jpscl\n",
       "2343    2637-fkfsy\n",
       "5591    7228-omtpn\n",
       "4482    6711-fldfb\n",
       "           ...    \n",
       "2611    5976-jcjrh\n",
       "4211    2034-cgrhz\n",
       "3999    5276-kqwhg\n",
       "6240    6521-yytyi\n",
       "5282    3049-solay\n",
       "Name: customerid, Length: 311, dtype: object"
      ]
     },
     "execution_count": 74,
     "metadata": {},
     "output_type": "execute_result"
    }
   ],
   "source": [
    "df_val[churn_decision].customerid"
   ]
  },
  {
   "cell_type": "code",
   "execution_count": 75,
   "id": "97b64d1d",
   "metadata": {
    "execution": {
     "iopub.execute_input": "2023-10-04T22:11:32.133084Z",
     "iopub.status.busy": "2023-10-04T22:11:32.132614Z",
     "iopub.status.idle": "2023-10-04T22:11:32.140527Z",
     "shell.execute_reply": "2023-10-04T22:11:32.139287Z"
    },
    "papermill": {
     "duration": 0.048618,
     "end_time": "2023-10-04T22:11:32.142751",
     "exception": false,
     "start_time": "2023-10-04T22:11:32.094133",
     "status": "completed"
    },
    "tags": []
   },
   "outputs": [
    {
     "data": {
      "text/plain": [
       "array([0, 0, 0, ..., 0, 1, 1])"
      ]
     },
     "execution_count": 75,
     "metadata": {},
     "output_type": "execute_result"
    }
   ],
   "source": [
    "# testing accuracy\n",
    "y_val\n",
    "churn_decision.astype(int)"
   ]
  },
  {
   "cell_type": "code",
   "execution_count": 76,
   "id": "84bc9eea",
   "metadata": {
    "execution": {
     "iopub.execute_input": "2023-10-04T22:11:32.221836Z",
     "iopub.status.busy": "2023-10-04T22:11:32.221037Z",
     "iopub.status.idle": "2023-10-04T22:11:32.227310Z",
     "shell.execute_reply": "2023-10-04T22:11:32.226467Z"
    },
    "papermill": {
     "duration": 0.048362,
     "end_time": "2023-10-04T22:11:32.229536",
     "exception": false,
     "start_time": "2023-10-04T22:11:32.181174",
     "status": "completed"
    },
    "tags": []
   },
   "outputs": [
    {
     "data": {
      "text/plain": [
       "0.8034066713981547"
      ]
     },
     "execution_count": 76,
     "metadata": {},
     "output_type": "execute_result"
    }
   ],
   "source": [
    "(y_val == churn_decision).mean()"
   ]
  },
  {
   "cell_type": "code",
   "execution_count": 77,
   "id": "107441b0",
   "metadata": {
    "execution": {
     "iopub.execute_input": "2023-10-04T22:11:32.305195Z",
     "iopub.status.busy": "2023-10-04T22:11:32.304646Z",
     "iopub.status.idle": "2023-10-04T22:11:32.322104Z",
     "shell.execute_reply": "2023-10-04T22:11:32.320918Z"
    },
    "papermill": {
     "duration": 0.058182,
     "end_time": "2023-10-04T22:11:32.324185",
     "exception": false,
     "start_time": "2023-10-04T22:11:32.266003",
     "status": "completed"
    },
    "tags": []
   },
   "outputs": [
    {
     "data": {
      "text/html": [
       "<div>\n",
       "<style scoped>\n",
       "    .dataframe tbody tr th:only-of-type {\n",
       "        vertical-align: middle;\n",
       "    }\n",
       "\n",
       "    .dataframe tbody tr th {\n",
       "        vertical-align: top;\n",
       "    }\n",
       "\n",
       "    .dataframe thead th {\n",
       "        text-align: right;\n",
       "    }\n",
       "</style>\n",
       "<table border=\"1\" class=\"dataframe\">\n",
       "  <thead>\n",
       "    <tr style=\"text-align: right;\">\n",
       "      <th></th>\n",
       "      <th>probability</th>\n",
       "      <th>prediction</th>\n",
       "      <th>actual</th>\n",
       "    </tr>\n",
       "  </thead>\n",
       "  <tbody>\n",
       "    <tr>\n",
       "      <th>0</th>\n",
       "      <td>0.008998</td>\n",
       "      <td>0</td>\n",
       "      <td>0</td>\n",
       "    </tr>\n",
       "    <tr>\n",
       "      <th>1</th>\n",
       "      <td>0.204370</td>\n",
       "      <td>0</td>\n",
       "      <td>0</td>\n",
       "    </tr>\n",
       "    <tr>\n",
       "      <th>2</th>\n",
       "      <td>0.212051</td>\n",
       "      <td>0</td>\n",
       "      <td>0</td>\n",
       "    </tr>\n",
       "    <tr>\n",
       "      <th>3</th>\n",
       "      <td>0.543001</td>\n",
       "      <td>1</td>\n",
       "      <td>1</td>\n",
       "    </tr>\n",
       "    <tr>\n",
       "      <th>4</th>\n",
       "      <td>0.213627</td>\n",
       "      <td>0</td>\n",
       "      <td>0</td>\n",
       "    </tr>\n",
       "    <tr>\n",
       "      <th>...</th>\n",
       "      <td>...</td>\n",
       "      <td>...</td>\n",
       "      <td>...</td>\n",
       "    </tr>\n",
       "    <tr>\n",
       "      <th>1404</th>\n",
       "      <td>0.313505</td>\n",
       "      <td>0</td>\n",
       "      <td>0</td>\n",
       "    </tr>\n",
       "    <tr>\n",
       "      <th>1405</th>\n",
       "      <td>0.039354</td>\n",
       "      <td>0</td>\n",
       "      <td>1</td>\n",
       "    </tr>\n",
       "    <tr>\n",
       "      <th>1406</th>\n",
       "      <td>0.136380</td>\n",
       "      <td>0</td>\n",
       "      <td>0</td>\n",
       "    </tr>\n",
       "    <tr>\n",
       "      <th>1407</th>\n",
       "      <td>0.799702</td>\n",
       "      <td>1</td>\n",
       "      <td>1</td>\n",
       "    </tr>\n",
       "    <tr>\n",
       "      <th>1408</th>\n",
       "      <td>0.837341</td>\n",
       "      <td>1</td>\n",
       "      <td>1</td>\n",
       "    </tr>\n",
       "  </tbody>\n",
       "</table>\n",
       "<p>1409 rows × 3 columns</p>\n",
       "</div>"
      ],
      "text/plain": [
       "      probability  prediction  actual\n",
       "0        0.008998           0       0\n",
       "1        0.204370           0       0\n",
       "2        0.212051           0       0\n",
       "3        0.543001           1       1\n",
       "4        0.213627           0       0\n",
       "...           ...         ...     ...\n",
       "1404     0.313505           0       0\n",
       "1405     0.039354           0       1\n",
       "1406     0.136380           0       0\n",
       "1407     0.799702           1       1\n",
       "1408     0.837341           1       1\n",
       "\n",
       "[1409 rows x 3 columns]"
      ]
     },
     "execution_count": 77,
     "metadata": {},
     "output_type": "execute_result"
    }
   ],
   "source": [
    "# make a DF\n",
    "df_pred = pd.DataFrame()\n",
    "df_pred['probability'] = y_pred\n",
    "df_pred['prediction'] = churn_decision.astype(int)\n",
    "df_pred['actual'] = y_val\n",
    "df_pred"
   ]
  },
  {
   "cell_type": "code",
   "execution_count": 78,
   "id": "3ea2dedd",
   "metadata": {
    "execution": {
     "iopub.execute_input": "2023-10-04T22:11:32.399875Z",
     "iopub.status.busy": "2023-10-04T22:11:32.399385Z",
     "iopub.status.idle": "2023-10-04T22:11:32.413111Z",
     "shell.execute_reply": "2023-10-04T22:11:32.412347Z"
    },
    "papermill": {
     "duration": 0.054093,
     "end_time": "2023-10-04T22:11:32.414998",
     "exception": false,
     "start_time": "2023-10-04T22:11:32.360905",
     "status": "completed"
    },
    "tags": []
   },
   "outputs": [
    {
     "data": {
      "text/html": [
       "<div>\n",
       "<style scoped>\n",
       "    .dataframe tbody tr th:only-of-type {\n",
       "        vertical-align: middle;\n",
       "    }\n",
       "\n",
       "    .dataframe tbody tr th {\n",
       "        vertical-align: top;\n",
       "    }\n",
       "\n",
       "    .dataframe thead th {\n",
       "        text-align: right;\n",
       "    }\n",
       "</style>\n",
       "<table border=\"1\" class=\"dataframe\">\n",
       "  <thead>\n",
       "    <tr style=\"text-align: right;\">\n",
       "      <th></th>\n",
       "      <th>probability</th>\n",
       "      <th>prediction</th>\n",
       "      <th>actual</th>\n",
       "      <th>correct</th>\n",
       "    </tr>\n",
       "  </thead>\n",
       "  <tbody>\n",
       "    <tr>\n",
       "      <th>0</th>\n",
       "      <td>0.008998</td>\n",
       "      <td>0</td>\n",
       "      <td>0</td>\n",
       "      <td>True</td>\n",
       "    </tr>\n",
       "    <tr>\n",
       "      <th>1</th>\n",
       "      <td>0.204370</td>\n",
       "      <td>0</td>\n",
       "      <td>0</td>\n",
       "      <td>True</td>\n",
       "    </tr>\n",
       "    <tr>\n",
       "      <th>2</th>\n",
       "      <td>0.212051</td>\n",
       "      <td>0</td>\n",
       "      <td>0</td>\n",
       "      <td>True</td>\n",
       "    </tr>\n",
       "    <tr>\n",
       "      <th>3</th>\n",
       "      <td>0.543001</td>\n",
       "      <td>1</td>\n",
       "      <td>1</td>\n",
       "      <td>True</td>\n",
       "    </tr>\n",
       "    <tr>\n",
       "      <th>4</th>\n",
       "      <td>0.213627</td>\n",
       "      <td>0</td>\n",
       "      <td>0</td>\n",
       "      <td>True</td>\n",
       "    </tr>\n",
       "    <tr>\n",
       "      <th>...</th>\n",
       "      <td>...</td>\n",
       "      <td>...</td>\n",
       "      <td>...</td>\n",
       "      <td>...</td>\n",
       "    </tr>\n",
       "    <tr>\n",
       "      <th>1404</th>\n",
       "      <td>0.313505</td>\n",
       "      <td>0</td>\n",
       "      <td>0</td>\n",
       "      <td>True</td>\n",
       "    </tr>\n",
       "    <tr>\n",
       "      <th>1405</th>\n",
       "      <td>0.039354</td>\n",
       "      <td>0</td>\n",
       "      <td>1</td>\n",
       "      <td>False</td>\n",
       "    </tr>\n",
       "    <tr>\n",
       "      <th>1406</th>\n",
       "      <td>0.136380</td>\n",
       "      <td>0</td>\n",
       "      <td>0</td>\n",
       "      <td>True</td>\n",
       "    </tr>\n",
       "    <tr>\n",
       "      <th>1407</th>\n",
       "      <td>0.799702</td>\n",
       "      <td>1</td>\n",
       "      <td>1</td>\n",
       "      <td>True</td>\n",
       "    </tr>\n",
       "    <tr>\n",
       "      <th>1408</th>\n",
       "      <td>0.837341</td>\n",
       "      <td>1</td>\n",
       "      <td>1</td>\n",
       "      <td>True</td>\n",
       "    </tr>\n",
       "  </tbody>\n",
       "</table>\n",
       "<p>1409 rows × 4 columns</p>\n",
       "</div>"
      ],
      "text/plain": [
       "      probability  prediction  actual  correct\n",
       "0        0.008998           0       0     True\n",
       "1        0.204370           0       0     True\n",
       "2        0.212051           0       0     True\n",
       "3        0.543001           1       1     True\n",
       "4        0.213627           0       0     True\n",
       "...           ...         ...     ...      ...\n",
       "1404     0.313505           0       0     True\n",
       "1405     0.039354           0       1    False\n",
       "1406     0.136380           0       0     True\n",
       "1407     0.799702           1       1     True\n",
       "1408     0.837341           1       1     True\n",
       "\n",
       "[1409 rows x 4 columns]"
      ]
     },
     "execution_count": 78,
     "metadata": {},
     "output_type": "execute_result"
    }
   ],
   "source": [
    "df_pred['correct'] = df_pred.prediction == df_pred.actual\n",
    "df_pred"
   ]
  },
  {
   "cell_type": "code",
   "execution_count": 79,
   "id": "75aa19f1",
   "metadata": {
    "execution": {
     "iopub.execute_input": "2023-10-04T22:11:32.491184Z",
     "iopub.status.busy": "2023-10-04T22:11:32.490697Z",
     "iopub.status.idle": "2023-10-04T22:11:32.498337Z",
     "shell.execute_reply": "2023-10-04T22:11:32.496996Z"
    },
    "papermill": {
     "duration": 0.048594,
     "end_time": "2023-10-04T22:11:32.500385",
     "exception": false,
     "start_time": "2023-10-04T22:11:32.451791",
     "status": "completed"
    },
    "tags": []
   },
   "outputs": [
    {
     "data": {
      "text/plain": [
       "0.8034066713981547"
      ]
     },
     "execution_count": 79,
     "metadata": {},
     "output_type": "execute_result"
    }
   ],
   "source": [
    "df_pred.correct.mean()"
   ]
  },
  {
   "cell_type": "markdown",
   "id": "b2667531",
   "metadata": {
    "papermill": {
     "duration": 0.037781,
     "end_time": "2023-10-04T22:11:32.592198",
     "exception": false,
     "start_time": "2023-10-04T22:11:32.554417",
     "status": "completed"
    },
    "tags": []
   },
   "source": [
    "Model Interpretation"
   ]
  },
  {
   "cell_type": "code",
   "execution_count": 80,
   "id": "7b41e380",
   "metadata": {
    "execution": {
     "iopub.execute_input": "2023-10-04T22:11:32.670058Z",
     "iopub.status.busy": "2023-10-04T22:11:32.669349Z",
     "iopub.status.idle": "2023-10-04T22:11:32.676663Z",
     "shell.execute_reply": "2023-10-04T22:11:32.675506Z"
    },
    "papermill": {
     "duration": 0.049148,
     "end_time": "2023-10-04T22:11:32.678995",
     "exception": false,
     "start_time": "2023-10-04T22:11:32.629847",
     "status": "completed"
    },
    "tags": []
   },
   "outputs": [
    {
     "data": {
      "text/plain": [
       "{'contract=month-to-month': 0.475,\n",
       " 'contract=one_year': -0.175,\n",
       " 'contract=two_year': -0.407,\n",
       " 'dependents=no': -0.03,\n",
       " 'dependents=yes': -0.078,\n",
       " 'deviceprotection=no': 0.063,\n",
       " 'deviceprotection=no_internet_service': -0.089,\n",
       " 'deviceprotection=yes': -0.081,\n",
       " 'gender=female': -0.034,\n",
       " 'gender=male': -0.073,\n",
       " 'internetservice=dsl': -0.335,\n",
       " 'internetservice=fiber_optic': 0.316,\n",
       " 'internetservice=no': -0.089,\n",
       " 'monthlycharges': 0.004,\n",
       " 'multiplelines=no': -0.258,\n",
       " 'multiplelines=no_phone_service': 0.141,\n",
       " 'multiplelines=yes': 0.009,\n",
       " 'onlinebackup=no': 0.063,\n",
       " 'onlinebackup=no_internet_service': -0.089,\n",
       " 'onlinebackup=yes': -0.081,\n",
       " 'onlinesecurity=no': 0.266,\n",
       " 'onlinesecurity=no_internet_service': -0.089,\n",
       " 'onlinesecurity=yes': -0.284,\n",
       " 'paperlessbilling=no': -0.231,\n",
       " 'paperlessbilling=yes': 0.123,\n",
       " 'partner=no': -0.166,\n",
       " 'partner=yes': 0.058,\n",
       " 'paymentmethod=bank_transfer_(automatic)': -0.087,\n",
       " 'paymentmethod=credit_card_(automatic)': -0.032,\n",
       " 'paymentmethod=electronic_check': 0.07,\n",
       " 'paymentmethod=mailed_check': -0.059,\n",
       " 'phoneservice=no': 0.141,\n",
       " 'phoneservice=yes': -0.249,\n",
       " 'seniorcitizen': 0.215,\n",
       " 'streamingmovies=no': -0.12,\n",
       " 'streamingmovies=no_internet_service': -0.089,\n",
       " 'streamingmovies=yes': 0.102,\n",
       " 'streamingtv=no': -0.071,\n",
       " 'streamingtv=no_internet_service': -0.089,\n",
       " 'streamingtv=yes': 0.052,\n",
       " 'techsupport=no': 0.213,\n",
       " 'techsupport=no_internet_service': -0.089,\n",
       " 'techsupport=yes': -0.232,\n",
       " 'tenure': -0.07,\n",
       " 'totalcharges': 0.0}"
      ]
     },
     "execution_count": 80,
     "metadata": {},
     "output_type": "execute_result"
    }
   ],
   "source": [
    "dict(zip(dv.get_feature_names_out(), model.coef_[0].round(3)))"
   ]
  },
  {
   "cell_type": "code",
   "execution_count": 81,
   "id": "ba9c843c",
   "metadata": {
    "execution": {
     "iopub.execute_input": "2023-10-04T22:11:32.755800Z",
     "iopub.status.busy": "2023-10-04T22:11:32.755366Z",
     "iopub.status.idle": "2023-10-04T22:11:32.778710Z",
     "shell.execute_reply": "2023-10-04T22:11:32.777418Z"
    },
    "papermill": {
     "duration": 0.064776,
     "end_time": "2023-10-04T22:11:32.781555",
     "exception": false,
     "start_time": "2023-10-04T22:11:32.716779",
     "status": "completed"
    },
    "tags": []
   },
   "outputs": [],
   "source": [
    "small = ['contract', 'tenure', 'monthlycharges']\n",
    "df_small_train = df_train[small].to_dict(orient=\"records\")\n",
    "df_small_val = df_val[small].to_dict(orient=\"records\")"
   ]
  },
  {
   "cell_type": "code",
   "execution_count": 82,
   "id": "0f0d137a",
   "metadata": {
    "execution": {
     "iopub.execute_input": "2023-10-04T22:11:32.861400Z",
     "iopub.status.busy": "2023-10-04T22:11:32.860975Z",
     "iopub.status.idle": "2023-10-04T22:11:32.887643Z",
     "shell.execute_reply": "2023-10-04T22:11:32.886763Z"
    },
    "papermill": {
     "duration": 0.070707,
     "end_time": "2023-10-04T22:11:32.889937",
     "exception": false,
     "start_time": "2023-10-04T22:11:32.819230",
     "status": "completed"
    },
    "tags": []
   },
   "outputs": [
    {
     "data": {
      "text/plain": [
       "array([[  0.  ,   0.  ,   1.  , 115.5 ,  72.  ],\n",
       "       [  1.  ,   0.  ,   0.  ,  95.25,  10.  ],\n",
       "       [  1.  ,   0.  ,   0.  ,  75.55,   5.  ],\n",
       "       ...,\n",
       "       [  1.  ,   0.  ,   0.  ,  90.  ,   2.  ],\n",
       "       [  0.  ,   0.  ,   1.  ,  24.5 ,  27.  ],\n",
       "       [  1.  ,   0.  ,   0.  ,  80.85,   9.  ]])"
      ]
     },
     "execution_count": 82,
     "metadata": {},
     "output_type": "execute_result"
    }
   ],
   "source": [
    "dv_small = DictVectorizer(sparse=False)\n",
    "dv_small.fit_transform(df_small_train)"
   ]
  },
  {
   "cell_type": "code",
   "execution_count": 83,
   "id": "3955731f",
   "metadata": {
    "execution": {
     "iopub.execute_input": "2023-10-04T22:11:32.969087Z",
     "iopub.status.busy": "2023-10-04T22:11:32.968330Z",
     "iopub.status.idle": "2023-10-04T22:11:32.975373Z",
     "shell.execute_reply": "2023-10-04T22:11:32.974177Z"
    },
    "papermill": {
     "duration": 0.049511,
     "end_time": "2023-10-04T22:11:32.977805",
     "exception": false,
     "start_time": "2023-10-04T22:11:32.928294",
     "status": "completed"
    },
    "tags": []
   },
   "outputs": [
    {
     "data": {
      "text/plain": [
       "array(['contract=month-to-month', 'contract=one_year',\n",
       "       'contract=two_year', 'monthlycharges', 'tenure'], dtype=object)"
      ]
     },
     "execution_count": 83,
     "metadata": {},
     "output_type": "execute_result"
    }
   ],
   "source": [
    "dv_small.get_feature_names_out()"
   ]
  },
  {
   "cell_type": "code",
   "execution_count": 84,
   "id": "76c88f78",
   "metadata": {
    "execution": {
     "iopub.execute_input": "2023-10-04T22:11:33.059076Z",
     "iopub.status.busy": "2023-10-04T22:11:33.058342Z",
     "iopub.status.idle": "2023-10-04T22:11:33.080096Z",
     "shell.execute_reply": "2023-10-04T22:11:33.078766Z"
    },
    "papermill": {
     "duration": 0.063855,
     "end_time": "2023-10-04T22:11:33.082735",
     "exception": false,
     "start_time": "2023-10-04T22:11:33.018880",
     "status": "completed"
    },
    "tags": []
   },
   "outputs": [],
   "source": [
    "X_train_small = dv_small.fit_transform(df_small_train)"
   ]
  },
  {
   "cell_type": "code",
   "execution_count": 85,
   "id": "b925f78b",
   "metadata": {
    "execution": {
     "iopub.execute_input": "2023-10-04T22:11:33.160936Z",
     "iopub.status.busy": "2023-10-04T22:11:33.160359Z",
     "iopub.status.idle": "2023-10-04T22:11:33.233224Z",
     "shell.execute_reply": "2023-10-04T22:11:33.231573Z"
    },
    "papermill": {
     "duration": 0.116878,
     "end_time": "2023-10-04T22:11:33.237995",
     "exception": false,
     "start_time": "2023-10-04T22:11:33.121117",
     "status": "completed"
    },
    "tags": []
   },
   "outputs": [
    {
     "data": {
      "text/html": [
       "<style>#sk-container-id-4 {color: black;background-color: white;}#sk-container-id-4 pre{padding: 0;}#sk-container-id-4 div.sk-toggleable {background-color: white;}#sk-container-id-4 label.sk-toggleable__label {cursor: pointer;display: block;width: 100%;margin-bottom: 0;padding: 0.3em;box-sizing: border-box;text-align: center;}#sk-container-id-4 label.sk-toggleable__label-arrow:before {content: \"▸\";float: left;margin-right: 0.25em;color: #696969;}#sk-container-id-4 label.sk-toggleable__label-arrow:hover:before {color: black;}#sk-container-id-4 div.sk-estimator:hover label.sk-toggleable__label-arrow:before {color: black;}#sk-container-id-4 div.sk-toggleable__content {max-height: 0;max-width: 0;overflow: hidden;text-align: left;background-color: #f0f8ff;}#sk-container-id-4 div.sk-toggleable__content pre {margin: 0.2em;color: black;border-radius: 0.25em;background-color: #f0f8ff;}#sk-container-id-4 input.sk-toggleable__control:checked~div.sk-toggleable__content {max-height: 200px;max-width: 100%;overflow: auto;}#sk-container-id-4 input.sk-toggleable__control:checked~label.sk-toggleable__label-arrow:before {content: \"▾\";}#sk-container-id-4 div.sk-estimator input.sk-toggleable__control:checked~label.sk-toggleable__label {background-color: #d4ebff;}#sk-container-id-4 div.sk-label input.sk-toggleable__control:checked~label.sk-toggleable__label {background-color: #d4ebff;}#sk-container-id-4 input.sk-hidden--visually {border: 0;clip: rect(1px 1px 1px 1px);clip: rect(1px, 1px, 1px, 1px);height: 1px;margin: -1px;overflow: hidden;padding: 0;position: absolute;width: 1px;}#sk-container-id-4 div.sk-estimator {font-family: monospace;background-color: #f0f8ff;border: 1px dotted black;border-radius: 0.25em;box-sizing: border-box;margin-bottom: 0.5em;}#sk-container-id-4 div.sk-estimator:hover {background-color: #d4ebff;}#sk-container-id-4 div.sk-parallel-item::after {content: \"\";width: 100%;border-bottom: 1px solid gray;flex-grow: 1;}#sk-container-id-4 div.sk-label:hover label.sk-toggleable__label {background-color: #d4ebff;}#sk-container-id-4 div.sk-serial::before {content: \"\";position: absolute;border-left: 1px solid gray;box-sizing: border-box;top: 0;bottom: 0;left: 50%;z-index: 0;}#sk-container-id-4 div.sk-serial {display: flex;flex-direction: column;align-items: center;background-color: white;padding-right: 0.2em;padding-left: 0.2em;position: relative;}#sk-container-id-4 div.sk-item {position: relative;z-index: 1;}#sk-container-id-4 div.sk-parallel {display: flex;align-items: stretch;justify-content: center;background-color: white;position: relative;}#sk-container-id-4 div.sk-item::before, #sk-container-id-4 div.sk-parallel-item::before {content: \"\";position: absolute;border-left: 1px solid gray;box-sizing: border-box;top: 0;bottom: 0;left: 50%;z-index: -1;}#sk-container-id-4 div.sk-parallel-item {display: flex;flex-direction: column;z-index: 1;position: relative;background-color: white;}#sk-container-id-4 div.sk-parallel-item:first-child::after {align-self: flex-end;width: 50%;}#sk-container-id-4 div.sk-parallel-item:last-child::after {align-self: flex-start;width: 50%;}#sk-container-id-4 div.sk-parallel-item:only-child::after {width: 0;}#sk-container-id-4 div.sk-dashed-wrapped {border: 1px dashed gray;margin: 0 0.4em 0.5em 0.4em;box-sizing: border-box;padding-bottom: 0.4em;background-color: white;}#sk-container-id-4 div.sk-label label {font-family: monospace;font-weight: bold;display: inline-block;line-height: 1.2em;}#sk-container-id-4 div.sk-label-container {text-align: center;}#sk-container-id-4 div.sk-container {/* jupyter's `normalize.less` sets `[hidden] { display: none; }` but bootstrap.min.css set `[hidden] { display: none !important; }` so we also need the `!important` here to be able to override the default hidden behavior on the sphinx rendered scikit-learn.org. See: https://github.com/scikit-learn/scikit-learn/issues/21755 */display: inline-block !important;position: relative;}#sk-container-id-4 div.sk-text-repr-fallback {display: none;}</style><div id=\"sk-container-id-4\" class=\"sk-top-container\"><div class=\"sk-text-repr-fallback\"><pre>LogisticRegression()</pre><b>In a Jupyter environment, please rerun this cell to show the HTML representation or trust the notebook. <br />On GitHub, the HTML representation is unable to render, please try loading this page with nbviewer.org.</b></div><div class=\"sk-container\" hidden><div class=\"sk-item\"><div class=\"sk-estimator sk-toggleable\"><input class=\"sk-toggleable__control sk-hidden--visually\" id=\"sk-estimator-id-4\" type=\"checkbox\" checked><label for=\"sk-estimator-id-4\" class=\"sk-toggleable__label sk-toggleable__label-arrow\">LogisticRegression</label><div class=\"sk-toggleable__content\"><pre>LogisticRegression()</pre></div></div></div></div></div>"
      ],
      "text/plain": [
       "LogisticRegression()"
      ]
     },
     "execution_count": 85,
     "metadata": {},
     "output_type": "execute_result"
    }
   ],
   "source": [
    "model_small = LogisticRegression()\n",
    "model_small.fit(X_train_small, y_train)"
   ]
  },
  {
   "cell_type": "code",
   "execution_count": 86,
   "id": "dbd0a425",
   "metadata": {
    "execution": {
     "iopub.execute_input": "2023-10-04T22:11:33.388834Z",
     "iopub.status.busy": "2023-10-04T22:11:33.388381Z",
     "iopub.status.idle": "2023-10-04T22:11:33.394453Z",
     "shell.execute_reply": "2023-10-04T22:11:33.393672Z"
    },
    "papermill": {
     "duration": 0.047732,
     "end_time": "2023-10-04T22:11:33.396281",
     "exception": false,
     "start_time": "2023-10-04T22:11:33.348549",
     "status": "completed"
    },
    "tags": []
   },
   "outputs": [
    {
     "data": {
      "text/plain": [
       "-2.476775662198788"
      ]
     },
     "execution_count": 86,
     "metadata": {},
     "output_type": "execute_result"
    }
   ],
   "source": [
    "w0 = model_small.intercept_[0]\n",
    "w0"
   ]
  },
  {
   "cell_type": "code",
   "execution_count": 87,
   "id": "1b418e8c",
   "metadata": {
    "execution": {
     "iopub.execute_input": "2023-10-04T22:11:33.473791Z",
     "iopub.status.busy": "2023-10-04T22:11:33.473050Z",
     "iopub.status.idle": "2023-10-04T22:11:33.479218Z",
     "shell.execute_reply": "2023-10-04T22:11:33.478440Z"
    },
    "papermill": {
     "duration": 0.047563,
     "end_time": "2023-10-04T22:11:33.480992",
     "exception": false,
     "start_time": "2023-10-04T22:11:33.433429",
     "status": "completed"
    },
    "tags": []
   },
   "outputs": [
    {
     "data": {
      "text/plain": [
       "array([ 0.97 , -0.025, -0.949,  0.027, -0.036])"
      ]
     },
     "execution_count": 87,
     "metadata": {},
     "output_type": "execute_result"
    }
   ],
   "source": [
    "w = model_small.coef_[0]\n",
    "w.round(3)"
   ]
  },
  {
   "cell_type": "code",
   "execution_count": 88,
   "id": "ee58ef28",
   "metadata": {
    "execution": {
     "iopub.execute_input": "2023-10-04T22:11:33.559085Z",
     "iopub.status.busy": "2023-10-04T22:11:33.558300Z",
     "iopub.status.idle": "2023-10-04T22:11:33.565910Z",
     "shell.execute_reply": "2023-10-04T22:11:33.564844Z"
    },
    "papermill": {
     "duration": 0.049264,
     "end_time": "2023-10-04T22:11:33.568184",
     "exception": false,
     "start_time": "2023-10-04T22:11:33.518920",
     "status": "completed"
    },
    "tags": []
   },
   "outputs": [
    {
     "data": {
      "text/plain": [
       "{'contract=month-to-month': 0.97,\n",
       " 'contract=one_year': -0.025,\n",
       " 'contract=two_year': -0.949,\n",
       " 'monthlycharges': 0.027,\n",
       " 'tenure': -0.036}"
      ]
     },
     "execution_count": 88,
     "metadata": {},
     "output_type": "execute_result"
    }
   ],
   "source": [
    "dict(zip(dv_small.get_feature_names_out(), w.round(3)))"
   ]
  },
  {
   "cell_type": "code",
   "execution_count": 89,
   "id": "1fa99299",
   "metadata": {
    "execution": {
     "iopub.execute_input": "2023-10-04T22:11:33.646204Z",
     "iopub.status.busy": "2023-10-04T22:11:33.644982Z",
     "iopub.status.idle": "2023-10-04T22:11:33.651335Z",
     "shell.execute_reply": "2023-10-04T22:11:33.650560Z"
    },
    "papermill": {
     "duration": 0.047654,
     "end_time": "2023-10-04T22:11:33.653332",
     "exception": false,
     "start_time": "2023-10-04T22:11:33.605678",
     "status": "completed"
    },
    "tags": []
   },
   "outputs": [
    {
     "data": {
      "text/plain": [
       "0.6239999999999999"
      ]
     },
     "execution_count": 89,
     "metadata": {},
     "output_type": "execute_result"
    }
   ],
   "source": [
    "# fake customer - contract, monthly charges, tenure\n",
    "-2.47 + 0.97 + 80 * 0.027 + 1 * -.036\n"
   ]
  },
  {
   "cell_type": "code",
   "execution_count": 90,
   "id": "668cbf4d",
   "metadata": {
    "execution": {
     "iopub.execute_input": "2023-10-04T22:11:33.732017Z",
     "iopub.status.busy": "2023-10-04T22:11:33.731474Z",
     "iopub.status.idle": "2023-10-04T22:11:33.739144Z",
     "shell.execute_reply": "2023-10-04T22:11:33.737950Z"
    },
    "papermill": {
     "duration": 0.049074,
     "end_time": "2023-10-04T22:11:33.741276",
     "exception": false,
     "start_time": "2023-10-04T22:11:33.692202",
     "status": "completed"
    },
    "tags": []
   },
   "outputs": [
    {
     "data": {
      "text/plain": [
       "0.6511277386034051"
      ]
     },
     "execution_count": 90,
     "metadata": {},
     "output_type": "execute_result"
    }
   ],
   "source": [
    "sigmoid(0.6239999999999999)"
   ]
  },
  {
   "cell_type": "markdown",
   "id": "fa783bea",
   "metadata": {
    "papermill": {
     "duration": 0.037806,
     "end_time": "2023-10-04T22:11:33.816745",
     "exception": false,
     "start_time": "2023-10-04T22:11:33.778939",
     "status": "completed"
    },
    "tags": []
   },
   "source": [
    "Using the model"
   ]
  },
  {
   "cell_type": "code",
   "execution_count": 91,
   "id": "1b243ecf",
   "metadata": {
    "execution": {
     "iopub.execute_input": "2023-10-04T22:11:33.895046Z",
     "iopub.status.busy": "2023-10-04T22:11:33.894550Z",
     "iopub.status.idle": "2023-10-04T22:11:33.995646Z",
     "shell.execute_reply": "2023-10-04T22:11:33.994370Z"
    },
    "papermill": {
     "duration": 0.143712,
     "end_time": "2023-10-04T22:11:33.999160",
     "exception": false,
     "start_time": "2023-10-04T22:11:33.855448",
     "status": "completed"
    },
    "tags": []
   },
   "outputs": [],
   "source": [
    "dicts_full_train = df_full_train[categorical + numerical].to_dict(orient=\"records\")\n"
   ]
  },
  {
   "cell_type": "code",
   "execution_count": 92,
   "id": "e1cc3a79",
   "metadata": {
    "execution": {
     "iopub.execute_input": "2023-10-04T22:11:34.079074Z",
     "iopub.status.busy": "2023-10-04T22:11:34.078566Z",
     "iopub.status.idle": "2023-10-04T22:11:34.222558Z",
     "shell.execute_reply": "2023-10-04T22:11:34.221493Z"
    },
    "papermill": {
     "duration": 0.186958,
     "end_time": "2023-10-04T22:11:34.225336",
     "exception": false,
     "start_time": "2023-10-04T22:11:34.038378",
     "status": "completed"
    },
    "tags": []
   },
   "outputs": [],
   "source": [
    "dv = DictVectorizer(sparse=False)\n",
    "X_full_train = dv.fit_transform(dicts_full_train)"
   ]
  },
  {
   "cell_type": "code",
   "execution_count": 93,
   "id": "9e6ae88e",
   "metadata": {
    "execution": {
     "iopub.execute_input": "2023-10-04T22:11:34.304373Z",
     "iopub.status.busy": "2023-10-04T22:11:34.303907Z",
     "iopub.status.idle": "2023-10-04T22:11:34.308963Z",
     "shell.execute_reply": "2023-10-04T22:11:34.308096Z"
    },
    "papermill": {
     "duration": 0.046786,
     "end_time": "2023-10-04T22:11:34.310892",
     "exception": false,
     "start_time": "2023-10-04T22:11:34.264106",
     "status": "completed"
    },
    "tags": []
   },
   "outputs": [],
   "source": [
    "y_full_train = df_full_train.churn.values"
   ]
  },
  {
   "cell_type": "code",
   "execution_count": 94,
   "id": "7e0d0398",
   "metadata": {
    "execution": {
     "iopub.execute_input": "2023-10-04T22:11:34.390331Z",
     "iopub.status.busy": "2023-10-04T22:11:34.389941Z",
     "iopub.status.idle": "2023-10-04T22:11:34.481876Z",
     "shell.execute_reply": "2023-10-04T22:11:34.480351Z"
    },
    "papermill": {
     "duration": 0.13656,
     "end_time": "2023-10-04T22:11:34.485846",
     "exception": false,
     "start_time": "2023-10-04T22:11:34.349286",
     "status": "completed"
    },
    "tags": []
   },
   "outputs": [
    {
     "data": {
      "text/html": [
       "<style>#sk-container-id-5 {color: black;background-color: white;}#sk-container-id-5 pre{padding: 0;}#sk-container-id-5 div.sk-toggleable {background-color: white;}#sk-container-id-5 label.sk-toggleable__label {cursor: pointer;display: block;width: 100%;margin-bottom: 0;padding: 0.3em;box-sizing: border-box;text-align: center;}#sk-container-id-5 label.sk-toggleable__label-arrow:before {content: \"▸\";float: left;margin-right: 0.25em;color: #696969;}#sk-container-id-5 label.sk-toggleable__label-arrow:hover:before {color: black;}#sk-container-id-5 div.sk-estimator:hover label.sk-toggleable__label-arrow:before {color: black;}#sk-container-id-5 div.sk-toggleable__content {max-height: 0;max-width: 0;overflow: hidden;text-align: left;background-color: #f0f8ff;}#sk-container-id-5 div.sk-toggleable__content pre {margin: 0.2em;color: black;border-radius: 0.25em;background-color: #f0f8ff;}#sk-container-id-5 input.sk-toggleable__control:checked~div.sk-toggleable__content {max-height: 200px;max-width: 100%;overflow: auto;}#sk-container-id-5 input.sk-toggleable__control:checked~label.sk-toggleable__label-arrow:before {content: \"▾\";}#sk-container-id-5 div.sk-estimator input.sk-toggleable__control:checked~label.sk-toggleable__label {background-color: #d4ebff;}#sk-container-id-5 div.sk-label input.sk-toggleable__control:checked~label.sk-toggleable__label {background-color: #d4ebff;}#sk-container-id-5 input.sk-hidden--visually {border: 0;clip: rect(1px 1px 1px 1px);clip: rect(1px, 1px, 1px, 1px);height: 1px;margin: -1px;overflow: hidden;padding: 0;position: absolute;width: 1px;}#sk-container-id-5 div.sk-estimator {font-family: monospace;background-color: #f0f8ff;border: 1px dotted black;border-radius: 0.25em;box-sizing: border-box;margin-bottom: 0.5em;}#sk-container-id-5 div.sk-estimator:hover {background-color: #d4ebff;}#sk-container-id-5 div.sk-parallel-item::after {content: \"\";width: 100%;border-bottom: 1px solid gray;flex-grow: 1;}#sk-container-id-5 div.sk-label:hover label.sk-toggleable__label {background-color: #d4ebff;}#sk-container-id-5 div.sk-serial::before {content: \"\";position: absolute;border-left: 1px solid gray;box-sizing: border-box;top: 0;bottom: 0;left: 50%;z-index: 0;}#sk-container-id-5 div.sk-serial {display: flex;flex-direction: column;align-items: center;background-color: white;padding-right: 0.2em;padding-left: 0.2em;position: relative;}#sk-container-id-5 div.sk-item {position: relative;z-index: 1;}#sk-container-id-5 div.sk-parallel {display: flex;align-items: stretch;justify-content: center;background-color: white;position: relative;}#sk-container-id-5 div.sk-item::before, #sk-container-id-5 div.sk-parallel-item::before {content: \"\";position: absolute;border-left: 1px solid gray;box-sizing: border-box;top: 0;bottom: 0;left: 50%;z-index: -1;}#sk-container-id-5 div.sk-parallel-item {display: flex;flex-direction: column;z-index: 1;position: relative;background-color: white;}#sk-container-id-5 div.sk-parallel-item:first-child::after {align-self: flex-end;width: 50%;}#sk-container-id-5 div.sk-parallel-item:last-child::after {align-self: flex-start;width: 50%;}#sk-container-id-5 div.sk-parallel-item:only-child::after {width: 0;}#sk-container-id-5 div.sk-dashed-wrapped {border: 1px dashed gray;margin: 0 0.4em 0.5em 0.4em;box-sizing: border-box;padding-bottom: 0.4em;background-color: white;}#sk-container-id-5 div.sk-label label {font-family: monospace;font-weight: bold;display: inline-block;line-height: 1.2em;}#sk-container-id-5 div.sk-label-container {text-align: center;}#sk-container-id-5 div.sk-container {/* jupyter's `normalize.less` sets `[hidden] { display: none; }` but bootstrap.min.css set `[hidden] { display: none !important; }` so we also need the `!important` here to be able to override the default hidden behavior on the sphinx rendered scikit-learn.org. See: https://github.com/scikit-learn/scikit-learn/issues/21755 */display: inline-block !important;position: relative;}#sk-container-id-5 div.sk-text-repr-fallback {display: none;}</style><div id=\"sk-container-id-5\" class=\"sk-top-container\"><div class=\"sk-text-repr-fallback\"><pre>LogisticRegression()</pre><b>In a Jupyter environment, please rerun this cell to show the HTML representation or trust the notebook. <br />On GitHub, the HTML representation is unable to render, please try loading this page with nbviewer.org.</b></div><div class=\"sk-container\" hidden><div class=\"sk-item\"><div class=\"sk-estimator sk-toggleable\"><input class=\"sk-toggleable__control sk-hidden--visually\" id=\"sk-estimator-id-5\" type=\"checkbox\" checked><label for=\"sk-estimator-id-5\" class=\"sk-toggleable__label sk-toggleable__label-arrow\">LogisticRegression</label><div class=\"sk-toggleable__content\"><pre>LogisticRegression()</pre></div></div></div></div></div>"
      ],
      "text/plain": [
       "LogisticRegression()"
      ]
     },
     "execution_count": 94,
     "metadata": {},
     "output_type": "execute_result"
    }
   ],
   "source": [
    "model = LogisticRegression()\n",
    "model.fit(X_full_train, y_full_train)"
   ]
  },
  {
   "cell_type": "code",
   "execution_count": 95,
   "id": "0a4d1c46",
   "metadata": {
    "execution": {
     "iopub.execute_input": "2023-10-04T22:11:34.637890Z",
     "iopub.status.busy": "2023-10-04T22:11:34.637410Z",
     "iopub.status.idle": "2023-10-04T22:11:34.671928Z",
     "shell.execute_reply": "2023-10-04T22:11:34.670127Z"
    },
    "papermill": {
     "duration": 0.076914,
     "end_time": "2023-10-04T22:11:34.674652",
     "exception": false,
     "start_time": "2023-10-04T22:11:34.597738",
     "status": "completed"
    },
    "tags": []
   },
   "outputs": [],
   "source": [
    "dicts_test = df_test[categorical + numerical].to_dict(orient=\"records\")\n"
   ]
  },
  {
   "cell_type": "code",
   "execution_count": 96,
   "id": "a352eb78",
   "metadata": {
    "execution": {
     "iopub.execute_input": "2023-10-04T22:11:34.755915Z",
     "iopub.status.busy": "2023-10-04T22:11:34.755343Z",
     "iopub.status.idle": "2023-10-04T22:11:34.794391Z",
     "shell.execute_reply": "2023-10-04T22:11:34.793153Z"
    },
    "papermill": {
     "duration": 0.081987,
     "end_time": "2023-10-04T22:11:34.797218",
     "exception": false,
     "start_time": "2023-10-04T22:11:34.715231",
     "status": "completed"
    },
    "tags": []
   },
   "outputs": [],
   "source": [
    "X_test = dv.transform(dicts_test)"
   ]
  },
  {
   "cell_type": "code",
   "execution_count": 97,
   "id": "c8a75c80",
   "metadata": {
    "execution": {
     "iopub.execute_input": "2023-10-04T22:11:34.879732Z",
     "iopub.status.busy": "2023-10-04T22:11:34.878420Z",
     "iopub.status.idle": "2023-10-04T22:11:34.888135Z",
     "shell.execute_reply": "2023-10-04T22:11:34.886545Z"
    },
    "papermill": {
     "duration": 0.055401,
     "end_time": "2023-10-04T22:11:34.892858",
     "exception": false,
     "start_time": "2023-10-04T22:11:34.837457",
     "status": "completed"
    },
    "tags": []
   },
   "outputs": [],
   "source": [
    "y_pred = model.predict_proba(X_val)[:, 1]"
   ]
  },
  {
   "cell_type": "code",
   "execution_count": 98,
   "id": "52fe481b",
   "metadata": {
    "execution": {
     "iopub.execute_input": "2023-10-04T22:11:35.047875Z",
     "iopub.status.busy": "2023-10-04T22:11:35.047436Z",
     "iopub.status.idle": "2023-10-04T22:11:35.052786Z",
     "shell.execute_reply": "2023-10-04T22:11:35.051524Z"
    },
    "papermill": {
     "duration": 0.047777,
     "end_time": "2023-10-04T22:11:35.054968",
     "exception": false,
     "start_time": "2023-10-04T22:11:35.007191",
     "status": "completed"
    },
    "tags": []
   },
   "outputs": [],
   "source": [
    "churn_decision = (y_pred >= 0.5)"
   ]
  },
  {
   "cell_type": "code",
   "execution_count": 99,
   "id": "77736790",
   "metadata": {
    "execution": {
     "iopub.execute_input": "2023-10-04T22:11:35.132848Z",
     "iopub.status.busy": "2023-10-04T22:11:35.132407Z",
     "iopub.status.idle": "2023-10-04T22:11:35.139674Z",
     "shell.execute_reply": "2023-10-04T22:11:35.138501Z"
    },
    "papermill": {
     "duration": 0.048498,
     "end_time": "2023-10-04T22:11:35.141705",
     "exception": false,
     "start_time": "2023-10-04T22:11:35.093207",
     "status": "completed"
    },
    "tags": []
   },
   "outputs": [
    {
     "data": {
      "text/plain": [
       "0.6486870120652946"
      ]
     },
     "execution_count": 99,
     "metadata": {},
     "output_type": "execute_result"
    }
   ],
   "source": [
    "(churn_decision == y_test).mean()"
   ]
  },
  {
   "cell_type": "code",
   "execution_count": 100,
   "id": "bf14a843",
   "metadata": {
    "execution": {
     "iopub.execute_input": "2023-10-04T22:11:35.223063Z",
     "iopub.status.busy": "2023-10-04T22:11:35.222573Z",
     "iopub.status.idle": "2023-10-04T22:11:35.228081Z",
     "shell.execute_reply": "2023-10-04T22:11:35.226626Z"
    },
    "papermill": {
     "duration": 0.047746,
     "end_time": "2023-10-04T22:11:35.230519",
     "exception": false,
     "start_time": "2023-10-04T22:11:35.182773",
     "status": "completed"
    },
    "tags": []
   },
   "outputs": [],
   "source": [
    "customer = dicts_test[-1]"
   ]
  },
  {
   "cell_type": "code",
   "execution_count": 101,
   "id": "04a2b98e",
   "metadata": {
    "execution": {
     "iopub.execute_input": "2023-10-04T22:11:35.310094Z",
     "iopub.status.busy": "2023-10-04T22:11:35.309289Z",
     "iopub.status.idle": "2023-10-04T22:11:35.314506Z",
     "shell.execute_reply": "2023-10-04T22:11:35.313805Z"
    },
    "papermill": {
     "duration": 0.046228,
     "end_time": "2023-10-04T22:11:35.316425",
     "exception": false,
     "start_time": "2023-10-04T22:11:35.270197",
     "status": "completed"
    },
    "tags": []
   },
   "outputs": [],
   "source": [
    "X_small = dv.transform([customer])"
   ]
  },
  {
   "cell_type": "code",
   "execution_count": 102,
   "id": "9c8734ac",
   "metadata": {
    "execution": {
     "iopub.execute_input": "2023-10-04T22:11:35.394827Z",
     "iopub.status.busy": "2023-10-04T22:11:35.394085Z",
     "iopub.status.idle": "2023-10-04T22:11:35.401708Z",
     "shell.execute_reply": "2023-10-04T22:11:35.400525Z"
    },
    "papermill": {
     "duration": 0.05002,
     "end_time": "2023-10-04T22:11:35.403981",
     "exception": false,
     "start_time": "2023-10-04T22:11:35.353961",
     "status": "completed"
    },
    "tags": []
   },
   "outputs": [
    {
     "data": {
      "text/plain": [
       "0.5968852088271023"
      ]
     },
     "execution_count": 102,
     "metadata": {},
     "output_type": "execute_result"
    }
   ],
   "source": [
    "model.predict_proba(X_small)[0, 1]"
   ]
  },
  {
   "cell_type": "markdown",
   "id": "3f00c7da",
   "metadata": {
    "papermill": {
     "duration": 0.039399,
     "end_time": "2023-10-04T22:11:35.482095",
     "exception": false,
     "start_time": "2023-10-04T22:11:35.442696",
     "status": "completed"
    },
    "tags": []
   },
   "source": [
    "# 4.2 Accuracy and dummy model"
   ]
  },
  {
   "cell_type": "code",
   "execution_count": 103,
   "id": "6b533cce",
   "metadata": {
    "execution": {
     "iopub.execute_input": "2023-10-04T22:11:35.562222Z",
     "iopub.status.busy": "2023-10-04T22:11:35.561769Z",
     "iopub.status.idle": "2023-10-04T22:11:35.568380Z",
     "shell.execute_reply": "2023-10-04T22:11:35.567279Z"
    },
    "papermill": {
     "duration": 0.04961,
     "end_time": "2023-10-04T22:11:35.570460",
     "exception": false,
     "start_time": "2023-10-04T22:11:35.520850",
     "status": "completed"
    },
    "tags": []
   },
   "outputs": [
    {
     "data": {
      "text/plain": [
       "1409"
      ]
     },
     "execution_count": 103,
     "metadata": {},
     "output_type": "execute_result"
    }
   ],
   "source": [
    "len(y_val)"
   ]
  },
  {
   "cell_type": "code",
   "execution_count": 104,
   "id": "0f7e78d3",
   "metadata": {
    "execution": {
     "iopub.execute_input": "2023-10-04T22:11:35.649684Z",
     "iopub.status.busy": "2023-10-04T22:11:35.648793Z",
     "iopub.status.idle": "2023-10-04T22:11:35.656473Z",
     "shell.execute_reply": "2023-10-04T22:11:35.655469Z"
    },
    "papermill": {
     "duration": 0.049943,
     "end_time": "2023-10-04T22:11:35.658541",
     "exception": false,
     "start_time": "2023-10-04T22:11:35.608598",
     "status": "completed"
    },
    "tags": []
   },
   "outputs": [
    {
     "data": {
      "text/plain": [
       "array([0.  , 0.05, 0.1 , 0.15, 0.2 , 0.25, 0.3 , 0.35, 0.4 , 0.45, 0.5 ,\n",
       "       0.55, 0.6 , 0.65, 0.7 , 0.75, 0.8 , 0.85, 0.9 , 0.95, 1.  ])"
      ]
     },
     "execution_count": 104,
     "metadata": {},
     "output_type": "execute_result"
    }
   ],
   "source": [
    "thresholds = np.linspace(0, 1, 21)\n",
    "thresholds"
   ]
  },
  {
   "cell_type": "code",
   "execution_count": 105,
   "id": "f922ff49",
   "metadata": {
    "execution": {
     "iopub.execute_input": "2023-10-04T22:11:35.738612Z",
     "iopub.status.busy": "2023-10-04T22:11:35.738182Z",
     "iopub.status.idle": "2023-10-04T22:11:35.744709Z",
     "shell.execute_reply": "2023-10-04T22:11:35.744007Z"
    },
    "papermill": {
     "duration": 0.048134,
     "end_time": "2023-10-04T22:11:35.747057",
     "exception": false,
     "start_time": "2023-10-04T22:11:35.698923",
     "status": "completed"
    },
    "tags": []
   },
   "outputs": [
    {
     "name": "stdout",
     "output_type": "stream",
     "text": [
      "0.00 0.274\n",
      "0.05 0.495\n",
      "0.10 0.590\n",
      "0.15 0.664\n",
      "0.20 0.720\n",
      "0.25 0.754\n",
      "0.30 0.774\n",
      "0.35 0.779\n",
      "0.40 0.785\n",
      "0.45 0.796\n",
      "0.50 0.802\n",
      "0.55 0.815\n",
      "0.60 0.803\n",
      "0.65 0.790\n",
      "0.70 0.778\n",
      "0.75 0.759\n",
      "0.80 0.737\n",
      "0.85 0.727\n",
      "0.90 0.726\n",
      "0.95 0.726\n",
      "1.00 0.726\n"
     ]
    }
   ],
   "source": [
    "scores = []\n",
    "for t in thresholds:\n",
    "    churn_decision = (y_pred >= t)\n",
    "    score = (y_val == churn_decision).mean()\n",
    "    scores.append(score)\n",
    "    print('%.2f %.3f' % (t, score))\n",
    "\n"
   ]
  },
  {
   "cell_type": "code",
   "execution_count": 106,
   "id": "5c82d6d4",
   "metadata": {
    "execution": {
     "iopub.execute_input": "2023-10-04T22:11:35.826570Z",
     "iopub.status.busy": "2023-10-04T22:11:35.826141Z",
     "iopub.status.idle": "2023-10-04T22:11:36.073215Z",
     "shell.execute_reply": "2023-10-04T22:11:36.072031Z"
    },
    "papermill": {
     "duration": 0.289524,
     "end_time": "2023-10-04T22:11:36.075556",
     "exception": false,
     "start_time": "2023-10-04T22:11:35.786032",
     "status": "completed"
    },
    "tags": []
   },
   "outputs": [
    {
     "data": {
      "text/plain": [
       "[<matplotlib.lines.Line2D at 0x7ebee6dc7010>]"
      ]
     },
     "execution_count": 106,
     "metadata": {},
     "output_type": "execute_result"
    },
    {
     "data": {
      "image/png": "[encoded data removed]",
      "text/plain": [
       "<Figure size 640x480 with 1 Axes>"
      ]
     },
     "metadata": {},
     "output_type": "display_data"
    }
   ],
   "source": [
    "plt.plot(thresholds, scores)"
   ]
  },
  {
   "cell_type": "code",
   "execution_count": 107,
   "id": "b30709d2",
   "metadata": {
    "execution": {
     "iopub.execute_input": "2023-10-04T22:11:36.159617Z",
     "iopub.status.busy": "2023-10-04T22:11:36.159194Z",
     "iopub.status.idle": "2023-10-04T22:11:36.163649Z",
     "shell.execute_reply": "2023-10-04T22:11:36.162841Z"
    },
    "papermill": {
     "duration": 0.048083,
     "end_time": "2023-10-04T22:11:36.165391",
     "exception": false,
     "start_time": "2023-10-04T22:11:36.117308",
     "status": "completed"
    },
    "tags": []
   },
   "outputs": [],
   "source": [
    "from collections import Counter"
   ]
  },
  {
   "cell_type": "code",
   "execution_count": 108,
   "id": "811b24d7",
   "metadata": {
    "execution": {
     "iopub.execute_input": "2023-10-04T22:11:36.248480Z",
     "iopub.status.busy": "2023-10-04T22:11:36.247655Z",
     "iopub.status.idle": "2023-10-04T22:11:36.254167Z",
     "shell.execute_reply": "2023-10-04T22:11:36.253151Z"
    },
    "papermill": {
     "duration": 0.049628,
     "end_time": "2023-10-04T22:11:36.256191",
     "exception": false,
     "start_time": "2023-10-04T22:11:36.206563",
     "status": "completed"
    },
    "tags": []
   },
   "outputs": [
    {
     "data": {
      "text/plain": [
       "Counter({False: 1409})"
      ]
     },
     "execution_count": 108,
     "metadata": {},
     "output_type": "execute_result"
    }
   ],
   "source": [
    "Counter(y_pred >= 1.0)"
   ]
  },
  {
   "cell_type": "code",
   "execution_count": 109,
   "id": "3ec0d8c0",
   "metadata": {
    "execution": {
     "iopub.execute_input": "2023-10-04T22:11:36.337119Z",
     "iopub.status.busy": "2023-10-04T22:11:36.336649Z",
     "iopub.status.idle": "2023-10-04T22:11:36.341021Z",
     "shell.execute_reply": "2023-10-04T22:11:36.340146Z"
    },
    "papermill": {
     "duration": 0.047858,
     "end_time": "2023-10-04T22:11:36.343019",
     "exception": false,
     "start_time": "2023-10-04T22:11:36.295161",
     "status": "completed"
    },
    "tags": []
   },
   "outputs": [],
   "source": [
    "actual_positive = (y_val == 1)\n",
    "actual_negative = (y_val == 0)"
   ]
  },
  {
   "cell_type": "code",
   "execution_count": 110,
   "id": "8a7b8d67",
   "metadata": {
    "execution": {
     "iopub.execute_input": "2023-10-04T22:11:36.423036Z",
     "iopub.status.busy": "2023-10-04T22:11:36.422274Z",
     "iopub.status.idle": "2023-10-04T22:11:36.426434Z",
     "shell.execute_reply": "2023-10-04T22:11:36.425692Z"
    },
    "papermill": {
     "duration": 0.046285,
     "end_time": "2023-10-04T22:11:36.428322",
     "exception": false,
     "start_time": "2023-10-04T22:11:36.382037",
     "status": "completed"
    },
    "tags": []
   },
   "outputs": [],
   "source": [
    "t = 0.5"
   ]
  },
  {
   "cell_type": "code",
   "execution_count": 111,
   "id": "771218bb",
   "metadata": {
    "execution": {
     "iopub.execute_input": "2023-10-04T22:11:36.508957Z",
     "iopub.status.busy": "2023-10-04T22:11:36.508200Z",
     "iopub.status.idle": "2023-10-04T22:11:36.512968Z",
     "shell.execute_reply": "2023-10-04T22:11:36.512047Z"
    },
    "papermill": {
     "duration": 0.047775,
     "end_time": "2023-10-04T22:11:36.515244",
     "exception": false,
     "start_time": "2023-10-04T22:11:36.467469",
     "status": "completed"
    },
    "tags": []
   },
   "outputs": [],
   "source": [
    "\n",
    "predict_positive = (y_pred >= t)\n",
    "predict_negative = (y_pred < t)"
   ]
  },
  {
   "cell_type": "code",
   "execution_count": 112,
   "id": "14ccf3ce",
   "metadata": {
    "execution": {
     "iopub.execute_input": "2023-10-04T22:11:36.596267Z",
     "iopub.status.busy": "2023-10-04T22:11:36.595425Z",
     "iopub.status.idle": "2023-10-04T22:11:36.602371Z",
     "shell.execute_reply": "2023-10-04T22:11:36.601172Z"
    },
    "papermill": {
     "duration": 0.049429,
     "end_time": "2023-10-04T22:11:36.604469",
     "exception": false,
     "start_time": "2023-10-04T22:11:36.555040",
     "status": "completed"
    },
    "tags": []
   },
   "outputs": [
    {
     "data": {
      "text/plain": [
       "(210, 920)"
      ]
     },
     "execution_count": 112,
     "metadata": {},
     "output_type": "execute_result"
    }
   ],
   "source": [
    "tp =(predict_positive & actual_positive).sum()\n",
    "tn = (predict_negative & actual_negative).sum()\n",
    "tp, tn"
   ]
  },
  {
   "cell_type": "code",
   "execution_count": 113,
   "id": "d84d3da9",
   "metadata": {
    "execution": {
     "iopub.execute_input": "2023-10-04T22:11:36.688057Z",
     "iopub.status.busy": "2023-10-04T22:11:36.687565Z",
     "iopub.status.idle": "2023-10-04T22:11:36.695330Z",
     "shell.execute_reply": "2023-10-04T22:11:36.694220Z"
    },
    "papermill": {
     "duration": 0.052283,
     "end_time": "2023-10-04T22:11:36.697402",
     "exception": false,
     "start_time": "2023-10-04T22:11:36.645119",
     "status": "completed"
    },
    "tags": []
   },
   "outputs": [
    {
     "data": {
      "text/plain": [
       "(103, 176)"
      ]
     },
     "execution_count": 113,
     "metadata": {},
     "output_type": "execute_result"
    }
   ],
   "source": [
    "\n",
    "fp =(predict_positive & actual_negative).sum()\n",
    "fn = (predict_negative & actual_positive).sum()\n",
    "fp, fn"
   ]
  },
  {
   "cell_type": "code",
   "execution_count": 114,
   "id": "b43ca7bf",
   "metadata": {
    "execution": {
     "iopub.execute_input": "2023-10-04T22:11:36.779037Z",
     "iopub.status.busy": "2023-10-04T22:11:36.778147Z",
     "iopub.status.idle": "2023-10-04T22:11:36.784989Z",
     "shell.execute_reply": "2023-10-04T22:11:36.784039Z"
    },
    "papermill": {
     "duration": 0.049713,
     "end_time": "2023-10-04T22:11:36.786750",
     "exception": false,
     "start_time": "2023-10-04T22:11:36.737037",
     "status": "completed"
    },
    "tags": []
   },
   "outputs": [
    {
     "data": {
      "text/plain": [
       "array([[920, 103],\n",
       "       [176, 210]])"
      ]
     },
     "execution_count": 114,
     "metadata": {},
     "output_type": "execute_result"
    }
   ],
   "source": [
    "confusion_matrix = np.array([\n",
    "    [tn, fp],\n",
    "    [fn, tp]\n",
    "])\n",
    "confusion_matrix"
   ]
  },
  {
   "cell_type": "code",
   "execution_count": 115,
   "id": "8d818819",
   "metadata": {
    "execution": {
     "iopub.execute_input": "2023-10-04T22:11:36.869061Z",
     "iopub.status.busy": "2023-10-04T22:11:36.868582Z",
     "iopub.status.idle": "2023-10-04T22:11:36.876924Z",
     "shell.execute_reply": "2023-10-04T22:11:36.875749Z"
    },
    "papermill": {
     "duration": 0.05172,
     "end_time": "2023-10-04T22:11:36.879002",
     "exception": false,
     "start_time": "2023-10-04T22:11:36.827282",
     "status": "completed"
    },
    "tags": []
   },
   "outputs": [
    {
     "data": {
      "text/plain": [
       "array([[0.65, 0.07],\n",
       "       [0.12, 0.15]])"
      ]
     },
     "execution_count": 115,
     "metadata": {},
     "output_type": "execute_result"
    }
   ],
   "source": [
    "(confusion_matrix / confusion_matrix.sum()).round(2)"
   ]
  },
  {
   "cell_type": "code",
   "execution_count": 116,
   "id": "b404462d",
   "metadata": {
    "execution": {
     "iopub.execute_input": "2023-10-04T22:11:36.966171Z",
     "iopub.status.busy": "2023-10-04T22:11:36.965126Z",
     "iopub.status.idle": "2023-10-04T22:11:36.971756Z",
     "shell.execute_reply": "2023-10-04T22:11:36.971040Z"
    },
    "papermill": {
     "duration": 0.053791,
     "end_time": "2023-10-04T22:11:36.973528",
     "exception": false,
     "start_time": "2023-10-04T22:11:36.919737",
     "status": "completed"
    },
    "tags": []
   },
   "outputs": [
    {
     "data": {
      "text/plain": [
       "0.670926517571885"
      ]
     },
     "execution_count": 116,
     "metadata": {},
     "output_type": "execute_result"
    }
   ],
   "source": [
    "# Precision\n",
    "p = tp / (tp + fp)\n",
    "p"
   ]
  },
  {
   "cell_type": "code",
   "execution_count": 117,
   "id": "bcd27942",
   "metadata": {
    "execution": {
     "iopub.execute_input": "2023-10-04T22:11:37.055611Z",
     "iopub.status.busy": "2023-10-04T22:11:37.054379Z",
     "iopub.status.idle": "2023-10-04T22:11:37.061366Z",
     "shell.execute_reply": "2023-10-04T22:11:37.060247Z"
    },
    "papermill": {
     "duration": 0.050488,
     "end_time": "2023-10-04T22:11:37.063759",
     "exception": false,
     "start_time": "2023-10-04T22:11:37.013271",
     "status": "completed"
    },
    "tags": []
   },
   "outputs": [
    {
     "data": {
      "text/plain": [
       "0.5440414507772021"
      ]
     },
     "execution_count": 117,
     "metadata": {},
     "output_type": "execute_result"
    }
   ],
   "source": [
    "# Recall\n",
    "R = tp / (tp + fn)\n",
    "R"
   ]
  },
  {
   "cell_type": "code",
   "execution_count": 118,
   "id": "15182572",
   "metadata": {
    "execution": {
     "iopub.execute_input": "2023-10-04T22:11:37.169546Z",
     "iopub.status.busy": "2023-10-04T22:11:37.168266Z",
     "iopub.status.idle": "2023-10-04T22:11:37.175603Z",
     "shell.execute_reply": "2023-10-04T22:11:37.174766Z"
    },
    "papermill": {
     "duration": 0.067856,
     "end_time": "2023-10-04T22:11:37.177627",
     "exception": false,
     "start_time": "2023-10-04T22:11:37.109771",
     "status": "completed"
    },
    "tags": []
   },
   "outputs": [
    {
     "data": {
      "text/plain": [
       "(0.5440414507772021, 0.5440414507772021)"
      ]
     },
     "execution_count": 118,
     "metadata": {},
     "output_type": "execute_result"
    }
   ],
   "source": [
    "tpr = tp /(tp+fn)\n",
    "tpr, R"
   ]
  },
  {
   "cell_type": "code",
   "execution_count": 119,
   "id": "b6875449",
   "metadata": {
    "execution": {
     "iopub.execute_input": "2023-10-04T22:11:37.268695Z",
     "iopub.status.busy": "2023-10-04T22:11:37.268222Z",
     "iopub.status.idle": "2023-10-04T22:11:37.275433Z",
     "shell.execute_reply": "2023-10-04T22:11:37.274376Z"
    },
    "papermill": {
     "duration": 0.050495,
     "end_time": "2023-10-04T22:11:37.277276",
     "exception": false,
     "start_time": "2023-10-04T22:11:37.226781",
     "status": "completed"
    },
    "tags": []
   },
   "outputs": [
    {
     "data": {
      "text/plain": [
       "0.10068426197458455"
      ]
     },
     "execution_count": 119,
     "metadata": {},
     "output_type": "execute_result"
    }
   ],
   "source": [
    "fpr = fp/ (tn + fp)\n",
    "fpr"
   ]
  },
  {
   "cell_type": "code",
   "execution_count": 120,
   "id": "36f75881",
   "metadata": {
    "execution": {
     "iopub.execute_input": "2023-10-04T22:11:37.359116Z",
     "iopub.status.busy": "2023-10-04T22:11:37.358618Z",
     "iopub.status.idle": "2023-10-04T22:11:37.367343Z",
     "shell.execute_reply": "2023-10-04T22:11:37.366231Z"
    },
    "papermill": {
     "duration": 0.052343,
     "end_time": "2023-10-04T22:11:37.369423",
     "exception": false,
     "start_time": "2023-10-04T22:11:37.317080",
     "status": "completed"
    },
    "tags": []
   },
   "outputs": [
    {
     "data": {
      "text/plain": [
       "array([0.  , 0.01, 0.02, 0.03, 0.04, 0.05, 0.06, 0.07, 0.08, 0.09, 0.1 ,\n",
       "       0.11, 0.12, 0.13, 0.14, 0.15, 0.16, 0.17, 0.18, 0.19, 0.2 , 0.21,\n",
       "       0.22, 0.23, 0.24, 0.25, 0.26, 0.27, 0.28, 0.29, 0.3 , 0.31, 0.32,\n",
       "       0.33, 0.34, 0.35, 0.36, 0.37, 0.38, 0.39, 0.4 , 0.41, 0.42, 0.43,\n",
       "       0.44, 0.45, 0.46, 0.47, 0.48, 0.49, 0.5 , 0.51, 0.52, 0.53, 0.54,\n",
       "       0.55, 0.56, 0.57, 0.58, 0.59, 0.6 , 0.61, 0.62, 0.63, 0.64, 0.65,\n",
       "       0.66, 0.67, 0.68, 0.69, 0.7 , 0.71, 0.72, 0.73, 0.74, 0.75, 0.76,\n",
       "       0.77, 0.78, 0.79, 0.8 , 0.81, 0.82, 0.83, 0.84, 0.85, 0.86, 0.87,\n",
       "       0.88, 0.89, 0.9 , 0.91, 0.92, 0.93, 0.94, 0.95, 0.96, 0.97, 0.98,\n",
       "       0.99, 1.  ])"
      ]
     },
     "execution_count": 120,
     "metadata": {},
     "output_type": "execute_result"
    }
   ],
   "source": [
    "thresholds = np.linspace(0 , 1, 101)\n",
    "thresholds"
   ]
  },
  {
   "cell_type": "code",
   "execution_count": 121,
   "id": "4100ae35",
   "metadata": {
    "execution": {
     "iopub.execute_input": "2023-10-04T22:11:37.451421Z",
     "iopub.status.busy": "2023-10-04T22:11:37.450591Z",
     "iopub.status.idle": "2023-10-04T22:11:37.462951Z",
     "shell.execute_reply": "2023-10-04T22:11:37.462065Z"
    },
    "papermill": {
     "duration": 0.056351,
     "end_time": "2023-10-04T22:11:37.465422",
     "exception": false,
     "start_time": "2023-10-04T22:11:37.409071",
     "status": "completed"
    },
    "tags": []
   },
   "outputs": [],
   "source": [
    "scores = []\n",
    "\n",
    "for t in thresholds:\n",
    "    actual_positive = (y_val == 1)\n",
    "    actual_negative = (y_val == 0)\n",
    "    \n",
    "    predict_positive = (y_pred >= t)\n",
    "    predict_negative = (y_pred < t)\n",
    "    \n",
    "    tp =(predict_positive & actual_positive).sum()\n",
    "    tn = (predict_negative & actual_negative).sum()\n",
    "    \n",
    "    fp =(predict_positive & actual_negative).sum()\n",
    "    fn = (predict_negative & actual_positive).sum()\n",
    "    \n",
    "    scores.append((t, tp, fp, tn, fn))\n",
    "columns = ['thresholds', 'tp', 'fp', 'tn', 'fn']\n",
    "df_scores = pd.DataFrame(scores, columns=columns)\n",
    "# [::10] says to look at every 10th record for all records"
   ]
  },
  {
   "cell_type": "code",
   "execution_count": 122,
   "id": "2a4e5fcc",
   "metadata": {
    "execution": {
     "iopub.execute_input": "2023-10-04T22:11:37.548788Z",
     "iopub.status.busy": "2023-10-04T22:11:37.547870Z",
     "iopub.status.idle": "2023-10-04T22:11:37.564899Z",
     "shell.execute_reply": "2023-10-04T22:11:37.563651Z"
    },
    "papermill": {
     "duration": 0.061456,
     "end_time": "2023-10-04T22:11:37.567417",
     "exception": false,
     "start_time": "2023-10-04T22:11:37.505961",
     "status": "completed"
    },
    "tags": []
   },
   "outputs": [
    {
     "data": {
      "text/html": [
       "<div>\n",
       "<style scoped>\n",
       "    .dataframe tbody tr th:only-of-type {\n",
       "        vertical-align: middle;\n",
       "    }\n",
       "\n",
       "    .dataframe tbody tr th {\n",
       "        vertical-align: top;\n",
       "    }\n",
       "\n",
       "    .dataframe thead th {\n",
       "        text-align: right;\n",
       "    }\n",
       "</style>\n",
       "<table border=\"1\" class=\"dataframe\">\n",
       "  <thead>\n",
       "    <tr style=\"text-align: right;\">\n",
       "      <th></th>\n",
       "      <th>thresholds</th>\n",
       "      <th>tp</th>\n",
       "      <th>fp</th>\n",
       "      <th>tn</th>\n",
       "      <th>fn</th>\n",
       "      <th>fpr</th>\n",
       "      <th>tpr</th>\n",
       "    </tr>\n",
       "  </thead>\n",
       "  <tbody>\n",
       "    <tr>\n",
       "      <th>0</th>\n",
       "      <td>0.0</td>\n",
       "      <td>386</td>\n",
       "      <td>1023</td>\n",
       "      <td>0</td>\n",
       "      <td>0</td>\n",
       "      <td>1.000000</td>\n",
       "      <td>1.000000</td>\n",
       "    </tr>\n",
       "    <tr>\n",
       "      <th>10</th>\n",
       "      <td>0.1</td>\n",
       "      <td>365</td>\n",
       "      <td>556</td>\n",
       "      <td>467</td>\n",
       "      <td>21</td>\n",
       "      <td>0.543500</td>\n",
       "      <td>0.945596</td>\n",
       "    </tr>\n",
       "    <tr>\n",
       "      <th>20</th>\n",
       "      <td>0.2</td>\n",
       "      <td>330</td>\n",
       "      <td>338</td>\n",
       "      <td>685</td>\n",
       "      <td>56</td>\n",
       "      <td>0.330401</td>\n",
       "      <td>0.854922</td>\n",
       "    </tr>\n",
       "    <tr>\n",
       "      <th>30</th>\n",
       "      <td>0.3</td>\n",
       "      <td>293</td>\n",
       "      <td>226</td>\n",
       "      <td>797</td>\n",
       "      <td>93</td>\n",
       "      <td>0.220919</td>\n",
       "      <td>0.759067</td>\n",
       "    </tr>\n",
       "    <tr>\n",
       "      <th>40</th>\n",
       "      <td>0.4</td>\n",
       "      <td>249</td>\n",
       "      <td>166</td>\n",
       "      <td>857</td>\n",
       "      <td>137</td>\n",
       "      <td>0.162268</td>\n",
       "      <td>0.645078</td>\n",
       "    </tr>\n",
       "    <tr>\n",
       "      <th>50</th>\n",
       "      <td>0.5</td>\n",
       "      <td>210</td>\n",
       "      <td>103</td>\n",
       "      <td>920</td>\n",
       "      <td>176</td>\n",
       "      <td>0.100684</td>\n",
       "      <td>0.544041</td>\n",
       "    </tr>\n",
       "    <tr>\n",
       "      <th>60</th>\n",
       "      <td>0.6</td>\n",
       "      <td>158</td>\n",
       "      <td>50</td>\n",
       "      <td>973</td>\n",
       "      <td>228</td>\n",
       "      <td>0.048876</td>\n",
       "      <td>0.409326</td>\n",
       "    </tr>\n",
       "    <tr>\n",
       "      <th>70</th>\n",
       "      <td>0.7</td>\n",
       "      <td>93</td>\n",
       "      <td>20</td>\n",
       "      <td>1003</td>\n",
       "      <td>293</td>\n",
       "      <td>0.019550</td>\n",
       "      <td>0.240933</td>\n",
       "    </tr>\n",
       "    <tr>\n",
       "      <th>80</th>\n",
       "      <td>0.8</td>\n",
       "      <td>17</td>\n",
       "      <td>2</td>\n",
       "      <td>1021</td>\n",
       "      <td>369</td>\n",
       "      <td>0.001955</td>\n",
       "      <td>0.044041</td>\n",
       "    </tr>\n",
       "    <tr>\n",
       "      <th>90</th>\n",
       "      <td>0.9</td>\n",
       "      <td>0</td>\n",
       "      <td>0</td>\n",
       "      <td>1023</td>\n",
       "      <td>386</td>\n",
       "      <td>0.000000</td>\n",
       "      <td>0.000000</td>\n",
       "    </tr>\n",
       "    <tr>\n",
       "      <th>100</th>\n",
       "      <td>1.0</td>\n",
       "      <td>0</td>\n",
       "      <td>0</td>\n",
       "      <td>1023</td>\n",
       "      <td>386</td>\n",
       "      <td>0.000000</td>\n",
       "      <td>0.000000</td>\n",
       "    </tr>\n",
       "  </tbody>\n",
       "</table>\n",
       "</div>"
      ],
      "text/plain": [
       "     thresholds   tp    fp    tn   fn       fpr       tpr\n",
       "0           0.0  386  1023     0    0  1.000000  1.000000\n",
       "10          0.1  365   556   467   21  0.543500  0.945596\n",
       "20          0.2  330   338   685   56  0.330401  0.854922\n",
       "30          0.3  293   226   797   93  0.220919  0.759067\n",
       "40          0.4  249   166   857  137  0.162268  0.645078\n",
       "50          0.5  210   103   920  176  0.100684  0.544041\n",
       "60          0.6  158    50   973  228  0.048876  0.409326\n",
       "70          0.7   93    20  1003  293  0.019550  0.240933\n",
       "80          0.8   17     2  1021  369  0.001955  0.044041\n",
       "90          0.9    0     0  1023  386  0.000000  0.000000\n",
       "100         1.0    0     0  1023  386  0.000000  0.000000"
      ]
     },
     "execution_count": 122,
     "metadata": {},
     "output_type": "execute_result"
    }
   ],
   "source": [
    "df_scores['fpr'] = df_scores.fp / (df_scores.fp+df_scores.tn)\n",
    "df_scores['tpr'] = df_scores.tp / (df_scores.fn + df_scores.tp)\n",
    "df_scores[::10]"
   ]
  },
  {
   "cell_type": "code",
   "execution_count": 123,
   "id": "43608755",
   "metadata": {
    "execution": {
     "iopub.execute_input": "2023-10-04T22:11:37.651291Z",
     "iopub.status.busy": "2023-10-04T22:11:37.649886Z",
     "iopub.status.idle": "2023-10-04T22:11:37.921176Z",
     "shell.execute_reply": "2023-10-04T22:11:37.919953Z"
    },
    "papermill": {
     "duration": 0.315344,
     "end_time": "2023-10-04T22:11:37.923491",
     "exception": false,
     "start_time": "2023-10-04T22:11:37.608147",
     "status": "completed"
    },
    "tags": []
   },
   "outputs": [
    {
     "data": {
      "text/plain": [
       "<matplotlib.legend.Legend at 0x7ebee6e1e9b0>"
      ]
     },
     "execution_count": 123,
     "metadata": {},
     "output_type": "execute_result"
    },
    {
     "data": {
      "image/png": "[encoded data removed]",
      "text/plain": [
       "<Figure size 640x480 with 1 Axes>"
      ]
     },
     "metadata": {},
     "output_type": "display_data"
    }
   ],
   "source": [
    "plt.plot(df_scores.thresholds, df_scores['tpr'], label='TPR')\n",
    "plt.plot(df_scores.thresholds, df_scores['fpr'], label=\"FPR\")\n",
    "\n",
    "plt.legend()"
   ]
  },
  {
   "cell_type": "code",
   "execution_count": 124,
   "id": "5a08f180",
   "metadata": {
    "execution": {
     "iopub.execute_input": "2023-10-04T22:11:38.008781Z",
     "iopub.status.busy": "2023-10-04T22:11:38.007707Z",
     "iopub.status.idle": "2023-10-04T22:11:38.013804Z",
     "shell.execute_reply": "2023-10-04T22:11:38.012989Z"
    },
    "papermill": {
     "duration": 0.050605,
     "end_time": "2023-10-04T22:11:38.015984",
     "exception": false,
     "start_time": "2023-10-04T22:11:37.965379",
     "status": "completed"
    },
    "tags": []
   },
   "outputs": [],
   "source": [
    "# random model\n",
    "np.random.seed(1)\n",
    "y_rand = np.random.uniform(0, 1, size=len(y_val))"
   ]
  },
  {
   "cell_type": "code",
   "execution_count": 125,
   "id": "a295dfc4",
   "metadata": {
    "execution": {
     "iopub.execute_input": "2023-10-04T22:11:38.102211Z",
     "iopub.status.busy": "2023-10-04T22:11:38.101758Z",
     "iopub.status.idle": "2023-10-04T22:11:38.109308Z",
     "shell.execute_reply": "2023-10-04T22:11:38.108210Z"
    },
    "papermill": {
     "duration": 0.052065,
     "end_time": "2023-10-04T22:11:38.111385",
     "exception": false,
     "start_time": "2023-10-04T22:11:38.059320",
     "status": "completed"
    },
    "tags": []
   },
   "outputs": [
    {
     "data": {
      "text/plain": [
       "0.5017743080198722"
      ]
     },
     "execution_count": 125,
     "metadata": {},
     "output_type": "execute_result"
    }
   ],
   "source": [
    "((y_rand >= 0.5) == y_val).mean()"
   ]
  },
  {
   "cell_type": "code",
   "execution_count": 126,
   "id": "b841d675",
   "metadata": {
    "execution": {
     "iopub.execute_input": "2023-10-04T22:11:38.196805Z",
     "iopub.status.busy": "2023-10-04T22:11:38.196339Z",
     "iopub.status.idle": "2023-10-04T22:11:38.204605Z",
     "shell.execute_reply": "2023-10-04T22:11:38.203502Z"
    },
    "papermill": {
     "duration": 0.053018,
     "end_time": "2023-10-04T22:11:38.206718",
     "exception": false,
     "start_time": "2023-10-04T22:11:38.153700",
     "status": "completed"
    },
    "tags": []
   },
   "outputs": [],
   "source": [
    "def tpr_dpr_dataframe(y_val, y_pred):\n",
    "    scores = []\n",
    "    \n",
    "    thresholds = np.linspace(0, 1, 101)\n",
    "    \n",
    "    for t in thresholds:\n",
    "        actual_positive = (y_val == 1)\n",
    "        actual_negative = (y_val == 0)\n",
    "\n",
    "        predict_positive = (y_pred >= t)\n",
    "        predict_negative = (y_pred < t)\n",
    "\n",
    "        tp =(predict_positive & actual_positive).sum()\n",
    "        tn = (predict_negative & actual_negative).sum()\n",
    "\n",
    "        fp =(predict_positive & actual_negative).sum()\n",
    "        fn = (predict_negative & actual_positive).sum()\n",
    "\n",
    "        scores.append((t, tp, fp, tn, fn))\n",
    "        \n",
    "    columns = ['thresholds', 'tp', 'fp', 'tn', 'fn']\n",
    "    df_scores = pd.DataFrame(scores, columns=columns)\n",
    "    df_scores['fpr'] = df_scores.fp / (df_scores.fp+df_scores.tn)\n",
    "    df_scores['tpr'] = df_scores.tp / (df_scores.fn + df_scores.tp)\n",
    "\n",
    "    return df_scores\n",
    "    "
   ]
  },
  {
   "cell_type": "code",
   "execution_count": 127,
   "id": "66a586fc",
   "metadata": {
    "execution": {
     "iopub.execute_input": "2023-10-04T22:11:38.291483Z",
     "iopub.status.busy": "2023-10-04T22:11:38.291067Z",
     "iopub.status.idle": "2023-10-04T22:11:38.304642Z",
     "shell.execute_reply": "2023-10-04T22:11:38.303575Z"
    },
    "papermill": {
     "duration": 0.058624,
     "end_time": "2023-10-04T22:11:38.307315",
     "exception": false,
     "start_time": "2023-10-04T22:11:38.248691",
     "status": "completed"
    },
    "tags": []
   },
   "outputs": [],
   "source": [
    "df_rand = tpr_dpr_dataframe(y_val, y_rand)"
   ]
  },
  {
   "cell_type": "code",
   "execution_count": 128,
   "id": "2f3622ee",
   "metadata": {
    "execution": {
     "iopub.execute_input": "2023-10-04T22:11:38.395266Z",
     "iopub.status.busy": "2023-10-04T22:11:38.394799Z",
     "iopub.status.idle": "2023-10-04T22:11:38.408768Z",
     "shell.execute_reply": "2023-10-04T22:11:38.407895Z"
    },
    "papermill": {
     "duration": 0.059332,
     "end_time": "2023-10-04T22:11:38.411013",
     "exception": false,
     "start_time": "2023-10-04T22:11:38.351681",
     "status": "completed"
    },
    "tags": []
   },
   "outputs": [
    {
     "data": {
      "text/html": [
       "<div>\n",
       "<style scoped>\n",
       "    .dataframe tbody tr th:only-of-type {\n",
       "        vertical-align: middle;\n",
       "    }\n",
       "\n",
       "    .dataframe tbody tr th {\n",
       "        vertical-align: top;\n",
       "    }\n",
       "\n",
       "    .dataframe thead th {\n",
       "        text-align: right;\n",
       "    }\n",
       "</style>\n",
       "<table border=\"1\" class=\"dataframe\">\n",
       "  <thead>\n",
       "    <tr style=\"text-align: right;\">\n",
       "      <th></th>\n",
       "      <th>thresholds</th>\n",
       "      <th>tp</th>\n",
       "      <th>fp</th>\n",
       "      <th>tn</th>\n",
       "      <th>fn</th>\n",
       "      <th>fpr</th>\n",
       "      <th>tpr</th>\n",
       "    </tr>\n",
       "  </thead>\n",
       "  <tbody>\n",
       "    <tr>\n",
       "      <th>0</th>\n",
       "      <td>0.0</td>\n",
       "      <td>386</td>\n",
       "      <td>1023</td>\n",
       "      <td>0</td>\n",
       "      <td>0</td>\n",
       "      <td>1.000000</td>\n",
       "      <td>1.000000</td>\n",
       "    </tr>\n",
       "    <tr>\n",
       "      <th>10</th>\n",
       "      <td>0.1</td>\n",
       "      <td>347</td>\n",
       "      <td>923</td>\n",
       "      <td>100</td>\n",
       "      <td>39</td>\n",
       "      <td>0.902248</td>\n",
       "      <td>0.898964</td>\n",
       "    </tr>\n",
       "    <tr>\n",
       "      <th>20</th>\n",
       "      <td>0.2</td>\n",
       "      <td>307</td>\n",
       "      <td>822</td>\n",
       "      <td>201</td>\n",
       "      <td>79</td>\n",
       "      <td>0.803519</td>\n",
       "      <td>0.795337</td>\n",
       "    </tr>\n",
       "    <tr>\n",
       "      <th>30</th>\n",
       "      <td>0.3</td>\n",
       "      <td>276</td>\n",
       "      <td>724</td>\n",
       "      <td>299</td>\n",
       "      <td>110</td>\n",
       "      <td>0.707722</td>\n",
       "      <td>0.715026</td>\n",
       "    </tr>\n",
       "    <tr>\n",
       "      <th>40</th>\n",
       "      <td>0.4</td>\n",
       "      <td>237</td>\n",
       "      <td>624</td>\n",
       "      <td>399</td>\n",
       "      <td>149</td>\n",
       "      <td>0.609971</td>\n",
       "      <td>0.613990</td>\n",
       "    </tr>\n",
       "    <tr>\n",
       "      <th>50</th>\n",
       "      <td>0.5</td>\n",
       "      <td>202</td>\n",
       "      <td>518</td>\n",
       "      <td>505</td>\n",
       "      <td>184</td>\n",
       "      <td>0.506354</td>\n",
       "      <td>0.523316</td>\n",
       "    </tr>\n",
       "    <tr>\n",
       "      <th>60</th>\n",
       "      <td>0.6</td>\n",
       "      <td>161</td>\n",
       "      <td>409</td>\n",
       "      <td>614</td>\n",
       "      <td>225</td>\n",
       "      <td>0.399804</td>\n",
       "      <td>0.417098</td>\n",
       "    </tr>\n",
       "    <tr>\n",
       "      <th>70</th>\n",
       "      <td>0.7</td>\n",
       "      <td>121</td>\n",
       "      <td>302</td>\n",
       "      <td>721</td>\n",
       "      <td>265</td>\n",
       "      <td>0.295210</td>\n",
       "      <td>0.313472</td>\n",
       "    </tr>\n",
       "    <tr>\n",
       "      <th>80</th>\n",
       "      <td>0.8</td>\n",
       "      <td>78</td>\n",
       "      <td>206</td>\n",
       "      <td>817</td>\n",
       "      <td>308</td>\n",
       "      <td>0.201369</td>\n",
       "      <td>0.202073</td>\n",
       "    </tr>\n",
       "    <tr>\n",
       "      <th>90</th>\n",
       "      <td>0.9</td>\n",
       "      <td>40</td>\n",
       "      <td>101</td>\n",
       "      <td>922</td>\n",
       "      <td>346</td>\n",
       "      <td>0.098729</td>\n",
       "      <td>0.103627</td>\n",
       "    </tr>\n",
       "    <tr>\n",
       "      <th>100</th>\n",
       "      <td>1.0</td>\n",
       "      <td>0</td>\n",
       "      <td>0</td>\n",
       "      <td>1023</td>\n",
       "      <td>386</td>\n",
       "      <td>0.000000</td>\n",
       "      <td>0.000000</td>\n",
       "    </tr>\n",
       "  </tbody>\n",
       "</table>\n",
       "</div>"
      ],
      "text/plain": [
       "     thresholds   tp    fp    tn   fn       fpr       tpr\n",
       "0           0.0  386  1023     0    0  1.000000  1.000000\n",
       "10          0.1  347   923   100   39  0.902248  0.898964\n",
       "20          0.2  307   822   201   79  0.803519  0.795337\n",
       "30          0.3  276   724   299  110  0.707722  0.715026\n",
       "40          0.4  237   624   399  149  0.609971  0.613990\n",
       "50          0.5  202   518   505  184  0.506354  0.523316\n",
       "60          0.6  161   409   614  225  0.399804  0.417098\n",
       "70          0.7  121   302   721  265  0.295210  0.313472\n",
       "80          0.8   78   206   817  308  0.201369  0.202073\n",
       "90          0.9   40   101   922  346  0.098729  0.103627\n",
       "100         1.0    0     0  1023  386  0.000000  0.000000"
      ]
     },
     "execution_count": 128,
     "metadata": {},
     "output_type": "execute_result"
    }
   ],
   "source": [
    "df_rand[::10]"
   ]
  },
  {
   "cell_type": "code",
   "execution_count": 129,
   "id": "edd31f9a",
   "metadata": {
    "execution": {
     "iopub.execute_input": "2023-10-04T22:11:38.495648Z",
     "iopub.status.busy": "2023-10-04T22:11:38.495225Z",
     "iopub.status.idle": "2023-10-04T22:11:38.770307Z",
     "shell.execute_reply": "2023-10-04T22:11:38.769048Z"
    },
    "papermill": {
     "duration": 0.320803,
     "end_time": "2023-10-04T22:11:38.772797",
     "exception": false,
     "start_time": "2023-10-04T22:11:38.451994",
     "status": "completed"
    },
    "tags": []
   },
   "outputs": [
    {
     "data": {
      "text/plain": [
       "<matplotlib.legend.Legend at 0x7ebee70e9c30>"
      ]
     },
     "execution_count": 129,
     "metadata": {},
     "output_type": "execute_result"
    },
    {
     "data": {
      "image/png": "[encoded data removed]",
      "text/plain": [
       "<Figure size 640x480 with 1 Axes>"
      ]
     },
     "metadata": {},
     "output_type": "display_data"
    }
   ],
   "source": [
    "plt.plot(df_rand.thresholds, df_rand['tpr'], label='TPR')\n",
    "plt.plot(df_rand.thresholds, df_rand['fpr'], label=\"FPR\")\n",
    "\n",
    "plt.legend()"
   ]
  },
  {
   "cell_type": "code",
   "execution_count": 130,
   "id": "4a9f8b00",
   "metadata": {
    "execution": {
     "iopub.execute_input": "2023-10-04T22:11:38.858849Z",
     "iopub.status.busy": "2023-10-04T22:11:38.858408Z",
     "iopub.status.idle": "2023-10-04T22:11:38.863459Z",
     "shell.execute_reply": "2023-10-04T22:11:38.862125Z"
    },
    "papermill": {
     "duration": 0.050444,
     "end_time": "2023-10-04T22:11:38.865410",
     "exception": false,
     "start_time": "2023-10-04T22:11:38.814966",
     "status": "completed"
    },
    "tags": []
   },
   "outputs": [],
   "source": [
    "# Ideal Model\n"
   ]
  }
 ],
 "metadata": {
  "kernelspec": {
   "display_name": "Python 3",
   "language": "python",
   "name": "python3"
  },
  "language_info": {
   "codemirror_mode": {
    "name": "ipython",
    "version": 3
   },
   "file_extension": ".py",
   "mimetype": "text/x-python",
   "name": "python",
   "nbconvert_exporter": "python",
   "pygments_lexer": "ipython3",
   "version": "3.10.12"
  },
  "papermill": {
   "default_parameters": {},
   "duration": 21.677303,
   "end_time": "2023-10-04T22:11:39.830471",
   "environment_variables": {},
   "exception": null,
   "input_path": "__notebook__.ipynb",
   "output_path": "__notebook__.ipynb",
   "parameters": {},
   "start_time": "2023-10-04T22:11:18.153168",
   "version": "2.4.0"
  }
 },
 "nbformat": 4,
 "nbformat_minor": 5
}
